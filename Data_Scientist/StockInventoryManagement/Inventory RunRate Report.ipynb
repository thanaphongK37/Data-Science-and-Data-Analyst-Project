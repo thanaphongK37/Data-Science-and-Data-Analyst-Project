{
 "cells": [
  {
   "cell_type": "markdown",
   "metadata": {
    "application/vnd.databricks.v1+cell": {
     "cellMetadata": {},
     "inputWidgets": {},
     "nuid": "5eadb995-ca66-494b-b388-0e6d4be640dc",
     "showTitle": false,
     "tableResultSettingsMap": {},
     "title": ""
    }
   },
   "source": [
    "## Objective\n",
    "- The Inventory Management Report was developed to monitor and control stock purchasing processes effectively.\n",
    "\n",
    "**Background Problem:**\n",
    " Previously, stock management faced several challenges:\n",
    "\n",
    "-  1.Stock orders were managed manually by multiple individuals.\n",
    "- 2.Data sources were scattered across different platforms, requiring users to compile information from various sources before making purchasing decisions.\n",
    "- 3.This often led to:\n",
    "   - Overstocking or unsold inventory for some SKUs.\n",
    "   - Insufficient stock for other SKUs.\n",
    "\n",
    "**Purpose:**\n",
    "This report aims to:\n",
    "\n",
    "- Reduce manual work by consolidating data into one report.\n",
    "- Minimize the time spent verifying and compiling information for stock purchasing decisions.\n",
    "- Provide better visibility into stock levels to prevent overstocking and understocking issues.\n",
    "\n",
    "Phase 1: The report serves as a manual monitoring tool, assisting users in making more informed decisions."
   ]
  },
  {
   "cell_type": "markdown",
   "metadata": {
    "application/vnd.databricks.v1+cell": {
     "cellMetadata": {
      "byteLimit": 2048000,
      "rowLimit": 10000
     },
     "inputWidgets": {},
     "nuid": "c3c8b87c-ada2-437b-9144-ef9d76bd4e5d",
     "showTitle": false,
     "tableResultSettingsMap": {},
     "title": ""
    }
   },
   "source": [
    "## Get config"
   ]
  },
  {
   "cell_type": "code",
   "execution_count": 0,
   "metadata": {
    "application/vnd.databricks.v1+cell": {
     "cellMetadata": {
      "byteLimit": 2048000,
      "rowLimit": 10000
     },
     "inputWidgets": {},
     "nuid": "2f82412b-9963-4783-bdfc-cb1b4e5708b5",
     "showTitle": false,
     "tableResultSettingsMap": {},
     "title": ""
    }
   },
   "outputs": [],
   "source": [
    "%run /Shared/Config/BotApp/Config"
   ]
  },
  {
   "cell_type": "code",
   "execution_count": 0,
   "metadata": {
    "application/vnd.databricks.v1+cell": {
     "cellMetadata": {
      "byteLimit": 2048000,
      "rowLimit": 10000
     },
     "inputWidgets": {},
     "nuid": "a2acbd0a-90a8-4b69-ae1b-2121510cc29c",
     "showTitle": false,
     "tableResultSettingsMap": {},
     "title": ""
    }
   },
   "outputs": [],
   "source": [
    "print(BOT_STORAGE_NAME)\n",
    "print(BOT_STORAGE_KEY)\n",
    "print(BOT_STORAGE_CONNECTION_STRING)\n",
    "print(BOT_SAS_KEY)\n",
    "print(BOT_CONFIG_TABLE)\n",
    "print(BOT_CONFIG_EXTEND_TABLE)\n",
    "print(BOT_REQUEST_TABLE)\n",
    "print(BOT_NOTIFY_URL)\n",
    "print(BOT_CONFIG_TYPE2_TABLE)"
   ]
  },
  {
   "cell_type": "markdown",
   "metadata": {
    "application/vnd.databricks.v1+cell": {
     "cellMetadata": {},
     "inputWidgets": {},
     "nuid": "8aca087f-1d96-416d-a3ca-cda7b9e7a52c",
     "showTitle": false,
     "tableResultSettingsMap": {},
     "title": ""
    }
   },
   "source": [
    "# Import Lib and Param\n",
    "- Install lib for customize and write Excel file"
   ]
  },
  {
   "cell_type": "code",
   "execution_count": 0,
   "metadata": {
    "application/vnd.databricks.v1+cell": {
     "cellMetadata": {
      "byteLimit": 2048000,
      "rowLimit": 10000
     },
     "inputWidgets": {},
     "nuid": "886a695d-65ef-41f2-99ce-581dd4d08532",
     "showTitle": false,
     "tableResultSettingsMap": {},
     "title": ""
    }
   },
   "outputs": [
    {
     "output_type": "stream",
     "name": "stdout",
     "output_type": "stream",
     "text": [
      "\u001B[43mNote: you may need to restart the kernel using dbutils.library.restartPython() to use updated packages.\u001B[0m\nCollecting openpyxl\n  Using cached openpyxl-3.1.5-py2.py3-none-any.whl (250 kB)\nCollecting et-xmlfile\n  Using cached et_xmlfile-2.0.0-py3-none-any.whl (18 kB)\nInstalling collected packages: et-xmlfile, openpyxl\nSuccessfully installed et-xmlfile-2.0.0 openpyxl-3.1.5\n\u001B[43mNote: you may need to restart the kernel using dbutils.library.restartPython() to use updated packages.\u001B[0m\n\u001B[43mNote: you may need to restart the kernel using dbutils.library.restartPython() to use updated packages.\u001B[0m\nRequirement already satisfied: xlsxwriter in /local_disk0/.ephemeral_nfs/cluster_libraries/python/lib/python3.10/site-packages (3.2.0)\n\u001B[43mNote: you may need to restart the kernel using dbutils.library.restartPython() to use updated packages.\u001B[0m\n"
     ]
    }
   ],
   "source": [
    "%python\n",
    "!pip install openpyxl\n",
    "!pip install xlsxwriter"
   ]
  },
  {
   "cell_type": "code",
   "execution_count": 0,
   "metadata": {
    "application/vnd.databricks.v1+cell": {
     "cellMetadata": {
      "byteLimit": 2048000,
      "rowLimit": 10000
     },
     "inputWidgets": {},
     "nuid": "9209ccb6-a047-49d9-a094-98153423a4c3",
     "showTitle": false,
     "tableResultSettingsMap": {},
     "title": ""
    }
   },
   "outputs": [
    {
     "output_type": "stream",
     "name": "stdout",
     "output_type": "stream",
     "text": [
      "\u001B[43mNote: you may need to restart the kernel using dbutils.library.restartPython() to use updated packages.\u001B[0m\nRequirement already satisfied: openpyxl in /local_disk0/.ephemeral_nfs/envs/pythonEnv-b972eb17-b053-4e5e-ab56-56806f76b7e3/lib/python3.10/site-packages (3.1.5)\nRequirement already satisfied: et-xmlfile in /local_disk0/.ephemeral_nfs/envs/pythonEnv-b972eb17-b053-4e5e-ab56-56806f76b7e3/lib/python3.10/site-packages (from openpyxl) (2.0.0)\n\u001B[43mNote: you may need to restart the kernel using dbutils.library.restartPython() to use updated packages.\u001B[0m\n"
     ]
    }
   ],
   "source": [
    "%pip install --upgrade openpyxl"
   ]
  },
  {
   "cell_type": "code",
   "execution_count": 0,
   "metadata": {
    "application/vnd.databricks.v1+cell": {
     "cellMetadata": {
      "byteLimit": 2048000,
      "rowLimit": 10000
     },
     "inputWidgets": {},
     "nuid": "f39d10dc-454f-4cb3-b8cc-0e67cbd8202c",
     "showTitle": false,
     "tableResultSettingsMap": {},
     "title": ""
    }
   },
   "outputs": [
    {
     "output_type": "stream",
     "name": "stdout",
     "output_type": "stream",
     "text": [
      "-30\n"
     ]
    }
   ],
   "source": [
    "%python\n",
    "from datetime import datetime\n",
    "import pandas as pd\n",
    "import numpy as np\n",
    "from shutil import copyfile\n",
    "\n",
    "# Convert the strings to datetime objects\n",
    "query_startDate = datetime.strptime(query_startDate, \"%Y-%m-%d\")\n",
    "query_endDate = datetime.strptime(query_endDate, \"%Y-%m-%d\")\n",
    "\n",
    "# Calculate the difference between the dates\n",
    "date_diff = query_startDate - query_endDate\n",
    "# Get the difference in days\n",
    "days_diff = date_diff.days\n",
    "print(days_diff)"
   ]
  },
  {
   "cell_type": "markdown",
   "metadata": {
    "application/vnd.databricks.v1+cell": {
     "cellMetadata": {
      "byteLimit": 2048000,
      "rowLimit": 10000
     },
     "inputWidgets": {},
     "nuid": "12121af1-9bc2-435c-ad9b-f0d87f237a45",
     "showTitle": false,
     "tableResultSettingsMap": {},
     "title": ""
    }
   },
   "source": [
    "# Function Blob\n",
    "- Setup blob for save result file"
   ]
  },
  {
   "cell_type": "code",
   "execution_count": 0,
   "metadata": {
    "application/vnd.databricks.v1+cell": {
     "cellMetadata": {
      "byteLimit": 2048000,
      "rowLimit": 10000
     },
     "inputWidgets": {},
     "nuid": "ecc695f7-9d42-4bd7-a9b4-d4ecbd991956",
     "showTitle": false,
     "tableResultSettingsMap": {},
     "title": ""
    }
   },
   "outputs": [],
   "source": [
    "%python\n",
    "import os, uuid\n",
    "from azure.storage.blob import BlobServiceClient, BlobClient, ContainerClient, __version__\n",
    "\n",
    "def Upload_to_blob(location,fileName):\n",
    "  try:\n",
    "      print(\"Azure Blob Storage v\" + __version__ )\n",
    "      \n",
    "      #print('path_txt_json ==>',path_txt_json)\n",
    "\n",
    "  except Exception as ex:\n",
    "      print('Exception:')\n",
    "      print(ex)\n",
    "\n",
    "    # Create the BlobServiceClient object which will be used to create a container client\n",
    "  blob_service_client = BlobServiceClient.from_connection_string(BOT_STORAGE_CONNECTION_STRING)\n",
    "\n",
    "\n",
    "  # Create a unique name for the container\n",
    "  container_name = 'exportfile'\n",
    "\n",
    "  # Create the container\n",
    "  #container_client = blob_service_client.create_container(container_name)\n",
    "  blob_client = blob_service_client.get_blob_client(container=container_name, blob=fileName)\n",
    "\n",
    "  # Upload the created file\n",
    "  with open(location, \"rb\") as data:\n",
    "      blob_client.upload_blob(data,overwrite=True)\n"
   ]
  },
  {
   "cell_type": "code",
   "execution_count": 0,
   "metadata": {
    "application/vnd.databricks.v1+cell": {
     "cellMetadata": {
      "byteLimit": 2048000,
      "rowLimit": 10000
     },
     "inputWidgets": {},
     "nuid": "d2512f79-0409-4002-8e42-60580db5c886",
     "showTitle": false,
     "tableResultSettingsMap": {},
     "title": ""
    }
   },
   "outputs": [],
   "source": [
    "import time\n",
    "from datetime import datetime\n",
    "\n",
    "start_time = time.time()"
   ]
  },
  {
   "cell_type": "markdown",
   "metadata": {
    "application/vnd.databricks.v1+cell": {
     "cellMetadata": {
      "byteLimit": 2048000,
      "rowLimit": 10000
     },
     "inputWidgets": {},
     "nuid": "fbe1b77a-3e66-46c6-901c-6951057169e7",
     "showTitle": false,
     "tableResultSettingsMap": {},
     "title": ""
    }
   },
   "source": [
    "#Get Data from multiple table join\n",
    "- Some field condition from business team \n",
    "  - ex sellout , priceperunit , coverday , aging product etc."
   ]
  },
  {
   "cell_type": "code",
   "execution_count": 0,
   "metadata": {
    "application/vnd.databricks.v1+cell": {
     "cellMetadata": {
      "byteLimit": 2048000,
      "rowLimit": 10000
     },
     "inputWidgets": {},
     "nuid": "22400e04-311d-4442-af4f-2a03eadaf17a",
     "showTitle": false,
     "tableResultSettingsMap": {},
     "title": ""
    }
   },
   "outputs": [],
   "source": [
    "%python\n",
    "pd.set_option('display.float_format', '{:,.0f}'.format)\n",
    "df_spark = spark.sql(query)\n",
    "df_pandas = df_spark.toPandas()"
   ]
  },
  {
   "cell_type": "code",
   "execution_count": 0,
   "metadata": {
    "application/vnd.databricks.v1+cell": {
     "cellMetadata": {},
     "inputWidgets": {},
     "nuid": "0df676ce-df2e-45fd-93d1-0b00afd96f6b",
     "showTitle": false,
     "tableResultSettingsMap": {},
     "title": ""
    }
   },
   "outputs": [],
   "source": [
    "print(query)"
   ]
  },
  {
   "cell_type": "code",
   "execution_count": 0,
   "metadata": {
    "application/vnd.databricks.v1+cell": {
     "cellMetadata": {
      "byteLimit": 2048000,
      "rowLimit": 10000
     },
     "inputWidgets": {},
     "nuid": "eebba818-e250-47d2-8596-4aec07be794e",
     "showTitle": false,
     "tableResultSettingsMap": {},
     "title": ""
    }
   },
   "outputs": [],
   "source": [
    "df_pandas"
   ]
  },
  {
   "cell_type": "markdown",
   "metadata": {
    "application/vnd.databricks.v1+cell": {
     "cellMetadata": {
      "byteLimit": 2048000,
      "rowLimit": 10000
     },
     "inputWidgets": {},
     "nuid": "43280f9c-1e5f-47c4-be5b-ad22eb826d0b",
     "showTitle": false,
     "tableResultSettingsMap": {},
     "title": ""
    }
   },
   "source": [
    "## Create Auto Formula"
   ]
  },
  {
   "cell_type": "code",
   "execution_count": 0,
   "metadata": {
    "application/vnd.databricks.v1+cell": {
     "cellMetadata": {
      "byteLimit": 2048000,
      "rowLimit": 10000
     },
     "inputWidgets": {},
     "nuid": "3a7148ca-fe3b-4605-8fe6-d4b84940fe39",
     "showTitle": false,
     "tableResultSettingsMap": {},
     "title": ""
    }
   },
   "outputs": [],
   "source": [
    "########## Define setting color and hiligh columns \n",
    "\n",
    "from openpyxl import Workbook\n",
    "from openpyxl.utils.dataframe import dataframe_to_rows\n",
    "from openpyxl.writer.excel import save_workbook\n",
    "from openpyxl.styles import PatternFill\n",
    "from openpyxl.styles import Font, Border, Side,Alignment\n",
    "from openpyxl.worksheet.page import PageMargins\n",
    "from openpyxl.utils import get_column_letter\n",
    "\n",
    "\n",
    "# Create a workbook and add data\n",
    "wb = Workbook()\n",
    "ws = wb.active\n",
    "\n",
    "color = PatternFill(start_color=\"AFEEEE\", end_color=\"AFEEEE\", fill_type=\"solid\")  # สีสำหรับ A-G\n",
    "color2 = PatternFill(start_color=\"FFFF00\", end_color=\"FFFF00\", fill_type=\"solid\")  # สีสำหรับ H-L  , N\n",
    "color3 = PatternFill(start_color=\"FFE4C4\", end_color=\"FFE4C4\", fill_type=\"solid\")    # สีสำหรับ M\n",
    "color4 = PatternFill(start_color=\"FFB6C1\", end_color=\"FFB6C1\", fill_type=\"solid\")    # สีสำหรับ X\n",
    "color5 = PatternFill(start_color=\"87CEFA\", end_color=\"87CEFA\", fill_type=\"solid\")    # สีสำหรับ N\n",
    "color6 = PatternFill(start_color=\"98FB98\", end_color=\"98FB98\", fill_type=\"solid\")    # สีสำหรับ R , S\n",
    "color7 = PatternFill(start_color=\"87CEEB\", end_color=\"87CEEB\", fill_type=\"solid\")    # สีสำหรับ Y\n",
    "color8 = PatternFill(start_color=\"FFFF00\", end_color=\"FFFF00\", fill_type=\"solid\")    # สีสำหรับ \n",
    "color9 = PatternFill(start_color=\"FFC0CB\", end_color=\"FFC0CB\", fill_type=\"solid\")    # สีสำหรับ \n",
    "color10 = PatternFill(start_color=\"EEE8AA\", end_color=\"EEE8AA\", fill_type=\"solid\")    # สีสำหรับ \n",
    "\n",
    "red_fill = PatternFill(start_color=\"FF0000\", end_color=\"FF0000\", fill_type=\"solid\")  # สีแดงสำหรับ Suggest to Order\n",
    "\n",
    "\n",
    "# Define color fills\n",
    "green_fill = PatternFill(start_color=\"00FF00\", end_color=\"00FF00\", fill_type=\"solid\")\n",
    "yellow_fill = PatternFill(start_color=\"FFFF00\", end_color=\"FFFF00\", fill_type=\"solid\")\n",
    "orange_fill = PatternFill(start_color=\"ED7D31\", end_color=\"ED7D31\", fill_type=\"solid\")\n",
    "red_salmon_fill = PatternFill(start_color=\"FFA07A\", end_color=\"FFA07A\", fill_type=\"solid\")\n",
    "sky_fill = PatternFill(start_color=\"4169E1\", end_color=\"4169E1\", fill_type=\"solid\")\n",
    "red_font = Font(color=\"FF0000\")  # Red font color\n",
    "\n",
    "\n",
    "\n",
    "# Name the first sheet\n",
    "ws.title = \"Inventory\""
   ]
  },
  {
   "cell_type": "code",
   "execution_count": 0,
   "metadata": {
    "application/vnd.databricks.v1+cell": {
     "cellMetadata": {
      "byteLimit": 2048000,
      "rowLimit": 10000
     },
     "inputWidgets": {},
     "nuid": "07219581-0df9-40c9-bd81-57d6edde23f9",
     "showTitle": false,
     "tableResultSettingsMap": {},
     "title": ""
    }
   },
   "outputs": [],
   "source": [
    "df_pandas_bk = df_pandas.copy()"
   ]
  },
  {
   "cell_type": "markdown",
   "metadata": {
    "application/vnd.databricks.v1+cell": {
     "cellMetadata": {},
     "inputWidgets": {},
     "nuid": "3bde915b-7bab-4513-8e89-06593fc2d861",
     "showTitle": false,
     "tableResultSettingsMap": {},
     "title": ""
    }
   },
   "source": [
    "### Since the business requires the columns in the file to have Excel formulas pre-applied.\n",
    "\n",
    "\n",
    "\n",
    "\n",
    "\n",
    "\n",
    "\n"
   ]
  },
  {
   "cell_type": "code",
   "execution_count": 0,
   "metadata": {
    "application/vnd.databricks.v1+cell": {
     "cellMetadata": {
      "byteLimit": 2048000,
      "rowLimit": 10000
     },
     "inputWidgets": {},
     "nuid": "82d890b0-ab85-4f3f-8d1f-d9783fae1c66",
     "showTitle": false,
     "tableResultSettingsMap": {},
     "title": ""
    }
   },
   "outputs": [],
   "source": [
    "# Write headers Columns for auto fomula in excel\n",
    "ws.append(list(df_pandas.columns) + ['Per day','Safety Stock QTY','Total Exisiting Stock','Need Order','Suggest to Order','RequestMore','RequestWhyMore','Actual Order','Total price to order(THB)', \n",
    " 'Check Not over default safety Stock Days',\n",
    " 'Additional Request to Reach Minimum Order',\n",
    " 'Final Order After Addtional From Minimum',\n",
    " 'Additional Request For Teiring'])\n",
    "\n",
    "\n",
    "# Write data rows\n",
    "for i, row in df_pandas.iterrows():\n",
    "    row_index = i + 2  # Start from the second row in Excel\n",
    "\n",
    "    additional_request_min_order = row.get('Additional Request to Reach Minimum Order', 0) # Adjust as per input source excel\n",
    "    additional_request_teiring = row.get('Additional Request For Teiring', 0)  # Adjust as per input source excel\n",
    "\n",
    "    RequestMore = row.get('RequestMore', 0)  # Adjust as per input source excel\n",
    "\n",
    "    RequestWhyMore = row.get('RequestWhyMore', '-')  # Adjust as per input source excel\n",
    "\n",
    "    suggest_to_order_formula = (\n",
    "    f\"=IF((Y{row_index}) < 0, 0, \"\n",
    "    f\"IF(L{row_index}>0, CEILING((Y{row_index}) * 0.0, 1), \"\n",
    "    f\"IF(K{row_index}>0, CEILING((Y{row_index}) * 0.1, 1), \"\n",
    "    f\"IF(J{row_index}>0, CEILING((Y{row_index}) * 0.2, 1), \"\n",
    "    f\"IF(I{row_index}>0, CEILING((Y{row_index}) * 0.5, 1), \"\n",
    "    f\"IF(H{row_index}>0, CEILING((Y{row_index}) * 1.0, 1), \"\n",
    "    f\"IF(AND(L{row_index}=0, K{row_index}=0, J{row_index}=0, I{row_index}=0, H{row_index}=0, N{row_index}>0), \"\n",
    "    f\"CEILING((Y{row_index}) * 1.0, 1), 0)))))))\"\n",
    ")\n",
    "    \n",
    "    ws.append(list(row) + [\n",
    "        f\"=CEILING(N{row_index} / P{row_index}, 1)\",  # perday\n",
    "        f\"=V{row_index} * Q{row_index}\",  # 'safetystock'\n",
    "        f\"=M{row_index} + R{row_index} + S{row_index}\",  # 'total_existing'\n",
    "        f\"=W{row_index} - X{row_index}\",  # 'Need Order'\n",
    "        suggest_to_order_formula,  # 'Suggest to Order'\n",
    "        RequestMore,\n",
    "        RequestWhyMore,\n",
    "        f\"=Z{row_index} + AA{row_index}\",  # 'Actual Order'\n",
    "        f\"=AC{row_index} * O{row_index}\",  # 'Total price to order(THB)'\n",
    "        f\"=IF(ISERROR(X{row_index} / V{row_index}), 365, X{row_index} / V{row_index})\",  # 'Cover Days Before(Days)' = 'Total Existing Stock' / 'Per day' if nulll then fil 365\n",
    "        f\"=IF(ISERROR(AE{row_index} / V{row_index}), 365, AE{row_index} / V{row_index})\",  # 'Cover Days After (Days)'\n",
    "        f\"=IF(AH{row_index} <= 30, \\\"Yes\\\", \\\"No\\\")\",  # 'Check Not over default safety Stock Days'\n",
    "        0,  # Placeholder for 'Additional Request to Reach Minimum Order'\n",
    "        f\"=AE{row_index} + 0\",  # 'Final Order After Additional From Minimum'\n",
    "        0  # Placeholder for 'Additional Request For Teiring'\n",
    "    ])\n",
    "\n",
    "    ws[f'AC{i+2}'].number_format = '#,##0'  # Actual Order\n",
    "    ws[f'AD{i+2}'].number_format = '#,##0.00'  # Total price to order(THB)\n",
    "    ws[f'AG{i+2}'].number_format = '#,##0'  # Cover Days Before(Days)\n",
    "    ws[f'AH{i+2}'].number_format = '#,##0'  # Cover Days After(Days)\n",
    "    ws[f'AI{i+2}'].number_format = '#,##0'  # Additional Request to Reach Minimum Order\n",
    "    ws[f'AJ{i+2}'].number_format = '#,##0'  # Final Order After Additional From Minimum\n",
    "    ws[f'AK{i+2}'].number_format = '#,##0'  # Additional Request For Teiring\n",
    "\n",
    "    ws[f'N{i+2}'].fill = color5\n",
    "\n",
    "    ws[f'O{i+2}'].fill = color2\n",
    "\n",
    "    \n",
    "     # Apply color to 'RequestMore' (column AA) for all rows\n",
    "    ws[f'AA{i+2}'].fill = color7\n",
    "\n",
    " # ใส่สีให้กับหัวคอลัมน์ตามเงื่อนไขที่กำหนด\n",
    "for col_num in range(1,len(df_pandas.columns) + 1):\n",
    "    if 1 <= col_num <= 7:  # A-G (คอลัมน์ที่ 1 ถึง 7)\n",
    "        ws.cell(row=1, column=col_num).fill = color\n",
    "    elif 8 <= col_num <= 12:  # H-L (คอลัมน์ที่ 8 ถึง 12)\n",
    "        ws.cell(row=1, column=col_num).fill = color2\n",
    "    elif col_num == 13:  # M (คอลัมน์ที่ 13)\n",
    "        ws.cell(row=1, column=col_num).fill = color3\n",
    "    elif col_num == 14:  # N (คอลัมน์ที่ 14)\n",
    "        ws.cell(row=1, column=col_num).fill = color5\n",
    "    elif col_num == 15:  # N (คอลัมน์ที่ 15)\n",
    "        ws.cell(row=1, column=col_num).fill = color2   \n",
    "\n",
    "    elif 18 <= col_num <= 19:  # T-U (คอลัมน์ที่ 20 ถึง 21)\n",
    "        ws.cell(row=1, column=col_num).fill = color6\n",
    "\n",
    "    elif col_num == 25:  # W (คอลัมน์ที่ 25)\n",
    "        ws.cell(row=1, column=col_num).fill = red_fill\n",
    "\n",
    "    elif col_num == 26:  # X (คอลัมน์ที่ 26)\n",
    "        ws.cell(row=1, column=col_num).fill = color4\n",
    "\n",
    "    elif col_num == 27:  # Y (คอลัมน์ที่ 27)\n",
    "        ws.cell(row=1, column=col_num).fill = color7\n"
   ]
  },
  {
   "cell_type": "markdown",
   "metadata": {
    "application/vnd.databricks.v1+cell": {
     "cellMetadata": {
      "byteLimit": 2048000,
      "rowLimit": 10000
     },
     "inputWidgets": {},
     "nuid": "8794642c-3d83-4a44-ab5c-66bdf023ef78",
     "showTitle": false,
     "tableResultSettingsMap": {},
     "title": ""
    }
   },
   "source": [
    "## ดึง List SKU จากด้านบน เพื่อคำนวน PurchaseOrder"
   ]
  },
  {
   "cell_type": "code",
   "execution_count": 0,
   "metadata": {
    "application/vnd.databricks.v1+cell": {
     "cellMetadata": {
      "byteLimit": 2048000,
      "rowLimit": 10000
     },
     "inputWidgets": {},
     "nuid": "1e5cc1d1-d68b-45e2-bfb1-685892d0a950",
     "showTitle": false,
     "tableResultSettingsMap": {},
     "title": ""
    }
   },
   "outputs": [],
   "source": [
    "df_purchase = spark.sql(query)\n",
    "df_filtered = df_purchase[df_purchase['SKU'].isin(list(df_pandas['Code'].unique()))]\n",
    "df_filtered"
   ]
  },
  {
   "cell_type": "markdown",
   "metadata": {
    "application/vnd.databricks.v1+cell": {
     "cellMetadata": {
      "byteLimit": 2048000,
      "rowLimit": 10000
     },
     "inputWidgets": {},
     "nuid": "9c24a520-829b-4c4b-b0fa-1c388b4b0503",
     "showTitle": false,
     "tableResultSettingsMap": {},
     "title": ""
    }
   },
   "source": [
    "#Calculate total formula after last row in excel\n",
    "- The code command needs to have several parts removed for security purposes."
   ]
  },
  {
   "cell_type": "code",
   "execution_count": 0,
   "metadata": {
    "application/vnd.databricks.v1+cell": {
     "cellMetadata": {
      "byteLimit": 2048000,
      "rowLimit": 10000
     },
     "inputWidgets": {},
     "nuid": "d61e5ff6-a1fe-4d98-9f6e-e80a94eb7d8e",
     "showTitle": false,
     "tableResultSettingsMap": {},
     "title": ""
    }
   },
   "outputs": [],
   "source": [
    "from decimal import Decimal\n",
    "\n",
    "if df_pandas.empty:\n",
    "    print(\"empty\")\n",
    "    # Set df2 with default values to avoid KeyError and ensure it has the required columns\n",
    "    df2 = pd.DataFrame({'CreditLimit': [0], 'MinimumOrder': [0]})\n",
    "    cbm_limit_brand = 0\n",
    "    minimum_order = 0.0\n",
    "else:\n",
    "    df2 = df_pandas.copy()\n",
    "    cbm_limit_brand = int(df2['CreditLimit'].unique()[0])\n",
    "    minimum_order = float(df2['MinimumOrder'].unique()[0])\n",
    "\n",
    "current_row = len(df2) + 2  # Define the current row after the data in df2\n",
    "\n",
    "\n",
    "df2['Per day Tiering'] = (df2['Sell out by SKU'] / df2['Cover day']).apply(lambda x: -(-x // 1))  # Ceiling equivalent in Python\n",
    "max_value_perday = df2['Per day Tiering'].max()\n",
    "value_from_column_o = df2.loc[df2['Per day Tiering'] == max_value_perday, 'Actual Price'].iloc[0]\n",
    "suggest_sku_name = df2.loc[df2['Per day Tiering'] == max_value_perday, 'Code'].iloc[0]\n",
    "\n",
    "print(f\"Max Perday: {max_value_perday}\")\n",
    "print(f\"Corresponding Actual Price (O): {value_from_column_o}\")\n",
    "print(f\"Corresponding Suggest SKU (O): {suggest_sku_name}\")\n",
    "\n",
    "# Define the bold font and border style\n",
    "bold_font = Font(bold=True)\n",
    "border_style = Border(\n",
    "    top=Side(border_style=\"thick\"),\n",
    "    bottom=Side(border_style=\"thick\")\n",
    ")\n",
    "\n",
    "\n",
    "ws.append(['', '', '', '', '', '', '', '', '', '', '', '', '', '', '', '', '', '', '', '', '', '', '', '', '', '', '', '', '', '', 'Buy More:', f\"=AF{current_row+18} - AF{current_row+12}\"]) ### Tering - Final Order\n",
    "buymore = ws.max_row  # Row index for this entry\n",
    "for cell in ws[buymore][30:32]:  # Columns AE and AF (31 and 32)\n",
    "    cell.font = bold_font\n",
    "    cell.fill = orange_fill\n",
    "\n",
    "    \n",
    "\n",
    "ws.append(['', '', '', '', '', '', '', '', '', '', '', '', '', '', '', '', '', '', '', '', '', '', '', '', '', '', '', '', '', '', 'Margin from:', f\"=AF{current_row+13}\"])\n",
    "margin_from = ws.max_row  # Row index for this entry\n",
    "for cell in ws[margin_from][30:32]:  # Columns AE and AF (31 and 32)\n",
    "    cell.font = bold_font\n",
    "    cell.fill = orange_fill\n",
    "\n",
    "\n",
    "ws.append(['', '', '', '', '', '', '', '', '', '', '', '', '', '', '', '', '', '', '', '', '', '', '', '', '', '', '', '', '', '', 'To Margin:',f\"=AF{current_row+18} *(AE{current_row+18}/100)\"]) ### Tiering *15%\n",
    "to_margin = ws.max_row  # Row index for this entry\n",
    "for cell in ws[to_margin][30:32]:  # Columns AE and AF (31 and 32)\n",
    "    cell.font = bold_font\n",
    "    cell.fill = orange_fill\n",
    "\n",
    "\n",
    "\n",
    "ws.append([''] * 30 + [f\"Suggest buying more SKU: {suggest_sku_name} Cover Day:\", f\"=AF{current_row + 18}/{value_from_column_o}\"])\n",
    "\n",
    "# Style the appended row\n",
    "coverdays = ws.max_row  # Row index for this entry\n",
    "for cell in ws[coverdays][30:32]:  # Columns AE and AF (31 and 32)\n",
    "    cell.font = bold_font  # Apply bold formatting\n",
    "    cell.fill = red_salmon_fill\n",
    "\n",
    "ws.append(['', '', '', '', '', '', '', '', '', '', '', '', '', '', '', '', '', '', '', '', '', '', '', '', '', '', '', '', '', '', 'Cover Months:', f\"=AF{current_row+23} /30\"])\n",
    "covermonth = ws.max_row  # Row index for this entry\n",
    "for cell in ws[covermonth][30:32]:  # Columns AE and AF (31 and 32)\n",
    "    cell.font = bold_font\n",
    "    cell.fill = red_salmon_fill\n",
    "\n",
    "\n",
    "ws.append(['', '', '', '', '', '', '', '', '', '', '', '', '', '', '', '', '', '', '', '', '', '', '', '', '', '', '', '', '', '', 'Margin Left:', f\"=AF{current_row+21} - AF{current_row+25}\"])\n",
    "marginleft = ws.max_row  # Row index for this entry\n",
    "for cell in ws[marginleft][30:32]:  # Columns AE and AF (31 and 32)\n",
    "    cell.font = bold_font\n",
    "\n",
    "ws.append(['', '', '', '', '', '', '', '', '', '', '', '', '', '', '', '', '', '', '', '', '', '', '', '', '', '', '', '', '', '', 'Margin Left (%):', f\"=(AF{current_row + 26} / AF{current_row + 18}) * 100\"])\n",
    "marginleft = ws.max_row  # Row index for this entry\n",
    "for cell in ws[marginleft][30:32]:  # Columns AE and AF (31 and 32)\n",
    "    cell.font = bold_font\n"
   ]
  },
  {
   "cell_type": "code",
   "execution_count": 0,
   "metadata": {
    "application/vnd.databricks.v1+cell": {
     "cellMetadata": {
      "byteLimit": 2048000,
      "rowLimit": 10000
     },
     "inputWidgets": {},
     "nuid": "f23de4d6-7978-4b75-92b9-4d1c170d6007",
     "showTitle": false,
     "tableResultSettingsMap": {},
     "title": ""
    }
   },
   "outputs": [
    {
     "output_type": "stream",
     "name": "stdout",
     "output_type": "stream",
     "text": [
      "Worksheet has data\n"
     ]
    }
   ],
   "source": [
    "if ws.max_row > 1:  # Check data\n",
    "    print(\"Worksheet has data\")\n",
    "else:\n",
    "    print(\"Worksheet is empty\")"
   ]
  },
  {
   "cell_type": "markdown",
   "metadata": {
    "application/vnd.databricks.v1+cell": {
     "cellMetadata": {
      "byteLimit": 2048000,
      "rowLimit": 10000
     },
     "inputWidgets": {},
     "nuid": "d44acd88-6215-43c7-9286-d81294cffcf4",
     "showTitle": false,
     "tableResultSettingsMap": {},
     "title": ""
    }
   },
   "source": [
    "# Save Sheet"
   ]
  },
  {
   "cell_type": "code",
   "execution_count": 0,
   "metadata": {
    "application/vnd.databricks.v1+cell": {
     "cellMetadata": {
      "byteLimit": 2048000,
      "rowLimit": 10000
     },
     "inputWidgets": {},
     "nuid": "ee5252b5-8140-43dd-b8d5-f18e22b04e5b",
     "showTitle": false,
     "tableResultSettingsMap": {},
     "title": ""
    }
   },
   "outputs": [],
   "source": [
    "%python\n",
    "from datetime import datetime,timedelta\n",
    "datetime_obj = (datetime.now() + timedelta(hours = 7))\n",
    "datetime_str = datetime_obj.strftime(\"%Y%m%d\")\n",
    "location = \"runrate/report/\" \n",
    "dbutils.fs.mkdirs(\"/mnt/blob/%s\" % location)\n",
    "print(location)\n",
    "print(datetime_str)\n"
   ]
  },
  {
   "cell_type": "code",
   "execution_count": 0,
   "metadata": {
    "application/vnd.databricks.v1+cell": {
     "cellMetadata": {
      "byteLimit": 2048000,
      "rowLimit": 10000
     },
     "inputWidgets": {},
     "nuid": "7aae2574-4f17-4849-abda-1f179a83a6b8",
     "showTitle": false,
     "tableResultSettingsMap": {},
     "title": ""
    }
   },
   "outputs": [
    {
     "output_type": "stream",
     "name": "stdout",
     "output_type": "stream",
     "text": [
      "202501200613560452\n00:25 mins.\n"
     ]
    }
   ],
   "source": [
    "\n",
    "import time\n",
    "from datetime import datetime\n",
    "\n",
    "\n",
    "def time_convert(sec):\n",
    "  mins = sec // 60\n",
    "  sec = sec % 60\n",
    "  hours = mins // 60\n",
    "  mins = mins % 60\n",
    "  return \"{0}:{1} mins.\".format(str(int(mins)).zfill(2),str(int(sec)).zfill(2))\n",
    "  \n",
    "end_time = time.time()\n",
    "time_lapsed = end_time - start_time\n",
    "execute_time = time_convert(time_lapsed)\n",
    "\n",
    "today = datetime.now().strftime('%Y%m%d%H%M%f')\n",
    "print(today)\n",
    "\n",
    "print(execute_time)"
   ]
  },
  {
   "cell_type": "markdown",
   "metadata": {
    "application/vnd.databricks.v1+cell": {
     "cellMetadata": {
      "byteLimit": 2048000,
      "rowLimit": 10000
     },
     "inputWidgets": {},
     "nuid": "40196404-159e-4f65-8604-41c5c6bcf2b4",
     "showTitle": false,
     "tableResultSettingsMap": {},
     "title": ""
    }
   },
   "source": [
    "## Upload file to Azure Blob"
   ]
  },
  {
   "cell_type": "code",
   "execution_count": 0,
   "metadata": {
    "application/vnd.databricks.v1+cell": {
     "cellMetadata": {
      "byteLimit": 2048000,
      "rowLimit": 10000
     },
     "inputWidgets": {},
     "nuid": "e428ff33-e6b8-47ea-811c-41a6f68395e1",
     "showTitle": false,
     "tableResultSettingsMap": {},
     "title": ""
    }
   },
   "outputs": [],
   "source": [
    "# Add a new sheet for df_quotation\n",
    "ws2 = wb.create_sheet(title=sheet_name_2)\n",
    "\n",
    "# Write the df_quotation dataframe to the new sheet\n",
    "for r in dataframe_to_rows(df_quotation_filtered, index=False, header=True):\n",
    "    ws2.append(r)\n",
    "\n",
    "# Write DataFrames to temporary Excel file\n",
    "\n",
    "wb.save(temp_file)\n",
    "print(\"FileStore Path ==> \", copy_file)\n",
    "\n",
    "try:\n",
    "  dbutils.fs.cp('file:'+temp_file,path_txt)\n",
    "\n",
    "  up_blob = Upload_to_blob(temp_file,fileName)\n",
    "  \n",
    "  print(f\"Successfully copied file to {path_txt}\")\n",
    "\n",
    "  download_url = EXPORTFILE_BLOB_URL + fileName\n",
    "\n",
    "  print(download_url)\n",
    "\n",
    "except Exception as e:\n",
    "  \n",
    "  print(f\"Error copying file: {e}\")"
   ]
  },
  {
   "cell_type": "markdown",
   "metadata": {
    "application/vnd.databricks.v1+cell": {
     "cellMetadata": {
      "byteLimit": 2048000,
      "rowLimit": 10000
     },
     "inputWidgets": {},
     "nuid": "e18288f0-c798-4e13-9f07-988c2bbbdcba",
     "showTitle": false,
     "tableResultSettingsMap": {},
     "title": ""
    }
   },
   "source": [
    "## Notify to BotReport"
   ]
  },
  {
   "cell_type": "code",
   "execution_count": 0,
   "metadata": {
    "application/vnd.databricks.v1+cell": {
     "cellMetadata": {
      "byteLimit": 2048000,
      "rowLimit": 10000
     },
     "inputWidgets": {},
     "nuid": "818287b7-4b3c-445e-8174-103b275bfd2d",
     "showTitle": false,
     "tableResultSettingsMap": {},
     "title": ""
    }
   },
   "outputs": [],
   "source": [
    "import requests\n",
    "\n",
    "#Prepare Data\n",
    "report_name = report\n",
    "\n",
    "params = {\n",
    "    'status': 'success',\n",
    "    'error': '',\n",
    "    'flow':'2',\n",
    "    'url': download_url,\n",
    "    'brand': 'Report',\n",
    "    'reporttype': report_name,\n",
    "    'paramtype': 'between',\n",
    "    'startDate': query_startDate,\n",
    "    'endDate': query_endDate,\n",
    "    'executeTime': execute_time,\n",
    "    'conversationId': conversationId,\n",
    "    'serviceUrl': serviceUrl,\n",
    "    'email': email\n",
    "}\n",
    "print(params)\n",
    "r = requests.get(BOT_NOTIFY_URL, params=params)\n"
   ]
  }
 ],
 "metadata": {
  "application/vnd.databricks.v1+notebook": {
   "computePreferences": null,
   "dashboards": [],
   "environmentMetadata": {
    "base_environment": "",
    "client": "1"
   },
   "language": "python",
   "notebookMetadata": {
    "mostRecentlyExecutedCommandWithImplicitDF": {
     "commandId": 6548422806454484,
     "dataframes": [
      "_sqldf"
     ]
    },
    "pythonIndentUnit": 2,
    "widgetLayout": [
     {
      "breakBefore": false,
      "name": "agencyid",
      "width": 182
     },
     {
      "breakBefore": false,
      "name": "conversationId",
      "width": 182
     },
     {
      "breakBefore": false,
      "name": "email",
      "width": 182
     },
     {
      "breakBefore": false,
      "name": "serviceUrl",
      "width": 182
     },
     {
      "breakBefore": false,
      "name": "startdate",
      "width": 182
     },
     {
      "breakBefore": false,
      "name": "enddate",
      "width": 182
     },
     {
      "breakBefore": false,
      "name": "userId",
      "width": 182
     }
    ]
   },
   "notebookName": "Inventory RunRate Report",
   "widgets": {
    "agencyId": {
     "currentValue": "39588",
     "nuid": "7d0ab2be-9487-4b91-978b-d94bf4d35c2f",
     "typedWidgetInfo": {
      "autoCreated": false,
      "defaultValue": "7174765",
      "label": "agencyid",
      "name": "agencyId",
      "options": {
       "widgetDisplayType": "Text",
       "validationRegex": null
      },
      "parameterDataType": "String"
     },
     "widgetInfo": {
      "widgetType": "text",
      "defaultValue": "7174765",
      "label": "agencyid",
      "name": "agencyId",
      "options": {
       "widgetType": "text",
       "autoCreated": false,
       "validationRegex": null
      }
     }
    },
    "conversationId": {
     "currentValue": "a:1eWJgfgNN6nsfwiD45jh78XeBz-_9TbdtXyAfZNUIob0rkN5G-q-rrcz88kZfYPFpVtPiVm3knKXtUCYfAnjchuVeJj_bYhlovGAF7EQdO3TSKNC-sFXHQ3izrASjC9ec",
     "nuid": "738fd761-61b7-4b23-95c8-e8e4669037e3",
     "typedWidgetInfo": {
      "autoCreated": false,
      "defaultValue": "",
      "label": "",
      "name": "conversationId",
      "options": {
       "widgetDisplayType": "Text",
       "validationRegex": null
      },
      "parameterDataType": "String"
     },
     "widgetInfo": {
      "widgetType": "text",
      "defaultValue": "",
      "label": "",
      "name": "conversationId",
      "options": {
       "widgetType": "text",
       "autoCreated": false,
       "validationRegex": null
      }
     }
    },
    "email": {
     "currentValue": "thanaphong@buzzebees.com",
     "nuid": "a730dc73-3d66-42c1-862d-768342e96cfa",
     "typedWidgetInfo": {
      "autoCreated": false,
      "defaultValue": "",
      "label": "",
      "name": "email",
      "options": {
       "widgetDisplayType": "Text",
       "validationRegex": null
      },
      "parameterDataType": "String"
     },
     "widgetInfo": {
      "widgetType": "text",
      "defaultValue": "",
      "label": "",
      "name": "email",
      "options": {
       "widgetType": "text",
       "autoCreated": false,
       "validationRegex": null
      }
     }
    },
    "endDate": {
     "currentValue": "2025-01-14",
     "nuid": "2ba0e4d0-9a5f-489c-b97e-ff5db839c432",
     "typedWidgetInfo": {
      "autoCreated": false,
      "defaultValue": "2024-07-21",
      "label": "endDate",
      "name": "endDate",
      "options": {
       "widgetDisplayType": "Text",
       "validationRegex": null
      },
      "parameterDataType": "String"
     },
     "widgetInfo": {
      "widgetType": "text",
      "defaultValue": "2024-07-21",
      "label": "endDate",
      "name": "endDate",
      "options": {
       "widgetType": "text",
       "autoCreated": false,
       "validationRegex": null
      }
     }
    },
    "serviceUrl": {
     "currentValue": " https://smba.trafficmanager.net/apac/",
     "nuid": "9a4da15d-bc33-4d1e-85d1-748b325e1cae",
     "typedWidgetInfo": {
      "autoCreated": false,
      "defaultValue": "",
      "label": "",
      "name": "serviceUrl",
      "options": {
       "widgetDisplayType": "Text",
       "validationRegex": null
      },
      "parameterDataType": "String"
     },
     "widgetInfo": {
      "widgetType": "text",
      "defaultValue": "",
      "label": "",
      "name": "serviceUrl",
      "options": {
       "widgetType": "text",
       "autoCreated": false,
       "validationRegex": null
      }
     }
    },
    "startDate": {
     "currentValue": "2024-12-15",
     "nuid": "481cbe16-28cb-4042-82a9-e73f575707fb",
     "typedWidgetInfo": {
      "autoCreated": false,
      "defaultValue": "2024-08-21",
      "label": "startdate",
      "name": "startDate",
      "options": {
       "widgetDisplayType": "Text",
       "validationRegex": null
      },
      "parameterDataType": "String"
     },
     "widgetInfo": {
      "widgetType": "text",
      "defaultValue": "2024-08-21",
      "label": "startdate",
      "name": "startDate",
      "options": {
       "widgetType": "text",
       "autoCreated": false,
       "validationRegex": null
      }
     }
    },
    "userId": {
     "currentValue": "29:1mlZPPpHKoaDUU8JRlb1JS4_FSlYB5IuXwOWRKdlbBmSv8XEhpv_YtlVm9zxufg8KMWfdw5iyvg0Kfl9T7uqEnw",
     "nuid": "bd574a51-173f-42b1-966c-5284bd2c2f43",
     "typedWidgetInfo": {
      "autoCreated": false,
      "defaultValue": "",
      "label": "",
      "name": "userId",
      "options": {
       "widgetDisplayType": "Text",
       "validationRegex": null
      },
      "parameterDataType": "String"
     },
     "widgetInfo": {
      "widgetType": "text",
      "defaultValue": "",
      "label": "",
      "name": "userId",
      "options": {
       "widgetType": "text",
       "autoCreated": false,
       "validationRegex": null
      }
     }
    }
   }
  },
  "language_info": {
   "name": "python"
  }
 },
 "nbformat": 4,
 "nbformat_minor": 0
}