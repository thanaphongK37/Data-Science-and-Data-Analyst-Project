{
 "cells": [
  {
   "cell_type": "markdown",
   "metadata": {
    "application/vnd.databricks.v1+cell": {
     "cellMetadata": {},
     "inputWidgets": {},
     "nuid": "b0a4e206-2ae4-449f-958f-f9b931388227",
     "showTitle": false,
     "tableResultSettingsMap": {},
     "title": ""
    }
   },
   "source": [
    "# Import Library\n"
   ]
  },
  {
   "cell_type": "code",
   "execution_count": 0,
   "metadata": {
    "application/vnd.databricks.v1+cell": {
     "cellMetadata": {},
     "inputWidgets": {},
     "nuid": "f51da493-8e26-4f61-a435-3f9460bb3fdd",
     "showTitle": false,
     "tableResultSettingsMap": {},
     "title": ""
    }
   },
   "outputs": [
    {
     "output_type": "display_data",
     "data": {
      "text/html": [
       "<style scoped>\n",
       "  .ansiout {\n",
       "    display: block;\n",
       "    unicode-bidi: embed;\n",
       "    white-space: pre-wrap;\n",
       "    word-wrap: break-word;\n",
       "    word-break: break-all;\n",
       "    font-family: \"Menlo\", \"Monaco\", \"Consolas\", \"Ubuntu Mono\", \"Source Code Pro\", monospace;\n",
       "    font-size: 13px;\n",
       "    color: #555;\n",
       "    margin-left: 4px;\n",
       "    line-height: 19px;\n",
       "  }\n",
       "</style>\n",
       "<div class=\"ansiout\">3.2.2\n",
       "</div>"
      ]
     },
     "metadata": {
      "application/vnd.databricks.v1+output": {
       "addedWidgets": {},
       "arguments": {},
       "data": "<div class=\"ansiout\">3.2.2\n</div>",
       "datasetInfos": [],
       "metadata": {},
       "removedWidgets": [],
       "type": "html"
      }
     },
     "output_type": "display_data"
    }
   ],
   "source": [
    "from pyspark.sql import *\n",
    "import pandas as pd\n",
    "import numpy as np\n",
    "import gc\n",
    "from datetime import datetime\n",
    "import lifetimes\n",
    "from lifetimes.plotting import plot_history_alive\n",
    "import matplotlib\n",
    "print(matplotlib.__version__)\n",
    "import matplotlib.pyplot as plt\n",
    "import seaborn as sns\n",
    "from datetime import timedelta\n",
    "%matplotlib inline\n",
    "\n",
    "from lifetimes.fitters.pareto_nbd_fitter import ParetoNBDFitter\n",
    "from lifetimes.fitters.beta_geo_fitter import BetaGeoFitter\n",
    "from lifetimes.plotting import *"
   ]
  },
  {
   "cell_type": "markdown",
   "metadata": {
    "application/vnd.databricks.v1+cell": {
     "cellMetadata": {},
     "inputWidgets": {},
     "nuid": "67e9b16b-b5b3-489a-96a2-225c4dafc4f3",
     "showTitle": false,
     "tableResultSettingsMap": {},
     "title": ""
    }
   },
   "source": [
    "# 1. load Data"
   ]
  },
  {
   "cell_type": "code",
   "execution_count": 0,
   "metadata": {
    "application/vnd.databricks.v1+cell": {
     "cellMetadata": {},
     "inputWidgets": {},
     "nuid": "0ad48154-0845-4c2d-9b0e-d3e235e3baa1",
     "showTitle": false,
     "tableResultSettingsMap": {},
     "title": ""
    }
   },
   "outputs": [],
   "source": [
    "user_payment = spark.sql(\"select * from mytable\").toPandas() \n",
    "history = spark.sql(\"select * from history \").toPandas()  \n",
    "autolaps = spark.sql(\"select * from autolapse\").toPandas()  "
   ]
  },
  {
   "cell_type": "markdown",
   "metadata": {
    "application/vnd.databricks.v1+cell": {
     "cellMetadata": {},
     "inputWidgets": {},
     "nuid": "c854e411-2c07-4351-b7a6-73fe3a59fb40",
     "showTitle": false,
     "tableResultSettingsMap": {},
     "title": ""
    }
   },
   "source": [
    "#1.1 Define Function For aggregate data"
   ]
  },
  {
   "cell_type": "code",
   "execution_count": 0,
   "metadata": {
    "application/vnd.databricks.v1+cell": {
     "cellMetadata": {},
     "inputWidgets": {},
     "nuid": "56916562-d270-45ad-9520-0056455675f0",
     "showTitle": false,
     "tableResultSettingsMap": {},
     "title": ""
    }
   },
   "outputs": [
    {
     "output_type": "display_data",
     "data": {
      "text/html": [
       "<style scoped>\n",
       "  .ansiout {\n",
       "    display: block;\n",
       "    unicode-bidi: embed;\n",
       "    white-space: pre-wrap;\n",
       "    word-wrap: break-word;\n",
       "    word-break: break-all;\n",
       "    font-family: \"Menlo\", \"Monaco\", \"Consolas\", \"Ubuntu Mono\", \"Source Code Pro\", monospace;\n",
       "    font-size: 13px;\n",
       "    color: #555;\n",
       "    margin-left: 4px;\n",
       "    line-height: 19px;\n",
       "  }\n",
       "</style>\n",
       "<div class=\"ansiout\"></div>"
      ]
     },
     "metadata": {
      "application/vnd.databricks.v1+output": {
       "addedWidgets": {},
       "arguments": {},
       "data": "<div class=\"ansiout\"></div>",
       "datasetInfos": [],
       "metadata": {},
       "removedWidgets": [],
       "type": "html"
      }
     },
     "output_type": "display_data"
    }
   ],
   "source": [
    "def Aggregate_data(df_rfa):\n",
    "  ## กรองเอาเฉพาะ Transaction ที่ Pay Success\n",
    "  df_rfa_2 = df_rfa[df_rfa['Status'].isin(['Success'])]\n",
    "  df_rfa_2['SuccessDate_2'] = df_rfa_2['SuccessDate'].dt.strftime('%Y-%m-%d')\n",
    "  \n",
    "  \n",
    "  ## กรอง User ที่คิดว่าเป็น User ทดสอบ ออก (Filter Out User Test)\n",
    "  dropout_1 = df_rfa_2[df_rfa_2['CustomerName'].str.contains(\"ทดสอบ\")]\n",
    "  dropout_2 = df_rfa_2[df_rfa_2['CustomerName'].str.contains(\"test\")]\n",
    "  dropout_res = pd.concat([dropout_1,dropout_2] ,axis=0)['CustomerId'].unique()\n",
    "  df_rfa_2 = df_rfa_2.loc[~df_rfa_2['CustomerId'].isin(dropout_res)].reset_index(drop=True)\n",
    "  df_rfa_2['TranId'] = df_rfa_2['TranId'].astype(str)\n",
    "  df_rfa_2['TranAmount'] = df_rfa_2['TranAmount'].astype(int)\n",
    "  df_rfa_2['SuccessDate_2'] = pd.to_datetime(df_rfa_2['SuccessDate_2']) \n",
    "\n",
    "  return df_rfa_2\n",
    "\n",
    "## Function Generate Threshold\n",
    "def Threshold_explore(data,max_stop):\n",
    "  num_range = np.arange(start=0.1, stop=max_stop, step=0.1)\n",
    "  list_threshold = dict()\n",
    "  list_data = list()\n",
    "  for idx,nums in enumerate(num_range):\n",
    "    \n",
    "    ## Get threshold\n",
    "    df = data[data['purchases_next60days'] <= nums]\n",
    "    threshold_num = df[df['Frequency_count_date'] != 0]['CustomerId'].count() / df['CustomerId'].count()\n",
    "    key = 'prd_purchase ='+ str(round(nums,2))\n",
    "    \n",
    "    ## Get Count User\n",
    "    count_user_isactual = df[df['Frequency_count_date'] !=0]['CustomerId'].count()\n",
    "    count_user = df['CustomerId'].count()\n",
    "    \n",
    "    \n",
    "    ## Add To Dataframe\n",
    "    list_data.append([key,round(threshold_num,3),count_user,count_user_isactual])\n",
    "    #list_threshold.update({key:round(threshold_num,1)})\n",
    "    \n",
    "  dtf = pd.DataFrame(list_data,columns=['prd_purchase_key','score','count_user','count_user_isactual'])\n",
    "    \n",
    "  return dtf"
   ]
  },
  {
   "cell_type": "markdown",
   "metadata": {
    "application/vnd.databricks.v1+cell": {
     "cellMetadata": {},
     "inputWidgets": {},
     "nuid": "81bb40e0-8b71-4ac0-97f0-09fe85d6b000",
     "showTitle": false,
     "tableResultSettingsMap": {},
     "title": ""
    }
   },
   "source": [
    "#2. Exploration Data\n",
    " - Filter by condition"
   ]
  },
  {
   "cell_type": "code",
   "execution_count": 0,
   "metadata": {
    "application/vnd.databricks.v1+cell": {
     "cellMetadata": {},
     "inputWidgets": {},
     "nuid": "ec098948-215b-4ee5-8f53-ead407fc479a",
     "showTitle": false,
     "tableResultSettingsMap": {},
     "title": ""
    }
   },
   "outputs": [],
   "source": [
    "## look for distribution by name\n",
    "pd.crosstab(history['name'] ,'c')"
   ]
  },
  {
   "cell_type": "code",
   "execution_count": 0,
   "metadata": {
    "application/vnd.databricks.v1+cell": {
     "cellMetadata": {},
     "inputWidgets": {},
     "nuid": "fe17e652-a969-4a8c-9aab-cdff2f768e7e",
     "showTitle": false,
     "tableResultSettingsMap": {},
     "title": ""
    }
   },
   "outputs": [
    {
     "output_type": "display_data",
     "data": {
      "text/html": [
       "<style scoped>\n",
       "  .ansiout {\n",
       "    display: block;\n",
       "    unicode-bidi: embed;\n",
       "    white-space: pre-wrap;\n",
       "    word-wrap: break-word;\n",
       "    word-break: break-all;\n",
       "    font-family: \"Menlo\", \"Monaco\", \"Consolas\", \"Ubuntu Mono\", \"Source Code Pro\", monospace;\n",
       "    font-size: 13px;\n",
       "    color: #555;\n",
       "    margin-left: 4px;\n",
       "    line-height: 19px;\n",
       "  }\n",
       "</style>\n",
       "<div class=\"ansiout\"></div>"
      ]
     },
     "metadata": {
      "application/vnd.databricks.v1+output": {
       "addedWidgets": {},
       "arguments": {},
       "data": "<div class=\"ansiout\"></div>",
       "datasetInfos": [],
       "metadata": {},
       "removedWidgets": [],
       "type": "html"
      }
     },
     "output_type": "display_data"
    }
   ],
   "source": [
    "## เลือกเอาเฉพาะ Type เพราะแทนการซื้อ\n",
    "history = history[history['name'].isin([....])]"
   ]
  },
  {
   "cell_type": "code",
   "execution_count": 0,
   "metadata": {
    "application/vnd.databricks.v1+cell": {
     "cellMetadata": {},
     "inputWidgets": {},
     "nuid": "b6eed6ae-55ac-4a5a-8ac4-598d8d5b1163",
     "showTitle": false,
     "tableResultSettingsMap": {},
     "title": ""
    }
   },
   "outputs": [],
   "source": [
    "history.groupby(['id']).agg({'id':'count'})"
   ]
  },
  {
   "cell_type": "code",
   "execution_count": 0,
   "metadata": {
    "application/vnd.databricks.v1+cell": {
     "cellMetadata": {},
     "inputWidgets": {},
     "nuid": "0ed232a7-aea0-4bdf-bce7-2131ea1b4bf6",
     "showTitle": false,
     "tableResultSettingsMap": {},
     "title": ""
    }
   },
   "outputs": [
    {
     "output_type": "display_data",
     "data": {
      "text/html": [
       "<style scoped>\n",
       "  .ansiout {\n",
       "    display: block;\n",
       "    unicode-bidi: embed;\n",
       "    white-space: pre-wrap;\n",
       "    word-wrap: break-word;\n",
       "    word-break: break-all;\n",
       "    font-family: \"Menlo\", \"Monaco\", \"Consolas\", \"Ubuntu Mono\", \"Source Code Pro\", monospace;\n",
       "    font-size: 13px;\n",
       "    color: #555;\n",
       "    margin-left: 4px;\n",
       "    line-height: 19px;\n",
       "  }\n",
       "</style>\n",
       "<div class=\"ansiout\"></div>"
      ]
     },
     "metadata": {
      "application/vnd.databricks.v1+output": {
       "addedWidgets": {},
       "arguments": {},
       "data": "<div class=\"ansiout\"></div>",
       "datasetInfos": [],
       "metadata": {},
       "removedWidgets": [],
       "type": "html"
      }
     },
     "output_type": "display_data"
    }
   ],
   "source": [
    "user_payment_1.head()\n",
    "df_rfa = user_payment_1.copy()\n",
    "df_rfa_2 = Aggregate_data(df_rfa)"
   ]
  },
  {
   "cell_type": "code",
   "execution_count": 0,
   "metadata": {
    "application/vnd.databricks.v1+cell": {
     "cellMetadata": {},
     "inputWidgets": {},
     "nuid": "f2ef7d76-d1d5-4905-9f65-98eceebdcd73",
     "showTitle": false,
     "tableResultSettingsMap": {},
     "title": ""
    }
   },
   "outputs": [
    {
     "output_type": "display_data",
     "data": {
      "text/html": [
       "<style scoped>\n",
       "  .ansiout {\n",
       "    display: block;\n",
       "    unicode-bidi: embed;\n",
       "    white-space: pre-wrap;\n",
       "    word-wrap: break-word;\n",
       "    word-break: break-all;\n",
       "    font-family: \"Menlo\", \"Monaco\", \"Consolas\", \"Ubuntu Mono\", \"Source Code Pro\", monospace;\n",
       "    font-size: 13px;\n",
       "    color: #555;\n",
       "    margin-left: 4px;\n",
       "    line-height: 19px;\n",
       "  }\n",
       "</style>\n",
       "<div class=\"ansiout\"></div>"
      ]
     },
     "metadata": {
      "application/vnd.databricks.v1+output": {
       "addedWidgets": {},
       "arguments": {},
       "data": "<div class=\"ansiout\"></div>",
       "datasetInfos": [],
       "metadata": {},
       "removedWidgets": [],
       "type": "html"
      }
     },
     "output_type": "display_data"
    }
   ],
   "source": [
    "df_rfa_2_1 = pd.concat([df_rfa_2,history[['id','useddate']].drop_duplicates()], axis=0, ignore_index=True)"
   ]
  },
  {
   "cell_type": "code",
   "execution_count": 0,
   "metadata": {
    "application/vnd.databricks.v1+cell": {
     "cellMetadata": {},
     "inputWidgets": {},
     "nuid": "bab1e9a1-662c-475a-baea-526e13afdd35",
     "showTitle": false,
     "tableResultSettingsMap": {},
     "title": ""
    }
   },
   "outputs": [
    {
     "output_type": "display_data",
     "data": {
      "text/html": [
       "<style scoped>\n",
       "  .ansiout {\n",
       "    display: block;\n",
       "    unicode-bidi: embed;\n",
       "    white-space: pre-wrap;\n",
       "    word-wrap: break-word;\n",
       "    word-break: break-all;\n",
       "    font-family: \"Menlo\", \"Monaco\", \"Consolas\", \"Ubuntu Mono\", \"Source Code Pro\", monospace;\n",
       "    font-size: 13px;\n",
       "    color: #555;\n",
       "    margin-left: 4px;\n",
       "    line-height: 19px;\n",
       "  }\n",
       "</style>\n",
       "<div class=\"ansiout\"></div>"
      ]
     },
     "metadata": {
      "application/vnd.databricks.v1+output": {
       "addedWidgets": {},
       "arguments": {},
       "data": "<div class=\"ansiout\"></div>",
       "datasetInfos": [],
       "metadata": {},
       "removedWidgets": [],
       "type": "html"
      }
     },
     "output_type": "display_data"
    }
   ],
   "source": [
    "df_rfa_2_1['SuccessDate'].fillna(value=df_rfa_2_1[~df_rfa_2_1['useddate'].isnull()]['useddate'] , inplace=True)"
   ]
  },
  {
   "cell_type": "code",
   "execution_count": 0,
   "metadata": {
    "application/vnd.databricks.v1+cell": {
     "cellMetadata": {},
     "inputWidgets": {},
     "nuid": "697de8ce-a174-40ba-a597-c4f7807d6163",
     "showTitle": false,
     "tableResultSettingsMap": {},
     "title": ""
    }
   },
   "outputs": [],
   "source": [
    "df_rfa_2_1"
   ]
  },
  {
   "cell_type": "code",
   "execution_count": 0,
   "metadata": {
    "application/vnd.databricks.v1+cell": {
     "cellMetadata": {},
     "inputWidgets": {},
     "nuid": "1d68d292-c794-4dff-be62-8d8dc133e91a",
     "showTitle": false,
     "tableResultSettingsMap": {},
     "title": ""
    }
   },
   "outputs": [
    {
     "output_type": "display_data",
     "data": {
      "text/html": [
       "<style scoped>\n",
       "  .ansiout {\n",
       "    display: block;\n",
       "    unicode-bidi: embed;\n",
       "    white-space: pre-wrap;\n",
       "    word-wrap: break-word;\n",
       "    word-break: break-all;\n",
       "    font-family: \"Menlo\", \"Monaco\", \"Consolas\", \"Ubuntu Mono\", \"Source Code Pro\", monospace;\n",
       "    font-size: 13px;\n",
       "    color: #555;\n",
       "    margin-left: 4px;\n",
       "    line-height: 19px;\n",
       "  }\n",
       "</style>\n",
       "<div class=\"ansiout\"></div>"
      ]
     },
     "metadata": {
      "application/vnd.databricks.v1+output": {
       "addedWidgets": {},
       "arguments": {},
       "data": "<div class=\"ansiout\"></div>",
       "datasetInfos": [],
       "metadata": {},
       "removedWidgets": [],
       "type": "html"
      }
     },
     "output_type": "display_data"
    }
   ],
   "source": [
    "tt = df_rfa_2_1.copy()\n",
    "tt['year'] = pd.to_datetime(tt['SuccessDate_2']).dt.year"
   ]
  },
  {
   "cell_type": "code",
   "execution_count": 0,
   "metadata": {
    "application/vnd.databricks.v1+cell": {
     "cellMetadata": {},
     "inputWidgets": {},
     "nuid": "85010789-6fea-45a4-a1a3-d4b8da803902",
     "showTitle": false,
     "tableResultSettingsMap": {},
     "title": ""
    }
   },
   "outputs": [
    {
     "output_type": "display_data",
     "data": {
      "text/html": [
       "<style scoped>\n",
       "  .ansiout {\n",
       "    display: block;\n",
       "    unicode-bidi: embed;\n",
       "    white-space: pre-wrap;\n",
       "    word-wrap: break-word;\n",
       "    word-break: break-all;\n",
       "    font-family: \"Menlo\", \"Monaco\", \"Consolas\", \"Ubuntu Mono\", \"Source Code Pro\", monospace;\n",
       "    font-size: 13px;\n",
       "    color: #555;\n",
       "    margin-left: 4px;\n",
       "    line-height: 19px;\n",
       "  }\n",
       "</style>\n",
       "<div class=\"ansiout\">Num Customer :&gt; 97619\n",
       "Num Transactions :&gt; 164951\n",
       "</div>"
      ]
     },
     "metadata": {
      "application/vnd.databricks.v1+output": {
       "addedWidgets": {},
       "arguments": {},
       "data": "<div class=\"ansiout\">Num Customer :&gt; 97619\nNum Transactions :&gt; 164951\n</div>",
       "datasetInfos": [],
       "metadata": {},
       "removedWidgets": [],
       "type": "html"
      }
     },
     "output_type": "display_data"
    }
   ],
   "source": [
    "print('Num Customer :>',len(tt['id'].unique()))\n",
    "print('Num Transactions :>',len(tt['TranId'].unique()))"
   ]
  },
  {
   "cell_type": "code",
   "execution_count": 0,
   "metadata": {
    "application/vnd.databricks.v1+cell": {
     "cellMetadata": {},
     "inputWidgets": {},
     "nuid": "f0406228-606e-4e36-963a-7e51d8425942",
     "showTitle": false,
     "tableResultSettingsMap": {},
     "title": ""
    }
   },
   "outputs": [
    {
     "output_type": "display_data",
     "data": {
      "text/html": [
       "<style scoped>\n",
       "  .ansiout {\n",
       "    display: block;\n",
       "    unicode-bidi: embed;\n",
       "    white-space: pre-wrap;\n",
       "    word-wrap: break-word;\n",
       "    word-break: break-all;\n",
       "    font-family: \"Menlo\", \"Monaco\", \"Consolas\", \"Ubuntu Mono\", \"Source Code Pro\", monospace;\n",
       "    font-size: 13px;\n",
       "    color: #555;\n",
       "    margin-left: 4px;\n",
       "    line-height: 19px;\n",
       "  }\n",
       "</style>\n",
       "<div class=\"ansiout\"></div>"
      ]
     },
     "metadata": {
      "application/vnd.databricks.v1+output": {
       "addedWidgets": {},
       "arguments": {},
       "data": "<div class=\"ansiout\"></div>",
       "datasetInfos": [],
       "metadata": {},
       "removedWidgets": [],
       "type": "html"
      }
     },
     "output_type": "display_data"
    }
   ],
   "source": [
    "df_rfa_2_1['year'] = df_rfa_2_1['SuccessDate'].dt.year"
   ]
  },
  {
   "cell_type": "code",
   "execution_count": 0,
   "metadata": {
    "application/vnd.databricks.v1+cell": {
     "cellMetadata": {},
     "inputWidgets": {},
     "nuid": "a0e27b33-46ce-4cc3-af29-bc5a4c424eaf",
     "showTitle": false,
     "tableResultSettingsMap": {},
     "title": ""
    }
   },
   "outputs": [
    {
     "output_type": "display_data",
     "data": {
      "text/html": [
       "<style scoped>\n",
       "  .ansiout {\n",
       "    display: block;\n",
       "    unicode-bidi: embed;\n",
       "    white-space: pre-wrap;\n",
       "    word-wrap: break-word;\n",
       "    word-break: break-all;\n",
       "    font-family: \"Menlo\", \"Monaco\", \"Consolas\", \"Ubuntu Mono\", \"Source Code Pro\", monospace;\n",
       "    font-size: 13px;\n",
       "    color: #555;\n",
       "    margin-left: 4px;\n",
       "    line-height: 19px;\n",
       "  }\n",
       "</style>\n",
       "<div class=\"ansiout\">Out[207]: Timestamp(&#39;2018-05-08 15:50:01.390634&#39;)</div>"
      ]
     },
     "metadata": {
      "application/vnd.databricks.v1+output": {
       "addedWidgets": {},
       "arguments": {},
       "data": "<div class=\"ansiout\">Out[207]: Timestamp(&#39;2018-05-08 15:50:01.390634&#39;)</div>",
       "datasetInfos": [],
       "metadata": {},
       "removedWidgets": [],
       "type": "html"
      }
     },
     "output_type": "display_data"
    }
   ],
   "source": [
    "## Checkdata \n",
    "mjcouponhistory['useddate'].min()"
   ]
  },
  {
   "cell_type": "code",
   "execution_count": 0,
   "metadata": {
    "application/vnd.databricks.v1+cell": {
     "cellMetadata": {},
     "inputWidgets": {},
     "nuid": "aa52b3b3-9703-43cc-b045-354f8ffbdf43",
     "showTitle": false,
     "tableResultSettingsMap": {},
     "title": ""
    }
   },
   "outputs": [
    {
     "output_type": "display_data",
     "data": {
      "text/html": [
       "<style scoped>\n",
       "  .ansiout {\n",
       "    display: block;\n",
       "    unicode-bidi: embed;\n",
       "    white-space: pre-wrap;\n",
       "    word-wrap: break-word;\n",
       "    word-break: break-all;\n",
       "    font-family: \"Menlo\", \"Monaco\", \"Consolas\", \"Ubuntu Mono\", \"Source Code Pro\", monospace;\n",
       "    font-size: 13px;\n",
       "    color: #555;\n",
       "    margin-left: 4px;\n",
       "    line-height: 19px;\n",
       "  }\n",
       "</style>\n",
       "<div class=\"ansiout\"></div>"
      ]
     },
     "metadata": {
      "application/vnd.databricks.v1+output": {
       "addedWidgets": {},
       "arguments": {},
       "data": "<div class=\"ansiout\"></div>",
       "datasetInfos": [],
       "metadata": {},
       "removedWidgets": [],
       "type": "html"
      }
     },
     "output_type": "display_data"
    }
   ],
   "source": [
    "df_rfa_2_1.drop(columns='SuccessDate_2' ,inplace=True )"
   ]
  },
  {
   "cell_type": "code",
   "execution_count": 0,
   "metadata": {
    "application/vnd.databricks.v1+cell": {
     "cellMetadata": {},
     "inputWidgets": {},
     "nuid": "aaa38ec6-ed1c-4e36-b656-3ad5b3f60b76",
     "showTitle": false,
     "tableResultSettingsMap": {},
     "title": ""
    }
   },
   "outputs": [
    {
     "output_type": "display_data",
     "data": {
      "text/html": [
       "<style scoped>\n",
       "  .ansiout {\n",
       "    display: block;\n",
       "    unicode-bidi: embed;\n",
       "    white-space: pre-wrap;\n",
       "    word-wrap: break-word;\n",
       "    word-break: break-all;\n",
       "    font-family: \"Menlo\", \"Monaco\", \"Consolas\", \"Ubuntu Mono\", \"Source Code Pro\", monospace;\n",
       "    font-size: 13px;\n",
       "    color: #555;\n",
       "    margin-left: 4px;\n",
       "    line-height: 19px;\n",
       "  }\n",
       "</style>\n",
       "<div class=\"ansiout\"></div>"
      ]
     },
     "metadata": {
      "application/vnd.databricks.v1+output": {
       "addedWidgets": {},
       "arguments": {},
       "data": "<div class=\"ansiout\"></div>",
       "datasetInfos": [],
       "metadata": {},
       "removedWidgets": [],
       "type": "html"
      }
     },
     "output_type": "display_data"
    }
   ],
   "source": [
    "df_rfa_2_1['SuccessDate_2'] = pd.to_datetime(df_rfa_2_1['SuccessDate']).dt.strftime('%Y-%m-%d')"
   ]
  },
  {
   "cell_type": "code",
   "execution_count": 0,
   "metadata": {
    "application/vnd.databricks.v1+cell": {
     "cellMetadata": {},
     "inputWidgets": {},
     "nuid": "71e0711b-526e-4b7d-80a9-4a9436e231ff",
     "showTitle": false,
     "tableResultSettingsMap": {},
     "title": ""
    }
   },
   "outputs": [
    {
     "output_type": "display_data",
     "data": {
      "text/html": [
       "<style scoped>\n",
       "  .ansiout {\n",
       "    display: block;\n",
       "    unicode-bidi: embed;\n",
       "    white-space: pre-wrap;\n",
       "    word-wrap: break-word;\n",
       "    word-break: break-all;\n",
       "    font-family: \"Menlo\", \"Monaco\", \"Consolas\", \"Ubuntu Mono\", \"Source Code Pro\", monospace;\n",
       "    font-size: 13px;\n",
       "    color: #555;\n",
       "    margin-left: 4px;\n",
       "    line-height: 19px;\n",
       "  }\n",
       "</style>\n",
       "<div class=\"ansiout\"></div>"
      ]
     },
     "metadata": {
      "application/vnd.databricks.v1+output": {
       "addedWidgets": {},
       "arguments": {},
       "data": "<div class=\"ansiout\"></div>",
       "datasetInfos": [],
       "metadata": {},
       "removedWidgets": [],
       "type": "html"
      }
     },
     "output_type": "display_data"
    }
   ],
   "source": [
    "df_rfa_2_1 = df_rfa_2_1[df_rfa_2_1['SuccessDate_2'] >= '2018-05-08'].reset_index(drop=True)"
   ]
  },
  {
   "cell_type": "code",
   "execution_count": 0,
   "metadata": {
    "application/vnd.databricks.v1+cell": {
     "cellMetadata": {},
     "inputWidgets": {},
     "nuid": "5d4b9016-5e7e-4861-9601-0aa0f1375941",
     "showTitle": false,
     "tableResultSettingsMap": {},
     "title": ""
    }
   },
   "outputs": [],
   "source": [
    "df_rfa_2_1"
   ]
  },
  {
   "cell_type": "markdown",
   "metadata": {
    "application/vnd.databricks.v1+cell": {
     "cellMetadata": {},
     "inputWidgets": {},
     "nuid": "8b6159b2-1948-4887-a036-56f3dd6fdefc",
     "showTitle": false,
     "tableResultSettingsMap": {},
     "title": ""
    }
   },
   "source": [
    "##2. หา Segment ของกลุ่มตัวอย่างแต่ละคนก่อนว่าอยู่ Segment ไหน"
   ]
  },
  {
   "cell_type": "code",
   "execution_count": 0,
   "metadata": {
    "application/vnd.databricks.v1+cell": {
     "cellMetadata": {},
     "inputWidgets": {},
     "nuid": "7901f29a-bd98-45a0-944d-6c0b23ea3ef3",
     "showTitle": false,
     "tableResultSettingsMap": {},
     "title": ""
    }
   },
   "outputs": [
    {
     "output_type": "display_data",
     "data": {
      "text/html": [
       "<style scoped>\n",
       "  .ansiout {\n",
       "    display: block;\n",
       "    unicode-bidi: embed;\n",
       "    white-space: pre-wrap;\n",
       "    word-wrap: break-word;\n",
       "    word-break: break-all;\n",
       "    font-family: \"Menlo\", \"Monaco\", \"Consolas\", \"Ubuntu Mono\", \"Source Code Pro\", monospace;\n",
       "    font-size: 13px;\n",
       "    color: #555;\n",
       "    margin-left: 4px;\n",
       "    line-height: 19px;\n",
       "  }\n",
       "</style>\n",
       "<div class=\"ansiout\"></div>"
      ]
     },
     "metadata": {
      "application/vnd.databricks.v1+output": {
       "addedWidgets": {},
       "arguments": {},
       "data": "<div class=\"ansiout\"></div>",
       "datasetInfos": [],
       "metadata": {},
       "removedWidgets": [],
       "type": "html"
      }
     },
     "output_type": "display_data"
    }
   ],
   "source": [
    "profile = spark.sql(''' select  PartitionKey,date(DateOfBirth) from segment ''').toPandas()"
   ]
  },
  {
   "cell_type": "code",
   "execution_count": 0,
   "metadata": {
    "application/vnd.databricks.v1+cell": {
     "cellMetadata": {},
     "inputWidgets": {},
     "nuid": "a9aca498-2d2f-4398-9225-4eb18d8ace07",
     "showTitle": false,
     "tableResultSettingsMap": {},
     "title": ""
    }
   },
   "outputs": [],
   "source": [
    "df_rfa_2_1"
   ]
  },
  {
   "cell_type": "code",
   "execution_count": 0,
   "metadata": {
    "application/vnd.databricks.v1+cell": {
     "cellMetadata": {},
     "inputWidgets": {},
     "nuid": "70653711-9065-47f2-aefc-8a0896a6fbc2",
     "showTitle": false,
     "tableResultSettingsMap": {},
     "title": ""
    }
   },
   "outputs": [
    {
     "output_type": "display_data",
     "data": {
      "text/html": [
       "<style scoped>\n",
       "  .ansiout {\n",
       "    display: block;\n",
       "    unicode-bidi: embed;\n",
       "    white-space: pre-wrap;\n",
       "    word-wrap: break-word;\n",
       "    word-break: break-all;\n",
       "    font-family: \"Menlo\", \"Monaco\", \"Consolas\", \"Ubuntu Mono\", \"Source Code Pro\", monospace;\n",
       "    font-size: 13px;\n",
       "    color: #555;\n",
       "    margin-left: 4px;\n",
       "    line-height: 19px;\n",
       "  }\n",
       "</style>\n",
       "<div class=\"ansiout\"></div>"
      ]
     },
     "metadata": {
      "application/vnd.databricks.v1+output": {
       "addedWidgets": {},
       "arguments": {},
       "data": "<div class=\"ansiout\"></div>",
       "datasetInfos": [],
       "metadata": {},
       "removedWidgets": [],
       "type": "html"
      }
     },
     "output_type": "display_data"
    }
   ],
   "source": [
    "##  Fix Date เพื่อลดการ ฺBias\n",
    "df_get_last = df_rfa_2_1[df_rfa_2_1['SuccessDate_2'] < '2021-01-01']\n",
    "\n",
    "user_last_purchase = df_get_last.groupby(['id']).agg({'SuccessDate_2':max})\\\n",
    "                    .rename(columns={'SuccessDate_2' : 'last_purchase'}).reset_index()\n",
    "user_last_purchase['last_purchase'] = pd.to_datetime(user_last_purchase['last_purchase'])"
   ]
  },
  {
   "cell_type": "code",
   "execution_count": 0,
   "metadata": {
    "application/vnd.databricks.v1+cell": {
     "cellMetadata": {},
     "inputWidgets": {},
     "nuid": "6b856d39-c51d-4acc-ada7-c7dbdc1e95a0",
     "showTitle": false,
     "tableResultSettingsMap": {},
     "title": ""
    }
   },
   "outputs": [
    {
     "output_type": "display_data",
     "data": {
      "text/html": [
       "<style scoped>\n",
       "  .ansiout {\n",
       "    display: block;\n",
       "    unicode-bidi: embed;\n",
       "    white-space: pre-wrap;\n",
       "    word-wrap: break-word;\n",
       "    word-break: break-all;\n",
       "    font-family: \"Menlo\", \"Monaco\", \"Consolas\", \"Ubuntu Mono\", \"Source Code Pro\", monospace;\n",
       "    font-size: 13px;\n",
       "    color: #555;\n",
       "    margin-left: 4px;\n",
       "    line-height: 19px;\n",
       "  }\n",
       "</style>\n",
       "<div class=\"ansiout\">82498\n",
       "86498\n",
       "</div>"
      ]
     },
     "metadata": {
      "application/vnd.databricks.v1+output": {
       "addedWidgets": {},
       "arguments": {},
       "data": "<div class=\"ansiout\">82498\n86498\n</div>",
       "datasetInfos": [],
       "metadata": {},
       "removedWidgets": [],
       "type": "html"
      }
     },
     "output_type": "display_data"
    }
   ],
   "source": [
    "print(len(user_last_purchase['id'].unique()))\n",
    "print(len(df_rfa_2_1['id'].unique()))"
   ]
  },
  {
   "cell_type": "code",
   "execution_count": 0,
   "metadata": {
    "application/vnd.databricks.v1+cell": {
     "cellMetadata": {},
     "inputWidgets": {},
     "nuid": "8adbcdc2-3759-494a-80c5-fc59470dd00e",
     "showTitle": false,
     "tableResultSettingsMap": {},
     "title": ""
    }
   },
   "outputs": [
    {
     "output_type": "display_data",
     "data": {
      "text/html": [
       "<style scoped>\n",
       "  .ansiout {\n",
       "    display: block;\n",
       "    unicode-bidi: embed;\n",
       "    white-space: pre-wrap;\n",
       "    word-wrap: break-word;\n",
       "    word-break: break-all;\n",
       "    font-family: \"Menlo\", \"Monaco\", \"Consolas\", \"Ubuntu Mono\", \"Source Code Pro\", monospace;\n",
       "    font-size: 13px;\n",
       "    color: #555;\n",
       "    margin-left: 4px;\n",
       "    line-height: 19px;\n",
       "  }\n",
       "</style>\n",
       "<div class=\"ansiout\"></div>"
      ]
     },
     "metadata": {
      "application/vnd.databricks.v1+output": {
       "addedWidgets": {},
       "arguments": {},
       "data": "<div class=\"ansiout\"></div>",
       "datasetInfos": [],
       "metadata": {},
       "removedWidgets": [],
       "type": "html"
      }
     },
     "output_type": "display_data"
    }
   ],
   "source": [
    "user_segment = user_last_purchase.merge(profile,\n",
    "                                       on='id',how='left')\n",
    "user_segment['DateOfBirth'] = pd.to_datetime(user_segment['DateOfBirth'] , errors='coerce')\n",
    "user_segment['ChildStage_2'] = (user_segment['last_purchase'] - user_segment['DateOfBirth']).dt.days *  (12.0/365.25)"
   ]
  },
  {
   "cell_type": "code",
   "execution_count": 0,
   "metadata": {
    "application/vnd.databricks.v1+cell": {
     "cellMetadata": {},
     "inputWidgets": {},
     "nuid": "3da75e2c-6a3f-4803-b085-0dd9edc6b93e",
     "showTitle": false,
     "tableResultSettingsMap": {},
     "title": ""
    }
   },
   "outputs": [
    {
     "output_type": "display_data",
     "data": {
      "text/html": [
       "<style scoped>\n",
       "  .ansiout {\n",
       "    display: block;\n",
       "    unicode-bidi: embed;\n",
       "    white-space: pre-wrap;\n",
       "    word-wrap: break-word;\n",
       "    word-break: break-all;\n",
       "    font-family: \"Menlo\", \"Monaco\", \"Consolas\", \"Ubuntu Mono\", \"Source Code Pro\", monospace;\n",
       "    font-size: 13px;\n",
       "    color: #555;\n",
       "    margin-left: 4px;\n",
       "    line-height: 19px;\n",
       "  }\n",
       "</style>\n",
       "<div class=\"ansiout\"></div>"
      ]
     },
     "metadata": {
      "application/vnd.databricks.v1+output": {
       "addedWidgets": {},
       "arguments": {},
       "data": "<div class=\"ansiout\"></div>",
       "datasetInfos": [],
       "metadata": {},
       "removedWidgets": [],
       "type": "html"
      }
     },
     "output_type": "display_data"
    }
   ],
   "source": [
    "def child_stage(data):\n",
    "  if data[\"ChildStage_2\"] < 0:\n",
    "    return \"Pregnant\"\n",
    "  if data[\"ChildStage_2\"] <= 6:\n",
    "    return \"0-6 month\"\n",
    "  if data[\"ChildStage_2\"] <= 12:\n",
    "    return \"7-12 month\"\n",
    "  if data[\"ChildStage_2\"] <= 36:\n",
    "    return \"1-3 year\"\n",
    "  if data[\"ChildStage_2\"] <= 72:\n",
    "    return \"3-6 year\"\n",
    "  if data[\"ChildStage_2\"] > 72:\n",
    "    return \"6 year ++\"\n",
    "  else:\n",
    "    return \"None\""
   ]
  },
  {
   "cell_type": "code",
   "execution_count": 0,
   "metadata": {
    "application/vnd.databricks.v1+cell": {
     "cellMetadata": {},
     "inputWidgets": {},
     "nuid": "aadd9af5-3676-4ef8-8741-1d6bef194ba9",
     "showTitle": false,
     "tableResultSettingsMap": {},
     "title": ""
    }
   },
   "outputs": [
    {
     "output_type": "display_data",
     "data": {
      "text/html": [
       "<style scoped>\n",
       "  .ansiout {\n",
       "    display: block;\n",
       "    unicode-bidi: embed;\n",
       "    white-space: pre-wrap;\n",
       "    word-wrap: break-word;\n",
       "    word-break: break-all;\n",
       "    font-family: \"Menlo\", \"Monaco\", \"Consolas\", \"Ubuntu Mono\", \"Source Code Pro\", monospace;\n",
       "    font-size: 13px;\n",
       "    color: #555;\n",
       "    margin-left: 4px;\n",
       "    line-height: 19px;\n",
       "  }\n",
       "</style>\n",
       "<div class=\"ansiout\"></div>"
      ]
     },
     "metadata": {
      "application/vnd.databricks.v1+output": {
       "addedWidgets": {},
       "arguments": {},
       "data": "<div class=\"ansiout\"></div>",
       "datasetInfos": [],
       "metadata": {},
       "removedWidgets": [],
       "type": "html"
      }
     },
     "output_type": "display_data"
    }
   ],
   "source": [
    "## Create Columns Tier Stage User\n",
    "user_segment = user_segment.assign(ChildStage=user_segment.apply(child_stage, axis=1))"
   ]
  },
  {
   "cell_type": "code",
   "execution_count": 0,
   "metadata": {
    "application/vnd.databricks.v1+cell": {
     "cellMetadata": {},
     "inputWidgets": {},
     "nuid": "d1351831-9370-4ed9-b12b-e99138416aba",
     "showTitle": false,
     "tableResultSettingsMap": {},
     "title": ""
    }
   },
   "outputs": [
    {
     "output_type": "display_data",
     "data": {
      "text/html": [
       "<style scoped>\n",
       "  .ansiout {\n",
       "    display: block;\n",
       "    unicode-bidi: embed;\n",
       "    white-space: pre-wrap;\n",
       "    word-wrap: break-word;\n",
       "    word-break: break-all;\n",
       "    font-family: \"Menlo\", \"Monaco\", \"Consolas\", \"Ubuntu Mono\", \"Source Code Pro\", monospace;\n",
       "    font-size: 13px;\n",
       "    color: #555;\n",
       "    margin-left: 4px;\n",
       "    line-height: 19px;\n",
       "  }\n",
       "</style>\n",
       "<div class=\"ansiout\">86498\n",
       "82498\n",
       "</div>"
      ]
     },
     "metadata": {
      "application/vnd.databricks.v1+output": {
       "addedWidgets": {},
       "arguments": {},
       "data": "<div class=\"ansiout\">86498\n82498\n</div>",
       "datasetInfos": [],
       "metadata": {},
       "removedWidgets": [],
       "type": "html"
      }
     },
     "output_type": "display_data"
    }
   ],
   "source": [
    "print(len(df_rfa_2_1['id'].unique()))\n",
    "print(len(user_segment['id'].unique()))"
   ]
  },
  {
   "cell_type": "code",
   "execution_count": 0,
   "metadata": {
    "application/vnd.databricks.v1+cell": {
     "cellMetadata": {},
     "inputWidgets": {},
     "nuid": "cb5c9c5e-e3e2-4c18-8275-3b7b548d0d12",
     "showTitle": false,
     "tableResultSettingsMap": {},
     "title": ""
    }
   },
   "outputs": [
    {
     "output_type": "display_data",
     "data": {
      "text/html": [
       "<style scoped>\n",
       "  .ansiout {\n",
       "    display: block;\n",
       "    unicode-bidi: embed;\n",
       "    white-space: pre-wrap;\n",
       "    word-wrap: break-word;\n",
       "    word-break: break-all;\n",
       "    font-family: \"Menlo\", \"Monaco\", \"Consolas\", \"Ubuntu Mono\", \"Source Code Pro\", monospace;\n",
       "    font-size: 13px;\n",
       "    color: #555;\n",
       "    margin-left: 4px;\n",
       "    line-height: 19px;\n",
       "  }\n",
       "</style>\n",
       "<div class=\"ansiout\"></div>"
      ]
     },
     "metadata": {
      "application/vnd.databricks.v1+output": {
       "addedWidgets": {},
       "arguments": {},
       "data": "<div class=\"ansiout\"></div>",
       "datasetInfos": [],
       "metadata": {},
       "removedWidgets": [],
       "type": "html"
      }
     },
     "output_type": "display_data"
    }
   ],
   "source": [
    "df_rfa_2_prep = df_rfa_2_1.merge(user_segment,on='id',how='left')"
   ]
  },
  {
   "cell_type": "code",
   "execution_count": 0,
   "metadata": {
    "application/vnd.databricks.v1+cell": {
     "cellMetadata": {},
     "inputWidgets": {},
     "nuid": "470f26bc-3a31-4dc0-b74d-eec6fe414b67",
     "showTitle": false,
     "tableResultSettingsMap": {},
     "title": ""
    }
   },
   "outputs": [
    {
     "output_type": "display_data",
     "data": {
      "text/html": [
       "<style scoped>\n",
       "  .ansiout {\n",
       "    display: block;\n",
       "    unicode-bidi: embed;\n",
       "    white-space: pre-wrap;\n",
       "    word-wrap: break-word;\n",
       "    word-break: break-all;\n",
       "    font-family: \"Menlo\", \"Monaco\", \"Consolas\", \"Ubuntu Mono\", \"Source Code Pro\", monospace;\n",
       "    font-size: 13px;\n",
       "    color: #555;\n",
       "    margin-left: 4px;\n",
       "    line-height: 19px;\n",
       "  }\n",
       "</style>\n",
       "<div class=\"ansiout\">Out[29]: &#39;2021-03-22&#39;</div>"
      ]
     },
     "metadata": {
      "application/vnd.databricks.v1+output": {
       "addedWidgets": {},
       "arguments": {},
       "data": "<div class=\"ansiout\">Out[29]: &#39;2021-03-22&#39;</div>",
       "datasetInfos": [],
       "metadata": {},
       "removedWidgets": [],
       "type": "html"
      }
     },
     "output_type": "display_data"
    }
   ],
   "source": [
    "df_rfa_2_prep['SuccessDate_2'].max()"
   ]
  },
  {
   "cell_type": "markdown",
   "metadata": {
    "application/vnd.databricks.v1+cell": {
     "cellMetadata": {},
     "inputWidgets": {},
     "nuid": "060a1af0-6c49-429a-9989-8acee283442c",
     "showTitle": false,
     "tableResultSettingsMap": {},
     "title": ""
    }
   },
   "source": [
    "#3. Filter out User Group 1-3 Year\n"
   ]
  },
  {
   "cell_type": "code",
   "execution_count": 0,
   "metadata": {
    "application/vnd.databricks.v1+cell": {
     "cellMetadata": {},
     "inputWidgets": {},
     "nuid": "6b266ece-0318-42f1-928e-5b1d2f56b82f",
     "showTitle": false,
     "tableResultSettingsMap": {},
     "title": ""
    }
   },
   "outputs": [],
   "source": [
    "pd.crosstab(df_rfa_2_prep['ChildStage'],'H')"
   ]
  },
  {
   "cell_type": "code",
   "execution_count": 0,
   "metadata": {
    "application/vnd.databricks.v1+cell": {
     "cellMetadata": {},
     "inputWidgets": {},
     "nuid": "5b98e7ea-76c0-4e47-ae59-bfd5d252a29c",
     "showTitle": false,
     "tableResultSettingsMap": {},
     "title": ""
    }
   },
   "outputs": [
    {
     "output_type": "display_data",
     "data": {
      "text/html": [
       "<style scoped>\n",
       "  .ansiout {\n",
       "    display: block;\n",
       "    unicode-bidi: embed;\n",
       "    white-space: pre-wrap;\n",
       "    word-wrap: break-word;\n",
       "    word-break: break-all;\n",
       "    font-family: \"Menlo\", \"Monaco\", \"Consolas\", \"Ubuntu Mono\", \"Source Code Pro\", monospace;\n",
       "    font-size: 13px;\n",
       "    color: #555;\n",
       "    margin-left: 4px;\n",
       "    line-height: 19px;\n",
       "  }\n",
       "</style>\n",
       "<div class=\"ansiout\"></div>"
      ]
     },
     "metadata": {
      "application/vnd.databricks.v1+output": {
       "addedWidgets": {},
       "arguments": {},
       "data": "<div class=\"ansiout\"></div>",
       "datasetInfos": [],
       "metadata": {},
       "removedWidgets": [],
       "type": "html"
      }
     },
     "output_type": "display_data"
    }
   ],
   "source": [
    "df_rfa_2_prep_1 = df_rfa_2_prep[df_rfa_2_prep['ChildStage'].isin(['1-3 year'])]\n",
    "#df_rfa_2_prep_1 = df_rfa_2_prep[df_rfa_2_prep['ChildStage'].isin(['0-6 month','7-12 month','1-3 year'])]"
   ]
  },
  {
   "cell_type": "code",
   "execution_count": 0,
   "metadata": {
    "application/vnd.databricks.v1+cell": {
     "cellMetadata": {},
     "inputWidgets": {},
     "nuid": "02134b58-031b-453d-bd5d-9f265fa7f073",
     "showTitle": false,
     "tableResultSettingsMap": {},
     "title": ""
    }
   },
   "outputs": [],
   "source": [
    "df_rfa_2_prep_1.head()"
   ]
  },
  {
   "cell_type": "code",
   "execution_count": 0,
   "metadata": {
    "application/vnd.databricks.v1+cell": {
     "cellMetadata": {},
     "inputWidgets": {},
     "nuid": "2323ce9f-8ca8-456b-8bbd-fc527343f869",
     "showTitle": false,
     "tableResultSettingsMap": {},
     "title": ""
    }
   },
   "outputs": [],
   "source": [
    "df_rfa_2_prep_1.isnull().any()"
   ]
  },
  {
   "cell_type": "markdown",
   "metadata": {
    "application/vnd.databricks.v1+cell": {
     "cellMetadata": {},
     "inputWidgets": {},
     "nuid": "b315325c-6c7b-4d4a-838e-b2f34e7f4d2b",
     "showTitle": false,
     "tableResultSettingsMap": {},
     "title": ""
    }
   },
   "source": [
    "##3.1 Maping เพื่อดูว่า Consumtion เท่าไร"
   ]
  },
  {
   "cell_type": "code",
   "execution_count": 0,
   "metadata": {
    "application/vnd.databricks.v1+cell": {
     "cellMetadata": {},
     "inputWidgets": {},
     "nuid": "dc174655-8bf2-48c2-aad1-3ae96e8cd64b",
     "showTitle": false,
     "tableResultSettingsMap": {},
     "title": ""
    }
   },
   "outputs": [
    {
     "output_type": "display_data",
     "data": {
      "text/html": [
       "<style scoped>\n",
       "  .ansiout {\n",
       "    display: block;\n",
       "    unicode-bidi: embed;\n",
       "    white-space: pre-wrap;\n",
       "    word-wrap: break-word;\n",
       "    word-break: break-all;\n",
       "    font-family: \"Menlo\", \"Monaco\", \"Consolas\", \"Ubuntu Mono\", \"Source Code Pro\", monospace;\n",
       "    font-size: 13px;\n",
       "    color: #555;\n",
       "    margin-left: 4px;\n",
       "    line-height: 19px;\n",
       "  }\n",
       "</style>\n",
       "<div class=\"ansiout\"></div>"
      ]
     },
     "metadata": {
      "application/vnd.databricks.v1+output": {
       "addedWidgets": {},
       "arguments": {},
       "data": "<div class=\"ansiout\"></div>",
       "datasetInfos": [],
       "metadata": {},
       "removedWidgets": [],
       "type": "html"
      }
     },
     "output_type": "display_data"
    }
   ],
   "source": [
    "df_lapse = autolaps[['id','refid','productname','successdate','consumptiondays','repurchase_alrt']]"
   ]
  },
  {
   "cell_type": "code",
   "execution_count": 0,
   "metadata": {
    "application/vnd.databricks.v1+cell": {
     "cellMetadata": {},
     "inputWidgets": {},
     "nuid": "b9a42169-4521-4c41-b9d1-376952cec11f",
     "showTitle": false,
     "tableResultSettingsMap": {},
     "title": ""
    }
   },
   "outputs": [
    {
     "output_type": "display_data",
     "data": {
      "text/html": [
       "<style scoped>\n",
       "  .ansiout {\n",
       "    display: block;\n",
       "    unicode-bidi: embed;\n",
       "    white-space: pre-wrap;\n",
       "    word-wrap: break-word;\n",
       "    word-break: break-all;\n",
       "    font-family: \"Menlo\", \"Monaco\", \"Consolas\", \"Ubuntu Mono\", \"Source Code Pro\", monospace;\n",
       "    font-size: 13px;\n",
       "    color: #555;\n",
       "    margin-left: 4px;\n",
       "    line-height: 19px;\n",
       "  }\n",
       "</style>\n",
       "<div class=\"ansiout\">Out[35]: array([13, 53, 40, 26])</div>"
      ]
     },
     "metadata": {
      "application/vnd.databricks.v1+output": {
       "addedWidgets": {},
       "arguments": {},
       "data": "<div class=\"ansiout\">Out[35]: array([13, 53, 40, 26])</div>",
       "datasetInfos": [],
       "metadata": {},
       "removedWidgets": [],
       "type": "html"
      }
     },
     "output_type": "display_data"
    }
   ],
   "source": [
    "autolaps[autolaps['productname'].str.contains('1,600')]['consumptiondays'].unique()"
   ]
  },
  {
   "cell_type": "code",
   "execution_count": 0,
   "metadata": {
    "application/vnd.databricks.v1+cell": {
     "cellMetadata": {},
     "inputWidgets": {},
     "nuid": "c294efc4-0e02-4e5d-a45b-80421537777f",
     "showTitle": false,
     "tableResultSettingsMap": {},
     "title": ""
    }
   },
   "outputs": [
    {
     "output_type": "display_data",
     "data": {
      "text/html": [
       "<style scoped>\n",
       "  .ansiout {\n",
       "    display: block;\n",
       "    unicode-bidi: embed;\n",
       "    white-space: pre-wrap;\n",
       "    word-wrap: break-word;\n",
       "    word-break: break-all;\n",
       "    font-family: \"Menlo\", \"Monaco\", \"Consolas\", \"Ubuntu Mono\", \"Source Code Pro\", monospace;\n",
       "    font-size: 13px;\n",
       "    color: #555;\n",
       "    margin-left: 4px;\n",
       "    line-height: 19px;\n",
       "  }\n",
       "</style>\n",
       "<div class=\"ansiout\"></div>"
      ]
     },
     "metadata": {
      "application/vnd.databricks.v1+output": {
       "addedWidgets": {},
       "arguments": {},
       "data": "<div class=\"ansiout\"></div>",
       "datasetInfos": [],
       "metadata": {},
       "removedWidgets": [],
       "type": "html"
      }
     },
     "output_type": "display_data"
    }
   ],
   "source": [
    "df_lapse_1 = df_lapse[['id','campaignid','SuccessDate','consumptiondays']]"
   ]
  },
  {
   "cell_type": "code",
   "execution_count": 0,
   "metadata": {
    "application/vnd.databricks.v1+cell": {
     "cellMetadata": {},
     "inputWidgets": {},
     "nuid": "91d1ac07-3f2d-4735-b123-08d4b7c34bb1",
     "showTitle": false,
     "tableResultSettingsMap": {},
     "title": ""
    }
   },
   "outputs": [
    {
     "output_type": "display_data",
     "data": {
      "text/html": [
       "<style scoped>\n",
       "  .ansiout {\n",
       "    display: block;\n",
       "    unicode-bidi: embed;\n",
       "    white-space: pre-wrap;\n",
       "    word-wrap: break-word;\n",
       "    word-break: break-all;\n",
       "    font-family: \"Menlo\", \"Monaco\", \"Consolas\", \"Ubuntu Mono\", \"Source Code Pro\", monospace;\n",
       "    font-size: 13px;\n",
       "    color: #555;\n",
       "    margin-left: 4px;\n",
       "    line-height: 19px;\n",
       "  }\n",
       "</style>\n",
       "<div class=\"ansiout\"></div>"
      ]
     },
     "metadata": {
      "application/vnd.databricks.v1+output": {
       "addedWidgets": {},
       "arguments": {},
       "data": "<div class=\"ansiout\"></div>",
       "datasetInfos": [],
       "metadata": {},
       "removedWidgets": [],
       "type": "html"
      }
     },
     "output_type": "display_data"
    }
   ],
   "source": [
    "df_rfa_2_prep_2 = df_rfa_2_prep_1.merge(df_lapse_1,on=['id','SuccessDate'],how='left')"
   ]
  },
  {
   "cell_type": "code",
   "execution_count": 0,
   "metadata": {
    "application/vnd.databricks.v1+cell": {
     "cellMetadata": {},
     "inputWidgets": {},
     "nuid": "c8d78924-d723-4645-b1ba-5577a1906c37",
     "showTitle": false,
     "tableResultSettingsMap": {},
     "title": ""
    }
   },
   "outputs": [
    {
     "output_type": "display_data",
     "data": {
      "text/html": [
       "<style scoped>\n",
       "  .ansiout {\n",
       "    display: block;\n",
       "    unicode-bidi: embed;\n",
       "    white-space: pre-wrap;\n",
       "    word-wrap: break-word;\n",
       "    word-break: break-all;\n",
       "    font-family: \"Menlo\", \"Monaco\", \"Consolas\", \"Ubuntu Mono\", \"Source Code Pro\", monospace;\n",
       "    font-size: 13px;\n",
       "    color: #555;\n",
       "    margin-left: 4px;\n",
       "    line-height: 19px;\n",
       "  }\n",
       "</style>\n",
       "<div class=\"ansiout\"></div>"
      ]
     },
     "metadata": {
      "application/vnd.databricks.v1+output": {
       "addedWidgets": {},
       "arguments": {},
       "data": "<div class=\"ansiout\"></div>",
       "datasetInfos": [],
       "metadata": {},
       "removedWidgets": [],
       "type": "html"
      }
     },
     "output_type": "display_data"
    }
   ],
   "source": [
    "df_rfa_2_prep_2['consumptiondays'] = df_rfa_2_prep_2['consumptiondays'].fillna(13)"
   ]
  },
  {
   "cell_type": "code",
   "execution_count": 0,
   "metadata": {
    "application/vnd.databricks.v1+cell": {
     "cellMetadata": {},
     "inputWidgets": {},
     "nuid": "ceb6da3e-9e04-442c-a09a-2931021e77e1",
     "showTitle": false,
     "tableResultSettingsMap": {},
     "title": ""
    }
   },
   "outputs": [
    {
     "output_type": "display_data",
     "data": {
      "text/html": [
       "<style scoped>\n",
       "  .ansiout {\n",
       "    display: block;\n",
       "    unicode-bidi: embed;\n",
       "    white-space: pre-wrap;\n",
       "    word-wrap: break-word;\n",
       "    word-break: break-all;\n",
       "    font-family: \"Menlo\", \"Monaco\", \"Consolas\", \"Ubuntu Mono\", \"Source Code Pro\", monospace;\n",
       "    font-size: 13px;\n",
       "    color: #555;\n",
       "    margin-left: 4px;\n",
       "    line-height: 19px;\n",
       "  }\n",
       "</style>\n",
       "<div class=\"ansiout\"></div>"
      ]
     },
     "metadata": {
      "application/vnd.databricks.v1+output": {
       "addedWidgets": {},
       "arguments": {},
       "data": "<div class=\"ansiout\"></div>",
       "datasetInfos": [],
       "metadata": {},
       "removedWidgets": [],
       "type": "html"
      }
     },
     "output_type": "display_data"
    }
   ],
   "source": [
    "## Filter Out Consumtion น้อยกว่า 60 วัน\n",
    "\n",
    "df_rfa_2_prep_3 = df_rfa_2_prep_2[df_rfa_2_prep_2['consumptiondays'] <= 60]"
   ]
  },
  {
   "cell_type": "markdown",
   "metadata": {
    "application/vnd.databricks.v1+cell": {
     "cellMetadata": {},
     "inputWidgets": {},
     "nuid": "9a10e83a-04a1-4dff-8878-f9eda7d2349c",
     "showTitle": false,
     "tableResultSettingsMap": {},
     "title": ""
    }
   },
   "source": [
    "#3. Calculate Customer Metrics Using RFA\n",
    "- **Recency**: The number of days since the customer's most recent purchase.  \n",
    "  Example: If the first purchase date is 2021-03-01 and the next purchase is on 2021-03-05, the customer has a **Recency** of 4 days.  \n",
    "- **Frequency**: The total number of days on which the customer made a purchase, from the first purchase to the last purchase. Each purchase day is counted as 1.  \n",
    "  Example: If a customer made purchases on 4 separate days, the **Frequency** is 4.\n",
    "\n",
    "- **Age (T)**: The number of days from the customer's first purchase to the end date of the dataset (day-1).  \n",
    "  Example: If the first purchase was on 2018-09-16 and the dataset ends on 2021-03-09, the **Age (T)** is 905 days."
   ]
  },
  {
   "cell_type": "code",
   "execution_count": 0,
   "metadata": {
    "application/vnd.databricks.v1+cell": {
     "cellMetadata": {},
     "inputWidgets": {},
     "nuid": "172f8c33-3fb2-40f6-9a20-a2bdf16101ef",
     "showTitle": false,
     "tableResultSettingsMap": {},
     "title": ""
    }
   },
   "outputs": [
    {
     "output_type": "display_data",
     "data": {
      "text/html": [
       "<style scoped>\n",
       "  .ansiout {\n",
       "    display: block;\n",
       "    unicode-bidi: embed;\n",
       "    white-space: pre-wrap;\n",
       "    word-wrap: break-word;\n",
       "    word-break: break-all;\n",
       "    font-family: \"Menlo\", \"Monaco\", \"Consolas\", \"Ubuntu Mono\", \"Source Code Pro\", monospace;\n",
       "    font-size: 13px;\n",
       "    color: #555;\n",
       "    margin-left: 4px;\n",
       "    line-height: 19px;\n",
       "  }\n",
       "</style>\n",
       "<div class=\"ansiout\">2021-01-01\n",
       "</div>"
      ]
     },
     "metadata": {
      "application/vnd.databricks.v1+output": {
       "addedWidgets": {},
       "arguments": {},
       "data": "<div class=\"ansiout\">2021-01-01\n</div>",
       "datasetInfos": [],
       "metadata": {},
       "removedWidgets": [],
       "type": "html"
      }
     },
     "output_type": "display_data"
    }
   ],
   "source": [
    "#current_date = df_rfa_2['SuccessDate'].max()  \n",
    "current_date = '2021-01-01'\n",
    "print(current_date)\n",
    "\n",
    "df_summarize_rfa = (\n",
    "  lifetimes.utils.summary_data_from_transaction_data(\n",
    "    df_rfa_2_prep_3,\n",
    "    customer_id_col='id',\n",
    "    datetime_col='SuccessDate',\n",
    "    observation_period_end = current_date, \n",
    "    freq='D'\n",
    "    )\n",
    "  ).reset_index()"
   ]
  },
  {
   "cell_type": "code",
   "execution_count": 0,
   "metadata": {
    "application/vnd.databricks.v1+cell": {
     "cellMetadata": {},
     "inputWidgets": {},
     "nuid": "23930e9b-9929-468d-b5e0-c3fc0567b54c",
     "showTitle": false,
     "tableResultSettingsMap": {},
     "title": ""
    }
   },
   "outputs": [],
   "source": [
    "df_summarize_rfa"
   ]
  },
  {
   "cell_type": "code",
   "execution_count": 0,
   "metadata": {
    "application/vnd.databricks.v1+cell": {
     "cellMetadata": {},
     "inputWidgets": {},
     "nuid": "a300d10e-9a3c-4068-af15-ff0e678f31e2",
     "showTitle": false,
     "tableResultSettingsMap": {},
     "title": ""
    }
   },
   "outputs": [
    {
     "output_type": "display_data",
     "data": {
      "text/html": [
       "<style scoped>\n",
       "  .ansiout {\n",
       "    display: block;\n",
       "    unicode-bidi: embed;\n",
       "    white-space: pre-wrap;\n",
       "    word-wrap: break-word;\n",
       "    word-break: break-all;\n",
       "    font-family: \"Menlo\", \"Monaco\", \"Consolas\", \"Ubuntu Mono\", \"Source Code Pro\", monospace;\n",
       "    font-size: 13px;\n",
       "    color: #555;\n",
       "    margin-left: 4px;\n",
       "    line-height: 19px;\n",
       "  }\n",
       "</style>\n",
       "<div class=\"ansiout\">Out[46]: </div>"
      ]
     },
     "metadata": {
      "application/vnd.databricks.v1+output": {
       "addedWidgets": {},
       "arguments": {},
       "data": "<div class=\"ansiout\">Out[46]: </div>",
       "datasetInfos": [],
       "metadata": {},
       "removedWidgets": [],
       "type": "html"
      }
     },
     "output_type": "display_data"
    },
    {
     "output_type": "display_data",
     "data": {
      "text/html": [
       "<div>\n",
       "<style scoped>\n",
       "    .dataframe tbody tr th:only-of-type {\n",
       "        vertical-align: middle;\n",
       "    }\n",
       "\n",
       "    .dataframe tbody tr th {\n",
       "        vertical-align: top;\n",
       "    }\n",
       "\n",
       "    .dataframe thead th {\n",
       "        text-align: right;\n",
       "    }\n",
       "</style>\n",
       "<table border=\"1\" class=\"dataframe\">\n",
       "  <thead>\n",
       "    <tr style=\"text-align: right;\">\n",
       "      <th></th>\n",
       "      <th>frequency</th>\n",
       "      <th>recency</th>\n",
       "      <th>T</th>\n",
       "    </tr>\n",
       "  </thead>\n",
       "  <tbody>\n",
       "    <tr>\n",
       "      <th>count</th>\n",
       "      <td>52559.000000</td>\n",
       "      <td>52559.000000</td>\n",
       "      <td>52559.000000</td>\n",
       "    </tr>\n",
       "    <tr>\n",
       "      <th>mean</th>\n",
       "      <td>9.020643</td>\n",
       "      <td>159.511920</td>\n",
       "      <td>553.659430</td>\n",
       "    </tr>\n",
       "    <tr>\n",
       "      <th>std</th>\n",
       "      <td>13.653729</td>\n",
       "      <td>185.859989</td>\n",
       "      <td>265.372906</td>\n",
       "    </tr>\n",
       "    <tr>\n",
       "      <th>min</th>\n",
       "      <td>0.000000</td>\n",
       "      <td>0.000000</td>\n",
       "      <td>1.000000</td>\n",
       "    </tr>\n",
       "    <tr>\n",
       "      <th>25%</th>\n",
       "      <td>1.000000</td>\n",
       "      <td>11.000000</td>\n",
       "      <td>332.000000</td>\n",
       "    </tr>\n",
       "    <tr>\n",
       "      <th>50%</th>\n",
       "      <td>4.000000</td>\n",
       "      <td>89.000000</td>\n",
       "      <td>595.000000</td>\n",
       "    </tr>\n",
       "    <tr>\n",
       "      <th>75%</th>\n",
       "      <td>12.000000</td>\n",
       "      <td>246.000000</td>\n",
       "      <td>787.000000</td>\n",
       "    </tr>\n",
       "    <tr>\n",
       "      <th>max</th>\n",
       "      <td>242.000000</td>\n",
       "      <td>963.000000</td>\n",
       "      <td>969.000000</td>\n",
       "    </tr>\n",
       "  </tbody>\n",
       "</table>\n",
       "</div>"
      ]
     },
     "metadata": {
      "application/vnd.databricks.v1+output": {
       "addedWidgets": {},
       "arguments": {},
       "data": "<div>\n<style scoped>\n    .dataframe tbody tr th:only-of-type {\n        vertical-align: middle;\n    }\n\n    .dataframe tbody tr th {\n        vertical-align: top;\n    }\n\n    .dataframe thead th {\n        text-align: right;\n    }\n</style>\n<table border=\"1\" class=\"dataframe\">\n  <thead>\n    <tr style=\"text-align: right;\">\n      <th></th>\n      <th>frequency</th>\n      <th>recency</th>\n      <th>T</th>\n    </tr>\n  </thead>\n  <tbody>\n    <tr>\n      <th>count</th>\n      <td>52559.000000</td>\n      <td>52559.000000</td>\n      <td>52559.000000</td>\n    </tr>\n    <tr>\n      <th>mean</th>\n      <td>9.020643</td>\n      <td>159.511920</td>\n      <td>553.659430</td>\n    </tr>\n    <tr>\n      <th>std</th>\n      <td>13.653729</td>\n      <td>185.859989</td>\n      <td>265.372906</td>\n    </tr>\n    <tr>\n      <th>min</th>\n      <td>0.000000</td>\n      <td>0.000000</td>\n      <td>1.000000</td>\n    </tr>\n    <tr>\n      <th>25%</th>\n      <td>1.000000</td>\n      <td>11.000000</td>\n      <td>332.000000</td>\n    </tr>\n    <tr>\n      <th>50%</th>\n      <td>4.000000</td>\n      <td>89.000000</td>\n      <td>595.000000</td>\n    </tr>\n    <tr>\n      <th>75%</th>\n      <td>12.000000</td>\n      <td>246.000000</td>\n      <td>787.000000</td>\n    </tr>\n    <tr>\n      <th>max</th>\n      <td>242.000000</td>\n      <td>963.000000</td>\n      <td>969.000000</td>\n    </tr>\n  </tbody>\n</table>\n</div>",
       "datasetInfos": [],
       "metadata": {},
       "removedWidgets": [],
       "textData": null,
       "type": "htmlSandbox"
      }
     },
     "output_type": "display_data"
    }
   ],
   "source": [
    "df_summarize_rfa.describe()"
   ]
  },
  {
   "cell_type": "code",
   "execution_count": 0,
   "metadata": {
    "application/vnd.databricks.v1+cell": {
     "cellMetadata": {},
     "inputWidgets": {},
     "nuid": "8a414dc9-c365-4e9f-ae9b-901aa9b3d583",
     "showTitle": false,
     "tableResultSettingsMap": {},
     "title": ""
    }
   },
   "outputs": [
    {
     "output_type": "display_data",
     "data": {
      "text/html": [
       "<style scoped>\n",
       "  .ansiout {\n",
       "    display: block;\n",
       "    unicode-bidi: embed;\n",
       "    white-space: pre-wrap;\n",
       "    word-wrap: break-word;\n",
       "    word-break: break-all;\n",
       "    font-family: \"Menlo\", \"Monaco\", \"Consolas\", \"Ubuntu Mono\", \"Source Code Pro\", monospace;\n",
       "    font-size: 13px;\n",
       "    color: #555;\n",
       "    margin-left: 4px;\n",
       "    line-height: 19px;\n",
       "  }\n",
       "</style>\n",
       "<div class=\"ansiout\">Out[47]: </div>"
      ]
     },
     "metadata": {
      "application/vnd.databricks.v1+output": {
       "addedWidgets": {},
       "arguments": {},
       "data": "<div class=\"ansiout\">Out[47]: </div>",
       "datasetInfos": [],
       "metadata": {},
       "removedWidgets": [],
       "type": "html"
      }
     },
     "output_type": "display_data"
    },
    {
     "output_type": "display_data",
     "data": {
      "text/html": [
       "<div>\n",
       "<style scoped>\n",
       "    .dataframe tbody tr th:only-of-type {\n",
       "        vertical-align: middle;\n",
       "    }\n",
       "\n",
       "    .dataframe tbody tr th {\n",
       "        vertical-align: top;\n",
       "    }\n",
       "\n",
       "    .dataframe thead th {\n",
       "        text-align: right;\n",
       "    }\n",
       "</style>\n",
       "<table border=\"1\" class=\"dataframe\">\n",
       "  <thead>\n",
       "    <tr style=\"text-align: right;\">\n",
       "      <th></th>\n",
       "      <th>frequency</th>\n",
       "      <th>recency</th>\n",
       "      <th>T</th>\n",
       "    </tr>\n",
       "  </thead>\n",
       "  <tbody>\n",
       "    <tr>\n",
       "      <th>0.10</th>\n",
       "      <td>0.0</td>\n",
       "      <td>0.0</td>\n",
       "      <td>161.0</td>\n",
       "    </tr>\n",
       "    <tr>\n",
       "      <th>0.25</th>\n",
       "      <td>1.0</td>\n",
       "      <td>11.0</td>\n",
       "      <td>332.0</td>\n",
       "    </tr>\n",
       "    <tr>\n",
       "      <th>0.50</th>\n",
       "      <td>4.0</td>\n",
       "      <td>89.0</td>\n",
       "      <td>595.0</td>\n",
       "    </tr>\n",
       "    <tr>\n",
       "      <th>0.55</th>\n",
       "      <td>5.0</td>\n",
       "      <td>113.0</td>\n",
       "      <td>636.0</td>\n",
       "    </tr>\n",
       "    <tr>\n",
       "      <th>0.60</th>\n",
       "      <td>6.0</td>\n",
       "      <td>140.0</td>\n",
       "      <td>671.0</td>\n",
       "    </tr>\n",
       "    <tr>\n",
       "      <th>0.65</th>\n",
       "      <td>8.0</td>\n",
       "      <td>171.0</td>\n",
       "      <td>707.0</td>\n",
       "    </tr>\n",
       "    <tr>\n",
       "      <th>0.70</th>\n",
       "      <td>10.0</td>\n",
       "      <td>207.0</td>\n",
       "      <td>751.0</td>\n",
       "    </tr>\n",
       "    <tr>\n",
       "      <th>0.75</th>\n",
       "      <td>12.0</td>\n",
       "      <td>246.0</td>\n",
       "      <td>787.0</td>\n",
       "    </tr>\n",
       "    <tr>\n",
       "      <th>0.80</th>\n",
       "      <td>14.0</td>\n",
       "      <td>295.0</td>\n",
       "      <td>820.0</td>\n",
       "    </tr>\n",
       "    <tr>\n",
       "      <th>0.85</th>\n",
       "      <td>18.0</td>\n",
       "      <td>357.0</td>\n",
       "      <td>853.0</td>\n",
       "    </tr>\n",
       "    <tr>\n",
       "      <th>0.90</th>\n",
       "      <td>24.0</td>\n",
       "      <td>436.0</td>\n",
       "      <td>885.0</td>\n",
       "    </tr>\n",
       "    <tr>\n",
       "      <th>0.95</th>\n",
       "      <td>34.0</td>\n",
       "      <td>554.0</td>\n",
       "      <td>915.0</td>\n",
       "    </tr>\n",
       "    <tr>\n",
       "      <th>0.98</th>\n",
       "      <td>51.0</td>\n",
       "      <td>678.0</td>\n",
       "      <td>938.0</td>\n",
       "    </tr>\n",
       "  </tbody>\n",
       "</table>\n",
       "</div>"
      ]
     },
     "metadata": {
      "application/vnd.databricks.v1+output": {
       "addedWidgets": {},
       "arguments": {},
       "data": "<div>\n<style scoped>\n    .dataframe tbody tr th:only-of-type {\n        vertical-align: middle;\n    }\n\n    .dataframe tbody tr th {\n        vertical-align: top;\n    }\n\n    .dataframe thead th {\n        text-align: right;\n    }\n</style>\n<table border=\"1\" class=\"dataframe\">\n  <thead>\n    <tr style=\"text-align: right;\">\n      <th></th>\n      <th>frequency</th>\n      <th>recency</th>\n      <th>T</th>\n    </tr>\n  </thead>\n  <tbody>\n    <tr>\n      <th>0.10</th>\n      <td>0.0</td>\n      <td>0.0</td>\n      <td>161.0</td>\n    </tr>\n    <tr>\n      <th>0.25</th>\n      <td>1.0</td>\n      <td>11.0</td>\n      <td>332.0</td>\n    </tr>\n    <tr>\n      <th>0.50</th>\n      <td>4.0</td>\n      <td>89.0</td>\n      <td>595.0</td>\n    </tr>\n    <tr>\n      <th>0.55</th>\n      <td>5.0</td>\n      <td>113.0</td>\n      <td>636.0</td>\n    </tr>\n    <tr>\n      <th>0.60</th>\n      <td>6.0</td>\n      <td>140.0</td>\n      <td>671.0</td>\n    </tr>\n    <tr>\n      <th>0.65</th>\n      <td>8.0</td>\n      <td>171.0</td>\n      <td>707.0</td>\n    </tr>\n    <tr>\n      <th>0.70</th>\n      <td>10.0</td>\n      <td>207.0</td>\n      <td>751.0</td>\n    </tr>\n    <tr>\n      <th>0.75</th>\n      <td>12.0</td>\n      <td>246.0</td>\n      <td>787.0</td>\n    </tr>\n    <tr>\n      <th>0.80</th>\n      <td>14.0</td>\n      <td>295.0</td>\n      <td>820.0</td>\n    </tr>\n    <tr>\n      <th>0.85</th>\n      <td>18.0</td>\n      <td>357.0</td>\n      <td>853.0</td>\n    </tr>\n    <tr>\n      <th>0.90</th>\n      <td>24.0</td>\n      <td>436.0</td>\n      <td>885.0</td>\n    </tr>\n    <tr>\n      <th>0.95</th>\n      <td>34.0</td>\n      <td>554.0</td>\n      <td>915.0</td>\n    </tr>\n    <tr>\n      <th>0.98</th>\n      <td>51.0</td>\n      <td>678.0</td>\n      <td>938.0</td>\n    </tr>\n  </tbody>\n</table>\n</div>",
       "datasetInfos": [],
       "metadata": {},
       "removedWidgets": [],
       "textData": null,
       "type": "htmlSandbox"
      }
     },
     "output_type": "display_data"
    }
   ],
   "source": [
    "### ตีความได้ว่า User ส่วนใหญ่ 50 เปอเซ็น ซื้อแค่ครั้งเดียว และที่ 80%ของข้อมูล Repaeat Purchase แค่ 3 ครั้ง\n",
    "\n",
    "df_summarize_rfa.quantile([0.1,0.25,0.5,0.55,0.60,0.65,0.7,0.75,0.8,0.85,0.9,0.95,0.98])"
   ]
  },
  {
   "cell_type": "markdown",
   "metadata": {
    "application/vnd.databricks.v1+cell": {
     "cellMetadata": {},
     "inputWidgets": {},
     "nuid": "8aeeffec-f119-4967-9ca0-62f83dc9f09b",
     "showTitle": false,
     "tableResultSettingsMap": {},
     "title": ""
    }
   },
   "source": [
    "#4. ทำ holdoutdata เพื่อ เอาไว้ทำ Validation หรือ ค่า Actual โดยตอนนี้จะแบ่งดังนี้\n",
    "- holdout day คือจำนวนวันที่เราจะตัดช่วง และคำนวณแค่ช่วงนั้นๆ เช่น กำหนด ไว้ที่90หมายความว่า การจะคิดค่า RFA จะคำนวณแค่ วันปัจจุบัน ย้อนหลังไป 90 วัน \n",
    "\n",
    "- ณ ตอนนี้ จะเลือกตัดที่ 1 ปี เพราะ Time Series Data ของเรามี 7 ปี (2015-2021)"
   ]
  },
  {
   "cell_type": "code",
   "execution_count": 0,
   "metadata": {
    "application/vnd.databricks.v1+cell": {
     "cellMetadata": {},
     "inputWidgets": {},
     "nuid": "6349bbb8-15f4-4784-b471-20757c8012d0",
     "showTitle": false,
     "tableResultSettingsMap": {},
     "title": ""
    }
   },
   "outputs": [
    {
     "output_type": "display_data",
     "data": {
      "text/html": [
       "<style scoped>\n",
       "  .ansiout {\n",
       "    display: block;\n",
       "    unicode-bidi: embed;\n",
       "    white-space: pre-wrap;\n",
       "    word-wrap: break-word;\n",
       "    word-break: break-all;\n",
       "    font-family: \"Menlo\", \"Monaco\", \"Consolas\", \"Ubuntu Mono\", \"Source Code Pro\", monospace;\n",
       "    font-size: 13px;\n",
       "    color: #555;\n",
       "    margin-left: 4px;\n",
       "    line-height: 19px;\n",
       "  }\n",
       "</style>\n",
       "<div class=\"ansiout\"></div>"
      ]
     },
     "metadata": {
      "application/vnd.databricks.v1+output": {
       "addedWidgets": {},
       "arguments": {},
       "data": "<div class=\"ansiout\"></div>",
       "datasetInfos": [],
       "metadata": {},
       "removedWidgets": [],
       "type": "html"
      }
     },
     "output_type": "display_data"
    }
   ],
   "source": [
    "#current_date = df_rfa_2['SuccessDate'].max()\n",
    "current_date = pd.to_datetime('2021-01-01')\n",
    "\n",
    "# define end of calibration period\n",
    "dbutils.widgets.text('holdout days', '400') ### Config Days in here\n",
    "holdout_days = int(dbutils.widgets.get('holdout days'))\n",
    "calibration_end_date = current_date - timedelta(days = holdout_days)\n",
    "\n",
    "# calculate the required customer metrics\n",
    "metrics_cal_pd = (\n",
    "  lifetimes.utils.calibration_and_holdout_data(\n",
    "    df_rfa_2_prep_3,\n",
    "    customer_id_col='id',\n",
    "    datetime_col='SuccessDate',\n",
    "    observation_period_end = current_date,\n",
    "    calibration_period_end = calibration_end_date,\n",
    "    freq='D'    \n",
    "    )\n",
    "  ).reset_index()"
   ]
  },
  {
   "cell_type": "code",
   "execution_count": 0,
   "metadata": {
    "application/vnd.databricks.v1+cell": {
     "cellMetadata": {},
     "inputWidgets": {},
     "nuid": "e0fe45eb-dbe6-47a4-8305-a2d4750bb1d6",
     "showTitle": false,
     "tableResultSettingsMap": {},
     "title": ""
    }
   },
   "outputs": [],
   "source": [
    "metrics_cal_pd"
   ]
  },
  {
   "cell_type": "code",
   "execution_count": 0,
   "metadata": {
    "application/vnd.databricks.v1+cell": {
     "cellMetadata": {},
     "inputWidgets": {},
     "nuid": "2cc234c9-90b3-4641-875a-149de51d1866",
     "showTitle": false,
     "tableResultSettingsMap": {},
     "title": ""
    }
   },
   "outputs": [],
   "source": [
    "metrics_cal_pd.describe()"
   ]
  },
  {
   "cell_type": "code",
   "execution_count": 0,
   "metadata": {
    "application/vnd.databricks.v1+cell": {
     "cellMetadata": {},
     "inputWidgets": {},
     "nuid": "ac660eaf-7a50-434a-b167-234fa6ca9b9e",
     "showTitle": false,
     "tableResultSettingsMap": {},
     "title": ""
    }
   },
   "outputs": [
    {
     "output_type": "display_data",
     "data": {
      "text/html": [
       "<style scoped>\n",
       "  .ansiout {\n",
       "    display: block;\n",
       "    unicode-bidi: embed;\n",
       "    white-space: pre-wrap;\n",
       "    word-wrap: break-word;\n",
       "    word-break: break-all;\n",
       "    font-family: \"Menlo\", \"Monaco\", \"Consolas\", \"Ubuntu Mono\", \"Source Code Pro\", monospace;\n",
       "    font-size: 13px;\n",
       "    color: #555;\n",
       "    margin-left: 4px;\n",
       "    line-height: 19px;\n",
       "  }\n",
       "</style>\n",
       "<div class=\"ansiout\">Out[223]: </div>"
      ]
     },
     "metadata": {
      "application/vnd.databricks.v1+output": {
       "addedWidgets": {},
       "arguments": {},
       "data": "<div class=\"ansiout\">Out[223]: </div>",
       "datasetInfos": [],
       "metadata": {},
       "removedWidgets": [],
       "type": "html"
      }
     },
     "output_type": "display_data"
    },
    {
     "output_type": "display_data",
     "data": {
      "text/html": [
       "<div>\n",
       "<style scoped>\n",
       "    .dataframe tbody tr th:only-of-type {\n",
       "        vertical-align: middle;\n",
       "    }\n",
       "\n",
       "    .dataframe tbody tr th {\n",
       "        vertical-align: top;\n",
       "    }\n",
       "\n",
       "    .dataframe thead th {\n",
       "        text-align: right;\n",
       "    }\n",
       "</style>\n",
       "<table border=\"1\" class=\"dataframe\">\n",
       "  <thead>\n",
       "    <tr style=\"text-align: right;\">\n",
       "      <th></th>\n",
       "      <th>frequency_cal</th>\n",
       "      <th>recency_cal</th>\n",
       "      <th>T_cal</th>\n",
       "      <th>frequency_holdout</th>\n",
       "      <th>duration_holdout</th>\n",
       "    </tr>\n",
       "  </thead>\n",
       "  <tbody>\n",
       "    <tr>\n",
       "      <th>0.10</th>\n",
       "      <td>0.0</td>\n",
       "      <td>0.0</td>\n",
       "      <td>72.0</td>\n",
       "      <td>0.0</td>\n",
       "      <td>400.0</td>\n",
       "    </tr>\n",
       "    <tr>\n",
       "      <th>0.25</th>\n",
       "      <td>1.0</td>\n",
       "      <td>9.0</td>\n",
       "      <td>179.0</td>\n",
       "      <td>0.0</td>\n",
       "      <td>400.0</td>\n",
       "    </tr>\n",
       "    <tr>\n",
       "      <th>0.50</th>\n",
       "      <td>4.0</td>\n",
       "      <td>76.0</td>\n",
       "      <td>310.0</td>\n",
       "      <td>0.0</td>\n",
       "      <td>400.0</td>\n",
       "    </tr>\n",
       "    <tr>\n",
       "      <th>0.55</th>\n",
       "      <td>5.0</td>\n",
       "      <td>94.0</td>\n",
       "      <td>341.0</td>\n",
       "      <td>0.0</td>\n",
       "      <td>400.0</td>\n",
       "    </tr>\n",
       "    <tr>\n",
       "      <th>0.60</th>\n",
       "      <td>6.0</td>\n",
       "      <td>114.0</td>\n",
       "      <td>367.0</td>\n",
       "      <td>0.0</td>\n",
       "      <td>400.0</td>\n",
       "    </tr>\n",
       "    <tr>\n",
       "      <th>0.65</th>\n",
       "      <td>7.0</td>\n",
       "      <td>137.0</td>\n",
       "      <td>391.0</td>\n",
       "      <td>0.0</td>\n",
       "      <td>400.0</td>\n",
       "    </tr>\n",
       "    <tr>\n",
       "      <th>0.70</th>\n",
       "      <td>8.0</td>\n",
       "      <td>164.0</td>\n",
       "      <td>415.0</td>\n",
       "      <td>1.0</td>\n",
       "      <td>400.0</td>\n",
       "    </tr>\n",
       "    <tr>\n",
       "      <th>0.75</th>\n",
       "      <td>10.0</td>\n",
       "      <td>193.0</td>\n",
       "      <td>438.0</td>\n",
       "      <td>2.0</td>\n",
       "      <td>400.0</td>\n",
       "    </tr>\n",
       "    <tr>\n",
       "      <th>0.80</th>\n",
       "      <td>12.0</td>\n",
       "      <td>227.0</td>\n",
       "      <td>460.0</td>\n",
       "      <td>3.0</td>\n",
       "      <td>400.0</td>\n",
       "    </tr>\n",
       "    <tr>\n",
       "      <th>0.85</th>\n",
       "      <td>15.0</td>\n",
       "      <td>268.0</td>\n",
       "      <td>483.0</td>\n",
       "      <td>6.0</td>\n",
       "      <td>400.0</td>\n",
       "    </tr>\n",
       "    <tr>\n",
       "      <th>0.90</th>\n",
       "      <td>19.0</td>\n",
       "      <td>318.0</td>\n",
       "      <td>503.0</td>\n",
       "      <td>10.0</td>\n",
       "      <td>400.0</td>\n",
       "    </tr>\n",
       "    <tr>\n",
       "      <th>0.95</th>\n",
       "      <td>27.0</td>\n",
       "      <td>395.0</td>\n",
       "      <td>523.0</td>\n",
       "      <td>18.0</td>\n",
       "      <td>400.0</td>\n",
       "    </tr>\n",
       "  </tbody>\n",
       "</table>\n",
       "</div>"
      ]
     },
     "metadata": {
      "application/vnd.databricks.v1+output": {
       "addedWidgets": {},
       "arguments": {},
       "data": "<div>\n<style scoped>\n    .dataframe tbody tr th:only-of-type {\n        vertical-align: middle;\n    }\n\n    .dataframe tbody tr th {\n        vertical-align: top;\n    }\n\n    .dataframe thead th {\n        text-align: right;\n    }\n</style>\n<table border=\"1\" class=\"dataframe\">\n  <thead>\n    <tr style=\"text-align: right;\">\n      <th></th>\n      <th>frequency_cal</th>\n      <th>recency_cal</th>\n      <th>T_cal</th>\n      <th>frequency_holdout</th>\n      <th>duration_holdout</th>\n    </tr>\n  </thead>\n  <tbody>\n    <tr>\n      <th>0.10</th>\n      <td>0.0</td>\n      <td>0.0</td>\n      <td>72.0</td>\n      <td>0.0</td>\n      <td>400.0</td>\n    </tr>\n    <tr>\n      <th>0.25</th>\n      <td>1.0</td>\n      <td>9.0</td>\n      <td>179.0</td>\n      <td>0.0</td>\n      <td>400.0</td>\n    </tr>\n    <tr>\n      <th>0.50</th>\n      <td>4.0</td>\n      <td>76.0</td>\n      <td>310.0</td>\n      <td>0.0</td>\n      <td>400.0</td>\n    </tr>\n    <tr>\n      <th>0.55</th>\n      <td>5.0</td>\n      <td>94.0</td>\n      <td>341.0</td>\n      <td>0.0</td>\n      <td>400.0</td>\n    </tr>\n    <tr>\n      <th>0.60</th>\n      <td>6.0</td>\n      <td>114.0</td>\n      <td>367.0</td>\n      <td>0.0</td>\n      <td>400.0</td>\n    </tr>\n    <tr>\n      <th>0.65</th>\n      <td>7.0</td>\n      <td>137.0</td>\n      <td>391.0</td>\n      <td>0.0</td>\n      <td>400.0</td>\n    </tr>\n    <tr>\n      <th>0.70</th>\n      <td>8.0</td>\n      <td>164.0</td>\n      <td>415.0</td>\n      <td>1.0</td>\n      <td>400.0</td>\n    </tr>\n    <tr>\n      <th>0.75</th>\n      <td>10.0</td>\n      <td>193.0</td>\n      <td>438.0</td>\n      <td>2.0</td>\n      <td>400.0</td>\n    </tr>\n    <tr>\n      <th>0.80</th>\n      <td>12.0</td>\n      <td>227.0</td>\n      <td>460.0</td>\n      <td>3.0</td>\n      <td>400.0</td>\n    </tr>\n    <tr>\n      <th>0.85</th>\n      <td>15.0</td>\n      <td>268.0</td>\n      <td>483.0</td>\n      <td>6.0</td>\n      <td>400.0</td>\n    </tr>\n    <tr>\n      <th>0.90</th>\n      <td>19.0</td>\n      <td>318.0</td>\n      <td>503.0</td>\n      <td>10.0</td>\n      <td>400.0</td>\n    </tr>\n    <tr>\n      <th>0.95</th>\n      <td>27.0</td>\n      <td>395.0</td>\n      <td>523.0</td>\n      <td>18.0</td>\n      <td>400.0</td>\n    </tr>\n  </tbody>\n</table>\n</div>",
       "datasetInfos": [],
       "metadata": {},
       "removedWidgets": [],
       "textData": null,
       "type": "htmlSandbox"
      }
     },
     "output_type": "display_data"
    }
   ],
   "source": [
    "metrics_cal_pd.quantile([0.1,0.25,0.5,0.55,0.60,0.65,0.7,0.75,0.8,0.85,0.9,0.95])"
   ]
  },
  {
   "cell_type": "code",
   "execution_count": 0,
   "metadata": {
    "application/vnd.databricks.v1+cell": {
     "cellMetadata": {},
     "inputWidgets": {},
     "nuid": "1aad5bfb-70ae-4707-895e-a527675f52c8",
     "showTitle": false,
     "tableResultSettingsMap": {},
     "title": ""
    }
   },
   "outputs": [
    {
     "output_type": "display_data",
     "data": {
      "text/html": [
       "<style scoped>\n",
       "  .ansiout {\n",
       "    display: block;\n",
       "    unicode-bidi: embed;\n",
       "    white-space: pre-wrap;\n",
       "    word-wrap: break-word;\n",
       "    word-break: break-all;\n",
       "    font-family: \"Menlo\", \"Monaco\", \"Consolas\", \"Ubuntu Mono\", \"Source Code Pro\", monospace;\n",
       "    font-size: 13px;\n",
       "    color: #555;\n",
       "    margin-left: 4px;\n",
       "    line-height: 19px;\n",
       "  }\n",
       "</style>\n",
       "<div class=\"ansiout\">(52559, 4)\n",
       "(36437, 6)\n",
       "</div>"
      ]
     },
     "metadata": {
      "application/vnd.databricks.v1+output": {
       "addedWidgets": {},
       "arguments": {},
       "data": "<div class=\"ansiout\">(52559, 4)\n(36437, 6)\n</div>",
       "datasetInfos": [],
       "metadata": {},
       "removedWidgets": [],
       "type": "html"
      }
     },
     "output_type": "display_data"
    }
   ],
   "source": [
    "print(df_summarize_rfa.shape)\n",
    "print(metrics_cal_pd.shape)"
   ]
  },
  {
   "cell_type": "markdown",
   "metadata": {
    "application/vnd.databricks.v1+cell": {
     "cellMetadata": {},
     "inputWidgets": {},
     "nuid": "17a0c724-085b-4928-8849-c6973890be3c",
     "showTitle": false,
     "tableResultSettingsMap": {},
     "title": ""
    }
   },
   "source": [
    "##4.1 Filter Out User No Repurchase"
   ]
  },
  {
   "cell_type": "code",
   "execution_count": 0,
   "metadata": {
    "application/vnd.databricks.v1+cell": {
     "cellMetadata": {},
     "inputWidgets": {},
     "nuid": "242a602c-6e32-4d59-9388-78f81688a09d",
     "showTitle": false,
     "tableResultSettingsMap": {},
     "title": ""
    }
   },
   "outputs": [
    {
     "output_type": "display_data",
     "data": {
      "text/html": [
       "<style scoped>\n",
       "  .ansiout {\n",
       "    display: block;\n",
       "    unicode-bidi: embed;\n",
       "    white-space: pre-wrap;\n",
       "    word-wrap: break-word;\n",
       "    word-break: break-all;\n",
       "    font-family: \"Menlo\", \"Monaco\", \"Consolas\", \"Ubuntu Mono\", \"Source Code Pro\", monospace;\n",
       "    font-size: 13px;\n",
       "    color: #555;\n",
       "    margin-left: 4px;\n",
       "    line-height: 19px;\n",
       "  }\n",
       "</style>\n",
       "<div class=\"ansiout\">(41743, 4)\n",
       "(28891, 6)\n",
       "</div>"
      ]
     },
     "metadata": {
      "application/vnd.databricks.v1+output": {
       "addedWidgets": {},
       "arguments": {},
       "data": "<div class=\"ansiout\">(41743, 4)\n(28891, 6)\n</div>",
       "datasetInfos": [],
       "metadata": {},
       "removedWidgets": [],
       "type": "html"
      }
     },
     "output_type": "display_data"
    }
   ],
   "source": [
    "print(df_summarize_rfa.loc[df_summarize_rfa['frequency'] > 0].shape)\n",
    "print(metrics_cal_pd.loc[metrics_cal_pd['frequency_cal'] > 0].shape)"
   ]
  },
  {
   "cell_type": "code",
   "execution_count": 0,
   "metadata": {
    "application/vnd.databricks.v1+cell": {
     "cellMetadata": {},
     "inputWidgets": {},
     "nuid": "452eb876-88dd-4d70-b30d-40c66450a436",
     "showTitle": false,
     "tableResultSettingsMap": {},
     "title": ""
    }
   },
   "outputs": [
    {
     "output_type": "display_data",
     "data": {
      "text/html": [
       "<style scoped>\n",
       "  .ansiout {\n",
       "    display: block;\n",
       "    unicode-bidi: embed;\n",
       "    white-space: pre-wrap;\n",
       "    word-wrap: break-word;\n",
       "    word-break: break-all;\n",
       "    font-family: \"Menlo\", \"Monaco\", \"Consolas\", \"Ubuntu Mono\", \"Source Code Pro\", monospace;\n",
       "    font-size: 13px;\n",
       "    color: #555;\n",
       "    margin-left: 4px;\n",
       "    line-height: 19px;\n",
       "  }\n",
       "</style>\n",
       "<div class=\"ansiout\"></div>"
      ]
     },
     "metadata": {
      "application/vnd.databricks.v1+output": {
       "addedWidgets": {},
       "arguments": {},
       "data": "<div class=\"ansiout\"></div>",
       "datasetInfos": [],
       "metadata": {},
       "removedWidgets": [],
       "type": "html"
      }
     },
     "output_type": "display_data"
    }
   ],
   "source": [
    "filtered_pd = df_summarize_rfa.loc[df_summarize_rfa['frequency'] > 0]\n",
    "\n",
    "filtered_cal_pd = metrics_cal_pd.loc[metrics_cal_pd['frequency_cal'] > 0]"
   ]
  },
  {
   "cell_type": "code",
   "execution_count": 0,
   "metadata": {
    "application/vnd.databricks.v1+cell": {
     "cellMetadata": {},
     "inputWidgets": {},
     "nuid": "ebc149c2-34d5-439a-9187-d60a404e8f34",
     "showTitle": false,
     "tableResultSettingsMap": {},
     "title": ""
    }
   },
   "outputs": [
    {
     "output_type": "display_data",
     "data": {
      "text/html": [
       "<style scoped>\n",
       "  .ansiout {\n",
       "    display: block;\n",
       "    unicode-bidi: embed;\n",
       "    white-space: pre-wrap;\n",
       "    word-wrap: break-word;\n",
       "    word-break: break-all;\n",
       "    font-family: \"Menlo\", \"Monaco\", \"Consolas\", \"Ubuntu Mono\", \"Source Code Pro\", monospace;\n",
       "    font-size: 13px;\n",
       "    color: #555;\n",
       "    margin-left: 4px;\n",
       "    line-height: 19px;\n",
       "  }\n",
       "</style>\n",
       "<div class=\"ansiout\">Out[227]: </div>"
      ]
     },
     "metadata": {
      "application/vnd.databricks.v1+output": {
       "addedWidgets": {},
       "arguments": {},
       "data": "<div class=\"ansiout\">Out[227]: </div>",
       "datasetInfos": [],
       "metadata": {},
       "removedWidgets": [],
       "type": "html"
      }
     },
     "output_type": "display_data"
    },
    {
     "output_type": "display_data",
     "data": {
      "text/html": [
       "<div>\n",
       "<style scoped>\n",
       "    .dataframe tbody tr th:only-of-type {\n",
       "        vertical-align: middle;\n",
       "    }\n",
       "\n",
       "    .dataframe tbody tr th {\n",
       "        vertical-align: top;\n",
       "    }\n",
       "\n",
       "    .dataframe thead th {\n",
       "        text-align: right;\n",
       "    }\n",
       "</style>\n",
       "<table border=\"1\" class=\"dataframe\">\n",
       "  <thead>\n",
       "    <tr style=\"text-align: right;\">\n",
       "      <th></th>\n",
       "      <th>frequency_cal</th>\n",
       "      <th>recency_cal</th>\n",
       "      <th>T_cal</th>\n",
       "      <th>frequency_holdout</th>\n",
       "      <th>duration_holdout</th>\n",
       "    </tr>\n",
       "  </thead>\n",
       "  <tbody>\n",
       "    <tr>\n",
       "      <th>0.10</th>\n",
       "      <td>1.0</td>\n",
       "      <td>18.0</td>\n",
       "      <td>92.0</td>\n",
       "      <td>0.0</td>\n",
       "      <td>400.0</td>\n",
       "    </tr>\n",
       "    <tr>\n",
       "      <th>0.25</th>\n",
       "      <td>2.0</td>\n",
       "      <td>47.0</td>\n",
       "      <td>194.0</td>\n",
       "      <td>0.0</td>\n",
       "      <td>400.0</td>\n",
       "    </tr>\n",
       "    <tr>\n",
       "      <th>0.50</th>\n",
       "      <td>6.0</td>\n",
       "      <td>116.0</td>\n",
       "      <td>326.0</td>\n",
       "      <td>0.0</td>\n",
       "      <td>400.0</td>\n",
       "    </tr>\n",
       "    <tr>\n",
       "      <th>0.55</th>\n",
       "      <td>7.0</td>\n",
       "      <td>134.0</td>\n",
       "      <td>354.0</td>\n",
       "      <td>0.0</td>\n",
       "      <td>400.0</td>\n",
       "    </tr>\n",
       "    <tr>\n",
       "      <th>0.60</th>\n",
       "      <td>8.0</td>\n",
       "      <td>154.0</td>\n",
       "      <td>377.0</td>\n",
       "      <td>0.0</td>\n",
       "      <td>400.0</td>\n",
       "    </tr>\n",
       "    <tr>\n",
       "      <th>0.65</th>\n",
       "      <td>9.0</td>\n",
       "      <td>177.0</td>\n",
       "      <td>398.0</td>\n",
       "      <td>0.0</td>\n",
       "      <td>400.0</td>\n",
       "    </tr>\n",
       "    <tr>\n",
       "      <th>0.70</th>\n",
       "      <td>11.0</td>\n",
       "      <td>201.0</td>\n",
       "      <td>422.0</td>\n",
       "      <td>1.0</td>\n",
       "      <td>400.0</td>\n",
       "    </tr>\n",
       "    <tr>\n",
       "      <th>0.75</th>\n",
       "      <td>12.0</td>\n",
       "      <td>229.0</td>\n",
       "      <td>445.0</td>\n",
       "      <td>2.0</td>\n",
       "      <td>400.0</td>\n",
       "    </tr>\n",
       "    <tr>\n",
       "      <th>0.80</th>\n",
       "      <td>15.0</td>\n",
       "      <td>260.0</td>\n",
       "      <td>466.0</td>\n",
       "      <td>4.0</td>\n",
       "      <td>400.0</td>\n",
       "    </tr>\n",
       "    <tr>\n",
       "      <th>0.85</th>\n",
       "      <td>17.0</td>\n",
       "      <td>298.0</td>\n",
       "      <td>486.0</td>\n",
       "      <td>7.0</td>\n",
       "      <td>400.0</td>\n",
       "    </tr>\n",
       "    <tr>\n",
       "      <th>0.90</th>\n",
       "      <td>22.0</td>\n",
       "      <td>346.0</td>\n",
       "      <td>505.0</td>\n",
       "      <td>12.0</td>\n",
       "      <td>400.0</td>\n",
       "    </tr>\n",
       "    <tr>\n",
       "      <th>0.95</th>\n",
       "      <td>30.0</td>\n",
       "      <td>415.0</td>\n",
       "      <td>524.0</td>\n",
       "      <td>20.0</td>\n",
       "      <td>400.0</td>\n",
       "    </tr>\n",
       "    <tr>\n",
       "      <th>0.99</th>\n",
       "      <td>52.0</td>\n",
       "      <td>499.0</td>\n",
       "      <td>553.0</td>\n",
       "      <td>42.0</td>\n",
       "      <td>400.0</td>\n",
       "    </tr>\n",
       "    <tr>\n",
       "      <th>1.00</th>\n",
       "      <td>207.0</td>\n",
       "      <td>565.0</td>\n",
       "      <td>569.0</td>\n",
       "      <td>161.0</td>\n",
       "      <td>400.0</td>\n",
       "    </tr>\n",
       "  </tbody>\n",
       "</table>\n",
       "</div>"
      ]
     },
     "metadata": {
      "application/vnd.databricks.v1+output": {
       "addedWidgets": {},
       "arguments": {},
       "data": "<div>\n<style scoped>\n    .dataframe tbody tr th:only-of-type {\n        vertical-align: middle;\n    }\n\n    .dataframe tbody tr th {\n        vertical-align: top;\n    }\n\n    .dataframe thead th {\n        text-align: right;\n    }\n</style>\n<table border=\"1\" class=\"dataframe\">\n  <thead>\n    <tr style=\"text-align: right;\">\n      <th></th>\n      <th>frequency_cal</th>\n      <th>recency_cal</th>\n      <th>T_cal</th>\n      <th>frequency_holdout</th>\n      <th>duration_holdout</th>\n    </tr>\n  </thead>\n  <tbody>\n    <tr>\n      <th>0.10</th>\n      <td>1.0</td>\n      <td>18.0</td>\n      <td>92.0</td>\n      <td>0.0</td>\n      <td>400.0</td>\n    </tr>\n    <tr>\n      <th>0.25</th>\n      <td>2.0</td>\n      <td>47.0</td>\n      <td>194.0</td>\n      <td>0.0</td>\n      <td>400.0</td>\n    </tr>\n    <tr>\n      <th>0.50</th>\n      <td>6.0</td>\n      <td>116.0</td>\n      <td>326.0</td>\n      <td>0.0</td>\n      <td>400.0</td>\n    </tr>\n    <tr>\n      <th>0.55</th>\n      <td>7.0</td>\n      <td>134.0</td>\n      <td>354.0</td>\n      <td>0.0</td>\n      <td>400.0</td>\n    </tr>\n    <tr>\n      <th>0.60</th>\n      <td>8.0</td>\n      <td>154.0</td>\n      <td>377.0</td>\n      <td>0.0</td>\n      <td>400.0</td>\n    </tr>\n    <tr>\n      <th>0.65</th>\n      <td>9.0</td>\n      <td>177.0</td>\n      <td>398.0</td>\n      <td>0.0</td>\n      <td>400.0</td>\n    </tr>\n    <tr>\n      <th>0.70</th>\n      <td>11.0</td>\n      <td>201.0</td>\n      <td>422.0</td>\n      <td>1.0</td>\n      <td>400.0</td>\n    </tr>\n    <tr>\n      <th>0.75</th>\n      <td>12.0</td>\n      <td>229.0</td>\n      <td>445.0</td>\n      <td>2.0</td>\n      <td>400.0</td>\n    </tr>\n    <tr>\n      <th>0.80</th>\n      <td>15.0</td>\n      <td>260.0</td>\n      <td>466.0</td>\n      <td>4.0</td>\n      <td>400.0</td>\n    </tr>\n    <tr>\n      <th>0.85</th>\n      <td>17.0</td>\n      <td>298.0</td>\n      <td>486.0</td>\n      <td>7.0</td>\n      <td>400.0</td>\n    </tr>\n    <tr>\n      <th>0.90</th>\n      <td>22.0</td>\n      <td>346.0</td>\n      <td>505.0</td>\n      <td>12.0</td>\n      <td>400.0</td>\n    </tr>\n    <tr>\n      <th>0.95</th>\n      <td>30.0</td>\n      <td>415.0</td>\n      <td>524.0</td>\n      <td>20.0</td>\n      <td>400.0</td>\n    </tr>\n    <tr>\n      <th>0.99</th>\n      <td>52.0</td>\n      <td>499.0</td>\n      <td>553.0</td>\n      <td>42.0</td>\n      <td>400.0</td>\n    </tr>\n    <tr>\n      <th>1.00</th>\n      <td>207.0</td>\n      <td>565.0</td>\n      <td>569.0</td>\n      <td>161.0</td>\n      <td>400.0</td>\n    </tr>\n  </tbody>\n</table>\n</div>",
       "datasetInfos": [],
       "metadata": {},
       "removedWidgets": [],
       "textData": null,
       "type": "htmlSandbox"
      }
     },
     "output_type": "display_data"
    }
   ],
   "source": [
    "filtered_cal_pd.quantile([0.1,0.25,0.5,0.55,0.60,0.65,0.7,0.75,0.8,0.85,0.9,0.95,0.99,1])"
   ]
  },
  {
   "cell_type": "code",
   "execution_count": 0,
   "metadata": {
    "application/vnd.databricks.v1+cell": {
     "cellMetadata": {},
     "inputWidgets": {},
     "nuid": "9ca7ea39-3533-4dd2-8382-01453711e591",
     "showTitle": false,
     "tableResultSettingsMap": {},
     "title": ""
    }
   },
   "outputs": [
    {
     "output_type": "display_data",
     "data": {
      "text/html": [
       "<style scoped>\n",
       "  .ansiout {\n",
       "    display: block;\n",
       "    unicode-bidi: embed;\n",
       "    white-space: pre-wrap;\n",
       "    word-wrap: break-word;\n",
       "    word-break: break-all;\n",
       "    font-family: \"Menlo\", \"Monaco\", \"Consolas\", \"Ubuntu Mono\", \"Source Code Pro\", monospace;\n",
       "    font-size: 13px;\n",
       "    color: #555;\n",
       "    margin-left: 4px;\n",
       "    line-height: 19px;\n",
       "  }\n",
       "</style>\n",
       "<div class=\"ansiout\">Out[57]: </div>"
      ]
     },
     "metadata": {
      "application/vnd.databricks.v1+output": {
       "addedWidgets": {},
       "arguments": {},
       "data": "<div class=\"ansiout\">Out[57]: </div>",
       "datasetInfos": [],
       "metadata": {},
       "removedWidgets": [],
       "type": "html"
      }
     },
     "output_type": "display_data"
    },
    {
     "output_type": "display_data",
     "data": {
      "text/html": [
       "<div>\n",
       "<style scoped>\n",
       "    .dataframe tbody tr th:only-of-type {\n",
       "        vertical-align: middle;\n",
       "    }\n",
       "\n",
       "    .dataframe tbody tr th {\n",
       "        vertical-align: top;\n",
       "    }\n",
       "\n",
       "    .dataframe thead th {\n",
       "        text-align: right;\n",
       "    }\n",
       "</style>\n",
       "<table border=\"1\" class=\"dataframe\">\n",
       "  <thead>\n",
       "    <tr style=\"text-align: right;\">\n",
       "      <th></th>\n",
       "      <th>frequency</th>\n",
       "      <th>recency</th>\n",
       "      <th>T</th>\n",
       "    </tr>\n",
       "  </thead>\n",
       "  <tbody>\n",
       "    <tr>\n",
       "      <th>0.10</th>\n",
       "      <td>1.0</td>\n",
       "      <td>20.0</td>\n",
       "      <td>197.0</td>\n",
       "    </tr>\n",
       "    <tr>\n",
       "      <th>0.25</th>\n",
       "      <td>3.0</td>\n",
       "      <td>54.0</td>\n",
       "      <td>370.0</td>\n",
       "    </tr>\n",
       "    <tr>\n",
       "      <th>0.50</th>\n",
       "      <td>6.0</td>\n",
       "      <td>141.0</td>\n",
       "      <td>616.0</td>\n",
       "    </tr>\n",
       "    <tr>\n",
       "      <th>0.55</th>\n",
       "      <td>8.0</td>\n",
       "      <td>166.0</td>\n",
       "      <td>653.0</td>\n",
       "    </tr>\n",
       "    <tr>\n",
       "      <th>0.60</th>\n",
       "      <td>9.0</td>\n",
       "      <td>194.0</td>\n",
       "      <td>690.0</td>\n",
       "    </tr>\n",
       "    <tr>\n",
       "      <th>0.65</th>\n",
       "      <td>10.0</td>\n",
       "      <td>223.0</td>\n",
       "      <td>726.0</td>\n",
       "    </tr>\n",
       "    <tr>\n",
       "      <th>0.70</th>\n",
       "      <td>12.0</td>\n",
       "      <td>257.0</td>\n",
       "      <td>763.0</td>\n",
       "    </tr>\n",
       "    <tr>\n",
       "      <th>0.75</th>\n",
       "      <td>14.0</td>\n",
       "      <td>296.0</td>\n",
       "      <td>795.0</td>\n",
       "    </tr>\n",
       "    <tr>\n",
       "      <th>0.80</th>\n",
       "      <td>17.0</td>\n",
       "      <td>344.0</td>\n",
       "      <td>827.0</td>\n",
       "    </tr>\n",
       "    <tr>\n",
       "      <th>0.85</th>\n",
       "      <td>21.0</td>\n",
       "      <td>403.0</td>\n",
       "      <td>859.0</td>\n",
       "    </tr>\n",
       "    <tr>\n",
       "      <th>0.90</th>\n",
       "      <td>27.0</td>\n",
       "      <td>481.0</td>\n",
       "      <td>888.0</td>\n",
       "    </tr>\n",
       "    <tr>\n",
       "      <th>0.95</th>\n",
       "      <td>38.0</td>\n",
       "      <td>589.9</td>\n",
       "      <td>916.0</td>\n",
       "    </tr>\n",
       "    <tr>\n",
       "      <th>0.99</th>\n",
       "      <td>70.0</td>\n",
       "      <td>800.0</td>\n",
       "      <td>949.0</td>\n",
       "    </tr>\n",
       "    <tr>\n",
       "      <th>1.00</th>\n",
       "      <td>242.0</td>\n",
       "      <td>963.0</td>\n",
       "      <td>969.0</td>\n",
       "    </tr>\n",
       "  </tbody>\n",
       "</table>\n",
       "</div>"
      ]
     },
     "metadata": {
      "application/vnd.databricks.v1+output": {
       "addedWidgets": {},
       "arguments": {},
       "data": "<div>\n<style scoped>\n    .dataframe tbody tr th:only-of-type {\n        vertical-align: middle;\n    }\n\n    .dataframe tbody tr th {\n        vertical-align: top;\n    }\n\n    .dataframe thead th {\n        text-align: right;\n    }\n</style>\n<table border=\"1\" class=\"dataframe\">\n  <thead>\n    <tr style=\"text-align: right;\">\n      <th></th>\n      <th>frequency</th>\n      <th>recency</th>\n      <th>T</th>\n    </tr>\n  </thead>\n  <tbody>\n    <tr>\n      <th>0.10</th>\n      <td>1.0</td>\n      <td>20.0</td>\n      <td>197.0</td>\n    </tr>\n    <tr>\n      <th>0.25</th>\n      <td>3.0</td>\n      <td>54.0</td>\n      <td>370.0</td>\n    </tr>\n    <tr>\n      <th>0.50</th>\n      <td>6.0</td>\n      <td>141.0</td>\n      <td>616.0</td>\n    </tr>\n    <tr>\n      <th>0.55</th>\n      <td>8.0</td>\n      <td>166.0</td>\n      <td>653.0</td>\n    </tr>\n    <tr>\n      <th>0.60</th>\n      <td>9.0</td>\n      <td>194.0</td>\n      <td>690.0</td>\n    </tr>\n    <tr>\n      <th>0.65</th>\n      <td>10.0</td>\n      <td>223.0</td>\n      <td>726.0</td>\n    </tr>\n    <tr>\n      <th>0.70</th>\n      <td>12.0</td>\n      <td>257.0</td>\n      <td>763.0</td>\n    </tr>\n    <tr>\n      <th>0.75</th>\n      <td>14.0</td>\n      <td>296.0</td>\n      <td>795.0</td>\n    </tr>\n    <tr>\n      <th>0.80</th>\n      <td>17.0</td>\n      <td>344.0</td>\n      <td>827.0</td>\n    </tr>\n    <tr>\n      <th>0.85</th>\n      <td>21.0</td>\n      <td>403.0</td>\n      <td>859.0</td>\n    </tr>\n    <tr>\n      <th>0.90</th>\n      <td>27.0</td>\n      <td>481.0</td>\n      <td>888.0</td>\n    </tr>\n    <tr>\n      <th>0.95</th>\n      <td>38.0</td>\n      <td>589.9</td>\n      <td>916.0</td>\n    </tr>\n    <tr>\n      <th>0.99</th>\n      <td>70.0</td>\n      <td>800.0</td>\n      <td>949.0</td>\n    </tr>\n    <tr>\n      <th>1.00</th>\n      <td>242.0</td>\n      <td>963.0</td>\n      <td>969.0</td>\n    </tr>\n  </tbody>\n</table>\n</div>",
       "datasetInfos": [],
       "metadata": {},
       "removedWidgets": [],
       "textData": null,
       "type": "htmlSandbox"
      }
     },
     "output_type": "display_data"
    }
   ],
   "source": [
    "filtered_pd.quantile([0.1,0.25,0.5,0.55,0.60,0.65,0.7,0.75,0.8,0.85,0.9,0.95,0.99,1])"
   ]
  },
  {
   "cell_type": "markdown",
   "metadata": {
    "application/vnd.databricks.v1+cell": {
     "cellMetadata": {},
     "inputWidgets": {},
     "nuid": "d103f0fd-0126-466c-8d81-10a268570d3d",
     "showTitle": false,
     "tableResultSettingsMap": {},
     "title": ""
    }
   },
   "source": [
    "#5. Train Model"
   ]
  },
  {
   "cell_type": "code",
   "execution_count": 0,
   "metadata": {
    "application/vnd.databricks.v1+cell": {
     "cellMetadata": {},
     "inputWidgets": {},
     "nuid": "60f69af4-0c33-49fc-a59a-21e42436403b",
     "showTitle": false,
     "tableResultSettingsMap": {},
     "title": ""
    }
   },
   "outputs": [
    {
     "output_type": "display_data",
     "data": {
      "text/html": [
       "<style scoped>\n",
       "  .ansiout {\n",
       "    display: block;\n",
       "    unicode-bidi: embed;\n",
       "    white-space: pre-wrap;\n",
       "    word-wrap: break-word;\n",
       "    word-break: break-all;\n",
       "    font-family: \"Menlo\", \"Monaco\", \"Consolas\", \"Ubuntu Mono\", \"Source Code Pro\", monospace;\n",
       "    font-size: 13px;\n",
       "    color: #555;\n",
       "    margin-left: 4px;\n",
       "    line-height: 19px;\n",
       "  }\n",
       "</style>\n",
       "<div class=\"ansiout\"></div>"
      ]
     },
     "metadata": {
      "application/vnd.databricks.v1+output": {
       "addedWidgets": {},
       "arguments": {},
       "data": "<div class=\"ansiout\"></div>",
       "datasetInfos": [],
       "metadata": {},
       "removedWidgets": [],
       "type": "html"
      }
     },
     "output_type": "display_data"
    }
   ],
   "source": [
    "# score the model\n",
    "#frequency_holdout_actual = filtered_cal_pd['frequency_holdout']\n",
    "#frequency_holdout_predicted = model.predict(filtered_cal_pd['duration_holdout'], filtered_cal_pd['frequency_cal'], filtered_cal_pd['recency_cal'], filtered_cal_pd['T_cal'])"
   ]
  },
  {
   "cell_type": "code",
   "execution_count": 0,
   "metadata": {
    "application/vnd.databricks.v1+cell": {
     "cellMetadata": {},
     "inputWidgets": {},
     "nuid": "12a4fa51-15d4-4e8e-996b-983de54b4254",
     "showTitle": false,
     "tableResultSettingsMap": {},
     "title": ""
    }
   },
   "outputs": [
    {
     "output_type": "display_data",
     "data": {
      "text/html": [
       "<style scoped>\n",
       "  .ansiout {\n",
       "    display: block;\n",
       "    unicode-bidi: embed;\n",
       "    white-space: pre-wrap;\n",
       "    word-wrap: break-word;\n",
       "    word-break: break-all;\n",
       "    font-family: \"Menlo\", \"Monaco\", \"Consolas\", \"Ubuntu Mono\", \"Source Code Pro\", monospace;\n",
       "    font-size: 13px;\n",
       "    color: #555;\n",
       "    margin-left: 4px;\n",
       "    line-height: 19px;\n",
       "  }\n",
       "</style>\n",
       "<div class=\"ansiout\">Out[229]: &lt;lifetimes.BetaGeoFitter: fitted with 28891 subjects, a: 1.40, alpha: 39.73, b: 12.10, r: 2.59&gt;</div>"
      ]
     },
     "metadata": {
      "application/vnd.databricks.v1+output": {
       "addedWidgets": {},
       "arguments": {},
       "data": "<div class=\"ansiout\">Out[229]: &lt;lifetimes.BetaGeoFitter: fitted with 28891 subjects, a: 1.40, alpha: 39.73, b: 12.10, r: 2.59&gt;</div>",
       "datasetInfos": [],
       "metadata": {},
       "removedWidgets": [],
       "type": "html"
      }
     },
     "output_type": "display_data"
    }
   ],
   "source": [
    "from lifetimes.fitters.pareto_nbd_fitter import ParetoNBDFitter\n",
    "from lifetimes.fitters.beta_geo_fitter import BetaGeoFitter\n",
    "\n",
    "## penalizer_coef = คือ Parameter ในการลดการ Overfitting ของข้อมูล(Regularization)\n",
    "\n",
    "# fit a model\n",
    "model = BetaGeoFitter(penalizer_coef=0.0)\n",
    "model.fit(filtered_cal_pd['frequency_cal'], filtered_cal_pd['recency_cal'], filtered_cal_pd['T_cal'])"
   ]
  },
  {
   "cell_type": "code",
   "execution_count": 0,
   "metadata": {
    "application/vnd.databricks.v1+cell": {
     "cellMetadata": {},
     "inputWidgets": {},
     "nuid": "a394d3c0-7c70-4c0c-ba61-9e2c3ba98898",
     "showTitle": false,
     "tableResultSettingsMap": {},
     "title": ""
    }
   },
   "outputs": [
    {
     "output_type": "display_data",
     "data": {
      "text/html": [
       "<style scoped>\n",
       "  .ansiout {\n",
       "    display: block;\n",
       "    unicode-bidi: embed;\n",
       "    white-space: pre-wrap;\n",
       "    word-wrap: break-word;\n",
       "    word-break: break-all;\n",
       "    font-family: \"Menlo\", \"Monaco\", \"Consolas\", \"Ubuntu Mono\", \"Source Code Pro\", monospace;\n",
       "    font-size: 13px;\n",
       "    color: #555;\n",
       "    margin-left: 4px;\n",
       "    line-height: 19px;\n",
       "  }\n",
       "</style>\n",
       "<div class=\"ansiout\"></div>"
      ]
     },
     "metadata": {
      "application/vnd.databricks.v1+output": {
       "addedWidgets": {},
       "arguments": {},
       "data": "<div class=\"ansiout\"></div>",
       "datasetInfos": [],
       "metadata": {},
       "removedWidgets": [],
       "type": "html"
      }
     },
     "output_type": "display_data"
    }
   ],
   "source": [
    "# get predicted frequency during holdout period\n",
    "## ตัว Parameter ในการ Predict ตอนนี้จะมี 1. duration คือค่่า Weight 2. F 3.R 4.T\n",
    "\n",
    "frequency_holdout_predicted = model.predict(filtered_cal_pd['duration_holdout'], filtered_cal_pd['frequency_cal'], filtered_cal_pd['recency_cal'], filtered_cal_pd['T_cal'])\n",
    "\n",
    "# get actual frequency during holdout period\n",
    "frequency_holdout_actual = filtered_cal_pd['frequency_holdout']"
   ]
  },
  {
   "cell_type": "code",
   "execution_count": 0,
   "metadata": {
    "application/vnd.databricks.v1+cell": {
     "cellMetadata": {},
     "inputWidgets": {},
     "nuid": "35abe53d-39f1-49a3-8fb7-fb9043c145cb",
     "showTitle": false,
     "tableResultSettingsMap": {},
     "title": ""
    }
   },
   "outputs": [
    {
     "output_type": "display_data",
     "data": {
      "text/html": [
       "<style scoped>\n",
       "  .ansiout {\n",
       "    display: block;\n",
       "    unicode-bidi: embed;\n",
       "    white-space: pre-wrap;\n",
       "    word-wrap: break-word;\n",
       "    word-break: break-all;\n",
       "    font-family: \"Menlo\", \"Monaco\", \"Consolas\", \"Ubuntu Mono\", \"Source Code Pro\", monospace;\n",
       "    font-size: 13px;\n",
       "    color: #555;\n",
       "    margin-left: 4px;\n",
       "    line-height: 19px;\n",
       "  }\n",
       "</style>\n",
       "<div class=\"ansiout\">MSE: 62.70897979852663\n",
       "MAE: 3.8169274594434417\n",
       "</div>"
      ]
     },
     "metadata": {
      "application/vnd.databricks.v1+output": {
       "addedWidgets": {},
       "arguments": {},
       "data": "<div class=\"ansiout\">MSE: 62.70897979852663\nMAE: 3.8169274594434417\n</div>",
       "datasetInfos": [],
       "metadata": {},
       "removedWidgets": [],
       "type": "html"
      }
     },
     "output_type": "display_data"
    }
   ],
   "source": [
    "import numpy as np\n",
    "from sklearn.metrics import mean_absolute_error\n",
    "def score_model(actuals, predicted, metric='mse'):\n",
    "  # make sure metric name is lower case\n",
    "  metric = metric.lower()\n",
    "  \n",
    "  # Mean Squared Error and Root Mean Squared Error\n",
    "  if metric=='mse' or metric=='rmse':\n",
    "    val = np.sum(np.square(actuals-predicted))/actuals.shape[0]\n",
    "    if metric=='rmse':\n",
    "        val = np.sqrt(val)\n",
    "  \n",
    "  # Mean Absolute Error\n",
    "  elif metric=='mae':\n",
    "    np.sum(np.abs(actuals-predicted))/actuals.shape[0]\n",
    "  \n",
    "  else:\n",
    "    val = None\n",
    "  \n",
    "  return val\n",
    "\n",
    "# score the model\n",
    "print('MSE: {0}'.format(score_model(frequency_holdout_actual, frequency_holdout_predicted, 'mse')))\n",
    "print('MAE: {0}'.format(mean_absolute_error(frequency_holdout_actual, frequency_holdout_predicted))) "
   ]
  },
  {
   "cell_type": "code",
   "execution_count": 0,
   "metadata": {
    "application/vnd.databricks.v1+cell": {
     "cellMetadata": {},
     "inputWidgets": {},
     "nuid": "a93c2aa8-f741-4cfc-9a8a-73c409f3b7d5",
     "showTitle": false,
     "tableResultSettingsMap": {},
     "title": ""
    }
   },
   "outputs": [
    {
     "output_type": "display_data",
     "data": {
      "image/png": "[encoded data removed]"
     },
     "metadata": {
      "application/vnd.databricks.v1+output": {
       "addedWidgets": {},
       "arguments": {},
       "data": "data:image/png;base64,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",
       "datasetInfos": [],
       "metadata": {},
       "removedWidgets": [],
       "type": "image"
      }
     },
     "output_type": "display_data"
    }
   ],
   "source": [
    "from lifetimes.plotting import plot_calibration_purchases_vs_holdout_purchases\n",
    "plot_calibration_purchases_vs_holdout_purchases(\n",
    "  model, \n",
    "  filtered_cal_pd, \n",
    "  n=60, \n",
    "  **{'figsize':(19,8)}\n",
    "  )\n",
    "\n",
    "display()"
   ]
  },
  {
   "cell_type": "markdown",
   "metadata": {
    "application/vnd.databricks.v1+cell": {
     "cellMetadata": {},
     "inputWidgets": {},
     "nuid": "4594a6c0-6acd-41ab-91ce-710705c8f8cb",
     "showTitle": false,
     "tableResultSettingsMap": {},
     "title": ""
    }
   },
   "source": [
    "#6. Tunning Model"
   ]
  },
  {
   "cell_type": "code",
   "execution_count": 0,
   "metadata": {
    "application/vnd.databricks.v1+cell": {
     "cellMetadata": {},
     "inputWidgets": {},
     "nuid": "accfc318-9b46-4cbb-87d1-be2188e63661",
     "showTitle": false,
     "tableResultSettingsMap": {},
     "title": ""
    }
   },
   "outputs": [
    {
     "output_type": "display_data",
     "data": {
      "text/html": [
       "<style scoped>\n",
       "  .ansiout {\n",
       "    display: block;\n",
       "    unicode-bidi: embed;\n",
       "    white-space: pre-wrap;\n",
       "    word-wrap: break-word;\n",
       "    word-break: break-all;\n",
       "    font-family: \"Menlo\", \"Monaco\", \"Consolas\", \"Ubuntu Mono\", \"Source Code Pro\", monospace;\n",
       "    font-size: 13px;\n",
       "    color: #555;\n",
       "    margin-left: 4px;\n",
       "    line-height: 19px;\n",
       "  }\n",
       "</style>\n",
       "<div class=\"ansiout\"></div>"
      ]
     },
     "metadata": {
      "application/vnd.databricks.v1+output": {
       "addedWidgets": {},
       "arguments": {},
       "data": "<div class=\"ansiout\"></div>",
       "datasetInfos": [],
       "metadata": {},
       "removedWidgets": [],
       "type": "html"
      }
     },
     "output_type": "display_data"
    }
   ],
   "source": [
    "## Tunining Model\n",
    "\n",
    "from hyperopt import hp, fmin, tpe, rand, SparkTrials, STATUS_OK, STATUS_FAIL, space_eval\n",
    "# define search space\n",
    "search_space = hp.choice('model_type',[\n",
    "                  {'type':'Pareto/NBD', 'l2':hp.uniform('pareto_nbd_l2', 0.0, 1.0)},\n",
    "                  {'type':'BG/NBD'    , 'l2':hp.uniform('bg_nbd_l2', 0.0, 1.0)}  \n",
    "                  ]\n",
    "                )\n",
    "\n",
    "# define function for model evaluation\n",
    "def evaluate_model(params):\n",
    "  \n",
    "  # accesss replicated input_pd dataframe\n",
    "  data = inputs.value\n",
    "  \n",
    "  # retrieve incoming parameters\n",
    "  model_type = params['type']\n",
    "  l2_reg = params['l2']\n",
    "  \n",
    "  # instantiate and configure the model\n",
    "  if model_type == 'BG/NBD':\n",
    "    model = BetaGeoFitter(penalizer_coef=l2_reg)\n",
    "  elif model_type == 'Pareto/NBD':\n",
    "    model = ParetoNBDFitter(penalizer_coef=l2_reg)\n",
    "  else:\n",
    "    return {'loss': None,'status': STATUS_FAIL}\n",
    "  \n",
    "  # fit the model\n",
    "  model.fit(data['frequency_cal'], data['recency_cal'], data['T_cal'])\n",
    "  \n",
    "  # evaluate the model\n",
    "  frequency_holdout_actual = data['frequency_holdout']\n",
    "  frequency_holdout_predicted = model.predict(data['duration_holdout'], data['frequency_cal'], data['recency_cal'], data['T_cal'])\n",
    "  mse = score_model(frequency_holdout_actual, frequency_holdout_predicted, 'mse')\n",
    "  \n",
    "  # return score and status\n",
    "  return {'loss': mse,'status': STATUS_OK}"
   ]
  },
  {
   "cell_type": "code",
   "execution_count": 0,
   "metadata": {
    "application/vnd.databricks.v1+cell": {
     "cellMetadata": {},
     "inputWidgets": {},
     "nuid": "5c9d7476-7b5c-458f-a56e-e9e6e80a3b3c",
     "showTitle": false,
     "tableResultSettingsMap": {},
     "title": ""
    }
   },
   "outputs": [],
   "source": [
    "import mlflow\n",
    "\n",
    "# replicate input_pd dataframe to workers in Spark cluster\n",
    "inputs = sc.broadcast(filtered_cal_pd)\n",
    "\n",
    "# configure hyperopt settings to distribute to all executors on workers\n",
    "spark_trials = SparkTrials(parallelism=2)\n",
    "\n",
    "# select optimization algorithm\n",
    "algo = tpe.suggest\n",
    "\n",
    "# perform hyperparameter tuning (logging iterations to mlflow)\n",
    "argmin = fmin(\n",
    "  fn=evaluate_model,\n",
    "  space=search_space,\n",
    "  algo=algo,\n",
    "  max_evals=50,\n",
    "  trials=spark_trials,\n",
    "  verbose=True\n",
    "  )\n",
    "\n",
    "# release the broadcast dataset\n",
    "inputs.unpersist()"
   ]
  },
  {
   "cell_type": "code",
   "execution_count": 0,
   "metadata": {
    "application/vnd.databricks.v1+cell": {
     "cellMetadata": {},
     "inputWidgets": {},
     "nuid": "4a6d159d-893b-459c-adb9-6399eb4d7924",
     "showTitle": false,
     "tableResultSettingsMap": {},
     "title": ""
    }
   },
   "outputs": [
    {
     "output_type": "display_data",
     "data": {
      "text/html": [
       "<style scoped>\n",
       "  .ansiout {\n",
       "    display: block;\n",
       "    unicode-bidi: embed;\n",
       "    white-space: pre-wrap;\n",
       "    word-wrap: break-word;\n",
       "    word-break: break-all;\n",
       "    font-family: \"Menlo\", \"Monaco\", \"Consolas\", \"Ubuntu Mono\", \"Source Code Pro\", monospace;\n",
       "    font-size: 13px;\n",
       "    color: #555;\n",
       "    margin-left: 4px;\n",
       "    line-height: 19px;\n",
       "  }\n",
       "</style>\n",
       "<div class=\"ansiout\">{&#39;l2&#39;: 0.0014409323991287615, &#39;type&#39;: &#39;Pareto/NBD&#39;}\n",
       "</div>"
      ]
     },
     "metadata": {
      "application/vnd.databricks.v1+output": {
       "addedWidgets": {},
       "arguments": {},
       "data": "<div class=\"ansiout\">{&#39;l2&#39;: 0.0014409323991287615, &#39;type&#39;: &#39;Pareto/NBD&#39;}\n</div>",
       "datasetInfos": [],
       "metadata": {},
       "removedWidgets": [],
       "type": "html"
      }
     },
     "output_type": "display_data"
    }
   ],
   "source": [
    "print(space_eval(search_space, argmin))"
   ]
  },
  {
   "cell_type": "code",
   "execution_count": 0,
   "metadata": {
    "application/vnd.databricks.v1+cell": {
     "cellMetadata": {},
     "inputWidgets": {},
     "nuid": "4f62f7f4-0012-456c-8e0b-0ccb4a81cb0b",
     "showTitle": false,
     "tableResultSettingsMap": {},
     "title": ""
    }
   },
   "outputs": [
    {
     "output_type": "display_data",
     "data": {
      "text/html": [
       "<style scoped>\n",
       "  .ansiout {\n",
       "    display: block;\n",
       "    unicode-bidi: embed;\n",
       "    white-space: pre-wrap;\n",
       "    word-wrap: break-word;\n",
       "    word-break: break-all;\n",
       "    font-family: \"Menlo\", \"Monaco\", \"Consolas\", \"Ubuntu Mono\", \"Source Code Pro\", monospace;\n",
       "    font-size: 13px;\n",
       "    color: #555;\n",
       "    margin-left: 4px;\n",
       "    line-height: 19px;\n",
       "  }\n",
       "</style>\n",
       "<div class=\"ansiout\">/databricks/python/lib/python3.8/site-packages/numpy/core/fromnumeric.py:87: RuntimeWarning: invalid value encountered in reduce\n",
       "  return ufunc.reduce(obj, axis, dtype, out, **passkwargs)\n",
       "/databricks/python/lib/python3.8/site-packages/scipy/special/_logsumexp.py:108: RuntimeWarning: overflow encountered in exp\n",
       "  tmp = b * np.exp(a - a_max)\n",
       "MSE: 58.26962494605814\n",
       "MAE: 3.529204427333621\n",
       "</div>"
      ]
     },
     "metadata": {
      "application/vnd.databricks.v1+output": {
       "addedWidgets": {},
       "arguments": {},
       "data": "<div class=\"ansiout\">/databricks/python/lib/python3.8/site-packages/numpy/core/fromnumeric.py:87: RuntimeWarning: invalid value encountered in reduce\n  return ufunc.reduce(obj, axis, dtype, out, **passkwargs)\n/databricks/python/lib/python3.8/site-packages/scipy/special/_logsumexp.py:108: RuntimeWarning: overflow encountered in exp\n  tmp = b * np.exp(a - a_max)\nMSE: 58.26962494605814\nMAE: 3.529204427333621\n</div>",
       "datasetInfos": [],
       "metadata": {},
       "removedWidgets": [],
       "type": "html"
      }
     },
     "output_type": "display_data"
    }
   ],
   "source": [
    "# get hyperparameter settings\n",
    "#params = space_eval(search_space, argmin)\n",
    "#model_type = params['type']\n",
    "#l2_reg = params['l2']\n",
    "\n",
    "model_type = 'Pareto/NBD'\n",
    "l2_reg = 0.0014409323991287615\n",
    "\n",
    "\n",
    "\n",
    "\n",
    "# instantiate and configure model\n",
    "if model_type == 'BG/NBD':\n",
    "  model = BetaGeoFitter(penalizer_coef=l2_reg)\n",
    "elif model_type == 'Pareto/NBD':\n",
    "  model = ParetoNBDFitter(penalizer_coef=l2_reg)\n",
    "else:\n",
    "  raise 'Unrecognized model type'\n",
    "  \n",
    "# train the model\n",
    "model.fit(filtered_cal_pd['frequency_cal'], filtered_cal_pd['recency_cal'], filtered_cal_pd['T_cal'])\n",
    "\n",
    "# score the model\n",
    "frequency_holdout_actual = filtered_cal_pd['frequency_holdout']\n",
    "frequency_holdout_predicted = model.predict(filtered_cal_pd['duration_holdout'], filtered_cal_pd['frequency_cal'], filtered_cal_pd['recency_cal'], filtered_cal_pd['T_cal'])\n",
    "mse = score_model(frequency_holdout_actual, frequency_holdout_predicted, 'mse')\n",
    "\n",
    "print('MSE: {0}'.format(mse))\n",
    "print('MAE: {0}'.format(mean_absolute_error(frequency_holdout_actual, frequency_holdout_predicted))) "
   ]
  },
  {
   "cell_type": "code",
   "execution_count": 0,
   "metadata": {
    "application/vnd.databricks.v1+cell": {
     "cellMetadata": {},
     "inputWidgets": {},
     "nuid": "f07d9613-1de1-432d-a44c-25485ca95d87",
     "showTitle": false,
     "tableResultSettingsMap": {},
     "title": ""
    }
   },
   "outputs": [
    {
     "output_type": "display_data",
     "data": {
      "image/png": "[encoded data removed]"
     },
     "metadata": {
      "application/vnd.databricks.v1+output": {
       "addedWidgets": {},
       "arguments": {},
       "data": "data:image/png;base64,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",
       "datasetInfos": [],
       "metadata": {},
       "removedWidgets": [],
       "type": "image"
      }
     },
     "output_type": "display_data"
    }
   ],
   "source": [
    "plot_calibration_purchases_vs_holdout_purchases(\n",
    "  model, \n",
    "  filtered_cal_pd, \n",
    "  n=90, \n",
    "  **{'figsize':(15,8)}\n",
    "  )\n",
    "\n",
    "display()"
   ]
  },
  {
   "cell_type": "markdown",
   "metadata": {
    "application/vnd.databricks.v1+cell": {
     "cellMetadata": {},
     "inputWidgets": {},
     "nuid": "8e0ecd8c-5521-4322-8f77-ea686176c581",
     "showTitle": false,
     "tableResultSettingsMap": {},
     "title": ""
    }
   },
   "source": [
    "#7. Prediction"
   ]
  },
  {
   "cell_type": "code",
   "execution_count": 0,
   "metadata": {
    "application/vnd.databricks.v1+cell": {
     "cellMetadata": {},
     "inputWidgets": {},
     "nuid": "4276d133-7fa8-4320-b67b-a1533b7c60db",
     "showTitle": false,
     "tableResultSettingsMap": {},
     "title": ""
    }
   },
   "outputs": [],
   "source": [
    "# add a field with the probability a customer is currently \"alive\"\n",
    "filtered_pd['prob_alive']=model.conditional_probability_alive(\n",
    "    filtered_pd['frequency'], \n",
    "    filtered_pd['recency'], \n",
    "    filtered_pd['T']\n",
    "    )\n",
    "filtered_pd['% of prob_alive'] = round((filtered_pd['prob_alive'] *100),2)\n",
    "\n",
    "\n",
    "filtered_pd['purchases_next60days']=(\n",
    "  model.conditional_expected_number_of_purchases_up_to_time(\n",
    "    60, \n",
    "    filtered_pd['frequency'], \n",
    "    filtered_pd['recency'], \n",
    "    filtered_pd['T']\n",
    "    )\n",
    "  )\n",
    "\n",
    "\n",
    "filtered_pd.head(10)"
   ]
  },
  {
   "cell_type": "markdown",
   "metadata": {
    "application/vnd.databricks.v1+cell": {
     "cellMetadata": {},
     "inputWidgets": {},
     "nuid": "e87c351e-1716-4b9a-bbdb-3d6b98dcd16d",
     "showTitle": false,
     "tableResultSettingsMap": {},
     "title": ""
    }
   },
   "source": [
    "#7. ดึง Last Purchase ของ กลุ่มตัวอย่าง ที่อยู่ในช่วง เดือน 2 -3 เพื่อที่จะไปหา Accurate"
   ]
  },
  {
   "cell_type": "code",
   "execution_count": 0,
   "metadata": {
    "application/vnd.databricks.v1+cell": {
     "cellMetadata": {},
     "inputWidgets": {},
     "nuid": "61bf50ca-363e-4285-b76d-85b7827dfef2",
     "showTitle": false,
     "tableResultSettingsMap": {},
     "title": ""
    }
   },
   "outputs": [
    {
     "output_type": "display_data",
     "data": {
      "text/html": [
       "<style scoped>\n",
       "  .ansiout {\n",
       "    display: block;\n",
       "    unicode-bidi: embed;\n",
       "    white-space: pre-wrap;\n",
       "    word-wrap: break-word;\n",
       "    word-break: break-all;\n",
       "    font-family: \"Menlo\", \"Monaco\", \"Consolas\", \"Ubuntu Mono\", \"Source Code Pro\", monospace;\n",
       "    font-size: 13px;\n",
       "    color: #555;\n",
       "    margin-left: 4px;\n",
       "    line-height: 19px;\n",
       "  }\n",
       "</style>\n",
       "<div class=\"ansiout\"></div>"
      ]
     },
     "metadata": {
      "application/vnd.databricks.v1+output": {
       "addedWidgets": {},
       "arguments": {},
       "data": "<div class=\"ansiout\"></div>",
       "datasetInfos": [],
       "metadata": {},
       "removedWidgets": [],
       "type": "html"
      }
     },
     "output_type": "display_data"
    }
   ],
   "source": [
    "df_get_last = df_rfa_2_1[df_rfa_2_1['SuccessDate_2'] < '2021-01-01']"
   ]
  },
  {
   "cell_type": "code",
   "execution_count": 0,
   "metadata": {
    "application/vnd.databricks.v1+cell": {
     "cellMetadata": {},
     "inputWidgets": {},
     "nuid": "fa396500-d7b4-4734-84e1-7d48cd30a6dd",
     "showTitle": false,
     "tableResultSettingsMap": {},
     "title": ""
    }
   },
   "outputs": [
    {
     "output_type": "display_data",
     "data": {
      "text/html": [
       "<style scoped>\n",
       "  .ansiout {\n",
       "    display: block;\n",
       "    unicode-bidi: embed;\n",
       "    white-space: pre-wrap;\n",
       "    word-wrap: break-word;\n",
       "    word-break: break-all;\n",
       "    font-family: \"Menlo\", \"Monaco\", \"Consolas\", \"Ubuntu Mono\", \"Source Code Pro\", monospace;\n",
       "    font-size: 13px;\n",
       "    color: #555;\n",
       "    margin-left: 4px;\n",
       "    line-height: 19px;\n",
       "  }\n",
       "</style>\n",
       "<div class=\"ansiout\"></div>"
      ]
     },
     "metadata": {
      "application/vnd.databricks.v1+output": {
       "addedWidgets": {},
       "arguments": {},
       "data": "<div class=\"ansiout\"></div>",
       "datasetInfos": [],
       "metadata": {},
       "removedWidgets": [],
       "type": "html"
      }
     },
     "output_type": "display_data"
    }
   ],
   "source": [
    "## ดึง กลุ่มตัวอย่าง ที่มี Last Active ในช่วงเดือน Dec 01 - Jan 01\n",
    "\n",
    "user_last_purchase = df_get_last.groupby(['id']).agg({'SuccessDate_2':max})\\\n",
    "                    .rename(columns={'SuccessDate_2' : 'last_purchase'}).reset_index()\n",
    "\n",
    "user_last_pur = user_last_purchase[(user_last_purchase['last_purchase'] >= '2020-12-01') & \n",
    "                                  (user_last_purchase['last_purchase'] <= '2021-01-01')]"
   ]
  },
  {
   "cell_type": "code",
   "execution_count": 0,
   "metadata": {
    "application/vnd.databricks.v1+cell": {
     "cellMetadata": {},
     "inputWidgets": {},
     "nuid": "e804282f-21cd-4aab-bd0e-c911c676e648",
     "showTitle": false,
     "tableResultSettingsMap": {},
     "title": ""
    }
   },
   "outputs": [
    {
     "output_type": "display_data",
     "data": {
      "text/html": [
       "<style scoped>\n",
       "  .ansiout {\n",
       "    display: block;\n",
       "    unicode-bidi: embed;\n",
       "    white-space: pre-wrap;\n",
       "    word-wrap: break-word;\n",
       "    word-break: break-all;\n",
       "    font-family: \"Menlo\", \"Monaco\", \"Consolas\", \"Ubuntu Mono\", \"Source Code Pro\", monospace;\n",
       "    font-size: 13px;\n",
       "    color: #555;\n",
       "    margin-left: 4px;\n",
       "    line-height: 19px;\n",
       "  }\n",
       "</style>\n",
       "<div class=\"ansiout\"></div>"
      ]
     },
     "metadata": {
      "application/vnd.databricks.v1+output": {
       "addedWidgets": {},
       "arguments": {},
       "data": "<div class=\"ansiout\"></div>",
       "datasetInfos": [],
       "metadata": {},
       "removedWidgets": [],
       "type": "html"
      }
     },
     "output_type": "display_data"
    }
   ],
   "source": [
    "filtered_pd_aa = filtered_pd[filtered_pd['id'].isin(user_last_pur['id'].unique())]"
   ]
  },
  {
   "cell_type": "code",
   "execution_count": 0,
   "metadata": {
    "application/vnd.databricks.v1+cell": {
     "cellMetadata": {},
     "inputWidgets": {},
     "nuid": "913371f7-a30d-4112-9db5-31ef191a937f",
     "showTitle": false,
     "tableResultSettingsMap": {},
     "title": ""
    }
   },
   "outputs": [],
   "source": [
    "filtered_pd_aa"
   ]
  },
  {
   "cell_type": "markdown",
   "metadata": {
    "application/vnd.databricks.v1+cell": {
     "cellMetadata": {},
     "inputWidgets": {},
     "nuid": "367f5c64-e854-4a77-9eef-5622650c2da6",
     "showTitle": false,
     "tableResultSettingsMap": {},
     "title": ""
    }
   },
   "source": [
    "#8 หา Purchase Actual ของ กลุ่มตัวอย่าง ที่มีการ Purchase ในเดือน 2-3"
   ]
  },
  {
   "cell_type": "code",
   "execution_count": 0,
   "metadata": {
    "application/vnd.databricks.v1+cell": {
     "cellMetadata": {},
     "inputWidgets": {},
     "nuid": "19ea6bd2-03c3-4407-8503-e0afb4b49efa",
     "showTitle": false,
     "tableResultSettingsMap": {},
     "title": ""
    }
   },
   "outputs": [],
   "source": [
    "actual_frequency_2 = df_rfa_2_1[(df_rfa_2_1['SuccessDate_2'] >= '2021-01-01') & \n",
    "                                      (df_rfa_2_1['SuccessDate_2'] <= '2021-03-02')]\n",
    "\n",
    "\n",
    "\n",
    "df_lapse_formap = autolaps[['id','productname','successdate','consumptiondays','repurchase_alrt']]\n",
    "\n",
    "df_lapse_formap_1 = df_lapse_formap[(df_lapse_formap['SuccessDate'] >= '2021-01-01') & \n",
    "                                      (df_lapse_formap['SuccessDate'] <= '2021-03-02')]\n",
    "df_lapse_formap_1"
   ]
  },
  {
   "cell_type": "code",
   "execution_count": 0,
   "metadata": {
    "application/vnd.databricks.v1+cell": {
     "cellMetadata": {},
     "inputWidgets": {},
     "nuid": "40a49106-208b-4cfc-8a02-31f8d1337a87",
     "showTitle": false,
     "tableResultSettingsMap": {},
     "title": ""
    }
   },
   "outputs": [
    {
     "output_type": "display_data",
     "data": {
      "text/html": [
       "<style scoped>\n",
       "  .ansiout {\n",
       "    display: block;\n",
       "    unicode-bidi: embed;\n",
       "    white-space: pre-wrap;\n",
       "    word-wrap: break-word;\n",
       "    word-break: break-all;\n",
       "    font-family: \"Menlo\", \"Monaco\", \"Consolas\", \"Ubuntu Mono\", \"Source Code Pro\", monospace;\n",
       "    font-size: 13px;\n",
       "    color: #555;\n",
       "    margin-left: 4px;\n",
       "    line-height: 19px;\n",
       "  }\n",
       "</style>\n",
       "<div class=\"ansiout\"></div>"
      ]
     },
     "metadata": {
      "application/vnd.databricks.v1+output": {
       "addedWidgets": {},
       "arguments": {},
       "data": "<div class=\"ansiout\"></div>",
       "datasetInfos": [],
       "metadata": {},
       "removedWidgets": [],
       "type": "html"
      }
     },
     "output_type": "display_data"
    }
   ],
   "source": [
    "actual_frequency_2 = actual_frequency_2[['id','SuccessDate','SuccessDate_2']]"
   ]
  },
  {
   "cell_type": "code",
   "execution_count": 0,
   "metadata": {
    "application/vnd.databricks.v1+cell": {
     "cellMetadata": {},
     "inputWidgets": {},
     "nuid": "6dec355f-ff78-490d-b118-6f0b15ac2208",
     "showTitle": false,
     "tableResultSettingsMap": {},
     "title": ""
    }
   },
   "outputs": [],
   "source": [
    "actual_frequency_2"
   ]
  },
  {
   "cell_type": "code",
   "execution_count": 0,
   "metadata": {
    "application/vnd.databricks.v1+cell": {
     "cellMetadata": {},
     "inputWidgets": {},
     "nuid": "c836b63f-f48f-4a62-b5c5-b8794b4f7008",
     "showTitle": false,
     "tableResultSettingsMap": {},
     "title": ""
    }
   },
   "outputs": [
    {
     "output_type": "display_data",
     "data": {
      "text/html": [
       "<style scoped>\n",
       "  .ansiout {\n",
       "    display: block;\n",
       "    unicode-bidi: embed;\n",
       "    white-space: pre-wrap;\n",
       "    word-wrap: break-word;\n",
       "    word-break: break-all;\n",
       "    font-family: \"Menlo\", \"Monaco\", \"Consolas\", \"Ubuntu Mono\", \"Source Code Pro\", monospace;\n",
       "    font-size: 13px;\n",
       "    color: #555;\n",
       "    margin-left: 4px;\n",
       "    line-height: 19px;\n",
       "  }\n",
       "</style>\n",
       "<div class=\"ansiout\"></div>"
      ]
     },
     "metadata": {
      "application/vnd.databricks.v1+output": {
       "addedWidgets": {},
       "arguments": {},
       "data": "<div class=\"ansiout\"></div>",
       "datasetInfos": [],
       "metadata": {},
       "removedWidgets": [],
       "type": "html"
      }
     },
     "output_type": "display_data"
    }
   ],
   "source": [
    "df_lapse_formap_1_1 = df_lapse_formap_1.groupby(['id','SuccessDate']).sum().reset_index()"
   ]
  },
  {
   "cell_type": "code",
   "execution_count": 0,
   "metadata": {
    "application/vnd.databricks.v1+cell": {
     "cellMetadata": {},
     "inputWidgets": {},
     "nuid": "a1079f1b-204a-46e1-8d5d-f765c7965848",
     "showTitle": false,
     "tableResultSettingsMap": {},
     "title": ""
    }
   },
   "outputs": [
    {
     "output_type": "display_data",
     "data": {
      "text/html": [
       "<style scoped>\n",
       "  .ansiout {\n",
       "    display: block;\n",
       "    unicode-bidi: embed;\n",
       "    white-space: pre-wrap;\n",
       "    word-wrap: break-word;\n",
       "    word-break: break-all;\n",
       "    font-family: \"Menlo\", \"Monaco\", \"Consolas\", \"Ubuntu Mono\", \"Source Code Pro\", monospace;\n",
       "    font-size: 13px;\n",
       "    color: #555;\n",
       "    margin-left: 4px;\n",
       "    line-height: 19px;\n",
       "  }\n",
       "</style>\n",
       "<div class=\"ansiout\"></div>"
      ]
     },
     "metadata": {
      "application/vnd.databricks.v1+output": {
       "addedWidgets": {},
       "arguments": {},
       "data": "<div class=\"ansiout\"></div>",
       "datasetInfos": [],
       "metadata": {},
       "removedWidgets": [],
       "type": "html"
      }
     },
     "output_type": "display_data"
    }
   ],
   "source": [
    "test = actual_frequency_2.merge(df_lapse_formap_1_1 ,on=['id','SuccessDate'] , how='left')"
   ]
  },
  {
   "cell_type": "code",
   "execution_count": 0,
   "metadata": {
    "application/vnd.databricks.v1+cell": {
     "cellMetadata": {},
     "inputWidgets": {},
     "nuid": "bcb3dfa6-3129-42cc-9032-fb5cc1af9e1c",
     "showTitle": false,
     "tableResultSettingsMap": {},
     "title": ""
    }
   },
   "outputs": [],
   "source": [
    "test.head()"
   ]
  },
  {
   "cell_type": "code",
   "execution_count": 0,
   "metadata": {
    "application/vnd.databricks.v1+cell": {
     "cellMetadata": {},
     "inputWidgets": {},
     "nuid": "8eecee96-eb63-4d3f-8ec9-33a14a3b6a61",
     "showTitle": false,
     "tableResultSettingsMap": {},
     "title": ""
    }
   },
   "outputs": [
    {
     "output_type": "display_data",
     "data": {
      "text/html": [
       "<style scoped>\n",
       "  .ansiout {\n",
       "    display: block;\n",
       "    unicode-bidi: embed;\n",
       "    white-space: pre-wrap;\n",
       "    word-wrap: break-word;\n",
       "    word-break: break-all;\n",
       "    font-family: \"Menlo\", \"Monaco\", \"Consolas\", \"Ubuntu Mono\", \"Source Code Pro\", monospace;\n",
       "    font-size: 13px;\n",
       "    color: #555;\n",
       "    margin-left: 4px;\n",
       "    line-height: 19px;\n",
       "  }\n",
       "</style>\n",
       "<div class=\"ansiout\">Out[286]: (68710, 4)</div>"
      ]
     },
     "metadata": {
      "application/vnd.databricks.v1+output": {
       "addedWidgets": {},
       "arguments": {},
       "data": "<div class=\"ansiout\">Out[286]: (68710, 4)</div>",
       "datasetInfos": [],
       "metadata": {},
       "removedWidgets": [],
       "type": "html"
      }
     },
     "output_type": "display_data"
    }
   ],
   "source": [
    "test.shape"
   ]
  },
  {
   "cell_type": "code",
   "execution_count": 0,
   "metadata": {
    "application/vnd.databricks.v1+cell": {
     "cellMetadata": {},
     "inputWidgets": {},
     "nuid": "62d31709-1a83-4b2a-8ae9-b2a038e067d6",
     "showTitle": false,
     "tableResultSettingsMap": {},
     "title": ""
    }
   },
   "outputs": [
    {
     "output_type": "display_data",
     "data": {
      "text/html": [
       "<style scoped>\n",
       "  .ansiout {\n",
       "    display: block;\n",
       "    unicode-bidi: embed;\n",
       "    white-space: pre-wrap;\n",
       "    word-wrap: break-word;\n",
       "    word-break: break-all;\n",
       "    font-family: \"Menlo\", \"Monaco\", \"Consolas\", \"Ubuntu Mono\", \"Source Code Pro\", monospace;\n",
       "    font-size: 13px;\n",
       "    color: #555;\n",
       "    margin-left: 4px;\n",
       "    line-height: 19px;\n",
       "  }\n",
       "</style>\n",
       "<div class=\"ansiout\"></div>"
      ]
     },
     "metadata": {
      "application/vnd.databricks.v1+output": {
       "addedWidgets": {},
       "arguments": {},
       "data": "<div class=\"ansiout\"></div>",
       "datasetInfos": [],
       "metadata": {},
       "removedWidgets": [],
       "type": "html"
      }
     },
     "output_type": "display_data"
    }
   ],
   "source": [
    "test_1 = test.merge(df_lapse_formap_1.drop(columns='consumptiondays').drop_duplicates(),\n",
    "           on=['id','SuccessDate'] , how='left')"
   ]
  },
  {
   "cell_type": "code",
   "execution_count": 0,
   "metadata": {
    "application/vnd.databricks.v1+cell": {
     "cellMetadata": {},
     "inputWidgets": {},
     "nuid": "e7df1faf-09ba-4d83-b852-4de771b0cd3f",
     "showTitle": false,
     "tableResultSettingsMap": {},
     "title": ""
    }
   },
   "outputs": [],
   "source": [
    "test_1"
   ]
  },
  {
   "cell_type": "code",
   "execution_count": 0,
   "metadata": {
    "application/vnd.databricks.v1+cell": {
     "cellMetadata": {},
     "inputWidgets": {},
     "nuid": "f238c039-4622-4e1a-929d-4d652e715b98",
     "showTitle": false,
     "tableResultSettingsMap": {},
     "title": ""
    }
   },
   "outputs": [],
   "source": [
    "test_1['consumptiondays'] = test_1['consumptiondays'].fillna(13)"
   ]
  },
  {
   "cell_type": "code",
   "execution_count": 0,
   "metadata": {
    "application/vnd.databricks.v1+cell": {
     "cellMetadata": {},
     "inputWidgets": {},
     "nuid": "96f8c720-3ea3-4e7b-ad77-aca5ea5f0c94",
     "showTitle": false,
     "tableResultSettingsMap": {},
     "title": ""
    }
   },
   "outputs": [],
   "source": [
    "test_1.sort_values(by='consumptiondays' , ascending=False)"
   ]
  },
  {
   "cell_type": "code",
   "execution_count": 0,
   "metadata": {
    "application/vnd.databricks.v1+cell": {
     "cellMetadata": {},
     "inputWidgets": {},
     "nuid": "8e39376f-3b14-48bc-bf79-ac35f29b3636",
     "showTitle": false,
     "tableResultSettingsMap": {},
     "title": ""
    }
   },
   "outputs": [
    {
     "output_type": "display_data",
     "data": {
      "text/html": [
       "<style scoped>\n",
       "  .ansiout {\n",
       "    display: block;\n",
       "    unicode-bidi: embed;\n",
       "    white-space: pre-wrap;\n",
       "    word-wrap: break-word;\n",
       "    word-break: break-all;\n",
       "    font-family: \"Menlo\", \"Monaco\", \"Consolas\", \"Ubuntu Mono\", \"Source Code Pro\", monospace;\n",
       "    font-size: 13px;\n",
       "    color: #555;\n",
       "    margin-left: 4px;\n",
       "    line-height: 19px;\n",
       "  }\n",
       "</style>\n",
       "<div class=\"ansiout\"></div>"
      ]
     },
     "metadata": {
      "application/vnd.databricks.v1+output": {
       "addedWidgets": {},
       "arguments": {},
       "data": "<div class=\"ansiout\"></div>",
       "datasetInfos": [],
       "metadata": {},
       "removedWidgets": [],
       "type": "html"
      }
     },
     "output_type": "display_data"
    }
   ],
   "source": [
    "#test.drop(columns='SuccessDate_2' , inplace=True)\n",
    "test_1 = test_1[test_1['consumptiondays'] <= 65]"
   ]
  },
  {
   "cell_type": "code",
   "execution_count": 0,
   "metadata": {
    "application/vnd.databricks.v1+cell": {
     "cellMetadata": {},
     "inputWidgets": {},
     "nuid": "4b38eaf9-b10a-48e2-ac27-53456503964d",
     "showTitle": false,
     "tableResultSettingsMap": {},
     "title": ""
    }
   },
   "outputs": [
    {
     "output_type": "display_data",
     "data": {
      "text/html": [
       "<style scoped>\n",
       "  .ansiout {\n",
       "    display: block;\n",
       "    unicode-bidi: embed;\n",
       "    white-space: pre-wrap;\n",
       "    word-wrap: break-word;\n",
       "    word-break: break-all;\n",
       "    font-family: \"Menlo\", \"Monaco\", \"Consolas\", \"Ubuntu Mono\", \"Source Code Pro\", monospace;\n",
       "    font-size: 13px;\n",
       "    color: #555;\n",
       "    margin-left: 4px;\n",
       "    line-height: 19px;\n",
       "  }\n",
       "</style>\n",
       "<div class=\"ansiout\"></div>"
      ]
     },
     "metadata": {
      "application/vnd.databricks.v1+output": {
       "addedWidgets": {},
       "arguments": {},
       "data": "<div class=\"ansiout\"></div>",
       "datasetInfos": [],
       "metadata": {},
       "removedWidgets": [],
       "type": "html"
      }
     },
     "output_type": "display_data"
    }
   ],
   "source": [
    "test_2 = test_1.groupby(['id'],as_index=False)\\\n",
    "                  .agg({'SuccessDate_2':'nunique'})\\\n",
    "                  .rename(columns={'SuccessDate_2':'Frequency_count_date'})"
   ]
  },
  {
   "cell_type": "code",
   "execution_count": 0,
   "metadata": {
    "application/vnd.databricks.v1+cell": {
     "cellMetadata": {},
     "inputWidgets": {},
     "nuid": "9609fdc1-ba6f-4940-b810-5bb74ab6669e",
     "showTitle": false,
     "tableResultSettingsMap": {},
     "title": ""
    }
   },
   "outputs": [],
   "source": [
    "test_2.sort_values(by='Frequency_count_date' ,ascending=False)"
   ]
  },
  {
   "cell_type": "code",
   "execution_count": 0,
   "metadata": {
    "application/vnd.databricks.v1+cell": {
     "cellMetadata": {},
     "inputWidgets": {},
     "nuid": "03c98d4f-38f6-4c8f-9627-4148a20fe559",
     "showTitle": false,
     "tableResultSettingsMap": {},
     "title": ""
    }
   },
   "outputs": [
    {
     "output_type": "display_data",
     "data": {
      "text/html": [
       "<style scoped>\n",
       "  .ansiout {\n",
       "    display: block;\n",
       "    unicode-bidi: embed;\n",
       "    white-space: pre-wrap;\n",
       "    word-wrap: break-word;\n",
       "    word-break: break-all;\n",
       "    font-family: \"Menlo\", \"Monaco\", \"Consolas\", \"Ubuntu Mono\", \"Source Code Pro\", monospace;\n",
       "    font-size: 13px;\n",
       "    color: #555;\n",
       "    margin-left: 4px;\n",
       "    line-height: 19px;\n",
       "  }\n",
       "</style>\n",
       "<div class=\"ansiout\"></div>"
      ]
     },
     "metadata": {
      "application/vnd.databricks.v1+output": {
       "addedWidgets": {},
       "arguments": {},
       "data": "<div class=\"ansiout\"></div>",
       "datasetInfos": [],
       "metadata": {},
       "removedWidgets": [],
       "type": "html"
      }
     },
     "output_type": "display_data"
    }
   ],
   "source": [
    "cut = filtered_pd_aa.merge(test_2,on=['id'],how='left' ).fillna(0)"
   ]
  },
  {
   "cell_type": "code",
   "execution_count": 0,
   "metadata": {
    "application/vnd.databricks.v1+cell": {
     "cellMetadata": {},
     "inputWidgets": {},
     "nuid": "702fdcf7-f146-4bac-980a-5619357a292a",
     "showTitle": false,
     "tableResultSettingsMap": {},
     "title": ""
    }
   },
   "outputs": [],
   "source": [
    "cut.sort_values(by='% of prob_alive')"
   ]
  },
  {
   "cell_type": "code",
   "execution_count": 0,
   "metadata": {
    "application/vnd.databricks.v1+cell": {
     "cellMetadata": {},
     "inputWidgets": {},
     "nuid": "b61dce60-8f42-48c0-9fc0-758f3c7ed9e9",
     "showTitle": false,
     "tableResultSettingsMap": {},
     "title": ""
    }
   },
   "outputs": [
    {
     "output_type": "display_data",
     "data": {
      "text/html": [
       "<style scoped>\n",
       "  .ansiout {\n",
       "    display: block;\n",
       "    unicode-bidi: embed;\n",
       "    white-space: pre-wrap;\n",
       "    word-wrap: break-word;\n",
       "    word-break: break-all;\n",
       "    font-family: \"Menlo\", \"Monaco\", \"Consolas\", \"Ubuntu Mono\", \"Source Code Pro\", monospace;\n",
       "    font-size: 13px;\n",
       "    color: #555;\n",
       "    margin-left: 4px;\n",
       "    line-height: 19px;\n",
       "  }\n",
       "</style>\n",
       "<div class=\"ansiout\">Out[399]: (5874, 8)</div>"
      ]
     },
     "metadata": {
      "application/vnd.databricks.v1+output": {
       "addedWidgets": {},
       "arguments": {},
       "data": "<div class=\"ansiout\">Out[399]: (5874, 8)</div>",
       "datasetInfos": [],
       "metadata": {},
       "removedWidgets": [],
       "type": "html"
      }
     },
     "output_type": "display_data"
    }
   ],
   "source": [
    "cut.shape"
   ]
  },
  {
   "cell_type": "code",
   "execution_count": 0,
   "metadata": {
    "application/vnd.databricks.v1+cell": {
     "cellMetadata": {},
     "inputWidgets": {},
     "nuid": "4e70be82-c630-45a5-a2ec-1a3aa43f5079",
     "showTitle": false,
     "tableResultSettingsMap": {},
     "title": ""
    }
   },
   "outputs": [],
   "source": [
    "cut[cut['purchases_next60days'] < 3.2]"
   ]
  },
  {
   "cell_type": "code",
   "execution_count": 0,
   "metadata": {
    "application/vnd.databricks.v1+cell": {
     "cellMetadata": {},
     "inputWidgets": {},
     "nuid": "5086cb90-2d0d-4d29-9676-8e52fdbaae2f",
     "showTitle": false,
     "tableResultSettingsMap": {},
     "title": ""
    }
   },
   "outputs": [
    {
     "output_type": "display_data",
     "data": {
      "text/html": [
       "<style scoped>\n",
       "  .ansiout {\n",
       "    display: block;\n",
       "    unicode-bidi: embed;\n",
       "    white-space: pre-wrap;\n",
       "    word-wrap: break-word;\n",
       "    word-break: break-all;\n",
       "    font-family: \"Menlo\", \"Monaco\", \"Consolas\", \"Ubuntu Mono\", \"Source Code Pro\", monospace;\n",
       "    font-size: 13px;\n",
       "    color: #555;\n",
       "    margin-left: 4px;\n",
       "    line-height: 19px;\n",
       "  }\n",
       "</style>\n",
       "<div class=\"ansiout\">Out[401]: </div>"
      ]
     },
     "metadata": {
      "application/vnd.databricks.v1+output": {
       "addedWidgets": {},
       "arguments": {},
       "data": "<div class=\"ansiout\">Out[401]: </div>",
       "datasetInfos": [],
       "metadata": {},
       "removedWidgets": [],
       "type": "html"
      }
     },
     "output_type": "display_data"
    },
    {
     "output_type": "display_data",
     "data": {
      "text/html": [
       "<div>\n",
       "<style scoped>\n",
       "    .dataframe tbody tr th:only-of-type {\n",
       "        vertical-align: middle;\n",
       "    }\n",
       "\n",
       "    .dataframe tbody tr th {\n",
       "        vertical-align: top;\n",
       "    }\n",
       "\n",
       "    .dataframe thead th {\n",
       "        text-align: right;\n",
       "    }\n",
       "</style>\n",
       "<table border=\"1\" class=\"dataframe\">\n",
       "  <thead>\n",
       "    <tr style=\"text-align: right;\">\n",
       "      <th></th>\n",
       "      <th>prd_purchase_key</th>\n",
       "      <th>score</th>\n",
       "      <th>count_user</th>\n",
       "      <th>count_user_isactual</th>\n",
       "    </tr>\n",
       "  </thead>\n",
       "  <tbody>\n",
       "    <tr>\n",
       "      <th>60</th>\n",
       "      <td>prd_purchase =6.1</td>\n",
       "      <td>0.748</td>\n",
       "      <td>5334</td>\n",
       "      <td>3989</td>\n",
       "    </tr>\n",
       "    <tr>\n",
       "      <th>61</th>\n",
       "      <td>prd_purchase =6.2</td>\n",
       "      <td>0.749</td>\n",
       "      <td>5358</td>\n",
       "      <td>4011</td>\n",
       "    </tr>\n",
       "    <tr>\n",
       "      <th>62</th>\n",
       "      <td>prd_purchase =6.3</td>\n",
       "      <td>0.750</td>\n",
       "      <td>5384</td>\n",
       "      <td>4037</td>\n",
       "    </tr>\n",
       "    <tr>\n",
       "      <th>63</th>\n",
       "      <td>prd_purchase =6.4</td>\n",
       "      <td>0.750</td>\n",
       "      <td>5411</td>\n",
       "      <td>4059</td>\n",
       "    </tr>\n",
       "    <tr>\n",
       "      <th>64</th>\n",
       "      <td>prd_purchase =6.5</td>\n",
       "      <td>0.751</td>\n",
       "      <td>5432</td>\n",
       "      <td>4078</td>\n",
       "    </tr>\n",
       "    <tr>\n",
       "      <th>65</th>\n",
       "      <td>prd_purchase =6.6</td>\n",
       "      <td>0.751</td>\n",
       "      <td>5454</td>\n",
       "      <td>4098</td>\n",
       "    </tr>\n",
       "    <tr>\n",
       "      <th>66</th>\n",
       "      <td>prd_purchase =6.7</td>\n",
       "      <td>0.752</td>\n",
       "      <td>5470</td>\n",
       "      <td>4114</td>\n",
       "    </tr>\n",
       "    <tr>\n",
       "      <th>67</th>\n",
       "      <td>prd_purchase =6.8</td>\n",
       "      <td>0.753</td>\n",
       "      <td>5493</td>\n",
       "      <td>4135</td>\n",
       "    </tr>\n",
       "    <tr>\n",
       "      <th>68</th>\n",
       "      <td>prd_purchase =6.9</td>\n",
       "      <td>0.753</td>\n",
       "      <td>5508</td>\n",
       "      <td>4148</td>\n",
       "    </tr>\n",
       "    <tr>\n",
       "      <th>69</th>\n",
       "      <td>prd_purchase =7.0</td>\n",
       "      <td>0.754</td>\n",
       "      <td>5529</td>\n",
       "      <td>4168</td>\n",
       "    </tr>\n",
       "    <tr>\n",
       "      <th>70</th>\n",
       "      <td>prd_purchase =7.1</td>\n",
       "      <td>0.754</td>\n",
       "      <td>5547</td>\n",
       "      <td>4185</td>\n",
       "    </tr>\n",
       "    <tr>\n",
       "      <th>71</th>\n",
       "      <td>prd_purchase =7.2</td>\n",
       "      <td>0.755</td>\n",
       "      <td>5557</td>\n",
       "      <td>4193</td>\n",
       "    </tr>\n",
       "    <tr>\n",
       "      <th>72</th>\n",
       "      <td>prd_purchase =7.3</td>\n",
       "      <td>0.755</td>\n",
       "      <td>5565</td>\n",
       "      <td>4201</td>\n",
       "    </tr>\n",
       "    <tr>\n",
       "      <th>73</th>\n",
       "      <td>prd_purchase =7.4</td>\n",
       "      <td>0.756</td>\n",
       "      <td>5580</td>\n",
       "      <td>4216</td>\n",
       "    </tr>\n",
       "    <tr>\n",
       "      <th>74</th>\n",
       "      <td>prd_purchase =7.5</td>\n",
       "      <td>0.756</td>\n",
       "      <td>5591</td>\n",
       "      <td>4226</td>\n",
       "    </tr>\n",
       "    <tr>\n",
       "      <th>75</th>\n",
       "      <td>prd_purchase =7.6</td>\n",
       "      <td>0.756</td>\n",
       "      <td>5604</td>\n",
       "      <td>4238</td>\n",
       "    </tr>\n",
       "    <tr>\n",
       "      <th>76</th>\n",
       "      <td>prd_purchase =7.7</td>\n",
       "      <td>0.757</td>\n",
       "      <td>5614</td>\n",
       "      <td>4248</td>\n",
       "    </tr>\n",
       "    <tr>\n",
       "      <th>77</th>\n",
       "      <td>prd_purchase =7.8</td>\n",
       "      <td>0.757</td>\n",
       "      <td>5620</td>\n",
       "      <td>4254</td>\n",
       "    </tr>\n",
       "    <tr>\n",
       "      <th>78</th>\n",
       "      <td>prd_purchase =7.9</td>\n",
       "      <td>0.758</td>\n",
       "      <td>5636</td>\n",
       "      <td>4270</td>\n",
       "    </tr>\n",
       "    <tr>\n",
       "      <th>79</th>\n",
       "      <td>prd_purchase =8.0</td>\n",
       "      <td>0.758</td>\n",
       "      <td>5652</td>\n",
       "      <td>4286</td>\n",
       "    </tr>\n",
       "    <tr>\n",
       "      <th>80</th>\n",
       "      <td>prd_purchase =8.1</td>\n",
       "      <td>0.758</td>\n",
       "      <td>5664</td>\n",
       "      <td>4296</td>\n",
       "    </tr>\n",
       "    <tr>\n",
       "      <th>81</th>\n",
       "      <td>prd_purchase =8.2</td>\n",
       "      <td>0.759</td>\n",
       "      <td>5672</td>\n",
       "      <td>4304</td>\n",
       "    </tr>\n",
       "    <tr>\n",
       "      <th>82</th>\n",
       "      <td>prd_purchase =8.3</td>\n",
       "      <td>0.759</td>\n",
       "      <td>5682</td>\n",
       "      <td>4313</td>\n",
       "    </tr>\n",
       "    <tr>\n",
       "      <th>83</th>\n",
       "      <td>prd_purchase =8.4</td>\n",
       "      <td>0.759</td>\n",
       "      <td>5689</td>\n",
       "      <td>4320</td>\n",
       "    </tr>\n",
       "    <tr>\n",
       "      <th>84</th>\n",
       "      <td>prd_purchase =8.5</td>\n",
       "      <td>0.759</td>\n",
       "      <td>5692</td>\n",
       "      <td>4323</td>\n",
       "    </tr>\n",
       "    <tr>\n",
       "      <th>85</th>\n",
       "      <td>prd_purchase =8.6</td>\n",
       "      <td>0.760</td>\n",
       "      <td>5698</td>\n",
       "      <td>4329</td>\n",
       "    </tr>\n",
       "    <tr>\n",
       "      <th>86</th>\n",
       "      <td>prd_purchase =8.7</td>\n",
       "      <td>0.760</td>\n",
       "      <td>5702</td>\n",
       "      <td>4332</td>\n",
       "    </tr>\n",
       "    <tr>\n",
       "      <th>87</th>\n",
       "      <td>prd_purchase =8.8</td>\n",
       "      <td>0.760</td>\n",
       "      <td>5709</td>\n",
       "      <td>4339</td>\n",
       "    </tr>\n",
       "    <tr>\n",
       "      <th>88</th>\n",
       "      <td>prd_purchase =8.9</td>\n",
       "      <td>0.760</td>\n",
       "      <td>5714</td>\n",
       "      <td>4344</td>\n",
       "    </tr>\n",
       "    <tr>\n",
       "      <th>89</th>\n",
       "      <td>prd_purchase =9.0</td>\n",
       "      <td>0.761</td>\n",
       "      <td>5725</td>\n",
       "      <td>4354</td>\n",
       "    </tr>\n",
       "    <tr>\n",
       "      <th>90</th>\n",
       "      <td>prd_purchase =9.1</td>\n",
       "      <td>0.761</td>\n",
       "      <td>5730</td>\n",
       "      <td>4359</td>\n",
       "    </tr>\n",
       "    <tr>\n",
       "      <th>91</th>\n",
       "      <td>prd_purchase =9.2</td>\n",
       "      <td>0.761</td>\n",
       "      <td>5734</td>\n",
       "      <td>4363</td>\n",
       "    </tr>\n",
       "    <tr>\n",
       "      <th>92</th>\n",
       "      <td>prd_purchase =9.3</td>\n",
       "      <td>0.761</td>\n",
       "      <td>5744</td>\n",
       "      <td>4373</td>\n",
       "    </tr>\n",
       "    <tr>\n",
       "      <th>93</th>\n",
       "      <td>prd_purchase =9.4</td>\n",
       "      <td>0.761</td>\n",
       "      <td>5744</td>\n",
       "      <td>4373</td>\n",
       "    </tr>\n",
       "    <tr>\n",
       "      <th>94</th>\n",
       "      <td>prd_purchase =9.5</td>\n",
       "      <td>0.761</td>\n",
       "      <td>5752</td>\n",
       "      <td>4380</td>\n",
       "    </tr>\n",
       "    <tr>\n",
       "      <th>95</th>\n",
       "      <td>prd_purchase =9.6</td>\n",
       "      <td>0.762</td>\n",
       "      <td>5758</td>\n",
       "      <td>4386</td>\n",
       "    </tr>\n",
       "    <tr>\n",
       "      <th>96</th>\n",
       "      <td>prd_purchase =9.7</td>\n",
       "      <td>0.762</td>\n",
       "      <td>5764</td>\n",
       "      <td>4392</td>\n",
       "    </tr>\n",
       "    <tr>\n",
       "      <th>97</th>\n",
       "      <td>prd_purchase =9.8</td>\n",
       "      <td>0.762</td>\n",
       "      <td>5767</td>\n",
       "      <td>4395</td>\n",
       "    </tr>\n",
       "    <tr>\n",
       "      <th>98</th>\n",
       "      <td>prd_purchase =9.9</td>\n",
       "      <td>0.762</td>\n",
       "      <td>5774</td>\n",
       "      <td>4402</td>\n",
       "    </tr>\n",
       "    <tr>\n",
       "      <th>99</th>\n",
       "      <td>prd_purchase =10.0</td>\n",
       "      <td>0.763</td>\n",
       "      <td>5781</td>\n",
       "      <td>4409</td>\n",
       "    </tr>\n",
       "  </tbody>\n",
       "</table>\n",
       "</div>"
      ]
     },
     "metadata": {
      "application/vnd.databricks.v1+output": {
       "addedWidgets": {},
       "arguments": {},
       "data": "<div>\n<style scoped>\n    .dataframe tbody tr th:only-of-type {\n        vertical-align: middle;\n    }\n\n    .dataframe tbody tr th {\n        vertical-align: top;\n    }\n\n    .dataframe thead th {\n        text-align: right;\n    }\n</style>\n<table border=\"1\" class=\"dataframe\">\n  <thead>\n    <tr style=\"text-align: right;\">\n      <th></th>\n      <th>prd_purchase_key</th>\n      <th>score</th>\n      <th>count_user</th>\n      <th>count_user_isactual</th>\n    </tr>\n  </thead>\n  <tbody>\n    <tr>\n      <th>60</th>\n      <td>prd_purchase =6.1</td>\n      <td>0.748</td>\n      <td>5334</td>\n      <td>3989</td>\n    </tr>\n    <tr>\n      <th>61</th>\n      <td>prd_purchase =6.2</td>\n      <td>0.749</td>\n      <td>5358</td>\n      <td>4011</td>\n    </tr>\n    <tr>\n      <th>62</th>\n      <td>prd_purchase =6.3</td>\n      <td>0.750</td>\n      <td>5384</td>\n      <td>4037</td>\n    </tr>\n    <tr>\n      <th>63</th>\n      <td>prd_purchase =6.4</td>\n      <td>0.750</td>\n      <td>5411</td>\n      <td>4059</td>\n    </tr>\n    <tr>\n      <th>64</th>\n      <td>prd_purchase =6.5</td>\n      <td>0.751</td>\n      <td>5432</td>\n      <td>4078</td>\n    </tr>\n    <tr>\n      <th>65</th>\n      <td>prd_purchase =6.6</td>\n      <td>0.751</td>\n      <td>5454</td>\n      <td>4098</td>\n    </tr>\n    <tr>\n      <th>66</th>\n      <td>prd_purchase =6.7</td>\n      <td>0.752</td>\n      <td>5470</td>\n      <td>4114</td>\n    </tr>\n    <tr>\n      <th>67</th>\n      <td>prd_purchase =6.8</td>\n      <td>0.753</td>\n      <td>5493</td>\n      <td>4135</td>\n    </tr>\n    <tr>\n      <th>68</th>\n      <td>prd_purchase =6.9</td>\n      <td>0.753</td>\n      <td>5508</td>\n      <td>4148</td>\n    </tr>\n    <tr>\n      <th>69</th>\n      <td>prd_purchase =7.0</td>\n      <td>0.754</td>\n      <td>5529</td>\n      <td>4168</td>\n    </tr>\n    <tr>\n      <th>70</th>\n      <td>prd_purchase =7.1</td>\n      <td>0.754</td>\n      <td>5547</td>\n      <td>4185</td>\n    </tr>\n    <tr>\n      <th>71</th>\n      <td>prd_purchase =7.2</td>\n      <td>0.755</td>\n      <td>5557</td>\n      <td>4193</td>\n    </tr>\n    <tr>\n      <th>72</th>\n      <td>prd_purchase =7.3</td>\n      <td>0.755</td>\n      <td>5565</td>\n      <td>4201</td>\n    </tr>\n    <tr>\n      <th>73</th>\n      <td>prd_purchase =7.4</td>\n      <td>0.756</td>\n      <td>5580</td>\n      <td>4216</td>\n    </tr>\n    <tr>\n      <th>74</th>\n      <td>prd_purchase =7.5</td>\n      <td>0.756</td>\n      <td>5591</td>\n      <td>4226</td>\n    </tr>\n    <tr>\n      <th>75</th>\n      <td>prd_purchase =7.6</td>\n      <td>0.756</td>\n      <td>5604</td>\n      <td>4238</td>\n    </tr>\n    <tr>\n      <th>76</th>\n      <td>prd_purchase =7.7</td>\n      <td>0.757</td>\n      <td>5614</td>\n      <td>4248</td>\n    </tr>\n    <tr>\n      <th>77</th>\n      <td>prd_purchase =7.8</td>\n      <td>0.757</td>\n      <td>5620</td>\n      <td>4254</td>\n    </tr>\n    <tr>\n      <th>78</th>\n      <td>prd_purchase =7.9</td>\n      <td>0.758</td>\n      <td>5636</td>\n      <td>4270</td>\n    </tr>\n    <tr>\n      <th>79</th>\n      <td>prd_purchase =8.0</td>\n      <td>0.758</td>\n      <td>5652</td>\n      <td>4286</td>\n    </tr>\n    <tr>\n      <th>80</th>\n      <td>prd_purchase =8.1</td>\n      <td>0.758</td>\n      <td>5664</td>\n      <td>4296</td>\n    </tr>\n    <tr>\n      <th>81</th>\n      <td>prd_purchase =8.2</td>\n      <td>0.759</td>\n      <td>5672</td>\n      <td>4304</td>\n    </tr>\n    <tr>\n      <th>82</th>\n      <td>prd_purchase =8.3</td>\n      <td>0.759</td>\n      <td>5682</td>\n      <td>4313</td>\n    </tr>\n    <tr>\n      <th>83</th>\n      <td>prd_purchase =8.4</td>\n      <td>0.759</td>\n      <td>5689</td>\n      <td>4320</td>\n    </tr>\n    <tr>\n      <th>84</th>\n      <td>prd_purchase =8.5</td>\n      <td>0.759</td>\n      <td>5692</td>\n      <td>4323</td>\n    </tr>\n    <tr>\n      <th>85</th>\n      <td>prd_purchase =8.6</td>\n      <td>0.760</td>\n      <td>5698</td>\n      <td>4329</td>\n    </tr>\n    <tr>\n      <th>86</th>\n      <td>prd_purchase =8.7</td>\n      <td>0.760</td>\n      <td>5702</td>\n      <td>4332</td>\n    </tr>\n    <tr>\n      <th>87</th>\n      <td>prd_purchase =8.8</td>\n      <td>0.760</td>\n      <td>5709</td>\n      <td>4339</td>\n    </tr>\n    <tr>\n      <th>88</th>\n      <td>prd_purchase =8.9</td>\n      <td>0.760</td>\n      <td>5714</td>\n      <td>4344</td>\n    </tr>\n    <tr>\n      <th>89</th>\n      <td>prd_purchase =9.0</td>\n      <td>0.761</td>\n      <td>5725</td>\n      <td>4354</td>\n    </tr>\n    <tr>\n      <th>90</th>\n      <td>prd_purchase =9.1</td>\n      <td>0.761</td>\n      <td>5730</td>\n      <td>4359</td>\n    </tr>\n    <tr>\n      <th>91</th>\n      <td>prd_purchase =9.2</td>\n      <td>0.761</td>\n      <td>5734</td>\n      <td>4363</td>\n    </tr>\n    <tr>\n      <th>92</th>\n      <td>prd_purchase =9.3</td>\n      <td>0.761</td>\n      <td>5744</td>\n      <td>4373</td>\n    </tr>\n    <tr>\n      <th>93</th>\n      <td>prd_purchase =9.4</td>\n      <td>0.761</td>\n      <td>5744</td>\n      <td>4373</td>\n    </tr>\n    <tr>\n      <th>94</th>\n      <td>prd_purchase =9.5</td>\n      <td>0.761</td>\n      <td>5752</td>\n      <td>4380</td>\n    </tr>\n    <tr>\n      <th>95</th>\n      <td>prd_purchase =9.6</td>\n      <td>0.762</td>\n      <td>5758</td>\n      <td>4386</td>\n    </tr>\n    <tr>\n      <th>96</th>\n      <td>prd_purchase =9.7</td>\n      <td>0.762</td>\n      <td>5764</td>\n      <td>4392</td>\n    </tr>\n    <tr>\n      <th>97</th>\n      <td>prd_purchase =9.8</td>\n      <td>0.762</td>\n      <td>5767</td>\n      <td>4395</td>\n    </tr>\n    <tr>\n      <th>98</th>\n      <td>prd_purchase =9.9</td>\n      <td>0.762</td>\n      <td>5774</td>\n      <td>4402</td>\n    </tr>\n    <tr>\n      <th>99</th>\n      <td>prd_purchase =10.0</td>\n      <td>0.763</td>\n      <td>5781</td>\n      <td>4409</td>\n    </tr>\n  </tbody>\n</table>\n</div>",
       "datasetInfos": [],
       "metadata": {},
       "removedWidgets": [],
       "textData": null,
       "type": "htmlSandbox"
      }
     },
     "output_type": "display_data"
    }
   ],
   "source": [
    "nb = Threshold_explore(cut,cut['purchases_next60days'].max())\n",
    "nb.iloc[60:100]"
   ]
  }
 ],
 "metadata": {
  "application/vnd.databricks.v1+notebook": {
   "computePreferences": null,
   "dashboards": [],
   "environmentMetadata": null,
   "language": "python",
   "notebookMetadata": {
    "pythonIndentUnit": 2
   },
   "notebookName": "Customer Lifetime Values Draft1",
   "widgets": {
    "holdout days": {
     "currentValue": "400",
     "nuid": "e84a52f6-4ef7-4ea7-b113-e9f5de4b7ffd",
     "typedWidgetInfo": null,
     "widgetInfo": {
      "widgetType": "text",
      "defaultValue": "400",
      "label": null,
      "name": "holdout days",
      "options": {
       "widgetType": "text",
       "autoCreated": null,
       "validationRegex": null
      }
     }
    }
   }
  },
  "language_info": {
   "name": "python"
  }
 },
 "nbformat": 4,
 "nbformat_minor": 0
}