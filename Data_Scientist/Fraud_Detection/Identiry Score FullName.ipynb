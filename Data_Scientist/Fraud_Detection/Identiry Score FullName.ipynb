{
 "cells": [
  {
   "cell_type": "markdown",
   "metadata": {
    "application/vnd.databricks.v1+cell": {
     "cellMetadata": {
      "byteLimit": 2048000,
      "rowLimit": 10000
     },
     "inputWidgets": {},
     "nuid": "1ef9e07b-e9ab-422a-ba8f-4fb5a455a0a6",
     "showTitle": false,
     "tableResultSettingsMap": {},
     "title": ""
    }
   },
   "source": [
    "#Import Lib"
   ]
  },
  {
   "cell_type": "code",
   "execution_count": 0,
   "metadata": {
    "application/vnd.databricks.v1+cell": {
     "cellMetadata": {
      "byteLimit": 2048000,
      "rowLimit": 10000
     },
     "inputWidgets": {},
     "nuid": "3fc916b8-455a-42a0-9aa5-81a726447078",
     "showTitle": false,
     "tableResultSettingsMap": {},
     "title": ""
    }
   },
   "outputs": [
    {
     "output_type": "stream",
     "name": "stdout",
     "output_type": "stream",
     "text": [
      "Collecting langdetect\r\n  Downloading langdetect-1.0.9.tar.gz (981 kB)\r\n\u001B[?25l\r\u001B[K     |▍                               | 10 kB 18.5 MB/s eta 0:00:01\r\u001B[K     |▊                               | 20 kB 15.7 MB/s eta 0:00:01\r\u001B[K     |█                               | 30 kB 20.7 MB/s eta 0:00:01\r\u001B[K     |█▍                              | 40 kB 11.6 MB/s eta 0:00:01\r\u001B[K     |█▊                              | 51 kB 13.6 MB/s eta 0:00:01\r\u001B[K     |██                              | 61 kB 15.6 MB/s eta 0:00:01\r\u001B[K     |██▍                             | 71 kB 12.8 MB/s eta 0:00:01\r\u001B[K     |██▊                             | 81 kB 14.2 MB/s eta 0:00:01\r\u001B[K     |███                             | 92 kB 14.2 MB/s eta 0:00:01\r\u001B[K     |███▍                            | 102 kB 14.3 MB/s eta 0:00:01\r\u001B[K     |███▊                            | 112 kB 14.3 MB/s eta 0:00:01\r\u001B[K     |████                            | 122 kB 14.3 MB/s eta 0:00:01\r\u001B[K     |████▍                           | 133 kB 14.3 MB/s eta 0:00:01\r\u001B[K     |████▊                           | 143 kB 14.3 MB/s eta 0:00:01\r\u001B[K     |█████                           | 153 kB 14.3 MB/s eta 0:00:01\r\u001B[K     |█████▍                          | 163 kB 14.3 MB/s eta 0:00:01\r\u001B[K     |█████▊                          | 174 kB 14.3 MB/s eta 0:00:01\r\u001B[K     |██████                          | 184 kB 14.3 MB/s eta 0:00:01\r\u001B[K     |██████▍                         | 194 kB 14.3 MB/s eta 0:00:01\r\u001B[K     |██████▊                         | 204 kB 14.3 MB/s eta 0:00:01\r\u001B[K     |███████                         | 215 kB 14.3 MB/s eta 0:00:01\r\u001B[K     |███████▍                        | 225 kB 14.3 MB/s eta 0:00:01\r\u001B[K     |███████▊                        | 235 kB 14.3 MB/s eta 0:00:01\r\u001B[K     |████████                        | 245 kB 14.3 MB/s eta 0:00:01\r\u001B[K     |████████▍                       | 256 kB 14.3 MB/s eta 0:00:01\r\u001B[K     |████████▊                       | 266 kB 14.3 MB/s eta 0:00:01\r\u001B[K     |█████████                       | 276 kB 14.3 MB/s eta 0:00:01\r\u001B[K     |█████████▍                      | 286 kB 14.3 MB/s eta 0:00:01\r\u001B[K     |█████████▊                      | 296 kB 14.3 MB/s eta 0:00:01\r\u001B[K     |██████████                      | 307 kB 14.3 MB/s eta 0:00:01\r\u001B[K     |██████████▍                     | 317 kB 14.3 MB/s eta 0:00:01\r\u001B[K     |██████████▊                     | 327 kB 14.3 MB/s eta 0:00:01\r\u001B[K     |███████████                     | 337 kB 14.3 MB/s eta 0:00:01\r\u001B[K     |███████████▍                    | 348 kB 14.3 MB/s eta 0:00:01\r\u001B[K     |███████████▊                    | 358 kB 14.3 MB/s eta 0:00:01\r\u001B[K     |████████████                    | 368 kB 14.3 MB/s eta 0:00:01\r\u001B[K     |████████████▍                   | 378 kB 14.3 MB/s eta 0:00:01\r\u001B[K     |████████████▊                   | 389 kB 14.3 MB/s eta 0:00:01\r\u001B[K     |█████████████                   | 399 kB 14.3 MB/s eta 0:00:01\r\u001B[K     |█████████████▍                  | 409 kB 14.3 MB/s eta 0:00:01\r\u001B[K     |█████████████▊                  | 419 kB 14.3 MB/s eta 0:00:01\r\u001B[K     |██████████████                  | 430 kB 14.3 MB/s eta 0:00:01\r\u001B[K     |██████████████▍                 | 440 kB 14.3 MB/s eta 0:00:01\r\u001B[K     |██████████████▊                 | 450 kB 14.3 MB/s eta 0:00:01\r\u001B[K     |███████████████                 | 460 kB 14.3 MB/s eta 0:00:01\r\u001B[K     |███████████████▍                | 471 kB 14.3 MB/s eta 0:00:01\r\u001B[K     |███████████████▊                | 481 kB 14.3 MB/s eta 0:00:01\r\u001B[K     |████████████████                | 491 kB 14.3 MB/s eta 0:00:01\r\u001B[K     |████████████████▍               | 501 kB 14.3 MB/s eta 0:00:01\r\u001B[K     |████████████████▊               | 512 kB 14.3 MB/s eta 0:00:01\r\u001B[K     |█████████████████               | 522 kB 14.3 MB/s eta 0:00:01\r\u001B[K     |█████████████████▍              | 532 kB 14.3 MB/s eta 0:00:01\r\u001B[K     |█████████████████▊              | 542 kB 14.3 MB/s eta 0:00:01\r\u001B[K     |██████████████████              | 552 kB 14.3 MB/s eta 0:00:01\r\u001B[K     |██████████████████▍             | 563 kB 14.3 MB/s eta 0:00:01\r\u001B[K     |██████████████████▊             | 573 kB 14.3 MB/s eta 0:00:01\r\u001B[K     |███████████████████             | 583 kB 14.3 MB/s eta 0:00:01\r\u001B[K     |███████████████████▍            | 593 kB 14.3 MB/s eta 0:00:01\r\u001B[K     |███████████████████▊            | 604 kB 14.3 MB/s eta 0:00:01\r\u001B[K     |████████████████████            | 614 kB 14.3 MB/s eta 0:00:01\r\u001B[K     |████████████████████▍           | 624 kB 14.3 MB/s eta 0:00:01\r\u001B[K     |████████████████████▊           | 634 kB 14.3 MB/s eta 0:00:01\r\u001B[K     |█████████████████████           | 645 kB 14.3 MB/s eta 0:00:01\r\u001B[K     |█████████████████████▍          | 655 kB 14.3 MB/s eta 0:00:01\r\u001B[K     |█████████████████████▊          | 665 kB 14.3 MB/s eta 0:00:01\r\u001B[K     |██████████████████████          | 675 kB 14.3 MB/s eta 0:00:01\r\u001B[K     |██████████████████████▍         | 686 kB 14.3 MB/s eta 0:00:01\r\u001B[K     |██████████████████████▊         | 696 kB 14.3 MB/s eta 0:00:01\r\u001B[K     |███████████████████████         | 706 kB 14.3 MB/s eta 0:00:01\r\u001B[K     |███████████████████████▍        | 716 kB 14.3 MB/s eta 0:00:01\r\u001B[K     |███████████████████████▊        | 727 kB 14.3 MB/s eta 0:00:01\r\u001B[K     |████████████████████████        | 737 kB 14.3 MB/s eta 0:00:01\r\u001B[K     |████████████████████████▍       | 747 kB 14.3 MB/s eta 0:00:01\r\u001B[K     |████████████████████████▊       | 757 kB 14.3 MB/s eta 0:00:01\r\u001B[K     |█████████████████████████       | 768 kB 14.3 MB/s eta 0:00:01\r\u001B[K     |█████████████████████████▍      | 778 kB 14.3 MB/s eta 0:00:01\r\u001B[K     |█████████████████████████▊      | 788 kB 14.3 MB/s eta 0:00:01\r\u001B[K     |██████████████████████████      | 798 kB 14.3 MB/s eta 0:00:01\r\u001B[K     |██████████████████████████▍     | 808 kB 14.3 MB/s eta 0:00:01\r\u001B[K     |██████████████████████████▊     | 819 kB 14.3 MB/s eta 0:00:01\r\u001B[K     |███████████████████████████     | 829 kB 14.3 MB/s eta 0:00:01\r\u001B[K     |███████████████████████████▍    | 839 kB 14.3 MB/s eta 0:00:01\r\u001B[K     |███████████████████████████▊    | 849 kB 14.3 MB/s eta 0:00:01\r\u001B[K     |████████████████████████████    | 860 kB 14.3 MB/s eta 0:00:01\r\u001B[K     |████████████████████████████▍   | 870 kB 14.3 MB/s eta 0:00:01\r\u001B[K     |████████████████████████████▊   | 880 kB 14.3 MB/s eta 0:00:01\r\u001B[K     |█████████████████████████████   | 890 kB 14.3 MB/s eta 0:00:01\r\u001B[K     |█████████████████████████████▍  | 901 kB 14.3 MB/s eta 0:00:01\r\u001B[K     |█████████████████████████████▊  | 911 kB 14.3 MB/s eta 0:00:01\r\u001B[K     |██████████████████████████████  | 921 kB 14.3 MB/s eta 0:00:01\r\u001B[K     |██████████████████████████████▍ | 931 kB 14.3 MB/s eta 0:00:01\r\u001B[K     |██████████████████████████████▊ | 942 kB 14.3 MB/s eta 0:00:01\r\u001B[K     |███████████████████████████████ | 952 kB 14.3 MB/s eta 0:00:01\r\u001B[K     |███████████████████████████████▍| 962 kB 14.3 MB/s eta 0:00:01\r\u001B[K     |███████████████████████████████▊| 972 kB 14.3 MB/s eta 0:00:01\r\u001B[K     |████████████████████████████████| 981 kB 14.3 MB/s \r\n\u001B[?25hRequirement already satisfied: six in /databricks/python3/lib/python3.9/site-packages (from langdetect) (1.16.0)\r\nBuilding wheels for collected packages: langdetect\r\n  Building wheel for langdetect (setup.py) ... \u001B[?25l-\b \b\\\b \b|\b \b/\b \bdone\r\n\u001B[?25h  Created wheel for langdetect: filename=langdetect-1.0.9-py3-none-any.whl size=993242 sha256=3774cd5045bbbe949be275361fb2b7ae90029ff030d1af92e03655e26483e495\r\n  Stored in directory: /root/.cache/pip/wheels/d1/c1/d9/7e068de779d863bc8f8fc9467d85e25cfe47fa5051fff1a1bb\r\nSuccessfully built langdetect\r\nInstalling collected packages: langdetect\r\nSuccessfully installed langdetect-1.0.9\r\n\u001B[33mWARNING: You are using pip version 21.2.4; however, version 23.3.1 is available.\r\nYou should consider upgrading via the '/local_disk0/.ephemeral_nfs/envs/pythonEnv-63ca01ce-b404-4529-b3ea-749e3b779727/bin/python -m pip install --upgrade pip' command.\u001B[0m\r\nCollecting pythainlp\r\n  Downloading pythainlp-4.0.2-py3-none-any.whl (13.4 MB)\r\n\u001B[?25l\r\u001B[K     |                                | 10 kB 24.6 MB/s eta 0:00:01\r\u001B[K     |                                | 20 kB 26.0 MB/s eta 0:00:01\r\u001B[K     |                                | 30 kB 32.5 MB/s eta 0:00:01\r\u001B[K     |                                | 40 kB 18.2 MB/s eta 0:00:01\r\u001B[K     |▏                               | 51 kB 21.1 MB/s eta 0:00:01\r\u001B[K     |▏                               | 61 kB 24.1 MB/s eta 0:00:01\r\u001B[K     |▏                               | 71 kB 18.3 MB/s eta 0:00:01\r\u001B[K     |▏                               | 81 kB 20.1 MB/s eta 0:00:01\r\u001B[K     |▏                               | 92 kB 21.8 MB/s eta 0:00:01\r\u001B[K     |▎                               | 102 kB 21.3 MB/s eta 0:00:01\r\u001B[K     |▎                               | 112 kB 21.3 MB/s eta 0:00:01\r\u001B[K     |▎                               | 122 kB 21.3 MB/s eta 0:00:01\r\u001B[K     |▎                               | 133 kB 21.3 MB/s eta 0:00:01\r\u001B[K     |▍                               | 143 kB 21.3 MB/s eta 0:00:01\r\u001B[K     |▍                               | 153 kB 21.3 MB/s eta 0:00:01\r\u001B[K     |▍                               | 163 kB 21.3 MB/s eta 0:00:01\r\u001B[K     |▍                               | 174 kB 21.3 MB/s eta 0:00:01\r\u001B[K     |▍                               | 184 kB 21.3 MB/s eta 0:00:01\r\u001B[K     |▌                               | 194 kB 21.3 MB/s eta 0:00:01\r\u001B[K     |▌                               | 204 kB 21.3 MB/s eta 0:00:01\r\u001B[K     |▌                               | 215 kB 21.3 MB/s eta 0:00:01\r\u001B[K     |▌                               | 225 kB 21.3 MB/s eta 0:00:01\r\u001B[K     |▋                               | 235 kB 21.3 MB/s eta 0:00:01\r\u001B[K     |▋                               | 245 kB 21.3 MB/s eta 0:00:01\r\u001B[K     |▋                               | 256 kB 21.3 MB/s eta 0:00:01\r\u001B[K     |▋                               | 266 kB 21.3 MB/s eta 0:00:01\r\u001B[K     |▋                               | 276 kB 21.3 MB/s eta 0:00:01\r\u001B[K     |▊                               | 286 kB 21.3 MB/s eta 0:00:01\r\u001B[K     |▊                               | 296 kB 21.3 MB/s eta 0:00:01\r\u001B[K     |▊                               | 307 kB 21.3 MB/s eta 0:00:01\r\u001B[K     |▊                               | 317 kB 21.3 MB/s eta 0:00:01\r\u001B[K     |▉                               | 327 kB 21.3 MB/s eta 0:00:01\r\u001B[K     |▉                               | 337 kB 21.3 MB/s eta 0:00:01\r\u001B[K     |▉                               | 348 kB 21.3 MB/s eta 0:00:01\r\u001B[K     |▉                               | 358 kB 21.3 MB/s eta 0:00:01\r\u001B[K     |▉                               | 368 kB 21.3 MB/s eta 0:00:01\r\u001B[K     |█                               | 378 kB 21.3 MB/s eta 0:00:01\r\u001B[K     |█                               | 389 kB 21.3 MB/s eta 0:00:01\r\u001B[K     |█                               | 399 kB 21.3 MB/s eta 0:00:01\r\u001B[K     |█                               | 409 kB 21.3 MB/s eta 0:00:01\r\u001B[K     |█                               | 419 kB 21.3 MB/s eta 0:00:01\r\u001B[K     |█                               | 430 kB 21.3 MB/s eta 0:00:01\r\u001B[K     |█                               | 440 kB 21.3 MB/s eta 0:00:01\r\u001B[K     |█                               | 450 kB 21.3 MB/s eta 0:00:01\r\u001B[K     |█                               | 460 kB 21.3 MB/s eta 0:00:01\r\u001B[K     |█▏                              | 471 kB 21.3 MB/s eta 0:00:01\r\u001B[K     |█▏                              | 481 kB 21.3 MB/s eta 0:00:01\r\u001B[K     |█▏                              | 491 kB 21.3 MB/s eta 0:00:01\r\u001B[K     |█▏                              | 501 kB 21.3 MB/s eta 0:00:01\r\u001B[K     |█▏                              | 512 kB 21.3 MB/s eta 0:00:01\r\u001B[K     |█▎                              | 522 kB 21.3 MB/s eta 0:00:01\r\u001B[K     |█▎                              | 532 kB 21.3 MB/s eta 0:00:01\r\u001B[K     |█▎                              | 542 kB 21.3 MB/s eta 0:00:01\r\u001B[K     |█▎                              | 552 kB 21.3 MB/s eta 0:00:01\r\u001B[K     |█▍                              | 563 kB 21.3 MB/s eta 0:00:01\r\u001B[K     |█▍                              | 573 kB 21.3 MB/s eta 0:00:01\r\u001B[K     |█▍                              | 583 kB 21.3 MB/s eta 0:00:01\r\u001B[K     |█▍                              | 593 kB 21.3 MB/s eta 0:00:01\r\u001B[K     |█▍                              | 604 kB 21.3 MB/s eta 0:00:01\r\u001B[K     |█▌                              | 614 kB 21.3 MB/s eta 0:00:01\r\u001B[K     |█▌                              | 624 kB 21.3 MB/s eta 0:00:01\r\u001B[K     |█▌                              | 634 kB 21.3 MB/s eta 0:00:01\r\u001B[K     |█▌                              | 645 kB 21.3 MB/s eta 0:00:01\r\u001B[K     |█▋                              | 655 kB 21.3 MB/s eta 0:00:01\r\u001B[K     |█▋                              | 665 kB 21.3 MB/s eta 0:00:01\r\u001B[K     |█▋                              | 675 kB 21.3 MB/s eta 0:00:01\r\u001B[K     |█▋                              | 686 kB 21.3 MB/s eta 0:00:01\r\u001B[K     |█▋                              | 696 kB 21.3 MB/s eta 0:00:01\r\u001B[K     |█▊                              | 706 kB 21.3 MB/s eta 0:00:01\r\u001B[K     |█▊                              | 716 kB 21.3 MB/s eta 0:00:01\r\u001B[K     |█▊                              | 727 kB 21.3 MB/s eta 0:00:01\r\u001B[K     |█▊                              | 737 kB 21.3 MB/s eta 0:00:01\r\u001B[K     |█▉                              | 747 kB 21.3 MB/s eta 0:00:01\r\u001B[K     |█▉                              | 757 kB 21.3 MB/s eta 0:00:01\r\u001B[K     |█▉                              | 768 kB 21.3 MB/s eta 0:00:01\r\u001B[K     |█▉                              | 778 kB 21.3 MB/s eta 0:00:01\r\u001B[K     |█▉                              | 788 kB 21.3 MB/s eta 0:00:01\r\u001B[K     |██                              | 798 kB 21.3 MB/s eta 0:00:01\r\u001B[K     |██                              | 808 kB 21.3 MB/s eta 0:00:01\r\u001B[K     |██                              | 819 kB 21.3 MB/s eta 0:00:01\r\u001B[K     |██                              | 829 kB 21.3 MB/s eta 0:00:01\r\u001B[K     |██                              | 839 kB 21.3 MB/s eta 0:00:01\r\u001B[K     |██                              | 849 kB 21.3 MB/s eta 0:00:01\r\u001B[K     |██                              | 860 kB 21.3 MB/s eta 0:00:01\r\u001B[K     |██                              | 870 kB 21.3 MB/s eta 0:00:01\r\u001B[K     |██                              | 880 kB 21.3 MB/s eta 0:00:01\r\u001B[K     |██▏                             | 890 kB 21.3 MB/s eta 0:00:01\r\u001B[K     |██▏                             | 901 kB 21.3 MB/s eta 0:00:01\r\u001B[K     |██▏                             | 911 kB 21.3 MB/s eta 0:00:01\r\u001B[K     |██▏                             | 921 kB 21.3 MB/s eta 0:00:01\r\u001B[K     |██▏                             | 931 kB 21.3 MB/s eta 0:00:01\r\u001B[K     |██▎                             | 942 kB 21.3 MB/s eta 0:00:01\r\u001B[K     |██▎                             | 952 kB 21.3 MB/s eta 0:00:01\r\u001B[K     |██▎                             | 962 kB 21.3 MB/s eta 0:00:01\r\u001B[K     |██▎                             | 972 kB 21.3 MB/s eta 0:00:01\r\u001B[K     |██▍                             | 983 kB 21.3 MB/s eta 0:00:01\r\u001B[K     |██▍                             | 993 kB 21.3 MB/s eta 0:00:01\r\u001B[K     |██▍                             | 1.0 MB 21.3 MB/s eta 0:00:01\r\u001B[K     |██▍                             | 1.0 MB 21.3 MB/s eta 0:00:01\r\u001B[K     |██▍                             | 1.0 MB 21.3 MB/s eta 0:00:01\r\u001B[K     |██▌                             | 1.0 MB 21.3 MB/s eta 0:00:01\r\u001B[K     |██▌                             | 1.0 MB 21.3 MB/s eta 0:00:01\r\u001B[K     |██▌                             | 1.1 MB 21.3 MB/s eta 0:00:01\r\u001B[K     |██▌                             | 1.1 MB 21.3 MB/s eta 0:00:01\r\u001B[K     |██▋                             | 1.1 MB 21.3 MB/s eta 0:00:01\r\u001B[K     |██▋                             | 1.1 MB 21.3 MB/s eta 0:00:01\r\u001B[K     |██▋                             | 1.1 MB 21.3 MB/s eta 0:00:01\r\u001B[K     |██▋                             | 1.1 MB 21.3 MB/s eta 0:00:01\r\u001B[K     |██▋                             | 1.1 MB 21.3 MB/s eta 0:00:01\r\u001B[K     |██▊                             | 1.1 MB 21.3 MB/s eta 0:00:01\r\u001B[K     |██▊                             | 1.1 MB 21.3 MB/s eta 0:00:01\r\u001B[K     |██▊                             | 1.1 MB 21.3 MB/s eta 0:00:01\r\u001B[K     |██▊                             | 1.2 MB 21.3 MB/s eta 0:00:01\r\u001B[K     |██▉                             | 1.2 MB 21.3 MB/s eta 0:00:01\r\u001B[K     |██▉                             | 1.2 MB 21.3 MB/s eta 0:00:01\r\u001B[K     |██▉                             | 1.2 MB 21.3 MB/s eta 0:00:01\r\u001B[K     |██▉                             | 1.2 MB 21.3 MB/s eta 0:00:01\r\u001B[K     |██▉                             | 1.2 MB 21.3 MB/s eta 0:00:01\r\u001B[K     |███                             | 1.2 MB 21.3 MB/s eta 0:00:01\r\u001B[K     |███                             | 1.2 MB 21.3 MB/s eta 0:00:01\r\u001B[K     |███                             | 1.2 MB 21.3 MB/s eta 0:00:01\r\u001B[K     |███                             | 1.2 MB 21.3 MB/s eta 0:00:01\r\u001B[K     |███                             | 1.3 MB 21.3 MB/s eta 0:00:01\r\u001B[K     |███                             | 1.3 MB 21.3 MB/s eta 0:00:01\r\u001B[K     |███                             | 1.3 MB 21.3 MB/s eta 0:00:01\r\u001B[K     |███                             | 1.3 MB 21.3 MB/s eta 0:00:01\r\u001B[K     |███                             | 1.3 MB 21.3 MB/s eta 0:00:01\r\u001B[K     |███▏                            | 1.3 MB 21.3 MB/s eta 0:00:01\r\u001B[K     |███▏                            | 1.3 MB 21.3 MB/s eta 0:00:01\r\u001B[K     |███▏                            | 1.3 MB 21.3 MB/s eta 0:00:01\r\u001B[K     |███▏                            | 1.3 MB 21.3 MB/s eta 0:00:01\r\u001B[K     |███▏                            | 1.4 MB 21.3 MB/s eta 0:00:01\r\u001B[K     |███▎                            | 1.4 MB 21.3 MB/s eta 0:00:01\r\u001B[K     |███▎                            | 1.4 MB 21.3 MB/s eta 0:00:01\r\u001B[K     |███▎                            | 1.4 MB 21.3 MB/s eta 0:00:01\r\u001B[K     |███▎                            | 1.4 MB 21.3 MB/s eta 0:00:01\r\u001B[K     |███▍                            | 1.4 MB 21.3 MB/s eta 0:00:01\r\u001B[K     |███▍                            | 1.4 MB 21.3 MB/s eta 0:00:01\r\u001B[K     |███▍                            | 1.4 MB 21.3 MB/s eta 0:00:01\r\u001B[K     |███▍                            | 1.4 MB 21.3 MB/s eta 0:00:01\r\u001B[K     |███▍                            | 1.4 MB 21.3 MB/s eta 0:00:01\r\u001B[K     |███▌                            | 1.5 MB 21.3 MB/s eta 0:00:01\r\u001B[K     |███▌                            | 1.5 MB 21.3 MB/s eta 0:00:01\r\u001B[K     |███▌                            | 1.5 MB 21.3 MB/s eta 0:00:01\r\u001B[K     |███▌                            | 1.5 MB 21.3 MB/s eta 0:00:01\r\u001B[K     |███▋                            | 1.5 MB 21.3 MB/s eta 0:00:01\r\u001B[K     |███▋                            | 1.5 MB 21.3 MB/s eta 0:00:01\r\u001B[K     |███▋                            | 1.5 MB 21.3 MB/s eta 0:00:01\r\u001B[K     |███▋                            | 1.5 MB 21.3 MB/s eta 0:00:01\r\u001B[K     |███▋                            | 1.5 MB 21.3 MB/s eta 0:00:01\r\u001B[K     |███▊                            | 1.5 MB 21.3 MB/s eta 0:00:01\r\u001B[K     |███▊                            | 1.6 MB 21.3 MB/s eta 0:00:01\r\u001B[K     |███▊                            | 1.6 MB 21.3 MB/s eta 0:00:01\r\u001B[K     |███▊                            | 1.6 MB 21.3 MB/s eta 0:00:01\r\u001B[K     |███▊                            | 1.6 MB 21.3 MB/s eta 0:00:01\r\u001B[K     |███▉                            | 1.6 MB 21.3 MB/s eta 0:00:01\r\u001B[K     |███▉                            | 1.6 MB 21.3 MB/s eta 0:00:01\r\u001B[K     |███▉                            | 1.6 MB 21.3 MB/s eta 0:00:01\r\u001B[K     |███▉                            | 1.6 MB 21.3 MB/s eta 0:00:01\r\u001B[K     |████                            | 1.6 MB 21.3 MB/s eta 0:00:01\r\u001B[K     |████                            | 1.6 MB 21.3 MB/s eta 0:00:01\r\u001B[K     |████                            | 1.7 MB 21.3 MB/s eta 0:00:01\r\u001B[K     |████                            | 1.7 MB 21.3 MB/s eta 0:00:01\r\u001B[K     |████                            | 1.7 MB 21.3 MB/s eta 0:00:01\r\u001B[K     |████                            | 1.7 MB 21.3 MB/s eta 0:00:01\r\u001B[K     |████                            | 1.7 MB 21.3 MB/s eta 0:00:01\r\u001B[K     |████                            | 1.7 MB 21.3 MB/s eta 0:00:01\r\u001B[K     |████                            | 1.7 MB 21.3 MB/s eta 0:00:01\r\u001B[K     |████▏                           | 1.7 MB 21.3 MB/s eta 0:00:01\r\u001B[K     |████▏                           | 1.7 MB 21.3 MB/s eta 0:00:01\r\u001B[K     |████▏                           | 1.8 MB 21.3 MB/s eta 0:00:01\r\u001B[K     |████▏                           | 1.8 MB 21.3 MB/s eta 0:00:01\r\u001B[K     |████▏                           | 1.8 MB 21.3 MB/s eta 0:00:01\r\u001B[K     |████▎                           | 1.8 MB 21.3 MB/s eta 0:00:01\r\u001B[K     |████▎                           | 1.8 MB 21.3 MB/s eta 0:00:01\r\u001B[K     |████▎                           | 1.8 MB 21.3 MB/s eta 0:00:01\r\u001B[K     |████▎                           | 1.8 MB 21.3 MB/s eta 0:00:01\r\u001B[K     |████▍                           | 1.8 MB 21.3 MB/s eta 0:00:01\r\u001B[K     |████▍                           | 1.8 MB 21.3 MB/s eta 0:00:01\r\u001B[K     |████▍                           | 1.8 MB 21.3 MB/s eta 0:00:01\r\u001B[K     |████▍                           | 1.9 MB 21.3 MB/s eta 0:00:01\r\u001B[K     |████▍                           | 1.9 MB 21.3 MB/s eta 0:00:01\r\u001B[K     |████▌                           | 1.9 MB 21.3 MB/s eta 0:00:01\r\u001B[K     |████▌                           | 1.9 MB 21.3 MB/s eta 0:00:01\r\u001B[K     |████▌                           | 1.9 MB 21.3 MB/s eta 0:00:01\r\u001B[K     |████▌                           | 1.9 MB 21.3 MB/s eta 0:00:01\r\u001B[K     |████▋                           | 1.9 MB 21.3 MB/s eta 0:00:01\r\u001B[K     |████▋                           | 1.9 MB 21.3 MB/s eta 0:00:01\r\u001B[K     |████▋                           | 1.9 MB 21.3 MB/s eta 0:00:01\r\u001B[K     |████▋                           | 1.9 MB 21.3 MB/s eta 0:00:01\r\u001B[K     |████▋                           | 2.0 MB 21.3 MB/s eta 0:00:01\r\u001B[K     |████▊                           | 2.0 MB 21.3 MB/s eta 0:00:01\r\u001B[K     |████▊                           | 2.0 MB 21.3 MB/s eta 0:00:01\r\u001B[K     |████▊                           | 2.0 MB 21.3 MB/s eta 0:00:01\r\u001B[K     |████▊                           | 2.0 MB 21.3 MB/s eta 0:00:01\r\u001B[K     |████▊                           | 2.0 MB 21.3 MB/s eta 0:00:01\r\u001B[K     |████▉                           | 2.0 MB 21.3 MB/s eta 0:00:01\r\u001B[K     |████▉                           | 2.0 MB 21.3 MB/s eta 0:00:01\r\u001B[K     |████▉                           | 2.0 MB 21.3 MB/s eta 0:00:01\r\u001B[K     |████▉                           | 2.0 MB 21.3 MB/s eta 0:00:01\r\u001B[K     |█████                           | 2.1 MB 21.3 MB/s eta 0:00:01\r\u001B[K     |█████                           | 2.1 MB 21.3 MB/s eta 0:00:01\r\u001B[K     |█████                           | 2.1 MB 21.3 MB/s eta 0:00:01\r\u001B[K     |█████                           | 2.1 MB 21.3 MB/s eta 0:00:01\r\u001B[K     |█████                           | 2.1 MB 21.3 MB/s eta 0:00:01\r\u001B[K     |█████                           | 2.1 MB 21.3 MB/s eta 0:00:01\r\u001B[K     |█████                           | 2.1 MB 21.3 MB/s eta 0:00:01\r\u001B[K     |█████                           | 2.1 MB 21.3 MB/s eta 0:00:01\r\u001B[K     |█████                           | 2.1 MB 21.3 MB/s eta 0:00:01\r\u001B[K     |█████▏                          | 2.2 MB 21.3 MB/s eta 0:00:01\r\u001B[K     |█████▏                          | 2.2 MB 21.3 MB/s eta 0:00:01\r\u001B[K     |█████▏                          | 2.2 MB 21.3 MB/s eta 0:00:01\r\u001B[K     |█████▏                          | 2.2 MB 21.3 MB/s eta 0:00:01\r\u001B[K     |█████▏                          | 2.2 MB 21.3 MB/s eta 0:00:01\r\u001B[K     |█████▎                          | 2.2 MB 21.3 MB/s eta 0:00:01\r\u001B[K     |█████▎                          | 2.2 MB 21.3 MB/s eta 0:00:01\r\u001B[K     |█████▎                          | 2.2 MB 21.3 MB/s eta 0:00:01\r\u001B[K     |█████▎                          | 2.2 MB 21.3 MB/s eta 0:00:01\r\u001B[K     |█████▍                          | 2.2 MB 21.3 MB/s eta 0:00:01\r\u001B[K     |█████▍                          | 2.3 MB 21.3 MB/s eta 0:00:01\r\u001B[K     |█████▍                          | 2.3 MB 21.3 MB/s eta 0:00:01\r\u001B[K     |█████▍                          | 2.3 MB 21.3 MB/s eta 0:00:01\r\u001B[K     |█████▍                          | 2.3 MB 21.3 MB/s eta 0:00:01\r\u001B[K     |█████▌                          | 2.3 MB 21.3 MB/s eta 0:00:01\r\u001B[K     |█████▌                          | 2.3 MB 21.3 MB/s eta 0:00:01\r\u001B[K     |█████▌                          | 2.3 MB 21.3 MB/s eta 0:00:01\r\u001B[K     |█████▌                          | 2.3 MB 21.3 MB/s eta 0:00:01\r\u001B[K     |█████▋                          | 2.3 MB 21.3 MB/s eta 0:00:01\r\u001B[K     |█████▋                          | 2.3 MB 21.3 MB/s eta 0:00:01\r\u001B[K     |█████▋                          | 2.4 MB 21.3 MB/s eta 0:00:01\r\u001B[K     |█████▋                          | 2.4 MB 21.3 MB/s eta 0:00:01\r\u001B[K     |█████▋                          | 2.4 MB 21.3 MB/s eta 0:00:01\r\u001B[K     |█████▊                          | 2.4 MB 21.3 MB/s eta 0:00:01\r\u001B[K     |█████▊                          | 2.4 MB 21.3 MB/s eta 0:00:01\r\u001B[K     |█████▊                          | 2.4 MB 21.3 MB/s eta 0:00:01\r\u001B[K     |█████▊                          | 2.4 MB 21.3 MB/s eta 0:00:01\r\u001B[K     |█████▊                          | 2.4 MB 21.3 MB/s et\n\n*** WARNING: max output size exceeded, skipping output. ***\n\n███▎| 13.1 MB 21.3 MB/s eta 0:00:01\r\u001B[K     |███████████████████████████████▎| 13.1 MB 21.3 MB/s eta 0:00:01\r\u001B[K     |███████████████████████████████▎| 13.2 MB 21.3 MB/s eta 0:00:01\r\u001B[K     |███████████████████████████████▍| 13.2 MB 21.3 MB/s eta 0:00:01\r\u001B[K     |███████████████████████████████▍| 13.2 MB 21.3 MB/s eta 0:00:01\r\u001B[K     |███████████████████████████████▍| 13.2 MB 21.3 MB/s eta 0:00:01\r\u001B[K     |███████████████████████████████▍| 13.2 MB 21.3 MB/s eta 0:00:01\r\u001B[K     |███████████████████████████████▍| 13.2 MB 21.3 MB/s eta 0:00:01\r\u001B[K     |███████████████████████████████▌| 13.2 MB 21.3 MB/s eta 0:00:01\r\u001B[K     |███████████████████████████████▌| 13.2 MB 21.3 MB/s eta 0:00:01\r\u001B[K     |███████████████████████████████▌| 13.2 MB 21.3 MB/s eta 0:00:01\r\u001B[K     |███████████████████████████████▌| 13.3 MB 21.3 MB/s eta 0:00:01\r\u001B[K     |███████████████████████████████▋| 13.3 MB 21.3 MB/s eta 0:00:01\r\u001B[K     |███████████████████████████████▋| 13.3 MB 21.3 MB/s eta 0:00:01\r\u001B[K     |███████████████████████████████▋| 13.3 MB 21.3 MB/s eta 0:00:01\r\u001B[K     |███████████████████████████████▋| 13.3 MB 21.3 MB/s eta 0:00:01\r\u001B[K     |███████████████████████████████▋| 13.3 MB 21.3 MB/s eta 0:00:01\r\u001B[K     |███████████████████████████████▊| 13.3 MB 21.3 MB/s eta 0:00:01\r\u001B[K     |███████████████████████████████▊| 13.3 MB 21.3 MB/s eta 0:00:01\r\u001B[K     |███████████████████████████████▊| 13.3 MB 21.3 MB/s eta 0:00:01\r\u001B[K     |███████████████████████████████▊| 13.3 MB 21.3 MB/s eta 0:00:01\r\u001B[K     |███████████████████████████████▉| 13.4 MB 21.3 MB/s eta 0:00:01\r\u001B[K     |███████████████████████████████▉| 13.4 MB 21.3 MB/s eta 0:00:01\r\u001B[K     |███████████████████████████████▉| 13.4 MB 21.3 MB/s eta 0:00:01\r\u001B[K     |███████████████████████████████▉| 13.4 MB 21.3 MB/s eta 0:00:01\r\u001B[K     |███████████████████████████████▉| 13.4 MB 21.3 MB/s eta 0:00:01\r\u001B[K     |████████████████████████████████| 13.4 MB 21.3 MB/s eta 0:00:01\r\u001B[K     |████████████████████████████████| 13.4 MB 21.3 MB/s eta 0:00:01\r\u001B[K     |████████████████████████████████| 13.4 MB 21.3 MB/s eta 0:00:01\r\u001B[K     |████████████████████████████████| 13.4 MB 21.3 MB/s eta 0:00:01\r\u001B[K     |████████████████████████████████| 13.4 MB 21.3 MB/s eta 0:00:01\r\u001B[K     |████████████████████████████████| 13.4 MB 3.4 kB/s \r\n\u001B[?25hRequirement already satisfied: requests>=2.22.0 in /databricks/python3/lib/python3.9/site-packages (from pythainlp) (2.26.0)\r\nRequirement already satisfied: idna<4,>=2.5 in /databricks/python3/lib/python3.9/site-packages (from requests>=2.22.0->pythainlp) (3.2)\r\nRequirement already satisfied: charset-normalizer~=2.0.0 in /databricks/python3/lib/python3.9/site-packages (from requests>=2.22.0->pythainlp) (2.0.4)\r\nRequirement already satisfied: urllib3<1.27,>=1.21.1 in /databricks/python3/lib/python3.9/site-packages (from requests>=2.22.0->pythainlp) (1.26.7)\r\nRequirement already satisfied: certifi>=2017.4.17 in /databricks/python3/lib/python3.9/site-packages (from requests>=2.22.0->pythainlp) (2021.10.8)\r\nInstalling collected packages: pythainlp\r\nSuccessfully installed pythainlp-4.0.2\r\n\u001B[33mWARNING: You are using pip version 21.2.4; however, version 23.3.1 is available.\r\nYou should consider upgrading via the '/local_disk0/.ephemeral_nfs/envs/pythonEnv-63ca01ce-b404-4529-b3ea-749e3b779727/bin/python -m pip install --upgrade pip' command.\u001B[0m\r\nCollecting https://github.com/wannaphongcom/thai-syllables-cut/archive/master.zip\r\n  Downloading https://github.com/wannaphongcom/thai-syllables-cut/archive/master.zip\r\n\u001B[?25l\r\u001B[K     - 2.0 kB 4.6 MB/s\r\u001B[K     \\ 6.2 kB 7.6 MB/s\r\u001B[K     | 16 kB 3.9 MB/s\r\u001B[K     / 19 kB 5.0 MB/s\r\u001B[K     - 25 kB 6.1 MB/s\r\u001B[K     \\ 28 kB 6.6 MB/s\r\n\u001B[?25hRequirement already satisfied: pythainlp>=1.5.3 in /local_disk0/.ephemeral_nfs/envs/pythonEnv-63ca01ce-b404-4529-b3ea-749e3b779727/lib/python3.9/site-packages (from pythaisyllables==0.1.1) (4.0.2)\r\nCollecting future>=0.16.0\r\n  Downloading future-0.18.3.tar.gz (840 kB)\r\n\u001B[?25l\r\u001B[K     |▍                               | 10 kB 36.0 MB/s eta 0:00:01\r\u001B[K     |▉                               | 20 kB 24.1 MB/s eta 0:00:01\r\u001B[K     |█▏                              | 30 kB 30.7 MB/s eta 0:00:01\r\u001B[K     |█▋                              | 40 kB 18.2 MB/s eta 0:00:01\r\u001B[K     |██                              | 51 kB 21.7 MB/s eta 0:00:01\r\u001B[K     |██▍                             | 61 kB 25.3 MB/s eta 0:00:01\r\u001B[K     |██▊                             | 71 kB 19.8 MB/s eta 0:00:01\r\u001B[K     |███▏                            | 81 kB 21.8 MB/s eta 0:00:01\r\u001B[K     |███▌                            | 92 kB 22.2 MB/s eta 0:00:01\r\u001B[K     |████                            | 102 kB 22.6 MB/s eta 0:00:01\r\u001B[K     |████▎                           | 112 kB 22.6 MB/s eta 0:00:01\r\u001B[K     |████▊                           | 122 kB 22.6 MB/s eta 0:00:01\r\u001B[K     |█████                           | 133 kB 22.6 MB/s eta 0:00:01\r\u001B[K     |█████▌                          | 143 kB 22.6 MB/s eta 0:00:01\r\u001B[K     |█████▉                          | 153 kB 22.6 MB/s eta 0:00:01\r\u001B[K     |██████▎                         | 163 kB 22.6 MB/s eta 0:00:01\r\u001B[K     |██████▋                         | 174 kB 22.6 MB/s eta 0:00:01\r\u001B[K     |███████                         | 184 kB 22.6 MB/s eta 0:00:01\r\u001B[K     |███████▍                        | 194 kB 22.6 MB/s eta 0:00:01\r\u001B[K     |███████▉                        | 204 kB 22.6 MB/s eta 0:00:01\r\u001B[K     |████████▏                       | 215 kB 22.6 MB/s eta 0:00:01\r\u001B[K     |████████▋                       | 225 kB 22.6 MB/s eta 0:00:01\r\u001B[K     |█████████                       | 235 kB 22.6 MB/s eta 0:00:01\r\u001B[K     |█████████▍                      | 245 kB 22.6 MB/s eta 0:00:01\r\u001B[K     |█████████▊                      | 256 kB 22.6 MB/s eta 0:00:01\r\u001B[K     |██████████▏                     | 266 kB 22.6 MB/s eta 0:00:01\r\u001B[K     |██████████▌                     | 276 kB 22.6 MB/s eta 0:00:01\r\u001B[K     |███████████                     | 286 kB 22.6 MB/s eta 0:00:01\r\u001B[K     |███████████▎                    | 296 kB 22.6 MB/s eta 0:00:01\r\u001B[K     |███████████▊                    | 307 kB 22.6 MB/s eta 0:00:01\r\u001B[K     |████████████                    | 317 kB 22.6 MB/s eta 0:00:01\r\u001B[K     |████████████▌                   | 327 kB 22.6 MB/s eta 0:00:01\r\u001B[K     |████████████▉                   | 337 kB 22.6 MB/s eta 0:00:01\r\u001B[K     |█████████████▎                  | 348 kB 22.6 MB/s eta 0:00:01\r\u001B[K     |█████████████▋                  | 358 kB 22.6 MB/s eta 0:00:01\r\u001B[K     |██████████████                  | 368 kB 22.6 MB/s eta 0:00:01\r\u001B[K     |██████████████▍                 | 378 kB 22.6 MB/s eta 0:00:01\r\u001B[K     |██████████████▉                 | 389 kB 22.6 MB/s eta 0:00:01\r\u001B[K     |███████████████▏                | 399 kB 22.6 MB/s eta 0:00:01\r\u001B[K     |███████████████▋                | 409 kB 22.6 MB/s eta 0:00:01\r\u001B[K     |████████████████                | 419 kB 22.6 MB/s eta 0:00:01\r\u001B[K     |████████████████▍               | 430 kB 22.6 MB/s eta 0:00:01\r\u001B[K     |████████████████▊               | 440 kB 22.6 MB/s eta 0:00:01\r\u001B[K     |█████████████████▏              | 450 kB 22.6 MB/s eta 0:00:01\r\u001B[K     |█████████████████▌              | 460 kB 22.6 MB/s eta 0:00:01\r\u001B[K     |██████████████████              | 471 kB 22.6 MB/s eta 0:00:01\r\u001B[K     |██████████████████▎             | 481 kB 22.6 MB/s eta 0:00:01\r\u001B[K     |██████████████████▊             | 491 kB 22.6 MB/s eta 0:00:01\r\u001B[K     |███████████████████             | 501 kB 22.6 MB/s eta 0:00:01\r\u001B[K     |███████████████████▌            | 512 kB 22.6 MB/s eta 0:00:01\r\u001B[K     |███████████████████▉            | 522 kB 22.6 MB/s eta 0:00:01\r\u001B[K     |████████████████████▎           | 532 kB 22.6 MB/s eta 0:00:01\r\u001B[K     |████████████████████▋           | 542 kB 22.6 MB/s eta 0:00:01\r\u001B[K     |█████████████████████           | 552 kB 22.6 MB/s eta 0:00:01\r\u001B[K     |█████████████████████▍          | 563 kB 22.6 MB/s eta 0:00:01\r\u001B[K     |█████████████████████▉          | 573 kB 22.6 MB/s eta 0:00:01\r\u001B[K     |██████████████████████▏         | 583 kB 22.6 MB/s eta 0:00:01\r\u001B[K     |██████████████████████▋         | 593 kB 22.6 MB/s eta 0:00:01\r\u001B[K     |███████████████████████         | 604 kB 22.6 MB/s eta 0:00:01\r\u001B[K     |███████████████████████▍        | 614 kB 22.6 MB/s eta 0:00:01\r\u001B[K     |███████████████████████▊        | 624 kB 22.6 MB/s eta 0:00:01\r\u001B[K     |████████████████████████▏       | 634 kB 22.6 MB/s eta 0:00:01\r\u001B[K     |████████████████████████▌       | 645 kB 22.6 MB/s eta 0:00:01\r\u001B[K     |█████████████████████████       | 655 kB 22.6 MB/s eta 0:00:01\r\u001B[K     |█████████████████████████▎      | 665 kB 22.6 MB/s eta 0:00:01\r\u001B[K     |█████████████████████████▊      | 675 kB 22.6 MB/s eta 0:00:01\r\u001B[K     |██████████████████████████      | 686 kB 22.6 MB/s eta 0:00:01\r\u001B[K     |██████████████████████████▌     | 696 kB 22.6 MB/s eta 0:00:01\r\u001B[K     |██████████████████████████▉     | 706 kB 22.6 MB/s eta 0:00:01\r\u001B[K     |███████████████████████████▎    | 716 kB 22.6 MB/s eta 0:00:01\r\u001B[K     |███████████████████████████▊    | 727 kB 22.6 MB/s eta 0:00:01\r\u001B[K     |████████████████████████████    | 737 kB 22.6 MB/s eta 0:00:01\r\u001B[K     |████████████████████████████▌   | 747 kB 22.6 MB/s eta 0:00:01\r\u001B[K     |████████████████████████████▉   | 757 kB 22.6 MB/s eta 0:00:01\r\u001B[K     |█████████████████████████████▎  | 768 kB 22.6 MB/s eta 0:00:01\r\u001B[K     |█████████████████████████████▋  | 778 kB 22.6 MB/s eta 0:00:01\r\u001B[K     |██████████████████████████████  | 788 kB 22.6 MB/s eta 0:00:01\r\u001B[K     |██████████████████████████████▍ | 798 kB 22.6 MB/s eta 0:00:01\r\u001B[K     |██████████████████████████████▉ | 808 kB 22.6 MB/s eta 0:00:01\r\u001B[K     |███████████████████████████████▏| 819 kB 22.6 MB/s eta 0:00:01\r\u001B[K     |███████████████████████████████▋| 829 kB 22.6 MB/s eta 0:00:01\r\u001B[K     |████████████████████████████████| 839 kB 22.6 MB/s eta 0:00:01\r\u001B[K     |████████████████████████████████| 840 kB 7.8 kB/s \r\n\u001B[?25hRequirement already satisfied: requests>=2.22.0 in /databricks/python3/lib/python3.9/site-packages (from pythainlp>=1.5.3->pythaisyllables==0.1.1) (2.26.0)\r\nRequirement already satisfied: idna<4,>=2.5 in /databricks/python3/lib/python3.9/site-packages (from requests>=2.22.0->pythainlp>=1.5.3->pythaisyllables==0.1.1) (3.2)\r\nRequirement already satisfied: charset-normalizer~=2.0.0 in /databricks/python3/lib/python3.9/site-packages (from requests>=2.22.0->pythainlp>=1.5.3->pythaisyllables==0.1.1) (2.0.4)\r\nRequirement already satisfied: urllib3<1.27,>=1.21.1 in /databricks/python3/lib/python3.9/site-packages (from requests>=2.22.0->pythainlp>=1.5.3->pythaisyllables==0.1.1) (1.26.7)\r\nRequirement already satisfied: certifi>=2017.4.17 in /databricks/python3/lib/python3.9/site-packages (from requests>=2.22.0->pythainlp>=1.5.3->pythaisyllables==0.1.1) (2021.10.8)\r\nBuilding wheels for collected packages: pythaisyllables, future\r\n  Building wheel for pythaisyllables (setup.py) ... \u001B[?25l-\b \b\\\b \bdone\r\n\u001B[?25h  Created wheel for pythaisyllables: filename=pythaisyllables-0.1.1-py3-none-any.whl size=24139 sha256=d732b2e0ef887da04a339e83dbb19cb3cf2c03220c2d72c394887efd0de4afec\r\n  Stored in directory: /tmp/pip-ephem-wheel-cache-erfsmfhq/wheels/77/d6/07/d44135b28002c3e216e626ac6d79e17fd10cc5ea7d009e08fd\r\n  Building wheel for future (setup.py) ... \u001B[?25l-\b \b\\\b \b|\b \bdone\r\n\u001B[?25h  Created wheel for future: filename=future-0.18.3-py3-none-any.whl size=492036 sha256=8deb8fee4945aa8c943d6dcbf135939c9cc044540a6e831e881234c42b91b910\r\n  Stored in directory: /root/.cache/pip/wheels/bf/5d/6a/2e53874f7ec4e2bede522385439531fafec8fafe005b5c3d1b\r\nSuccessfully built pythaisyllables future\r\nInstalling collected packages: future, pythaisyllables\r\nSuccessfully installed future-0.18.3 pythaisyllables-0.1.1\r\n\u001B[33mWARNING: You are using pip version 21.2.4; however, version 23.3.1 is available.\r\nYou should consider upgrading via the '/local_disk0/.ephemeral_nfs/envs/pythonEnv-63ca01ce-b404-4529-b3ea-749e3b779727/bin/python -m pip install --upgrade pip' command.\u001B[0m\r\nCollecting ssg\r\n  Downloading ssg-0.0.8-py3-none-any.whl (473 kB)\r\n\u001B[?25l\r\u001B[K     |▊                               | 10 kB 35.0 MB/s eta 0:00:01\r\u001B[K     |█▍                              | 20 kB 22.7 MB/s eta 0:00:01\r\u001B[K     |██                              | 30 kB 30.0 MB/s eta 0:00:01\r\u001B[K     |██▊                             | 40 kB 17.4 MB/s eta 0:00:01\r\u001B[K     |███▌                            | 51 kB 20.6 MB/s eta 0:00:01\r\u001B[K     |████▏                           | 61 kB 24.0 MB/s eta 0:00:01\r\u001B[K     |████▉                           | 71 kB 19.1 MB/s eta 0:00:01\r\u001B[K     |█████▌                          | 81 kB 21.3 MB/s eta 0:00:01\r\u001B[K     |██████▎                         | 92 kB 20.8 MB/s eta 0:00:01\r\u001B[K     |███████                         | 102 kB 22.6 MB/s eta 0:00:01\r\u001B[K     |███████▋                        | 112 kB 22.6 MB/s eta 0:00:01\r\u001B[K     |████████▎                       | 122 kB 22.6 MB/s eta 0:00:01\r\u001B[K     |█████████                       | 133 kB 22.6 MB/s eta 0:00:01\r\u001B[K     |█████████▊                      | 143 kB 22.6 MB/s eta 0:00:01\r\u001B[K     |██████████▍                     | 153 kB 22.6 MB/s eta 0:00:01\r\u001B[K     |███████████                     | 163 kB 22.6 MB/s eta 0:00:01\r\u001B[K     |███████████▊                    | 174 kB 22.6 MB/s eta 0:00:01\r\u001B[K     |████████████▌                   | 184 kB 22.6 MB/s eta 0:00:01\r\u001B[K     |█████████████▏                  | 194 kB 22.6 MB/s eta 0:00:01\r\u001B[K     |█████████████▉                  | 204 kB 22.6 MB/s eta 0:00:01\r\u001B[K     |██████████████▌                 | 215 kB 22.6 MB/s eta 0:00:01\r\u001B[K     |███████████████▏                | 225 kB 22.6 MB/s eta 0:00:01\r\u001B[K     |████████████████                | 235 kB 22.6 MB/s eta 0:00:01\r\u001B[K     |████████████████▋               | 245 kB 22.6 MB/s eta 0:00:01\r\u001B[K     |█████████████████▎              | 256 kB 22.6 MB/s eta 0:00:01\r\u001B[K     |██████████████████              | 266 kB 22.6 MB/s eta 0:00:01\r\u001B[K     |██████████████████▊             | 276 kB 22.6 MB/s eta 0:00:01\r\u001B[K     |███████████████████▍            | 286 kB 22.6 MB/s eta 0:00:01\r\u001B[K     |████████████████████            | 296 kB 22.6 MB/s eta 0:00:01\r\u001B[K     |████████████████████▊           | 307 kB 22.6 MB/s eta 0:00:01\r\u001B[K     |█████████████████████▍          | 317 kB 22.6 MB/s eta 0:00:01\r\u001B[K     |██████████████████████▏         | 327 kB 22.6 MB/s eta 0:00:01\r\u001B[K     |██████████████████████▉         | 337 kB 22.6 MB/s eta 0:00:01\r\u001B[K     |███████████████████████▌        | 348 kB 22.6 MB/s eta 0:00:01\r\u001B[K     |████████████████████████▏       | 358 kB 22.6 MB/s eta 0:00:01\r\u001B[K     |█████████████████████████       | 368 kB 22.6 MB/s eta 0:00:01\r\u001B[K     |█████████████████████████▋      | 378 kB 22.6 MB/s eta 0:00:01\r\u001B[K     |██████████████████████████▎     | 389 kB 22.6 MB/s eta 0:00:01\r\u001B[K     |███████████████████████████     | 399 kB 22.6 MB/s eta 0:00:01\r\u001B[K     |███████████████████████████▋    | 409 kB 22.6 MB/s eta 0:00:01\r\u001B[K     |████████████████████████████▍   | 419 kB 22.6 MB/s eta 0:00:01\r\u001B[K     |█████████████████████████████   | 430 kB 22.6 MB/s eta 0:00:01\r\u001B[K     |█████████████████████████████▊  | 440 kB 22.6 MB/s eta 0:00:01\r\u001B[K     |██████████████████████████████▍ | 450 kB 22.6 MB/s eta 0:00:01\r\u001B[K     |███████████████████████████████▏| 460 kB 22.6 MB/s eta 0:00:01\r\u001B[K     |███████████████████████████████▉| 471 kB 22.6 MB/s eta 0:00:01\r\u001B[K     |████████████████████████████████| 473 kB 22.6 MB/s \r\n\u001B[?25hCollecting tqdm>=4.32.2\r\n  Downloading tqdm-4.66.1-py3-none-any.whl (78 kB)\r\n\u001B[?25l\r\u001B[K     |████▏                           | 10 kB 37.7 MB/s eta 0:00:01\r\u001B[K     |████████▍                       | 20 kB 44.6 MB/s eta 0:00:01\r\u001B[K     |████████████▋                   | 30 kB 55.5 MB/s eta 0:00:01\r\u001B[K     |████████████████▊               | 40 kB 63.8 MB/s eta 0:00:01\r\u001B[K     |█████████████████████           | 51 kB 69.1 MB/s eta 0:00:01\r\u001B[K     |█████████████████████████▏      | 61 kB 75.4 MB/s eta 0:00:01\r\u001B[K     |█████████████████████████████▎  | 71 kB 79.9 MB/s eta 0:00:01\r\u001B[K     |████████████████████████████████| 78 kB 4.7 MB/s \r\n\u001B[?25hCollecting fire>=0.1.3\r\n  Downloading fire-0.5.0.tar.gz (88 kB)\r\n\u001B[?25l\r\u001B[K     |███▊                            | 10 kB 36.7 MB/s eta 0:00:01\r\u001B[K     |███████▍                        | 20 kB 47.4 MB/s eta 0:00:01\r\u001B[K     |███████████▏                    | 30 kB 55.9 MB/s eta 0:00:01\r\u001B[K     |██████████████▉                 | 40 kB 61.2 MB/s eta 0:00:01\r\u001B[K     |██████████████████▋             | 51 kB 65.9 MB/s eta 0:00:01\r\u001B[K     |██████████████████████▎         | 61 kB 71.1 MB/s eta 0:00:01\r\u001B[K     |██████████████████████████      | 71 kB 73.9 MB/s eta 0:00:01\r\u001B[K     |█████████████████████████████▊  | 81 kB 77.5 MB/s eta 0:00:01\r\u001B[K     |████████████████████████████████| 88 kB 4.0 MB/s \r\n\u001B[?25hCollecting python-crfsuite>=0.9.6\r\n  Downloading python_crfsuite-0.9.9-cp39-cp39-manylinux_2_17_x86_64.manylinux2014_x86_64.whl (1.0 MB)\r\n\u001B[?25l\r\u001B[K     |▎                               | 10 kB 25.1 MB/s eta 0:00:01\r\u001B[K     |▋                               | 20 kB 33.3 MB/s eta 0:00:01\r\u001B[K     |█                               | 30 kB 41.3 MB/s eta 0:00:01\r\u001B[K     |█▎                              | 40 kB 45.2 MB/s eta 0:00:01\r\u001B[K     |█▋                              | 51 kB 47.8 MB/s eta 0:00:01\r\u001B[K     |██                              | 61 kB 51.3 MB/s eta 0:00:01\r\u001B[K     |██▎                             | 71 kB 53.7 MB/s eta 0:00:01\r\u001B[K     |██▋                             | 81 kB 56.5 MB/s eta 0:00:01\r\u001B[K     |███                             | 92 kB 58.2 MB/s eta 0:00:01\r\u001B[K     |███▎                            | 102 kB 58.2 MB/s eta 0:00:01\r\u001B[K     |███▋                            | 112 kB 58.2 MB/s eta 0:00:01\r\u001B[K     |████                            | 122 kB 58.2 MB/s eta 0:00:01\r\u001B[K     |████▎                           | 133 kB 58.2 MB/s eta 0:00:01\r\u001B[K     |████▋                           | 143 kB 58.2 MB/s eta 0:00:01\r\u001B[K     |█████                           | 153 kB 58.2 MB/s eta 0:00:01\r\u001B[K     |█████▎                          | 163 kB 58.2 MB/s eta 0:00:01\r\u001B[K     |█████▌                          | 174 kB 58.2 MB/s eta 0:00:01\r\u001B[K     |█████▉                          | 184 kB 58.2 MB/s eta 0:00:01\r\u001B[K     |██████▏                         | 194 kB 58.2 MB/s eta 0:00:01\r\u001B[K     |██████▌                         | 204 kB 58.2 MB/s eta 0:00:01\r\u001B[K     |██████▉                         | 215 kB 58.2 MB/s eta 0:00:01\r\u001B[K     |███████▏                        | 225 kB 58.2 MB/s eta 0:00:01\r\u001B[K     |███████▌                        | 235 kB 58.2 MB/s eta 0:00:01\r\u001B[K     |███████▉                        | 245 kB 58.2 MB/s eta 0:00:01\r\u001B[K     |████████▏                       | 256 kB 58.2 MB/s eta 0:00:01\r\u001B[K     |████████▌                       | 266 kB 58.2 MB/s eta 0:00:01\r\u001B[K     |████████▉                       | 276 kB 58.2 MB/s eta 0:00:01\r\u001B[K     |█████████▏                      | 286 kB 58.2 MB/s eta 0:00:01\r\u001B[K     |█████████▌                      | 296 kB 58.2 MB/s eta 0:00:01\r\u001B[K     |█████████▉                      | 307 kB 58.2 MB/s eta 0:00:01\r\u001B[K     |██████████▏                     | 317 kB 58.2 MB/s eta 0:00:01\r\u001B[K     |██████████▌                     | 327 kB 58.2 MB/s eta 0:00:01\r\u001B[K     |██████████▉                     | 337 kB 58.2 MB/s eta 0:00:01\r\u001B[K     |███████████                     | 348 kB 58.2 MB/s eta 0:00:01\r\u001B[K     |███████████▍                    | 358 kB 58.2 MB/s eta 0:00:01\r\u001B[K     |███████████▊                    | 368 kB 58.2 MB/s eta 0:00:01\r\u001B[K     |████████████                    | 378 kB 58.2 MB/s eta 0:00:01\r\u001B[K     |████████████▍                   | 389 kB 58.2 MB/s eta 0:00:01\r\u001B[K     |████████████▊                   | 399 kB 58.2 MB/s eta 0:00:01\r\u001B[K     |█████████████                   | 409 kB 58.2 MB/s eta 0:00:01\r\u001B[K     |█████████████▍                  | 419 kB 58.2 MB/s eta 0:00:01\r\u001B[K     |█████████████▊                  | 430 kB 58.2 MB/s eta 0:00:01\r\u001B[K     |██████████████                  | 440 kB 58.2 MB/s eta 0:00:01\r\u001B[K     |██████████████▍                 | 450 kB 58.2 MB/s eta 0:00:01\r\u001B[K     |██████████████▊                 | 460 kB 58.2 MB/s eta 0:00:01\r\u001B[K     |███████████████                 | 471 kB 58.2 MB/s eta 0:00:01\r\u001B[K     |███████████████▍                | 481 kB 58.2 MB/s eta 0:00:01\r\u001B[K     |███████████████▊                | 491 kB 58.2 MB/s eta 0:00:01\r\u001B[K     |████████████████                | 501 kB 58.2 MB/s eta 0:00:01\r\u001B[K     |████████████████▎               | 512 kB 58.2 MB/s eta 0:00:01\r\u001B[K     |████████████████▋               | 522 kB 58.2 MB/s eta 0:00:01\r\u001B[K     |█████████████████               | 532 kB 58.2 MB/s eta 0:00:01\r\u001B[K     |█████████████████▎              | 542 kB 58.2 MB/s eta 0:00:01\r\u001B[K     |█████████████████▋              | 552 kB 58.2 MB/s eta 0:00:01\r\u001B[K     |██████████████████              | 563 kB 58.2 MB/s eta 0:00:01\r\u001B[K     |██████████████████▎             | 573 kB 58.2 MB/s eta 0:00:01\r\u001B[K     |██████████████████▋             | 583 kB 58.2 MB/s eta 0:00:01\r\u001B[K     |███████████████████             | 593 kB 58.2 MB/s eta 0:00:01\r\u001B[K     |███████████████████▎            | 604 kB 58.2 MB/s eta 0:00:01\r\u001B[K     |███████████████████▋            | 614 kB 58.2 MB/s eta 0:00:01\r\u001B[K     |████████████████████            | 624 kB 58.2 MB/s eta 0:00:01\r\u001B[K     |████████████████████▎           | 634 kB 58.2 MB/s eta 0:00:01\r\u001B[K     |████████████████████▋           | 645 kB 58.2 MB/s eta 0:00:01\r\u001B[K     |█████████████████████           | 655 kB 58.2 MB/s eta 0:00:01\r\u001B[K     |█████████████████████▎          | 665 kB 58.2 MB/s eta 0:00:01\r\u001B[K     |█████████████████████▋          | 675 kB 58.2 MB/s eta 0:00:01\r\u001B[K     |█████████████████████▉          | 686 kB 58.2 MB/s eta 0:00:01\r\u001B[K     |██████████████████████▏         | 696 kB 58.2 MB/s eta 0:00:01\r\u001B[K     |██████████████████████▌         | 706 kB 58.2 MB/s eta 0:00:01\r\u001B[K     |██████████████████████▉         | 716 kB 58.2 MB/s eta 0:00:01\r\u001B[K     |███████████████████████▏        | 727 kB 58.2 MB/s eta 0:00:01\r\u001B[K     |███████████████████████▌        | 737 kB 58.2 MB/s eta 0:00:01\r\u001B[K     |███████████████████████▉        | 747 kB 58.2 MB/s eta 0:00:01\r\u001B[K     |████████████████████████▏       | 757 kB 58.2 MB/s eta 0:00:01\r\u001B[K     |████████████████████████▌       | 768 kB 58.2 MB/s eta 0:00:01\r\u001B[K     |████████████████████████▉       | 778 kB 58.2 MB/s eta 0:00:01\r\u001B[K     |█████████████████████████▏      | 788 kB 58.2 MB/s eta 0:00:01\r\u001B[K     |█████████████████████████▌      | 798 kB 58.2 MB/s eta 0:00:01\r\u001B[K     |█████████████████████████▉      | 808 kB 58.2 MB/s eta 0:00:01\r\u001B[K     |██████████████████████████▏     | 819 kB 58.2 MB/s eta 0:00:01\r\u001B[K     |██████████████████████████▌     | 829 kB 58.2 MB/s eta 0:00:01\r\u001B[K     |██████████████████████████▉     | 839 kB 58.2 MB/s eta 0:00:01\r\u001B[K     |███████████████████████████▏    | 849 kB 58.2 MB/s eta 0:00:01\r\u001B[K     |███████████████████████████▍    | 860 kB 58.2 MB/s eta 0:00:01\r\u001B[K     |███████████████████████████▊    | 870 kB 58.2 MB/s eta 0:00:01\r\u001B[K     |████████████████████████████    | 880 kB 58.2 MB/s eta 0:00:01\r\u001B[K     |████████████████████████████▍   | 890 kB 58.2 MB/s eta 0:00:01\r\u001B[K     |████████████████████████████▊   | 901 kB 58.2 MB/s eta 0:00:01\r\u001B[K     |█████████████████████████████   | 911 kB 58.2 MB/s eta 0:00:01\r\u001B[K     |█████████████████████████████▍  | 921 kB 58.2 MB/s eta 0:00:01\r\u001B[K     |█████████████████████████████▊  | 931 kB 58.2 MB/s eta 0:00:01\r\u001B[K     |██████████████████████████████  | 942 kB 58.2 MB/s eta 0:00:01\r\u001B[K     |██████████████████████████████▍ | 952 kB 58.2 MB/s eta 0:00:01\r\u001B[K     |██████████████████████████████▊ | 962 kB 58.2 MB/s eta 0:00:01\r\u001B[K     |███████████████████████████████ | 972 kB 58.2 MB/s eta 0:00:01\r\u001B[K     |███████████████████████████████▍| 983 kB 58.2 MB/s eta 0:00:01\r\u001B[K     |███████████████████████████████▊| 993 kB 58.2 MB/s eta 0:00:01\r\u001B[K     |████████████████████████████████| 1.0 MB 58.2 MB/s \r\n\u001B[?25hRequirement already satisfied: six in /databricks/python3/lib/python3.9/site-packages (from fire>=0.1.3->ssg) (1.16.0)\r\nCollecting termcolor\r\n  Downloading termcolor-2.4.0-py3-none-any.whl (7.7 kB)\r\nBuilding wheels for collected packages: fire\r\n  Building wheel for fire (setup.py) ... \u001B[?25l-\b \b\\\b \bdone\r\n\u001B[?25h  Created wheel for fire: filename=fire-0.5.0-py2.py3-none-any.whl size=116950 sha256=631f24a7b2bf9bee91143cd17e91d5086459a0f550a0e48f90b103e4a7edd6c8\r\n  Stored in directory: /root/.cache/pip/wheels/f7/f1/89/b9ea2bf8f80ec027a88fef1d354b3816b4d3d29530988972f6\r\nSuccessfully built fire\r\nInstalling collected packages: termcolor, tqdm, python-crfsuite, fire, ssg\r\nSuccessfully installed fire-0.5.0 python-crfsuite-0.9.9 ssg-0.0.8 termcolor-2.4.0 tqdm-4.66.1\r\n\u001B[33mWARNING: You are using pip version 21.2.4; however, version 23.3.1 is available.\r\nYou should consider upgrading via the '/local_disk0/.ephemeral_nfs/envs/pythonEnv-63ca01ce-b404-4529-b3ea-749e3b779727/bin/python -m pip install --upgrade pip' command.\u001B[0m\r\n"
     ]
    }
   ],
   "source": [
    "# [Language detection]\n",
    "!pip install langdetect \n",
    "\n",
    "# [for PythaiNLP Library]\n",
    "!pip install pythainlp\n",
    "\n",
    "# [Syllble Count]\n",
    "!pip install https://github.com/wannaphongcom/thai-syllables-cut/archive/master.zip\n",
    "!pip install ssg"
   ]
  },
  {
   "cell_type": "code",
   "execution_count": 0,
   "metadata": {
    "application/vnd.databricks.v1+cell": {
     "cellMetadata": {
      "byteLimit": 2048000,
      "rowLimit": 10000
     },
     "inputWidgets": {},
     "nuid": "22f5a412-b63f-4be0-9e5e-183c4a481567",
     "showTitle": false,
     "tableResultSettingsMap": {},
     "title": ""
    }
   },
   "outputs": [
    {
     "output_type": "stream",
     "name": "stdout",
     "output_type": "stream",
     "text": [
      "Collecting langid\r\n  Downloading langid-1.1.6.tar.gz (1.9 MB)\r\n\u001B[?25l\r\u001B[K     |▏                               | 10 kB 30.4 MB/s eta 0:00:01\r\u001B[K     |▍                               | 20 kB 39.8 MB/s eta 0:00:01\r\u001B[K     |▌                               | 30 kB 49.0 MB/s eta 0:00:01\r\u001B[K     |▊                               | 40 kB 23.9 MB/s eta 0:00:01\r\u001B[K     |▉                               | 51 kB 27.2 MB/s eta 0:00:01\r\u001B[K     |█                               | 61 kB 31.1 MB/s eta 0:00:01\r\u001B[K     |█▏                              | 71 kB 20.1 MB/s eta 0:00:01\r\u001B[K     |█▍                              | 81 kB 22.1 MB/s eta 0:00:01\r\u001B[K     |█▌                              | 92 kB 24.3 MB/s eta 0:00:01\r\u001B[K     |█▊                              | 102 kB 20.0 MB/s eta 0:00:01\r\u001B[K     |█▉                              | 112 kB 20.0 MB/s eta 0:00:01\r\u001B[K     |██                              | 122 kB 20.0 MB/s eta 0:00:01\r\u001B[K     |██▏                             | 133 kB 20.0 MB/s eta 0:00:01\r\u001B[K     |██▍                             | 143 kB 20.0 MB/s eta 0:00:01\r\u001B[K     |██▌                             | 153 kB 20.0 MB/s eta 0:00:01\r\u001B[K     |██▊                             | 163 kB 20.0 MB/s eta 0:00:01\r\u001B[K     |███                             | 174 kB 20.0 MB/s eta 0:00:01\r\u001B[K     |███                             | 184 kB 20.0 MB/s eta 0:00:01\r\u001B[K     |███▎                            | 194 kB 20.0 MB/s eta 0:00:01\r\u001B[K     |███▍                            | 204 kB 20.0 MB/s eta 0:00:01\r\u001B[K     |███▋                            | 215 kB 20.0 MB/s eta 0:00:01\r\u001B[K     |███▊                            | 225 kB 20.0 MB/s eta 0:00:01\r\u001B[K     |████                            | 235 kB 20.0 MB/s eta 0:00:01\r\u001B[K     |████                            | 245 kB 20.0 MB/s eta 0:00:01\r\u001B[K     |████▎                           | 256 kB 20.0 MB/s eta 0:00:01\r\u001B[K     |████▍                           | 266 kB 20.0 MB/s eta 0:00:01\r\u001B[K     |████▋                           | 276 kB 20.0 MB/s eta 0:00:01\r\u001B[K     |████▊                           | 286 kB 20.0 MB/s eta 0:00:01\r\u001B[K     |█████                           | 296 kB 20.0 MB/s eta 0:00:01\r\u001B[K     |█████                           | 307 kB 20.0 MB/s eta 0:00:01\r\u001B[K     |█████▎                          | 317 kB 20.0 MB/s eta 0:00:01\r\u001B[K     |█████▍                          | 327 kB 20.0 MB/s eta 0:00:01\r\u001B[K     |█████▋                          | 337 kB 20.0 MB/s eta 0:00:01\r\u001B[K     |█████▉                          | 348 kB 20.0 MB/s eta 0:00:01\r\u001B[K     |██████                          | 358 kB 20.0 MB/s eta 0:00:01\r\u001B[K     |██████▏                         | 368 kB 20.0 MB/s eta 0:00:01\r\u001B[K     |██████▎                         | 378 kB 20.0 MB/s eta 0:00:01\r\u001B[K     |██████▌                         | 389 kB 20.0 MB/s eta 0:00:01\r\u001B[K     |██████▋                         | 399 kB 20.0 MB/s eta 0:00:01\r\u001B[K     |██████▉                         | 409 kB 20.0 MB/s eta 0:00:01\r\u001B[K     |███████                         | 419 kB 20.0 MB/s eta 0:00:01\r\u001B[K     |███████▏                        | 430 kB 20.0 MB/s eta 0:00:01\r\u001B[K     |███████▎                        | 440 kB 20.0 MB/s eta 0:00:01\r\u001B[K     |███████▌                        | 450 kB 20.0 MB/s eta 0:00:01\r\u001B[K     |███████▋                        | 460 kB 20.0 MB/s eta 0:00:01\r\u001B[K     |███████▉                        | 471 kB 20.0 MB/s eta 0:00:01\r\u001B[K     |████████                        | 481 kB 20.0 MB/s eta 0:00:01\r\u001B[K     |████████▏                       | 491 kB 20.0 MB/s eta 0:00:01\r\u001B[K     |████████▍                       | 501 kB 20.0 MB/s eta 0:00:01\r\u001B[K     |████████▌                       | 512 kB 20.0 MB/s eta 0:00:01\r\u001B[K     |████████▊                       | 522 kB 20.0 MB/s eta 0:00:01\r\u001B[K     |████████▉                       | 532 kB 20.0 MB/s eta 0:00:01\r\u001B[K     |█████████                       | 542 kB 20.0 MB/s eta 0:00:01\r\u001B[K     |█████████▏                      | 552 kB 20.0 MB/s eta 0:00:01\r\u001B[K     |█████████▍                      | 563 kB 20.0 MB/s eta 0:00:01\r\u001B[K     |█████████▌                      | 573 kB 20.0 MB/s eta 0:00:01\r\u001B[K     |█████████▊                      | 583 kB 20.0 MB/s eta 0:00:01\r\u001B[K     |█████████▉                      | 593 kB 20.0 MB/s eta 0:00:01\r\u001B[K     |██████████                      | 604 kB 20.0 MB/s eta 0:00:01\r\u001B[K     |██████████▏                     | 614 kB 20.0 MB/s eta 0:00:01\r\u001B[K     |██████████▍                     | 624 kB 20.0 MB/s eta 0:00:01\r\u001B[K     |██████████▌                     | 634 kB 20.0 MB/s eta 0:00:01\r\u001B[K     |██████████▊                     | 645 kB 20.0 MB/s eta 0:00:01\r\u001B[K     |██████████▉                     | 655 kB 20.0 MB/s eta 0:00:01\r\u001B[K     |███████████                     | 665 kB 20.0 MB/s eta 0:00:01\r\u001B[K     |███████████▎                    | 675 kB 20.0 MB/s eta 0:00:01\r\u001B[K     |███████████▍                    | 686 kB 20.0 MB/s eta 0:00:01\r\u001B[K     |███████████▋                    | 696 kB 20.0 MB/s eta 0:00:01\r\u001B[K     |███████████▊                    | 706 kB 20.0 MB/s eta 0:00:01\r\u001B[K     |████████████                    | 716 kB 20.0 MB/s eta 0:00:01\r\u001B[K     |████████████                    | 727 kB 20.0 MB/s eta 0:00:01\r\u001B[K     |████████████▎                   | 737 kB 20.0 MB/s eta 0:00:01\r\u001B[K     |████████████▍                   | 747 kB 20.0 MB/s eta 0:00:01\r\u001B[K     |████████████▋                   | 757 kB 20.0 MB/s eta 0:00:01\r\u001B[K     |████████████▊                   | 768 kB 20.0 MB/s eta 0:00:01\r\u001B[K     |█████████████                   | 778 kB 20.0 MB/s eta 0:00:01\r\u001B[K     |█████████████                   | 788 kB 20.0 MB/s eta 0:00:01\r\u001B[K     |█████████████▎                  | 798 kB 20.0 MB/s eta 0:00:01\r\u001B[K     |█████████████▍                  | 808 kB 20.0 MB/s eta 0:00:01\r\u001B[K     |█████████████▋                  | 819 kB 20.0 MB/s eta 0:00:01\r\u001B[K     |█████████████▉                  | 829 kB 20.0 MB/s eta 0:00:01\r\u001B[K     |██████████████                  | 839 kB 20.0 MB/s eta 0:00:01\r\u001B[K     |██████████████▏                 | 849 kB 20.0 MB/s eta 0:00:01\r\u001B[K     |██████████████▎                 | 860 kB 20.0 MB/s eta 0:00:01\r\u001B[K     |██████████████▌                 | 870 kB 20.0 MB/s eta 0:00:01\r\u001B[K     |██████████████▋                 | 880 kB 20.0 MB/s eta 0:00:01\r\u001B[K     |██████████████▉                 | 890 kB 20.0 MB/s eta 0:00:01\r\u001B[K     |███████████████                 | 901 kB 20.0 MB/s eta 0:00:01\r\u001B[K     |███████████████▏                | 911 kB 20.0 MB/s eta 0:00:01\r\u001B[K     |███████████████▎                | 921 kB 20.0 MB/s eta 0:00:01\r\u001B[K     |███████████████▌                | 931 kB 20.0 MB/s eta 0:00:01\r\u001B[K     |███████████████▋                | 942 kB 20.0 MB/s eta 0:00:01\r\u001B[K     |███████████████▉                | 952 kB 20.0 MB/s eta 0:00:01\r\u001B[K     |████████████████                | 962 kB 20.0 MB/s eta 0:00:01\r\u001B[K     |████████████████▏               | 972 kB 20.0 MB/s eta 0:00:01\r\u001B[K     |████████████████▎               | 983 kB 20.0 MB/s eta 0:00:01\r\u001B[K     |████████████████▌               | 993 kB 20.0 MB/s eta 0:00:01\r\u001B[K     |████████████████▊               | 1.0 MB 20.0 MB/s eta 0:00:01\r\u001B[K     |████████████████▉               | 1.0 MB 20.0 MB/s eta 0:00:01\r\u001B[K     |█████████████████               | 1.0 MB 20.0 MB/s eta 0:00:01\r\u001B[K     |█████████████████▏              | 1.0 MB 20.0 MB/s eta 0:00:01\r\u001B[K     |█████████████████▍              | 1.0 MB 20.0 MB/s eta 0:00:01\r\u001B[K     |█████████████████▌              | 1.1 MB 20.0 MB/s eta 0:00:01\r\u001B[K     |█████████████████▊              | 1.1 MB 20.0 MB/s eta 0:00:01\r\u001B[K     |█████████████████▉              | 1.1 MB 20.0 MB/s eta 0:00:01\r\u001B[K     |██████████████████              | 1.1 MB 20.0 MB/s eta 0:00:01\r\u001B[K     |██████████████████▏             | 1.1 MB 20.0 MB/s eta 0:00:01\r\u001B[K     |██████████████████▍             | 1.1 MB 20.0 MB/s eta 0:00:01\r\u001B[K     |██████████████████▌             | 1.1 MB 20.0 MB/s eta 0:00:01\r\u001B[K     |██████████████████▊             | 1.1 MB 20.0 MB/s eta 0:00:01\r\u001B[K     |██████████████████▉             | 1.1 MB 20.0 MB/s eta 0:00:01\r\u001B[K     |███████████████████             | 1.1 MB 20.0 MB/s eta 0:00:01\r\u001B[K     |███████████████████▎            | 1.2 MB 20.0 MB/s eta 0:00:01\r\u001B[K     |███████████████████▍            | 1.2 MB 20.0 MB/s eta 0:00:01\r\u001B[K     |███████████████████▋            | 1.2 MB 20.0 MB/s eta 0:00:01\r\u001B[K     |███████████████████▊            | 1.2 MB 20.0 MB/s eta 0:00:01\r\u001B[K     |████████████████████            | 1.2 MB 20.0 MB/s eta 0:00:01\r\u001B[K     |████████████████████            | 1.2 MB 20.0 MB/s eta 0:00:01\r\u001B[K     |████████████████████▎           | 1.2 MB 20.0 MB/s eta 0:00:01\r\u001B[K     |████████████████████▍           | 1.2 MB 20.0 MB/s eta 0:00:01\r\u001B[K     |████████████████████▋           | 1.2 MB 20.0 MB/s eta 0:00:01\r\u001B[K     |████████████████████▊           | 1.2 MB 20.0 MB/s eta 0:00:01\r\u001B[K     |█████████████████████           | 1.3 MB 20.0 MB/s eta 0:00:01\r\u001B[K     |█████████████████████           | 1.3 MB 20.0 MB/s eta 0:00:01\r\u001B[K     |█████████████████████▎          | 1.3 MB 20.0 MB/s eta 0:00:01\r\u001B[K     |█████████████████████▍          | 1.3 MB 20.0 MB/s eta 0:00:01\r\u001B[K     |█████████████████████▋          | 1.3 MB 20.0 MB/s eta 0:00:01\r\u001B[K     |█████████████████████▊          | 1.3 MB 20.0 MB/s eta 0:00:01\r\u001B[K     |██████████████████████          | 1.3 MB 20.0 MB/s eta 0:00:01\r\u001B[K     |██████████████████████▏         | 1.3 MB 20.0 MB/s eta 0:00:01\r\u001B[K     |██████████████████████▎         | 1.3 MB 20.0 MB/s eta 0:00:01\r\u001B[K     |██████████████████████▌         | 1.4 MB 20.0 MB/s eta 0:00:01\r\u001B[K     |██████████████████████▋         | 1.4 MB 20.0 MB/s eta 0:00:01\r\u001B[K     |██████████████████████▉         | 1.4 MB 20.0 MB/s eta 0:00:01\r\u001B[K     |███████████████████████         | 1.4 MB 20.0 MB/s eta 0:00:01\r\u001B[K     |███████████████████████▏        | 1.4 MB 20.0 MB/s eta 0:00:01\r\u001B[K     |███████████████████████▎        | 1.4 MB 20.0 MB/s eta 0:00:01\r\u001B[K     |███████████████████████▌        | 1.4 MB 20.0 MB/s eta 0:00:01\r\u001B[K     |███████████████████████▋        | 1.4 MB 20.0 MB/s eta 0:00:01\r\u001B[K     |███████████████████████▉        | 1.4 MB 20.0 MB/s eta 0:00:01\r\u001B[K     |████████████████████████        | 1.4 MB 20.0 MB/s eta 0:00:01\r\u001B[K     |████████████████████████▏       | 1.5 MB 20.0 MB/s eta 0:00:01\r\u001B[K     |████████████████████████▎       | 1.5 MB 20.0 MB/s eta 0:00:01\r\u001B[K     |████████████████████████▌       | 1.5 MB 20.0 MB/s eta 0:00:01\r\u001B[K     |████████████████████████▊       | 1.5 MB 20.0 MB/s eta 0:00:01\r\u001B[K     |████████████████████████▉       | 1.5 MB 20.0 MB/s eta 0:00:01\r\u001B[K     |█████████████████████████       | 1.5 MB 20.0 MB/s eta 0:00:01\r\u001B[K     |█████████████████████████▏      | 1.5 MB 20.0 MB/s eta 0:00:01\r\u001B[K     |█████████████████████████▍      | 1.5 MB 20.0 MB/s eta 0:00:01\r\u001B[K     |█████████████████████████▌      | 1.5 MB 20.0 MB/s eta 0:00:01\r\u001B[K     |█████████████████████████▊      | 1.5 MB 20.0 MB/s eta 0:00:01\r\u001B[K     |█████████████████████████▉      | 1.6 MB 20.0 MB/s eta 0:00:01\r\u001B[K     |██████████████████████████      | 1.6 MB 20.0 MB/s eta 0:00:01\r\u001B[K     |██████████████████████████▏     | 1.6 MB 20.0 MB/s eta 0:00:01\r\u001B[K     |██████████████████████████▍     | 1.6 MB 20.0 MB/s eta 0:00:01\r\u001B[K     |██████████████████████████▌     | 1.6 MB 20.0 MB/s eta 0:00:01\r\u001B[K     |██████████████████████████▊     | 1.6 MB 20.0 MB/s eta 0:00:01\r\u001B[K     |██████████████████████████▉     | 1.6 MB 20.0 MB/s eta 0:00:01\r\u001B[K     |███████████████████████████     | 1.6 MB 20.0 MB/s eta 0:00:01\r\u001B[K     |███████████████████████████▏    | 1.6 MB 20.0 MB/s eta 0:00:01\r\u001B[K     |███████████████████████████▍    | 1.6 MB 20.0 MB/s eta 0:00:01\r\u001B[K     |███████████████████████████▋    | 1.7 MB 20.0 MB/s eta 0:00:01\r\u001B[K     |███████████████████████████▊    | 1.7 MB 20.0 MB/s eta 0:00:01\r\u001B[K     |████████████████████████████    | 1.7 MB 20.0 MB/s eta 0:00:01\r\u001B[K     |████████████████████████████    | 1.7 MB 20.0 MB/s eta 0:00:01\r\u001B[K     |████████████████████████████▎   | 1.7 MB 20.0 MB/s eta 0:00:01\r\u001B[K     |████████████████████████████▍   | 1.7 MB 20.0 MB/s eta 0:00:01\r\u001B[K     |████████████████████████████▋   | 1.7 MB 20.0 MB/s eta 0:00:01\r\u001B[K     |████████████████████████████▊   | 1.7 MB 20.0 MB/s eta 0:00:01\r\u001B[K     |█████████████████████████████   | 1.7 MB 20.0 MB/s eta 0:00:01\r\u001B[K     |█████████████████████████████   | 1.8 MB 20.0 MB/s eta 0:00:01\r\u001B[K     |█████████████████████████████▎  | 1.8 MB 20.0 MB/s eta 0:00:01\r\u001B[K     |█████████████████████████████▍  | 1.8 MB 20.0 MB/s eta 0:00:01\r\u001B[K     |█████████████████████████████▋  | 1.8 MB 20.0 MB/s eta 0:00:01\r\u001B[K     |█████████████████████████████▊  | 1.8 MB 20.0 MB/s eta 0:00:01\r\u001B[K     |██████████████████████████████  | 1.8 MB 20.0 MB/s eta 0:00:01\r\u001B[K     |██████████████████████████████▏ | 1.8 MB 20.0 MB/s eta 0:00:01\r\u001B[K     |██████████████████████████████▎ | 1.8 MB 20.0 MB/s eta 0:00:01\r\u001B[K     |██████████████████████████████▌ | 1.8 MB 20.0 MB/s eta 0:00:01\r\u001B[K     |██████████████████████████████▋ | 1.8 MB 20.0 MB/s eta 0:00:01\r\u001B[K     |██████████████████████████████▉ | 1.9 MB 20.0 MB/s eta 0:00:01\r\u001B[K     |███████████████████████████████ | 1.9 MB 20.0 MB/s eta 0:00:01\r\u001B[K     |███████████████████████████████▏| 1.9 MB 20.0 MB/s eta 0:00:01\r\u001B[K     |███████████████████████████████▎| 1.9 MB 20.0 MB/s eta 0:00:01\r\u001B[K     |███████████████████████████████▌| 1.9 MB 20.0 MB/s eta 0:00:01\r\u001B[K     |███████████████████████████████▋| 1.9 MB 20.0 MB/s eta 0:00:01\r\u001B[K     |███████████████████████████████▉| 1.9 MB 20.0 MB/s eta 0:00:01\r\u001B[K     |████████████████████████████████| 1.9 MB 20.0 MB/s eta 0:00:01\r\u001B[K     |████████████████████████████████| 1.9 MB 20.0 MB/s \r\n\u001B[?25hRequirement already satisfied: numpy in /databricks/python3/lib/python3.9/site-packages (from langid) (1.20.3)\r\nBuilding wheels for collected packages: langid\r\n  Building wheel for langid (setup.py) ... \u001B[?25l-\b \b\\\b \b|\b \bdone\r\n\u001B[?25h  Created wheel for langid: filename=langid-1.1.6-py3-none-any.whl size=1941187 sha256=e35199ef421085646c35095cef8cd12ef9301802f5cd797ad03431b20283921d\r\n  Stored in directory: /root/.cache/pip/wheels/93/95/a9/c292c9dd8cadb8f2359f1670ff198a40d47167b0be3236e1c8\r\nSuccessfully built langid\r\nInstalling collected packages: langid\r\nSuccessfully installed langid-1.1.6\r\n\u001B[33mWARNING: You are using pip version 21.2.4; however, version 23.3.1 is available.\r\nYou should consider upgrading via the '/local_disk0/.ephemeral_nfs/envs/pythonEnv-63ca01ce-b404-4529-b3ea-749e3b779727/bin/python -m pip install --upgrade pip' command.\u001B[0m\r\nCollecting pycld2\r\n  Downloading pycld2-0.41.tar.gz (41.4 MB)\r\n\u001B[?25l\r\u001B[K     |                                | 10 kB 20.2 MB/s eta 0:00:03\r\u001B[K     |                                | 20 kB 25.9 MB/s eta 0:00:02\r\u001B[K     |                                | 30 kB 32.0 MB/s eta 0:00:02\r\u001B[K     |                                | 40 kB 20.1 MB/s eta 0:00:03\r\u001B[K     |                                | 51 kB 22.6 MB/s eta 0:00:02\r\u001B[K     |                                | 61 kB 25.4 MB/s eta 0:00:02\r\u001B[K     |                                | 71 kB 16.5 MB/s eta 0:00:03\r\u001B[K     |                                | 81 kB 17.1 MB/s eta 0:00:03\r\u001B[K     |                                | 92 kB 18.6 MB/s eta 0:00:03\r\u001B[K     |                                | 102 kB 17.7 MB/s eta 0:00:03\r\u001B[K     |                                | 112 kB 17.7 MB/s eta 0:00:03\r\u001B[K     |                                | 122 kB 17.7 MB/s eta 0:00:03\r\u001B[K     |                                | 133 kB 17.7 MB/s eta 0:00:03\r\u001B[K     |                                | 143 kB 17.7 MB/s eta 0:00:03\r\u001B[K     |▏                               | 153 kB 17.7 MB/s eta 0:00:03\r\u001B[K     |▏                               | 163 kB 17.7 MB/s eta 0:00:03\r\u001B[K     |▏                               | 174 kB 17.7 MB/s eta 0:00:03\r\u001B[K     |▏                               | 184 kB 17.7 MB/s eta 0:00:03\r\u001B[K     |▏                               | 194 kB 17.7 MB/s eta 0:00:03\r\u001B[K     |▏                               | 204 kB 17.7 MB/s eta 0:00:03\r\u001B[K     |▏                               | 215 kB 17.7 MB/s eta 0:00:03\r\u001B[K     |▏                               | 225 kB 17.7 MB/s eta 0:00:03\r\u001B[K     |▏                               | 235 kB 17.7 MB/s eta 0:00:03\r\u001B[K     |▏                               | 245 kB 17.7 MB/s eta 0:00:03\r\u001B[K     |▏                               | 256 kB 17.7 MB/s eta 0:00:03\r\u001B[K     |▏                               | 266 kB 17.7 MB/s eta 0:00:03\r\u001B[K     |▏                               | 276 kB 17.7 MB/s eta 0:00:03\r\u001B[K     |▏                               | 286 kB 17.7 MB/s eta 0:00:03\r\u001B[K     |▎                               | 296 kB 17.7 MB/s eta 0:00:03\r\u001B[K     |▎                               | 307 kB 17.7 MB/s eta 0:00:03\r\u001B[K     |▎                               | 317 kB 17.7 MB/s eta 0:00:03\r\u001B[K     |▎                               | 327 kB 17.7 MB/s eta 0:00:03\r\u001B[K     |▎                               | 337 kB 17.7 MB/s eta 0:00:03\r\u001B[K     |▎                               | 348 kB 17.7 MB/s eta 0:00:03\r\u001B[K     |▎                               | 358 kB 17.7 MB/s eta 0:00:03\r\u001B[K     |▎                               | 368 kB 17.7 MB/s eta 0:00:03\r\u001B[K     |▎                               | 378 kB 17.7 MB/s eta 0:00:03\r\u001B[K     |▎                               | 389 kB 17.7 MB/s eta 0:00:03\r\u001B[K     |▎                               | 399 kB 17.7 MB/s eta 0:00:03\r\u001B[K     |▎                               | 409 kB 17.7 MB/s eta 0:00:03\r\u001B[K     |▎                               | 419 kB 17.7 MB/s eta 0:00:03\r\u001B[K     |▎                               | 430 kB 17.7 MB/s eta 0:00:03\r\u001B[K     |▍                               | 440 kB 17.7 MB/s eta 0:00:03\r\u001B[K     |▍                               | 450 kB 17.7 MB/s eta 0:00:03\r\u001B[K     |▍                               | 460 kB 17.7 MB/s eta 0:00:03\r\u001B[K     |▍                               | 471 kB 17.7 MB/s eta 0:00:03\r\u001B[K     |▍                               | 481 kB 17.7 MB/s eta 0:00:03\r\u001B[K     |▍                               | 491 kB 17.7 MB/s eta 0:00:03\r\u001B[K     |▍                               | 501 kB 17.7 MB/s eta 0:00:03\r\u001B[K     |▍                               | 512 kB 17.7 MB/s eta 0:00:03\r\u001B[K     |▍                               | 522 kB 17.7 MB/s eta 0:00:03\r\u001B[K     |▍                               | 532 kB 17.7 MB/s eta 0:00:03\r\u001B[K     |▍                               | 542 kB 17.7 MB/s eta 0:00:03\r\u001B[K     |▍                               | 552 kB 17.7 MB/s eta 0:00:03\r\u001B[K     |▍                               | 563 kB 17.7 MB/s eta 0:00:03\r\u001B[K     |▍                               | 573 kB 17.7 MB/s eta 0:00:03\r\u001B[K     |▌                               | 583 kB 17.7 MB/s eta 0:00:03\r\u001B[K     |▌                               | 593 kB 17.7 MB/s eta 0:00:03\r\u001B[K     |▌                               | 604 kB 17.7 MB/s eta 0:00:03\r\u001B[K     |▌                               | 614 kB 17.7 MB/s eta 0:00:03\r\u001B[K     |▌                               | 624 kB 17.7 MB/s eta 0:00:03\r\u001B[K     |▌                               | 634 kB 17.7 MB/s eta 0:00:03\r\u001B[K     |▌                               | 645 kB 17.7 MB/s eta 0:00:03\r\u001B[K     |▌                               | 655 kB 17.7 MB/s eta 0:00:03\r\u001B[K     |▌                               | 665 kB 17.7 MB/s eta 0:00:03\r\u001B[K     |▌                               | 675 kB 17.7 MB/s eta 0:00:03\r\u001B[K     |▌                               | 686 kB 17.7 MB/s eta 0:00:03\r\u001B[K     |▌                               | 696 kB 17.7 MB/s eta 0:00:03\r\u001B[K     |▌                               | 706 kB 17.7 MB/s eta 0:00:03\r\u001B[K     |▌                               | 716 kB 17.7 MB/s eta 0:00:03\r\u001B[K     |▋                               | 727 kB 17.7 MB/s eta 0:00:03\r\u001B[K     |▋                               | 737 kB 17.7 MB/s eta 0:00:03\r\u001B[K     |▋                               | 747 kB 17.7 MB/s eta 0:00:03\r\u001B[K     |▋                               | 757 kB 17.7 MB/s eta 0:00:03\r\u001B[K     |▋                               | 768 kB 17.7 MB/s eta 0:00:03\r\u001B[K     |▋                               | 778 kB 17.7 MB/s eta 0:00:03\r\u001B[K     |▋                               | 788 kB 17.7 MB/s eta 0:00:03\r\u001B[K     |▋                               | 798 kB 17.7 MB/s eta 0:00:03\r\u001B[K     |▋                               | 808 kB 17.7 MB/s eta 0:00:03\r\u001B[K     |▋                               | 819 kB 17.7 MB/s eta 0:00:03\r\u001B[K     |▋                               | 829 kB 17.7 MB/s eta 0:00:03\r\u001B[K     |▋                               | 839 kB 17.7 MB/s eta 0:00:03\r\u001B[K     |▋                               | 849 kB 17.7 MB/s eta 0:00:03\r\u001B[K     |▋                               | 860 kB 17.7 MB/s eta 0:00:03\r\u001B[K     |▊                               | 870 kB 17.7 MB/s eta 0:00:03\r\u001B[K     |▊                               | 880 kB 17.7 MB/s eta 0:00:03\r\u001B[K     |▊                               | 890 kB 17.7 MB/s eta 0:00:03\r\u001B[K     |▊                               | 901 kB 17.7 MB/s eta 0:00:03\r\u001B[K     |▊                               | 911 kB 17.7 MB/s eta 0:00:03\r\u001B[K     |▊                               | 921 kB 17.7 MB/s eta 0:00:03\r\u001B[K     |▊                               | 931 kB 17.7 MB/s eta 0:00:03\r\u001B[K     |▊                               | 942 kB 17.7 MB/s eta 0:00:03\r\u001B[K     |▊                               | 952 kB 17.7 MB/s eta 0:00:03\r\u001B[K     |▊                               | 962 kB 17.7 MB/s eta 0:00:03\r\u001B[K     |▊                               | 972 kB 17.7 MB/s eta 0:00:03\r\u001B[K     |▊                               | 983 kB 17.7 MB/s eta 0:00:03\r\u001B[K     |▊                               | 993 kB 17.7 MB/s eta 0:00:03\r\u001B[K     |▊                               | 1.0 MB 17.7 MB/s eta 0:00:03\r\u001B[K     |▉                               | 1.0 MB 17.7 MB/s eta 0:00:03\r\u001B[K     |▉                               | 1.0 MB 17.7 MB/s eta 0:00:03\r\u001B[K     |▉                               | 1.0 MB 17.7 MB/s eta 0:00:03\r\u001B[K     |▉                               | 1.0 MB 17.7 MB/s eta 0:00:03\r\u001B[K     |▉                               | 1.1 MB 17.7 MB/s eta 0:00:03\r\u001B[K     |▉                               | 1.1 MB 17.7 MB/s eta 0:00:03\r\u001B[K     |▉                               | 1.1 MB 17.7 MB/s eta 0:00:03\r\u001B[K     |▉                               | 1.1 MB 17.7 MB/s eta 0:00:03\r\u001B[K     |▉                               | 1.1 MB 17.7 MB/s eta 0:00:03\r\u001B[K     |▉                               | 1.1 MB 17.7 MB/s eta 0:00:03\r\u001B[K     |▉                               | 1.1 MB 17.7 MB/s eta 0:00:03\r\u001B[K     |▉                               | 1.1 MB 17.7 MB/s eta 0:00:03\r\u001B[K     |▉                               | 1.1 MB 17.7 MB/s eta 0:00:03\r\u001B[K     |▉                               | 1.1 MB 17.7 MB/s eta 0:00:03\r\u001B[K     |█                               | 1.2 MB 17.7 MB/s eta 0:00:03\r\u001B[K     |█                               | 1.2 MB 17.7 MB/s eta 0:00:03\r\u001B[K     |█                               | 1.2 MB 17.7 MB/s eta 0:00:03\r\u001B[K     |█                               | 1.2 MB 17.7 MB/s eta 0:00:03\r\u001B[K     |█                               | 1.2 MB 17.7 MB/s eta 0:00:03\r\u001B[K     |█                               | 1.2 MB 17.7 MB/s eta 0:00:03\r\u001B[K     |█                               | 1.2 MB 17.7 MB/s eta 0:00:03\r\u001B[K     |█                               | 1.2 MB 17.7 MB/s eta 0:00:03\r\u001B[K     |█                               | 1.2 MB 17.7 MB/s eta 0:00:03\r\u001B[K     |█                               | 1.2 MB 17.7 MB/s eta 0:00:03\r\u001B[K     |█                               | 1.3 MB 17.7 MB/s eta 0:00:03\r\u001B[K     |█                               | 1.3 MB 17.7 MB/s eta 0:00:03\r\u001B[K     |█                               | 1.3 MB 17.7 MB/s eta 0:00:03\r\u001B[K     |█                               | 1.3 MB 17.7 MB/s eta 0:00:03\r\u001B[K     |█                               | 1.3 MB 17.7 MB/s eta 0:00:03\r\u001B[K     |█                               | 1.3 MB 17.7 MB/s eta 0:00:03\r\u001B[K     |█                               | 1.3 MB 17.7 MB/s eta 0:00:03\r\u001B[K     |█                               | 1.3 MB 17.7 MB/s eta 0:00:03\r\u001B[K     |█                               | 1.3 MB 17.7 MB/s eta 0:00:03\r\u001B[K     |█                               | 1.4 MB 17.7 MB/s eta 0:00:03\r\u001B[K     |█                               | 1.4 MB 17.7 MB/s eta 0:00:03\r\u001B[K     |█                               | 1.4 MB 17.7 MB/s eta 0:00:03\r\u001B[K     |█                               | 1.4 MB 17.7 MB/s eta 0:00:03\r\u001B[K     |█                               | 1.4 MB 17.7 MB/s eta 0:00:03\r\u001B[K     |█                               | 1.4 MB 17.7 MB/s eta 0:00:03\r\u001B[K     |█                               | 1.4 MB 17.7 MB/s eta 0:00:03\r\u001B[K     |█                               | 1.4 MB 17.7 MB/s eta 0:00:03\r\u001B[K     |█                               | 1.4 MB 17.7 MB/s eta 0:00:03\r\u001B[K     |█▏                              | 1.4 MB 17.7 MB/s eta 0:00:03\r\u001B[K     |█▏                              | 1.5 MB 17.7 MB/s eta 0:00:03\r\u001B[K     |█▏                              | 1.5 MB 17.7 MB/s eta 0:00:03\r\u001B[K     |█▏                              | 1.5 MB 17.7 MB/s eta 0:00:03\r\u001B[K     |█▏                              | 1.5 M\n\n*** WARNING: max output size exceeded, skipping output. ***\n\n                          | 573 kB 94.0 MB/s eta 0:00:01\r\u001B[K     |████▉                           | 583 kB 94.0 MB/s eta 0:00:01\r\u001B[K     |█████                           | 593 kB 94.0 MB/s eta 0:00:01\r\u001B[K     |█████                           | 604 kB 94.0 MB/s eta 0:00:01\r\u001B[K     |█████▏                          | 614 kB 94.0 MB/s eta 0:00:01\r\u001B[K     |█████▏                          | 624 kB 94.0 MB/s eta 0:00:01\r\u001B[K     |█████▎                          | 634 kB 94.0 MB/s eta 0:00:01\r\u001B[K     |█████▍                          | 645 kB 94.0 MB/s eta 0:00:01\r\u001B[K     |█████▌                          | 655 kB 94.0 MB/s eta 0:00:01\r\u001B[K     |█████▌                          | 665 kB 94.0 MB/s eta 0:00:01\r\u001B[K     |█████▋                          | 675 kB 94.0 MB/s eta 0:00:01\r\u001B[K     |█████▊                          | 686 kB 94.0 MB/s eta 0:00:01\r\u001B[K     |█████▉                          | 696 kB 94.0 MB/s eta 0:00:01\r\u001B[K     |█████▉                          | 706 kB 94.0 MB/s eta 0:00:01\r\u001B[K     |██████                          | 716 kB 94.0 MB/s eta 0:00:01\r\u001B[K     |██████                          | 727 kB 94.0 MB/s eta 0:00:01\r\u001B[K     |██████▏                         | 737 kB 94.0 MB/s eta 0:00:01\r\u001B[K     |██████▎                         | 747 kB 94.0 MB/s eta 0:00:01\r\u001B[K     |██████▎                         | 757 kB 94.0 MB/s eta 0:00:01\r\u001B[K     |██████▍                         | 768 kB 94.0 MB/s eta 0:00:01\r\u001B[K     |██████▌                         | 778 kB 94.0 MB/s eta 0:00:01\r\u001B[K     |██████▋                         | 788 kB 94.0 MB/s eta 0:00:01\r\u001B[K     |██████▋                         | 798 kB 94.0 MB/s eta 0:00:01\r\u001B[K     |██████▊                         | 808 kB 94.0 MB/s eta 0:00:01\r\u001B[K     |██████▉                         | 819 kB 94.0 MB/s eta 0:00:01\r\u001B[K     |███████                         | 829 kB 94.0 MB/s eta 0:00:01\r\u001B[K     |███████                         | 839 kB 94.0 MB/s eta 0:00:01\r\u001B[K     |███████                         | 849 kB 94.0 MB/s eta 0:00:01\r\u001B[K     |███████▏                        | 860 kB 94.0 MB/s eta 0:00:01\r\u001B[K     |███████▎                        | 870 kB 94.0 MB/s eta 0:00:01\r\u001B[K     |███████▍                        | 880 kB 94.0 MB/s eta 0:00:01\r\u001B[K     |███████▍                        | 890 kB 94.0 MB/s eta 0:00:01\r\u001B[K     |███████▌                        | 901 kB 94.0 MB/s eta 0:00:01\r\u001B[K     |███████▋                        | 911 kB 94.0 MB/s eta 0:00:01\r\u001B[K     |███████▊                        | 921 kB 94.0 MB/s eta 0:00:01\r\u001B[K     |███████▊                        | 931 kB 94.0 MB/s eta 0:00:01\r\u001B[K     |███████▉                        | 942 kB 94.0 MB/s eta 0:00:01\r\u001B[K     |████████                        | 952 kB 94.0 MB/s eta 0:00:01\r\u001B[K     |████████                        | 962 kB 94.0 MB/s eta 0:00:01\r\u001B[K     |████████                        | 972 kB 94.0 MB/s eta 0:00:01\r\u001B[K     |████████▏                       | 983 kB 94.0 MB/s eta 0:00:01\r\u001B[K     |████████▎                       | 993 kB 94.0 MB/s eta 0:00:01\r\u001B[K     |████████▍                       | 1.0 MB 94.0 MB/s eta 0:00:01\r\u001B[K     |████████▌                       | 1.0 MB 94.0 MB/s eta 0:00:01\r\u001B[K     |████████▌                       | 1.0 MB 94.0 MB/s eta 0:00:01\r\u001B[K     |████████▋                       | 1.0 MB 94.0 MB/s eta 0:00:01\r\u001B[K     |████████▊                       | 1.0 MB 94.0 MB/s eta 0:00:01\r\u001B[K     |████████▉                       | 1.1 MB 94.0 MB/s eta 0:00:01\r\u001B[K     |████████▉                       | 1.1 MB 94.0 MB/s eta 0:00:01\r\u001B[K     |█████████                       | 1.1 MB 94.0 MB/s eta 0:00:01\r\u001B[K     |█████████                       | 1.1 MB 94.0 MB/s eta 0:00:01\r\u001B[K     |█████████▏                      | 1.1 MB 94.0 MB/s eta 0:00:01\r\u001B[K     |█████████▏                      | 1.1 MB 94.0 MB/s eta 0:00:01\r\u001B[K     |█████████▎                      | 1.1 MB 94.0 MB/s eta 0:00:01\r\u001B[K     |█████████▍                      | 1.1 MB 94.0 MB/s eta 0:00:01\r\u001B[K     |█████████▌                      | 1.1 MB 94.0 MB/s eta 0:00:01\r\u001B[K     |█████████▌                      | 1.1 MB 94.0 MB/s eta 0:00:01\r\u001B[K     |█████████▋                      | 1.2 MB 94.0 MB/s eta 0:00:01\r\u001B[K     |█████████▊                      | 1.2 MB 94.0 MB/s eta 0:00:01\r\u001B[K     |█████████▉                      | 1.2 MB 94.0 MB/s eta 0:00:01\r\u001B[K     |██████████                      | 1.2 MB 94.0 MB/s eta 0:00:01\r\u001B[K     |██████████                      | 1.2 MB 94.0 MB/s eta 0:00:01\r\u001B[K     |██████████                      | 1.2 MB 94.0 MB/s eta 0:00:01\r\u001B[K     |██████████▏                     | 1.2 MB 94.0 MB/s eta 0:00:01\r\u001B[K     |██████████▎                     | 1.2 MB 94.0 MB/s eta 0:00:01\r\u001B[K     |██████████▎                     | 1.2 MB 94.0 MB/s eta 0:00:01\r\u001B[K     |██████████▍                     | 1.2 MB 94.0 MB/s eta 0:00:01\r\u001B[K     |██████████▌                     | 1.3 MB 94.0 MB/s eta 0:00:01\r\u001B[K     |██████████▋                     | 1.3 MB 94.0 MB/s eta 0:00:01\r\u001B[K     |██████████▋                     | 1.3 MB 94.0 MB/s eta 0:00:01\r\u001B[K     |██████████▊                     | 1.3 MB 94.0 MB/s eta 0:00:01\r\u001B[K     |██████████▉                     | 1.3 MB 94.0 MB/s eta 0:00:01\r\u001B[K     |███████████                     | 1.3 MB 94.0 MB/s eta 0:00:01\r\u001B[K     |███████████                     | 1.3 MB 94.0 MB/s eta 0:00:01\r\u001B[K     |███████████                     | 1.3 MB 94.0 MB/s eta 0:00:01\r\u001B[K     |███████████▏                    | 1.3 MB 94.0 MB/s eta 0:00:01\r\u001B[K     |███████████▎                    | 1.4 MB 94.0 MB/s eta 0:00:01\r\u001B[K     |███████████▍                    | 1.4 MB 94.0 MB/s eta 0:00:01\r\u001B[K     |███████████▍                    | 1.4 MB 94.0 MB/s eta 0:00:01\r\u001B[K     |███████████▌                    | 1.4 MB 94.0 MB/s eta 0:00:01\r\u001B[K     |███████████▋                    | 1.4 MB 94.0 MB/s eta 0:00:01\r\u001B[K     |███████████▊                    | 1.4 MB 94.0 MB/s eta 0:00:01\r\u001B[K     |███████████▊                    | 1.4 MB 94.0 MB/s eta 0:00:01\r\u001B[K     |███████████▉                    | 1.4 MB 94.0 MB/s eta 0:00:01\r\u001B[K     |████████████                    | 1.4 MB 94.0 MB/s eta 0:00:01\r\u001B[K     |████████████                    | 1.4 MB 94.0 MB/s eta 0:00:01\r\u001B[K     |████████████▏                   | 1.5 MB 94.0 MB/s eta 0:00:01\r\u001B[K     |████████████▏                   | 1.5 MB 94.0 MB/s eta 0:00:01\r\u001B[K     |████████████▎                   | 1.5 MB 94.0 MB/s eta 0:00:01\r\u001B[K     |████████████▍                   | 1.5 MB 94.0 MB/s eta 0:00:01\r\u001B[K     |████████████▌                   | 1.5 MB 94.0 MB/s eta 0:00:01\r\u001B[K     |████████████▌                   | 1.5 MB 94.0 MB/s eta 0:00:01\r\u001B[K     |████████████▋                   | 1.5 MB 94.0 MB/s eta 0:00:01\r\u001B[K     |████████████▊                   | 1.5 MB 94.0 MB/s eta 0:00:01\r\u001B[K     |████████████▉                   | 1.5 MB 94.0 MB/s eta 0:00:01\r\u001B[K     |████████████▉                   | 1.5 MB 94.0 MB/s eta 0:00:01\r\u001B[K     |█████████████                   | 1.6 MB 94.0 MB/s eta 0:00:01\r\u001B[K     |█████████████                   | 1.6 MB 94.0 MB/s eta 0:00:01\r\u001B[K     |█████████████▏                  | 1.6 MB 94.0 MB/s eta 0:00:01\r\u001B[K     |█████████████▎                  | 1.6 MB 94.0 MB/s eta 0:00:01\r\u001B[K     |█████████████▎                  | 1.6 MB 94.0 MB/s eta 0:00:01\r\u001B[K     |█████████████▍                  | 1.6 MB 94.0 MB/s eta 0:00:01\r\u001B[K     |█████████████▌                  | 1.6 MB 94.0 MB/s eta 0:00:01\r\u001B[K     |█████████████▋                  | 1.6 MB 94.0 MB/s eta 0:00:01\r\u001B[K     |█████████████▋                  | 1.6 MB 94.0 MB/s eta 0:00:01\r\u001B[K     |█████████████▊                  | 1.6 MB 94.0 MB/s eta 0:00:01\r\u001B[K     |█████████████▉                  | 1.7 MB 94.0 MB/s eta 0:00:01\r\u001B[K     |██████████████                  | 1.7 MB 94.0 MB/s eta 0:00:01\r\u001B[K     |██████████████                  | 1.7 MB 94.0 MB/s eta 0:00:01\r\u001B[K     |██████████████                  | 1.7 MB 94.0 MB/s eta 0:00:01\r\u001B[K     |██████████████▏                 | 1.7 MB 94.0 MB/s eta 0:00:01\r\u001B[K     |██████████████▎                 | 1.7 MB 94.0 MB/s eta 0:00:01\r\u001B[K     |██████████████▎                 | 1.7 MB 94.0 MB/s eta 0:00:01\r\u001B[K     |██████████████▍                 | 1.7 MB 94.0 MB/s eta 0:00:01\r\u001B[K     |██████████████▌                 | 1.7 MB 94.0 MB/s eta 0:00:01\r\u001B[K     |██████████████▋                 | 1.8 MB 94.0 MB/s eta 0:00:01\r\u001B[K     |██████████████▊                 | 1.8 MB 94.0 MB/s eta 0:00:01\r\u001B[K     |██████████████▊                 | 1.8 MB 94.0 MB/s eta 0:00:01\r\u001B[K     |██████████████▉                 | 1.8 MB 94.0 MB/s eta 0:00:01\r\u001B[K     |███████████████                 | 1.8 MB 94.0 MB/s eta 0:00:01\r\u001B[K     |███████████████                 | 1.8 MB 94.0 MB/s eta 0:00:01\r\u001B[K     |███████████████                 | 1.8 MB 94.0 MB/s eta 0:00:01\r\u001B[K     |███████████████▏                | 1.8 MB 94.0 MB/s eta 0:00:01\r\u001B[K     |███████████████▎                | 1.8 MB 94.0 MB/s eta 0:00:01\r\u001B[K     |███████████████▍                | 1.8 MB 94.0 MB/s eta 0:00:01\r\u001B[K     |███████████████▍                | 1.9 MB 94.0 MB/s eta 0:00:01\r\u001B[K     |███████████████▌                | 1.9 MB 94.0 MB/s eta 0:00:01\r\u001B[K     |███████████████▋                | 1.9 MB 94.0 MB/s eta 0:00:01\r\u001B[K     |███████████████▊                | 1.9 MB 94.0 MB/s eta 0:00:01\r\u001B[K     |███████████████▉                | 1.9 MB 94.0 MB/s eta 0:00:01\r\u001B[K     |███████████████▉                | 1.9 MB 94.0 MB/s eta 0:00:01\r\u001B[K     |████████████████                | 1.9 MB 94.0 MB/s eta 0:00:01\r\u001B[K     |████████████████                | 1.9 MB 94.0 MB/s eta 0:00:01\r\u001B[K     |████████████████▏               | 1.9 MB 94.0 MB/s eta 0:00:01\r\u001B[K     |████████████████▏               | 1.9 MB 94.0 MB/s eta 0:00:01\r\u001B[K     |████████████████▎               | 2.0 MB 94.0 MB/s eta 0:00:01\r\u001B[K     |████████████████▍               | 2.0 MB 94.0 MB/s eta 0:00:01\r\u001B[K     |████████████████▌               | 2.0 MB 94.0 MB/s eta 0:00:01\r\u001B[K     |████████████████▌               | 2.0 MB 94.0 MB/s eta 0:00:01\r\u001B[K     |████████████████▋               | 2.0 MB 94.0 MB/s eta 0:00:01\r\u001B[K     |████████████████▊               | 2.0 MB 94.0 MB/s eta 0:00:01\r\u001B[K     |████████████████▉               | 2.0 MB 94.0 MB/s eta 0:00:01\r\u001B[K     |█████████████████               | 2.0 MB 94.0 MB/s eta 0:00:01\r\u001B[K     |█████████████████               | 2.0 MB 94.0 MB/s eta 0:00:01\r\u001B[K     |█████████████████               | 2.0 MB 94.0 MB/s eta 0:00:01\r\u001B[K     |█████████████████▏              | 2.1 MB 94.0 MB/s eta 0:00:01\r\u001B[K     |█████████████████▎              | 2.1 MB 94.0 MB/s eta 0:00:01\r\u001B[K     |█████████████████▎              | 2.1 MB 94.0 MB/s eta 0:00:01\r\u001B[K     |█████████████████▍              | 2.1 MB 94.0 MB/s eta 0:00:01\r\u001B[K     |█████████████████▌              | 2.1 MB 94.0 MB/s eta 0:00:01\r\u001B[K     |█████████████████▋              | 2.1 MB 94.0 MB/s eta 0:00:01\r\u001B[K     |█████████████████▋              | 2.1 MB 94.0 MB/s eta 0:00:01\r\u001B[K     |█████████████████▊              | 2.1 MB 94.0 MB/s eta 0:00:01\r\u001B[K     |█████████████████▉              | 2.1 MB 94.0 MB/s eta 0:00:01\r\u001B[K     |██████████████████              | 2.2 MB 94.0 MB/s eta 0:00:01\r\u001B[K     |██████████████████              | 2.2 MB 94.0 MB/s eta 0:00:01\r\u001B[K     |██████████████████              | 2.2 MB 94.0 MB/s eta 0:00:01\r\u001B[K     |██████████████████▏             | 2.2 MB 94.0 MB/s eta 0:00:01\r\u001B[K     |██████████████████▎             | 2.2 MB 94.0 MB/s eta 0:00:01\r\u001B[K     |██████████████████▍             | 2.2 MB 94.0 MB/s eta 0:00:01\r\u001B[K     |██████████████████▍             | 2.2 MB 94.0 MB/s eta 0:00:01\r\u001B[K     |██████████████████▌             | 2.2 MB 94.0 MB/s eta 0:00:01\r\u001B[K     |██████████████████▋             | 2.2 MB 94.0 MB/s eta 0:00:01\r\u001B[K     |██████████████████▊             | 2.2 MB 94.0 MB/s eta 0:00:01\r\u001B[K     |██████████████████▊             | 2.3 MB 94.0 MB/s eta 0:00:01\r\u001B[K     |██████████████████▉             | 2.3 MB 94.0 MB/s eta 0:00:01\r\u001B[K     |███████████████████             | 2.3 MB 94.0 MB/s eta 0:00:01\r\u001B[K     |███████████████████             | 2.3 MB 94.0 MB/s eta 0:00:01\r\u001B[K     |███████████████████             | 2.3 MB 94.0 MB/s eta 0:00:01\r\u001B[K     |███████████████████▏            | 2.3 MB 94.0 MB/s eta 0:00:01\r\u001B[K     |███████████████████▎            | 2.3 MB 94.0 MB/s eta 0:00:01\r\u001B[K     |███████████████████▍            | 2.3 MB 94.0 MB/s eta 0:00:01\r\u001B[K     |███████████████████▌            | 2.3 MB 94.0 MB/s eta 0:00:01\r\u001B[K     |███████████████████▌            | 2.3 MB 94.0 MB/s eta 0:00:01\r\u001B[K     |███████████████████▋            | 2.4 MB 94.0 MB/s eta 0:00:01\r\u001B[K     |███████████████████▊            | 2.4 MB 94.0 MB/s eta 0:00:01\r\u001B[K     |███████████████████▉            | 2.4 MB 94.0 MB/s eta 0:00:01\r\u001B[K     |███████████████████▉            | 2.4 MB 94.0 MB/s eta 0:00:01\r\u001B[K     |████████████████████            | 2.4 MB 94.0 MB/s eta 0:00:01\r\u001B[K     |████████████████████            | 2.4 MB 94.0 MB/s eta 0:00:01\r\u001B[K     |████████████████████▏           | 2.4 MB 94.0 MB/s eta 0:00:01\r\u001B[K     |████████████████████▏           | 2.4 MB 94.0 MB/s eta 0:00:01\r\u001B[K     |████████████████████▎           | 2.4 MB 94.0 MB/s eta 0:00:01\r\u001B[K     |████████████████████▍           | 2.4 MB 94.0 MB/s eta 0:00:01\r\u001B[K     |████████████████████▌           | 2.5 MB 94.0 MB/s eta 0:00:01\r\u001B[K     |████████████████████▋           | 2.5 MB 94.0 MB/s eta 0:00:01\r\u001B[K     |████████████████████▋           | 2.5 MB 94.0 MB/s eta 0:00:01\r\u001B[K     |████████████████████▊           | 2.5 MB 94.0 MB/s eta 0:00:01\r\u001B[K     |████████████████████▉           | 2.5 MB 94.0 MB/s eta 0:00:01\r\u001B[K     |█████████████████████           | 2.5 MB 94.0 MB/s eta 0:00:01\r\u001B[K     |█████████████████████           | 2.5 MB 94.0 MB/s eta 0:00:01\r\u001B[K     |█████████████████████           | 2.5 MB 94.0 MB/s eta 0:00:01\r\u001B[K     |█████████████████████▏          | 2.5 MB 94.0 MB/s eta 0:00:01\r\u001B[K     |█████████████████████▎          | 2.5 MB 94.0 MB/s eta 0:00:01\r\u001B[K     |█████████████████████▎          | 2.6 MB 94.0 MB/s eta 0:00:01\r\u001B[K     |█████████████████████▍          | 2.6 MB 94.0 MB/s eta 0:00:01\r\u001B[K     |█████████████████████▌          | 2.6 MB 94.0 MB/s eta 0:00:01\r\u001B[K     |█████████████████████▋          | 2.6 MB 94.0 MB/s eta 0:00:01\r\u001B[K     |█████████████████████▊          | 2.6 MB 94.0 MB/s eta 0:00:01\r\u001B[K     |█████████████████████▊          | 2.6 MB 94.0 MB/s eta 0:00:01\r\u001B[K     |█████████████████████▉          | 2.6 MB 94.0 MB/s eta 0:00:01\r\u001B[K     |██████████████████████          | 2.6 MB 94.0 MB/s eta 0:00:01\r\u001B[K     |██████████████████████          | 2.6 MB 94.0 MB/s eta 0:00:01\r\u001B[K     |██████████████████████          | 2.7 MB 94.0 MB/s eta 0:00:01\r\u001B[K     |██████████████████████▏         | 2.7 MB 94.0 MB/s eta 0:00:01\r\u001B[K     |██████████████████████▎         | 2.7 MB 94.0 MB/s eta 0:00:01\r\u001B[K     |██████████████████████▍         | 2.7 MB 94.0 MB/s eta 0:00:01\r\u001B[K     |██████████████████████▍         | 2.7 MB 94.0 MB/s eta 0:00:01\r\u001B[K     |██████████████████████▌         | 2.7 MB 94.0 MB/s eta 0:00:01\r\u001B[K     |██████████████████████▋         | 2.7 MB 94.0 MB/s eta 0:00:01\r\u001B[K     |██████████████████████▊         | 2.7 MB 94.0 MB/s eta 0:00:01\r\u001B[K     |██████████████████████▉         | 2.7 MB 94.0 MB/s eta 0:00:01\r\u001B[K     |██████████████████████▉         | 2.7 MB 94.0 MB/s eta 0:00:01\r\u001B[K     |███████████████████████         | 2.8 MB 94.0 MB/s eta 0:00:01\r\u001B[K     |███████████████████████         | 2.8 MB 94.0 MB/s eta 0:00:01\r\u001B[K     |███████████████████████▏        | 2.8 MB 94.0 MB/s eta 0:00:01\r\u001B[K     |███████████████████████▏        | 2.8 MB 94.0 MB/s eta 0:00:01\r\u001B[K     |███████████████████████▎        | 2.8 MB 94.0 MB/s eta 0:00:01\r\u001B[K     |███████████████████████▍        | 2.8 MB 94.0 MB/s eta 0:00:01\r\u001B[K     |███████████████████████▌        | 2.8 MB 94.0 MB/s eta 0:00:01\r\u001B[K     |███████████████████████▌        | 2.8 MB 94.0 MB/s eta 0:00:01\r\u001B[K     |███████████████████████▋        | 2.8 MB 94.0 MB/s eta 0:00:01\r\u001B[K     |███████████████████████▊        | 2.8 MB 94.0 MB/s eta 0:00:01\r\u001B[K     |███████████████████████▉        | 2.9 MB 94.0 MB/s eta 0:00:01\r\u001B[K     |███████████████████████▉        | 2.9 MB 94.0 MB/s eta 0:00:01\r\u001B[K     |████████████████████████        | 2.9 MB 94.0 MB/s eta 0:00:01\r\u001B[K     |████████████████████████        | 2.9 MB 94.0 MB/s eta 0:00:01\r\u001B[K     |████████████████████████▏       | 2.9 MB 94.0 MB/s eta 0:00:01\r\u001B[K     |████████████████████████▎       | 2.9 MB 94.0 MB/s eta 0:00:01\r\u001B[K     |████████████████████████▎       | 2.9 MB 94.0 MB/s eta 0:00:01\r\u001B[K     |████████████████████████▍       | 2.9 MB 94.0 MB/s eta 0:00:01\r\u001B[K     |████████████████████████▌       | 2.9 MB 94.0 MB/s eta 0:00:01\r\u001B[K     |████████████████████████▋       | 2.9 MB 94.0 MB/s eta 0:00:01\r\u001B[K     |████████████████████████▋       | 3.0 MB 94.0 MB/s eta 0:00:01\r\u001B[K     |████████████████████████▊       | 3.0 MB 94.0 MB/s eta 0:00:01\r\u001B[K     |████████████████████████▉       | 3.0 MB 94.0 MB/s eta 0:00:01\r\u001B[K     |█████████████████████████       | 3.0 MB 94.0 MB/s eta 0:00:01\r\u001B[K     |█████████████████████████       | 3.0 MB 94.0 MB/s eta 0:00:01\r\u001B[K     |█████████████████████████       | 3.0 MB 94.0 MB/s eta 0:00:01\r\u001B[K     |█████████████████████████▏      | 3.0 MB 94.0 MB/s eta 0:00:01\r\u001B[K     |█████████████████████████▎      | 3.0 MB 94.0 MB/s eta 0:00:01\r\u001B[K     |█████████████████████████▍      | 3.0 MB 94.0 MB/s eta 0:00:01\r\u001B[K     |█████████████████████████▍      | 3.1 MB 94.0 MB/s eta 0:00:01\r\u001B[K     |█████████████████████████▌      | 3.1 MB 94.0 MB/s eta 0:00:01\r\u001B[K     |█████████████████████████▋      | 3.1 MB 94.0 MB/s eta 0:00:01\r\u001B[K     |█████████████████████████▊      | 3.1 MB 94.0 MB/s eta 0:00:01\r\u001B[K     |█████████████████████████▊      | 3.1 MB 94.0 MB/s eta 0:00:01\r\u001B[K     |█████████████████████████▉      | 3.1 MB 94.0 MB/s eta 0:00:01\r\u001B[K     |██████████████████████████      | 3.1 MB 94.0 MB/s eta 0:00:01\r\u001B[K     |██████████████████████████      | 3.1 MB 94.0 MB/s eta 0:00:01\r\u001B[K     |██████████████████████████      | 3.1 MB 94.0 MB/s eta 0:00:01\r\u001B[K     |██████████████████████████▏     | 3.1 MB 94.0 MB/s eta 0:00:01\r\u001B[K     |██████████████████████████▎     | 3.2 MB 94.0 MB/s eta 0:00:01\r\u001B[K     |██████████████████████████▍     | 3.2 MB 94.0 MB/s eta 0:00:01\r\u001B[K     |██████████████████████████▌     | 3.2 MB 94.0 MB/s eta 0:00:01\r\u001B[K     |██████████████████████████▌     | 3.2 MB 94.0 MB/s eta 0:00:01\r\u001B[K     |██████████████████████████▋     | 3.2 MB 94.0 MB/s eta 0:00:01\r\u001B[K     |██████████████████████████▊     | 3.2 MB 94.0 MB/s eta 0:00:01\r\u001B[K     |██████████████████████████▉     | 3.2 MB 94.0 MB/s eta 0:00:01\r\u001B[K     |██████████████████████████▉     | 3.2 MB 94.0 MB/s eta 0:00:01\r\u001B[K     |███████████████████████████     | 3.2 MB 94.0 MB/s eta 0:00:01\r\u001B[K     |███████████████████████████     | 3.2 MB 94.0 MB/s eta 0:00:01\r\u001B[K     |███████████████████████████▏    | 3.3 MB 94.0 MB/s eta 0:00:01\r\u001B[K     |███████████████████████████▏    | 3.3 MB 94.0 MB/s eta 0:00:01\r\u001B[K     |███████████████████████████▎    | 3.3 MB 94.0 MB/s eta 0:00:01\r\u001B[K     |███████████████████████████▍    | 3.3 MB 94.0 MB/s eta 0:00:01\r\u001B[K     |███████████████████████████▌    | 3.3 MB 94.0 MB/s eta 0:00:01\r\u001B[K     |███████████████████████████▋    | 3.3 MB 94.0 MB/s eta 0:00:01\r\u001B[K     |███████████████████████████▋    | 3.3 MB 94.0 MB/s eta 0:00:01\r\u001B[K     |███████████████████████████▊    | 3.3 MB 94.0 MB/s eta 0:00:01\r\u001B[K     |███████████████████████████▉    | 3.3 MB 94.0 MB/s eta 0:00:01\r\u001B[K     |████████████████████████████    | 3.3 MB 94.0 MB/s eta 0:00:01\r\u001B[K     |████████████████████████████    | 3.4 MB 94.0 MB/s eta 0:00:01\r\u001B[K     |████████████████████████████    | 3.4 MB 94.0 MB/s eta 0:00:01\r\u001B[K     |████████████████████████████▏   | 3.4 MB 94.0 MB/s eta 0:00:01\r\u001B[K     |████████████████████████████▎   | 3.4 MB 94.0 MB/s eta 0:00:01\r\u001B[K     |████████████████████████████▎   | 3.4 MB 94.0 MB/s eta 0:00:01\r\u001B[K     |████████████████████████████▍   | 3.4 MB 94.0 MB/s eta 0:00:01\r\u001B[K     |████████████████████████████▌   | 3.4 MB 94.0 MB/s eta 0:00:01\r\u001B[K     |████████████████████████████▋   | 3.4 MB 94.0 MB/s eta 0:00:01\r\u001B[K     |████████████████████████████▋   | 3.4 MB 94.0 MB/s eta 0:00:01\r\u001B[K     |████████████████████████████▊   | 3.5 MB 94.0 MB/s eta 0:00:01\r\u001B[K     |████████████████████████████▉   | 3.5 MB 94.0 MB/s eta 0:00:01\r\u001B[K     |█████████████████████████████   | 3.5 MB 94.0 MB/s eta 0:00:01\r\u001B[K     |█████████████████████████████   | 3.5 MB 94.0 MB/s eta 0:00:01\r\u001B[K     |█████████████████████████████   | 3.5 MB 94.0 MB/s eta 0:00:01\r\u001B[K     |█████████████████████████████▏  | 3.5 MB 94.0 MB/s eta 0:00:01\r\u001B[K     |█████████████████████████████▎  | 3.5 MB 94.0 MB/s eta 0:00:01\r\u001B[K     |█████████████████████████████▍  | 3.5 MB 94.0 MB/s eta 0:00:01\r\u001B[K     |█████████████████████████████▍  | 3.5 MB 94.0 MB/s eta 0:00:01\r\u001B[K     |█████████████████████████████▌  | 3.5 MB 94.0 MB/s eta 0:00:01\r\u001B[K     |█████████████████████████████▋  | 3.6 MB 94.0 MB/s eta 0:00:01\r\u001B[K     |█████████████████████████████▊  | 3.6 MB 94.0 MB/s eta 0:00:01\r\u001B[K     |█████████████████████████████▊  | 3.6 MB 94.0 MB/s eta 0:00:01\r\u001B[K     |█████████████████████████████▉  | 3.6 MB 94.0 MB/s eta 0:00:01\r\u001B[K     |██████████████████████████████  | 3.6 MB 94.0 MB/s eta 0:00:01\r\u001B[K     |██████████████████████████████  | 3.6 MB 94.0 MB/s eta 0:00:01\r\u001B[K     |██████████████████████████████▏ | 3.6 MB 94.0 MB/s eta 0:00:01\r\u001B[K     |██████████████████████████████▏ | 3.6 MB 94.0 MB/s eta 0:00:01\r\u001B[K     |██████████████████████████████▎ | 3.6 MB 94.0 MB/s eta 0:00:01\r\u001B[K     |██████████████████████████████▍ | 3.6 MB 94.0 MB/s eta 0:00:01\r\u001B[K     |██████████████████████████████▌ | 3.7 MB 94.0 MB/s eta 0:00:01\r\u001B[K     |██████████████████████████████▌ | 3.7 MB 94.0 MB/s eta 0:00:01\r\u001B[K     |██████████████████████████████▋ | 3.7 MB 94.0 MB/s eta 0:00:01\r\u001B[K     |██████████████████████████████▊ | 3.7 MB 94.0 MB/s eta 0:00:01\r\u001B[K     |██████████████████████████████▉ | 3.7 MB 94.0 MB/s eta 0:00:01\r\u001B[K     |██████████████████████████████▉ | 3.7 MB 94.0 MB/s eta 0:00:01\r\u001B[K     |███████████████████████████████ | 3.7 MB 94.0 MB/s eta 0:00:01\r\u001B[K     |███████████████████████████████ | 3.7 MB 94.0 MB/s eta 0:00:01\r\u001B[K     |███████████████████████████████▏| 3.7 MB 94.0 MB/s eta 0:00:01\r\u001B[K     |███████████████████████████████▎| 3.7 MB 94.0 MB/s eta 0:00:01\r\u001B[K     |███████████████████████████████▎| 3.8 MB 94.0 MB/s eta 0:00:01\r\u001B[K     |███████████████████████████████▍| 3.8 MB 94.0 MB/s eta 0:00:01\r\u001B[K     |███████████████████████████████▌| 3.8 MB 94.0 MB/s eta 0:00:01\r\u001B[K     |███████████████████████████████▋| 3.8 MB 94.0 MB/s eta 0:00:01\r\u001B[K     |███████████████████████████████▋| 3.8 MB 94.0 MB/s eta 0:00:01\r\u001B[K     |███████████████████████████████▊| 3.8 MB 94.0 MB/s eta 0:00:01\r\u001B[K     |███████████████████████████████▉| 3.8 MB 94.0 MB/s eta 0:00:01\r\u001B[K     |████████████████████████████████| 3.8 MB 94.0 MB/s eta 0:00:01\r\u001B[K     |████████████████████████████████| 3.8 MB 94.0 MB/s eta 0:00:01\r\u001B[K     |████████████████████████████████| 3.8 MB 94.0 MB/s \r\n\u001B[?25hRequirement already satisfied: tqdm>=4.27 in /local_disk0/.ephemeral_nfs/envs/pythonEnv-63ca01ce-b404-4529-b3ea-749e3b779727/lib/python3.9/site-packages (from transformers) (4.66.1)\r\nRequirement already satisfied: requests in /databricks/python3/lib/python3.9/site-packages (from transformers) (2.26.0)\r\nRequirement already satisfied: typing-extensions>=3.7.4.3 in /local_disk0/.ephemeral_nfs/cluster_libraries/python/lib/python3.9/site-packages (from huggingface-hub<1.0,>=0.16.4->transformers) (4.8.0)\r\nRequirement already satisfied: fsspec>=2023.5.0 in /local_disk0/.ephemeral_nfs/cluster_libraries/python/lib/python3.9/site-packages (from huggingface-hub<1.0,>=0.16.4->transformers) (2023.12.1)\r\nRequirement already satisfied: pyparsing>=2.0.2 in /databricks/python3/lib/python3.9/site-packages (from packaging>=20.0->transformers) (3.0.4)\r\nRequirement already satisfied: idna<4,>=2.5 in /databricks/python3/lib/python3.9/site-packages (from requests->transformers) (3.2)\r\nRequirement already satisfied: charset-normalizer~=2.0.0 in /databricks/python3/lib/python3.9/site-packages (from requests->transformers) (2.0.4)\r\nRequirement already satisfied: urllib3<1.27,>=1.21.1 in /databricks/python3/lib/python3.9/site-packages (from requests->transformers) (1.26.7)\r\nRequirement already satisfied: certifi>=2017.4.17 in /databricks/python3/lib/python3.9/site-packages (from requests->transformers) (2021.10.8)\r\nInstalling collected packages: pyyaml, huggingface-hub, tokenizers, safetensors, regex, transformers\r\nSuccessfully installed huggingface-hub-0.19.4 pyyaml-6.0.1 regex-2023.10.3 safetensors-0.4.1 tokenizers-0.15.0 transformers-4.35.2\r\n\u001B[33mWARNING: You are using pip version 21.2.4; however, version 23.3.1 is available.\r\nYou should consider upgrading via the '/local_disk0/.ephemeral_nfs/envs/pythonEnv-63ca01ce-b404-4529-b3ea-749e3b779727/bin/python -m pip install --upgrade pip' command.\u001B[0m\r\n"
     ]
    }
   ],
   "source": [
    "!pip install langid\n",
    "\n",
    "!pip install pycld2\n",
    "\n",
    "!pip install fasttext-langdetect\n",
    "\n",
    "!pip install transformers"
   ]
  },
  {
   "cell_type": "code",
   "execution_count": 0,
   "metadata": {
    "application/vnd.databricks.v1+cell": {
     "cellMetadata": {
      "byteLimit": 2048000,
      "rowLimit": 10000
     },
     "inputWidgets": {},
     "nuid": "e5fed714-00ce-4791-8da6-a9ed845f0f79",
     "showTitle": false,
     "tableResultSettingsMap": {},
     "title": ""
    }
   },
   "outputs": [
    {
     "output_type": "display_data",
     "data": {
      "application/vnd.databricks.v1+bamboolib_hint": "{\"pd.DataFrames\": [], \"version\": \"0.0.1\"}",
      "text/plain": []
     },
     "metadata": {},
     "output_type": "display_data"
    }
   ],
   "source": [
    "import pandas as pd\n",
    "from sklearn.model_selection import train_test_split\n",
    "from sklearn.feature_extraction.text import CountVectorizer\n",
    "from sklearn.linear_model import LogisticRegression\n",
    "from sklearn.metrics import accuracy_score, classification_report\n",
    "from sklearn.ensemble import RandomForestClassifier\n",
    "from sklearn.metrics import accuracy_score\n",
    "\n",
    "\n",
    "\n",
    "# [Language detection]\n",
    "from langdetect import detect\n",
    "\n",
    "# PythaiNLP Library\n",
    "import pythainlp\n",
    "\n",
    "# Word tokenize\n",
    "from pythainlp.tokenize import word_tokenize\n",
    "\n",
    "# [Syllbels count]\n",
    "from pythainlp import subword_tokenize\n",
    "\n",
    "# [Soundex]\n",
    "from pythainlp.soundex import lk82\n",
    "\n",
    "\n",
    "\n",
    "# # [Word to Pronunciate]\n",
    "from pythainlp.transliterate import pronunciate\n",
    "\n",
    "# [Spell check]\n",
    "from pythainlp.spell import NorvigSpellChecker\n",
    "\n",
    "# [Normalize]\n",
    "from pythainlp.util import normalize\n",
    "\n",
    "from pythainlp.tag import NER\n",
    "\n",
    "\n",
    "import langid\n",
    "\n",
    "import pycld2 as cld2\n",
    "\n",
    "\n",
    "from ftlangdetect import detect\n"
   ]
  },
  {
   "cell_type": "markdown",
   "metadata": {
    "application/vnd.databricks.v1+cell": {
     "cellMetadata": {
      "byteLimit": 2048000,
      "rowLimit": 10000
     },
     "inputWidgets": {},
     "nuid": "350e8341-2e8f-4658-a809-12825290574f",
     "showTitle": false,
     "tableResultSettingsMap": {},
     "title": ""
    }
   },
   "source": [
    "#Get Data"
   ]
  },
  {
   "cell_type": "code",
   "execution_count": 0,
   "metadata": {
    "application/vnd.databricks.v1+cell": {
     "cellMetadata": {
      "byteLimit": 2048000,
      "rowLimit": 10000
     },
     "inputWidgets": {},
     "nuid": "db6c7d6c-5dc2-42cb-94ec-ad0a3e8114d0",
     "showTitle": false,
     "tableResultSettingsMap": {},
     "title": ""
    }
   },
   "outputs": [],
   "source": [
    "load_data = spark.sql(query)\n",
    "# select some column in load_data\n",
    "select_column = load_data.select('firstname', 'lastname').distinct() "
   ]
  },
  {
   "cell_type": "code",
   "execution_count": 0,
   "metadata": {
    "application/vnd.databricks.v1+cell": {
     "cellMetadata": {
      "byteLimit": 2048000,
      "rowLimit": 10000
     },
     "inputWidgets": {},
     "nuid": "443de840-2811-40b1-a1e0-97b54f2b6baf",
     "showTitle": false,
     "tableResultSettingsMap": {},
     "title": ""
    }
   },
   "outputs": [],
   "source": [
    "# Convert pyspark sql to pandas dataframe\n",
    "data = select_column.toPandas()"
   ]
  },
  {
   "cell_type": "code",
   "execution_count": 0,
   "metadata": {
    "application/vnd.databricks.v1+cell": {
     "cellMetadata": {
      "byteLimit": 2048000,
      "rowLimit": 10000
     },
     "inputWidgets": {},
     "nuid": "c94dafa3-1660-4557-9c35-4c86d5a5e3b9",
     "showTitle": false,
     "tableResultSettingsMap": {},
     "title": ""
    }
   },
   "outputs": [],
   "source": [
    "name = data.copy()\n",
    "name.display()"
   ]
  },
  {
   "cell_type": "markdown",
   "metadata": {
    "application/vnd.databricks.v1+cell": {
     "cellMetadata": {},
     "inputWidgets": {},
     "nuid": "6303fd8a-7618-4fec-8c0d-15002654b63f",
     "showTitle": false,
     "tableResultSettingsMap": {},
     "title": ""
    }
   },
   "source": [
    "## Defind Function split word"
   ]
  },
  {
   "cell_type": "code",
   "execution_count": 0,
   "metadata": {
    "application/vnd.databricks.v1+cell": {
     "cellMetadata": {
      "byteLimit": 2048000,
      "rowLimit": 10000
     },
     "inputWidgets": {},
     "nuid": "2068db83-ed60-499e-9974-469a65f3b9dd",
     "showTitle": false,
     "tableResultSettingsMap": {},
     "title": ""
    }
   },
   "outputs": [],
   "source": [
    "# Split and Cleaning the name [preprocess step]\n",
    "def wordSplit(name):\n",
    "  text = name['firstname']\n",
    "  text = wordClean(text)\n",
    "  text_split = text.split(' ')\n",
    "  text_split = [word for word in text_split if word.strip()]\n",
    "#   text_cleaning = [word for word in text_split if word not in ('นาย','นางสาว','น.ส.','ว่าที่', 'ร.ต.', 'ด.ญ','.','-')]\n",
    "#   print(text_cleaning)\n",
    "  \n",
    "  if len(text_split) >= 1:\n",
    "    name['fname'] = text_split[0]\n",
    "    if len(text_split) >= 2:\n",
    "      name['lname'] = \"\".join(word for word in text_split[1:])\n",
    "    else:\n",
    "        name['lname'] = name['lastname']\n",
    "  else:\n",
    "    name['fname'] = 'null'\n",
    "    name['lname'] = 'null'\n",
    "  \n",
    "  return name"
   ]
  },
  {
   "cell_type": "code",
   "execution_count": 0,
   "metadata": {
    "application/vnd.databricks.v1+cell": {
     "cellMetadata": {
      "byteLimit": 2048000,
      "rowLimit": 10000
     },
     "inputWidgets": {},
     "nuid": "be4fae62-66b5-44c6-8a4f-541527fc3d2b",
     "showTitle": false,
     "tableResultSettingsMap": {},
     "title": ""
    }
   },
   "outputs": [],
   "source": [
    "def wordClean(word):\n",
    "  word = word.replace('นาย', '')\n",
    "  word = word.replace('นางสาว', '')\n",
    "  word = word.replace('นาง', '')\n",
    "  word = word.replace('น.ส.', '')\n",
    "  word = word.replace('นส.', '')\n",
    "  word = word.replace('ร.ต.', '')\n",
    "  word = word.replace('ด.ญ.', '')\n",
    "  word = word.replace('ด.ช.', '')\n",
    "  word = word.replace('คุณ', '')\n",
    "  word = word.replace('-', '')\n",
    "  word = word.replace('.', '')\n",
    "  return word"
   ]
  },
  {
   "cell_type": "code",
   "execution_count": 0,
   "metadata": {
    "application/vnd.databricks.v1+cell": {
     "cellMetadata": {
      "byteLimit": 2048000,
      "rowLimit": 10000
     },
     "inputWidgets": {},
     "nuid": "b914779e-08fa-4857-b3dd-3eb11d6b3e69",
     "showTitle": false,
     "tableResultSettingsMap": {},
     "title": ""
    }
   },
   "outputs": [],
   "source": [
    "# name.apply(wordSplit, axis=1)\n",
    "name_ready = name.apply(wordSplit, axis=1)"
   ]
  },
  {
   "cell_type": "code",
   "execution_count": 0,
   "metadata": {
    "application/vnd.databricks.v1+cell": {
     "cellMetadata": {
      "byteLimit": 2048000,
      "rowLimit": 10000
     },
     "inputWidgets": {},
     "nuid": "2a9454d7-0967-4bab-82dd-6db2fec14616",
     "showTitle": false,
     "tableResultSettingsMap": {},
     "title": ""
    }
   },
   "outputs": [],
   "source": [
    "name_ready"
   ]
  },
  {
   "cell_type": "markdown",
   "metadata": {
    "application/vnd.databricks.v1+cell": {
     "cellMetadata": {
      "byteLimit": 2048000,
      "rowLimit": 10000
     },
     "inputWidgets": {},
     "nuid": "b3d577c6-db96-46be-a73b-841d8b806a87",
     "showTitle": false,
     "tableResultSettingsMap": {},
     "title": ""
    }
   },
   "source": [
    "##1. Identify Language Name\n",
    "- Used lib = https://pypi.org/project/langdetect/\n",
    "- List meaning result = https://en.wikipedia.org/wiki/List_of_ISO_639-1_codes"
   ]
  },
  {
   "cell_type": "markdown",
   "metadata": {
    "application/vnd.databricks.v1+cell": {
     "cellMetadata": {
      "byteLimit": 2048000,
      "rowLimit": 10000
     },
     "inputWidgets": {},
     "nuid": "342099a7-7d42-45dc-b32d-8ca0def6e09a",
     "showTitle": false,
     "tableResultSettingsMap": {},
     "title": ""
    }
   },
   "source": [
    "### LangeDetect"
   ]
  },
  {
   "cell_type": "code",
   "execution_count": 0,
   "metadata": {
    "application/vnd.databricks.v1+cell": {
     "cellMetadata": {
      "byteLimit": 2048000,
      "rowLimit": 10000
     },
     "inputWidgets": {},
     "nuid": "590134b6-0bac-44ae-9917-a97e57afe374",
     "showTitle": false,
     "tableResultSettingsMap": {},
     "title": ""
    }
   },
   "outputs": [
    {
     "output_type": "stream",
     "name": "stdout",
     "output_type": "stream",
     "text": [
      "Warning : `load_model` does not return WordVectorModel or SupervisedModel any more, but a `FastText` object which is very similar.\nOut[11]: {'lang': 'en', 'score': 0.6618552207946777}"
     ]
    }
   ],
   "source": [
    "detect('Tanapong')"
   ]
  },
  {
   "cell_type": "code",
   "execution_count": 0,
   "metadata": {
    "application/vnd.databricks.v1+cell": {
     "cellMetadata": {
      "byteLimit": 2048000,
      "rowLimit": 10000
     },
     "inputWidgets": {},
     "nuid": "0f942b0e-9a28-45f4-9c1e-c6125b296098",
     "showTitle": false,
     "tableResultSettingsMap": {},
     "title": ""
    }
   },
   "outputs": [],
   "source": [
    "def langDetect(word):\n",
    "  try:\n",
    "    language = detect(word)\n",
    "    #print(language)\n",
    "  except:\n",
    "    # When function found number or other that can not detect the language.\n",
    "    language = 'Failed'\n",
    "    \n",
    "  return language"
   ]
  },
  {
   "cell_type": "code",
   "execution_count": 0,
   "metadata": {
    "application/vnd.databricks.v1+cell": {
     "cellMetadata": {
      "byteLimit": 2048000,
      "rowLimit": 10000
     },
     "inputWidgets": {},
     "nuid": "01c2b10e-1330-4b6d-8f4a-5aac5f32b7a8",
     "showTitle": false,
     "tableResultSettingsMap": {},
     "title": ""
    }
   },
   "outputs": [],
   "source": [
    "name_ready['result'] = name_ready['fname'].apply(langDetect)\n",
    "name_ready[['LangeDetect', 'LangeDetectScore']] = name_ready['result'].apply(pd.Series)\n",
    "name_ready = name_ready.drop(columns=['result'])"
   ]
  },
  {
   "cell_type": "code",
   "execution_count": 0,
   "metadata": {
    "application/vnd.databricks.v1+cell": {
     "cellMetadata": {
      "byteLimit": 2048000,
      "rowLimit": 10000
     },
     "inputWidgets": {},
     "nuid": "17e33bdb-8078-4bd2-936b-9aceb675d9e9",
     "showTitle": false,
     "tableResultSettingsMap": {},
     "title": ""
    }
   },
   "outputs": [],
   "source": [
    "name_ready.display()"
   ]
  },
  {
   "cell_type": "markdown",
   "metadata": {
    "application/vnd.databricks.v1+cell": {
     "cellMetadata": {
      "byteLimit": 2048000,
      "rowLimit": 10000
     },
     "inputWidgets": {},
     "nuid": "e2660241-9256-4438-9b8c-d803aed80681",
     "showTitle": false,
     "tableResultSettingsMap": {},
     "title": ""
    }
   },
   "source": [
    "### LangeId"
   ]
  },
  {
   "cell_type": "code",
   "execution_count": 0,
   "metadata": {
    "application/vnd.databricks.v1+cell": {
     "cellMetadata": {
      "byteLimit": 2048000,
      "rowLimit": 10000
     },
     "inputWidgets": {},
     "nuid": "e107f124-44ab-4b71-b71b-2e2fd54a12f0",
     "showTitle": false,
     "tableResultSettingsMap": {},
     "title": ""
    }
   },
   "outputs": [
    {
     "output_type": "stream",
     "name": "stdout",
     "output_type": "stream",
     "text": [
      "Out[15]: ('th', -12.3280189037323)"
     ]
    }
   ],
   "source": [
    " langid.classify(\"มานพ\")"
   ]
  },
  {
   "cell_type": "code",
   "execution_count": 0,
   "metadata": {
    "application/vnd.databricks.v1+cell": {
     "cellMetadata": {
      "byteLimit": 2048000,
      "rowLimit": 10000
     },
     "inputWidgets": {},
     "nuid": "e05629fc-4654-4e9f-a51e-9b28301703a8",
     "showTitle": false,
     "tableResultSettingsMap": {},
     "title": ""
    }
   },
   "outputs": [],
   "source": [
    "def langId(word):\n",
    "  try:\n",
    "    language = langid.classify(word)\n",
    "    #language_score = langid.classify(word)[1]\n",
    "    #print(language)\n",
    "  except:\n",
    "    # When function found number or other that can not detect the language.\n",
    "    language = 'Failed'\n",
    "    \n",
    "  return language"
   ]
  },
  {
   "cell_type": "code",
   "execution_count": 0,
   "metadata": {
    "application/vnd.databricks.v1+cell": {
     "cellMetadata": {
      "byteLimit": 2048000,
      "rowLimit": 10000
     },
     "inputWidgets": {},
     "nuid": "c6133a3d-117f-4adc-92e3-f03cb41b5c28",
     "showTitle": false,
     "tableResultSettingsMap": {},
     "title": ""
    }
   },
   "outputs": [],
   "source": [
    "name_ready['result'] = name_ready['fname'].apply(langId)\n",
    "name_ready[['LangID', 'LangIDScore']] = name_ready['result'].apply(pd.Series)\n",
    "name_ready = name_ready.drop(columns=['result'])"
   ]
  },
  {
   "cell_type": "code",
   "execution_count": 0,
   "metadata": {
    "application/vnd.databricks.v1+cell": {
     "cellMetadata": {
      "byteLimit": 2048000,
      "rowLimit": 10000
     },
     "inputWidgets": {},
     "nuid": "86d5c87c-1609-4f2a-872a-42e12669c249",
     "showTitle": false,
     "tableResultSettingsMap": {},
     "title": ""
    }
   },
   "outputs": [],
   "source": [
    "name_ready.display()"
   ]
  },
  {
   "cell_type": "code",
   "execution_count": 0,
   "metadata": {
    "application/vnd.databricks.v1+cell": {
     "cellMetadata": {
      "byteLimit": 2048000,
      "rowLimit": 10000
     },
     "inputWidgets": {},
     "nuid": "f2b2ed93-b947-4c1a-92b4-7b55429305b4",
     "showTitle": false,
     "tableResultSettingsMap": {},
     "title": ""
    }
   },
   "outputs": [],
   "source": [
    "#pd.crosstab(name_ready['LangID'],columns='cnt')"
   ]
  },
  {
   "cell_type": "markdown",
   "metadata": {
    "application/vnd.databricks.v1+cell": {
     "cellMetadata": {
      "byteLimit": 2048000,
      "rowLimit": 10000
     },
     "inputWidgets": {},
     "nuid": "06dc1d5c-9337-4b1d-a643-644dc6ed642d",
     "showTitle": false,
     "tableResultSettingsMap": {},
     "title": ""
    }
   },
   "source": [
    "### Comparer Langdetect VS langeid"
   ]
  },
  {
   "cell_type": "code",
   "execution_count": 0,
   "metadata": {
    "application/vnd.databricks.v1+cell": {
     "cellMetadata": {
      "byteLimit": 2048000,
      "rowLimit": 10000
     },
     "inputWidgets": {},
     "nuid": "83d4d4af-7ae3-4c1b-9255-531db286e71d",
     "showTitle": true,
     "tableResultSettingsMap": {},
     "title": "Code For Compare test"
    }
   },
   "outputs": [
    {
     "output_type": "stream",
     "name": "stdout",
     "output_type": "stream",
     "text": [
      "Language Detection Results (with Percentage Confidence):\nlangdetect detected: th with 1.00% confidence\nlangid detected: th with -3807.87% confidence\n"
     ]
    }
   ],
   "source": [
    "from langdetect import detect\n",
    "import langid\n",
    "\n",
    "text = \"จักรพัน\"\n",
    "\n",
    "# Using langdetect\n",
    "langdetect_lang = detect(text)\n",
    "\n",
    "# Using langid\n",
    "langid_result = langid.classify(text)\n",
    "langid_lang, langid_confidence = langid_result\n",
    "\n",
    "# Convert confidence scores to percentages\n",
    "langdetect_percentage = 1.0  # Langdetect doesn't provide explicit percentages, so assume 100%\n",
    "#langid_percentage = langid_confidence * 100\n",
    "langid_percentage = min(langid_confidence * 100, 100)\n",
    "\n",
    "print(\"Language Detection Results (with Percentage Confidence):\")\n",
    "print(f\"langdetect detected: {langdetect_lang} with {langdetect_percentage:.2f}% confidence\")\n",
    "print(f\"langid detected: {langid_lang} with {langid_percentage:.2f}% confidence\")"
   ]
  },
  {
   "cell_type": "markdown",
   "metadata": {
    "application/vnd.databricks.v1+cell": {
     "cellMetadata": {
      "byteLimit": 2048000,
      "rowLimit": 10000
     },
     "inputWidgets": {},
     "nuid": "07aa6bae-e998-482a-8c5c-65bab87b63a5",
     "showTitle": false,
     "tableResultSettingsMap": {},
     "title": ""
    }
   },
   "source": [
    "## 2. Model For Detect Used Pronound \n",
    "- model สำหรับ การออกเสียง"
   ]
  },
  {
   "cell_type": "code",
   "execution_count": 0,
   "metadata": {
    "application/vnd.databricks.v1+cell": {
     "cellMetadata": {
      "byteLimit": 2048000,
      "rowLimit": 10000
     },
     "inputWidgets": {},
     "nuid": "3d3d9e6d-30b2-40c4-b92f-c540a01bfc00",
     "showTitle": false,
     "tableResultSettingsMap": {},
     "title": ""
    }
   },
   "outputs": [],
   "source": [
    "def wordPronunciate(word):\n",
    "  word_pronunciate = pronunciate(word, engine=\"w2p\")\n",
    "  return word_pronunciate"
   ]
  },
  {
   "cell_type": "code",
   "execution_count": 0,
   "metadata": {
    "application/vnd.databricks.v1+cell": {
     "cellMetadata": {
      "byteLimit": 2048000,
      "rowLimit": 10000
     },
     "inputWidgets": {},
     "nuid": "ee63ca7f-93d6-47a0-acd7-ee914a0c9156",
     "showTitle": false,
     "tableResultSettingsMap": {},
     "title": ""
    }
   },
   "outputs": [
    {
     "output_type": "stream",
     "name": "stdout",
     "output_type": "stream",
     "text": [
      "Corpus: thai_w2p\n- Downloading: thai_w2p 0.2\n"
     ]
    },
    {
     "output_type": "display_data",
     "data": {
      "application/vnd.jupyter.widget-view+json": {
       "model_id": "60f4bbdbc83043ff8b0db96f4ec6c9fc",
       "version_major": 2,
       "version_minor": 0
      },
      "text/plain": [
       "  0%|          | 0/9772474 [00:00<?, ?it/s]"
      ]
     },
     "metadata": {},
     "output_type": "display_data"
    },
    {
     "output_type": "stream",
     "name": "stdout",
     "output_type": "stream",
     "text": [
      "Out[23]: 'นัด-ถะ-วุด'"
     ]
    }
   ],
   "source": [
    "wordPronunciate('ณัฐวุฒิ')"
   ]
  },
  {
   "cell_type": "code",
   "execution_count": 0,
   "metadata": {
    "application/vnd.databricks.v1+cell": {
     "cellMetadata": {
      "byteLimit": 2048000,
      "rowLimit": 10000
     },
     "inputWidgets": {},
     "nuid": "8737841c-96e9-4936-8ba0-39a619bfc147",
     "showTitle": false,
     "tableResultSettingsMap": {},
     "title": ""
    }
   },
   "outputs": [],
   "source": [
    "name_ready['fname_phonetic'] = name_ready['fname'].apply(wordPronunciate)\n",
    "name_ready['lname_phonetic'] = name_ready['lname'].apply(wordPronunciate)"
   ]
  },
  {
   "cell_type": "code",
   "execution_count": 0,
   "metadata": {
    "application/vnd.databricks.v1+cell": {
     "cellMetadata": {
      "byteLimit": 2048000,
      "rowLimit": 10000
     },
     "inputWidgets": {},
     "nuid": "665cbdda-7ff5-4b8d-b6af-2e8c1b393f86",
     "showTitle": false,
     "tableResultSettingsMap": {},
     "title": ""
    }
   },
   "outputs": [],
   "source": [
    "name_ready"
   ]
  },
  {
   "cell_type": "markdown",
   "metadata": {
    "application/vnd.databricks.v1+cell": {
     "cellMetadata": {
      "byteLimit": 2048000,
      "rowLimit": 10000
     },
     "inputWidgets": {},
     "nuid": "37ce59f9-fd51-4edc-a012-312b4f5fa5ef",
     "showTitle": false,
     "tableResultSettingsMap": {},
     "title": ""
    }
   },
   "source": [
    "## 2. Used Soundex"
   ]
  },
  {
   "cell_type": "code",
   "execution_count": 0,
   "metadata": {
    "application/vnd.databricks.v1+cell": {
     "cellMetadata": {
      "byteLimit": 2048000,
      "rowLimit": 10000
     },
     "inputWidgets": {},
     "nuid": "4f84001a-ad61-4841-8ab9-a8ffd2ec4aef",
     "showTitle": false,
     "tableResultSettingsMap": {},
     "title": ""
    }
   },
   "outputs": [],
   "source": [
    "def getSoundex(word):\n",
    "  soundex = lk82(word)\n",
    "  return soundex"
   ]
  },
  {
   "cell_type": "markdown",
   "metadata": {
    "application/vnd.databricks.v1+cell": {
     "cellMetadata": {
      "byteLimit": 2048000,
      "rowLimit": 10000
     },
     "inputWidgets": {},
     "nuid": "52a7d90f-b397-4abd-833d-f27f2496e558",
     "showTitle": false,
     "tableResultSettingsMap": {},
     "title": ""
    }
   },
   "source": [
    "##3.Spell Check"
   ]
  },
  {
   "cell_type": "code",
   "execution_count": 0,
   "metadata": {
    "application/vnd.databricks.v1+cell": {
     "cellMetadata": {
      "byteLimit": 2048000,
      "rowLimit": 10000
     },
     "inputWidgets": {},
     "nuid": "bcd1005b-aa57-4dab-9aae-efd0b915ce85",
     "showTitle": false,
     "tableResultSettingsMap": {},
     "title": ""
    }
   },
   "outputs": [],
   "source": [
    "checker = NorvigSpellChecker()\n",
    "def wordCheck(word):\n",
    "  try:\n",
    "    w_normalize = normalize(word)\n",
    "    w_tokenize = subword_tokenize(w_normalize, engine=\"ssg\") # word_tokenize(w_normalize, engine=\"newmm\")\n",
    "\n",
    "    score = 0\n",
    "    count = len(w_tokenize)\n",
    "    result_freq = []\n",
    "    for i in w_tokenize:\n",
    "      freq = checker.freq(i)\n",
    "      result = {'word':i, 'freq':freq}\n",
    "      result_freq.append(result)\n",
    "      # print(word, freq)\n",
    "      if freq == 0:\n",
    "        score += 0\n",
    "      else:\n",
    "        score += 1\n",
    "\n",
    "    # Avg Score\n",
    "    if score==0 or count == 0:\n",
    "      avg_score = 0\n",
    "    else:\n",
    "      avg_score = score/count\n",
    "\n",
    "  #   print('- -')\n",
    "  #   print(\"Word orgin:\", word, \"|--> Word normalize:\", w_normalize, \"|--> Word tokenize:\", w_tokenize)\n",
    "  #   print(\"Result:\", result_freq)\n",
    "  #   print(\"Score:\", score, \"| Count:\", count ,\"| Avg score:\", avg_score)\n",
    "\n",
    "    return avg_score\n",
    "  \n",
    "  except:\n",
    "    avg_score = 0\n",
    "    return avg_score"
   ]
  },
  {
   "cell_type": "code",
   "execution_count": 0,
   "metadata": {
    "application/vnd.databricks.v1+cell": {
     "cellMetadata": {
      "byteLimit": 2048000,
      "rowLimit": 10000
     },
     "inputWidgets": {},
     "nuid": "ae4300b1-1462-4891-b1fe-28971404bb73",
     "showTitle": false,
     "tableResultSettingsMap": {},
     "title": ""
    }
   },
   "outputs": [],
   "source": [
    "name_ready['fname_score'] = name_ready['fname'].apply(wordCheck)\n",
    "name_ready['lname_score'] = name_ready['lname'].apply(wordCheck)"
   ]
  },
  {
   "cell_type": "code",
   "execution_count": 0,
   "metadata": {
    "application/vnd.databricks.v1+cell": {
     "cellMetadata": {
      "byteLimit": 2048000,
      "rowLimit": 10000
     },
     "inputWidgets": {},
     "nuid": "1691a5c9-6784-4c2d-ad52-290fbc87dc79",
     "showTitle": false,
     "tableResultSettingsMap": {},
     "title": ""
    }
   },
   "outputs": [],
   "source": [
    "name_ready.display()"
   ]
  },
  {
   "cell_type": "markdown",
   "metadata": {
    "application/vnd.databricks.v1+cell": {
     "cellMetadata": {
      "byteLimit": 2048000,
      "rowLimit": 10000
     },
     "inputWidgets": {},
     "nuid": "e5dee896-9a1c-4109-90f3-eb278fbfac2c",
     "showTitle": false,
     "tableResultSettingsMap": {},
     "title": ""
    }
   },
   "source": [
    "##4. Name Entiry\n",
    "- Model detect ว่าเป็นคนหรือไม่"
   ]
  },
  {
   "cell_type": "code",
   "execution_count": 0,
   "metadata": {
    "application/vnd.databricks.v1+cell": {
     "cellMetadata": {
      "byteLimit": 2048000,
      "rowLimit": 10000
     },
     "inputWidgets": {},
     "nuid": "aeca9f07-7462-4c08-90fe-c7b6bf000c1a",
     "showTitle": false,
     "tableResultSettingsMap": {},
     "title": ""
    }
   },
   "outputs": [],
   "source": [
    "def nameEntity(word):\n",
    "  try:\n",
    "    ner = NER(\"thainer\")\n",
    "    name_entity = ner.tag(word,pos=True, tag=False)\n",
    "    #print(name_entity)\n",
    "    ner_tag = name_entity[0][2]\n",
    "#     if ner_tag == 'B-PERSON':\n",
    "#       ner_tag = 'PERSON'\n",
    "    #print(ner_tag)\n",
    "    return ner_tag\n",
    "  except:\n",
    "    ner_tag = 'Failed'\n",
    "    return ner_tag"
   ]
  },
  {
   "cell_type": "code",
   "execution_count": 0,
   "metadata": {
    "application/vnd.databricks.v1+cell": {
     "cellMetadata": {
      "byteLimit": 2048000,
      "rowLimit": 10000
     },
     "inputWidgets": {},
     "nuid": "45e85f79-dee5-4a99-817c-889f3695688c",
     "showTitle": false,
     "tableResultSettingsMap": {},
     "title": ""
    }
   },
   "outputs": [
    {
     "output_type": "stream",
     "name": "stdout",
     "output_type": "stream",
     "text": [
      "Corpus: thainer-1.4\n- Downloading: thainer-1.4 1.4\n"
     ]
    },
    {
     "output_type": "display_data",
     "data": {
      "application/vnd.jupyter.widget-view+json": {
       "model_id": "e34bd3d064034809b61568839d33c041",
       "version_major": 2,
       "version_minor": 0
      },
      "text/plain": [
       "  0%|          | 0/1872468 [00:00<?, ?it/s]"
      ]
     },
     "metadata": {},
     "output_type": "display_data"
    },
    {
     "output_type": "stream",
     "name": "stdout",
     "output_type": "stream",
     "text": [
      "Out[31]: 'B-PERSON'"
     ]
    }
   ],
   "source": [
    "nameEntity('คุณต้า ธนาพงษ์')"
   ]
  },
  {
   "cell_type": "code",
   "execution_count": 0,
   "metadata": {
    "application/vnd.databricks.v1+cell": {
     "cellMetadata": {
      "byteLimit": 2048000,
      "rowLimit": 10000
     },
     "inputWidgets": {},
     "nuid": "76d01066-ee7b-472c-bb52-640a3904e1a3",
     "showTitle": false,
     "tableResultSettingsMap": {},
     "title": ""
    }
   },
   "outputs": [],
   "source": [
    "name_ready['fname_entity'] = name_ready['fname'].apply(nameEntity)\n",
    "name_ready['lname_entity'] = name_ready['lname'].apply(nameEntity)"
   ]
  },
  {
   "cell_type": "code",
   "execution_count": 0,
   "metadata": {
    "application/vnd.databricks.v1+cell": {
     "cellMetadata": {
      "byteLimit": 2048000,
      "rowLimit": 10000
     },
     "inputWidgets": {},
     "nuid": "f571c002-875c-4510-a6ca-4b393787c92d",
     "showTitle": false,
     "tableResultSettingsMap": {},
     "title": ""
    }
   },
   "outputs": [],
   "source": [
    "name_ready.display()"
   ]
  },
  {
   "cell_type": "markdown",
   "metadata": {
    "application/vnd.databricks.v1+cell": {
     "cellMetadata": {},
     "inputWidgets": {},
     "nuid": "9b4fc440-6105-4929-8510-9756ce984840",
     "showTitle": false,
     "tableResultSettingsMap": {},
     "title": ""
    }
   },
   "source": [
    "##5. SpellCheck"
   ]
  },
  {
   "cell_type": "code",
   "execution_count": 0,
   "metadata": {
    "application/vnd.databricks.v1+cell": {
     "cellMetadata": {
      "byteLimit": 2048000,
      "rowLimit": 10000
     },
     "inputWidgets": {},
     "nuid": "13496d57-08ee-4ae3-8c09-939c67faa8b8",
     "showTitle": false,
     "tableResultSettingsMap": {},
     "title": ""
    }
   },
   "outputs": [],
   "source": [
    "def nameChecking(word):\n",
    "  # Spell Check\n",
    "  checker = NorvigSpellChecker()\n",
    "  def wordCheck(word):\n",
    "    try:\n",
    "      w_normalize = normalize(word)\n",
    "      w_tokenize = subword_tokenize(w_normalize, engine=\"ssg\") \n",
    "\n",
    "      score = 0\n",
    "      count = len(w_tokenize)\n",
    "      result_freq = []\n",
    "      for i in w_tokenize:\n",
    "        freq = checker.freq(i)\n",
    "        result = {'word':i, 'freq':freq}\n",
    "        result_freq.append(result)\n",
    "        # print(word, freq)\n",
    "        if freq == 0:\n",
    "          score += 0\n",
    "        else:\n",
    "          score += 1\n",
    "\n",
    "      # Avg Score\n",
    "      if score==0 or count == 0:\n",
    "        avg_score = 0\n",
    "      else:\n",
    "        avg_score = score/count\n",
    "\n",
    "      print('- -')\n",
    "      print(\"Word orgin:\", word, \"|--> Word normalize:\", w_normalize, \"|--> Word tokenize:\", w_tokenize)\n",
    "      print(\"Result:\", result_freq)\n",
    "      print(\"Score:\", score, \"| Count:\", count ,\"| Avg score:\", avg_score)\n",
    "\n",
    "      return avg_score\n",
    "\n",
    "    except:\n",
    "      avg_score = 0\n",
    "      return avg_score\n",
    " \n",
    "  def wordPronunciate(word):\n",
    "    word_pronunciate = pronunciate(word, engine=\"w2p\")\n",
    "    print(\"- \"*30)\n",
    "    print(word_pronunciate)\n",
    "    return word_pronunciate\n",
    "\n",
    "      # Name Entity\n",
    "  def nameEntity(word):\n",
    "    try:\n",
    "      ner = NER(\"thainer\")\n",
    "      name_entity = ner.tag(word,pos=True, tag=False)\n",
    "      #print(name_entity)\n",
    "      ner_tag = name_entity[0][2]\n",
    "  #     if ner_tag == 'B-PERSON':\n",
    "  #       ner_tag = 'PERSON'\n",
    "      print(\"- \"*30)\n",
    "      print(ner_tag)\n",
    "      return ner_tag\n",
    "    except:\n",
    "      ner_tag = 'Failed'\n",
    "      print(\"- \"*30)\n",
    "      print(ner_tag)\n",
    "      return ner_tag\n",
    "\n",
    "  wordCheck2 = wordCheck(word)\n",
    "  wordPronunciate2 =  wordPronunciate(word)\n",
    "  nameEntity2 = nameEntity(word) "
   ]
  },
  {
   "cell_type": "code",
   "execution_count": 0,
   "metadata": {
    "application/vnd.databricks.v1+cell": {
     "cellMetadata": {
      "byteLimit": 2048000,
      "rowLimit": 10000
     },
     "inputWidgets": {},
     "nuid": "a392e61e-4a92-4838-867f-e22864a1d4e0",
     "showTitle": false,
     "tableResultSettingsMap": {},
     "title": ""
    }
   },
   "outputs": [
    {
     "output_type": "stream",
     "name": "stdout",
     "output_type": "stream",
     "text": [
      "- -\nWord orgin: ้้ห |--> Word normalize: ห |--> Word tokenize: ['ห']\nResult: [{'word': 'ห', 'freq': 0}]\nScore: 0 | Count: 1 | Avg score: 0\n- - - - - - - - - - - - - - - - - - - - - - - - - - - - - - \nบ้า-หฺร้อ\n- - - - - - - - - - - - - - - - - - - - - - - - - - - - - - \nO\n"
     ]
    }
   ],
   "source": [
    "nameChecking('้้ห')"
   ]
  },
  {
   "cell_type": "markdown",
   "metadata": {
    "application/vnd.databricks.v1+cell": {
     "cellMetadata": {},
     "inputWidgets": {},
     "nuid": "4eea93d6-e989-4a2c-ad3c-6b2f09de9701",
     "showTitle": false,
     "tableResultSettingsMap": {},
     "title": ""
    }
   },
   "source": [
    "##6. Tranformer\n",
    "- https://huggingface.co/pythainlp/thainer-corpus-v2-base-model?text=%E0%B8%89%E0%B8%B1%E0%B8%99%E0%B8%8A%E0%B8%B7%E0%B9%88%E0%B8%AD+%E0%B8%99%E0%B8%B2%E0%B8%87%E0%B8%AA%E0%B8%B2%E0%B8%A7%E0%B8%A1%E0%B8%B0%E0%B8%A5%E0%B8%B4%E0%B8%A7%E0%B8%B2+%E0%B8%9A%E0%B8%B8%E0%B8%8D%E0%B8%AA%E0%B8%A3%E0%B8%B0%E0%B8%94%E0%B8%B5+%E0%B8%AD%E0%B8%B2%E0%B8%A8%E0%B8%B1%E0%B8%A2%E0%B8%AD%E0%B8%A2%E0%B8%B9%E0%B9%88%E0%B8%97%E0%B8%B5%E0%B9%88%E0%B8%AD%E0%B8%B3%E0%B9%80%E0%B8%A0%E0%B8%AD%E0%B8%99%E0%B8%B2%E0%B8%87%E0%B8%A3%E0%B8%AD%E0%B8%87+%E0%B8%88%E0%B8%B1%E0%B8%87%E0%B8%AB%E0%B8%A7%E0%B8%B1%E0%B8%94%E0%B8%9A%E0%B8%B8%E0%B8%A3%E0%B8%B5%E0%B8%A3%E0%B8%B1%E0%B8%A1%E0%B8%A2%E0%B9%8C+%E0%B8%AD%E0%B8%B2%E0%B8%A2%E0%B8%B8+23+%E0%B8%9B%E0%B8%B5+%E0%B9%80%E0%B8%9E%E0%B8%B4%E0%B9%88%E0%B8%87%E0%B9%80%E0%B8%A3%E0%B8%B5%E0%B8%A2%E0%B8%99%E0%B8%88%E0%B8%9A%E0%B8%88%E0%B8%B2%E0%B8%81+%E0%B8%A1%E0%B8%AB%E0%B8%B2%E0%B8%A7%E0%B8%B4%E0%B8%97%E0%B8%A2%E0%B8%B2%E0%B8%A5%E0%B8%B1%E0%B8%A2%E0%B8%82%E0%B8%AD%E0%B8%99%E0%B9%81%E0%B8%81%E0%B9%88%E0%B8%99+%E0%B9%81%E0%B8%A5%E0%B8%B0%E0%B8%99%E0%B8%B5%E0%B9%88%E0%B8%84%E0%B8%B7%E0%B8%AD%E0%B8%82%E0%B9%89%E0%B8%AD%E0%B8%A1%E0%B8%B9%E0%B8%A5%E0%B8%9B%E0%B8%A5%E0%B8%AD%E0%B8%A1+%E0%B8%8A%E0%B8%B7%E0%B9%88%E0%B8%AD%E0%B8%84%E0%B8%99%E0%B9%84%E0%B8%A1%E0%B9%88%E0%B8%A1%E0%B8%B5%E0%B8%AD%E0%B8%A2%E0%B8%B9%E0%B9%88%E0%B8%88%E0%B8%A3%E0%B8%B4%E0%B8%87"
   ]
  },
  {
   "cell_type": "code",
   "execution_count": 0,
   "metadata": {
    "application/vnd.databricks.v1+cell": {
     "cellMetadata": {
      "byteLimit": 2048000,
      "rowLimit": 10000
     },
     "inputWidgets": {},
     "nuid": "d0ccc2bd-6477-4a21-9e89-f6320db38ae9",
     "showTitle": false,
     "tableResultSettingsMap": {},
     "title": ""
    }
   },
   "outputs": [],
   "source": [
    "import torch"
   ]
  },
  {
   "cell_type": "code",
   "execution_count": 0,
   "metadata": {
    "application/vnd.databricks.v1+cell": {
     "cellMetadata": {
      "byteLimit": 2048000,
      "rowLimit": 10000
     },
     "inputWidgets": {},
     "nuid": "ab6bb761-a53c-4ad6-be7e-a98a78b95569",
     "showTitle": false,
     "tableResultSettingsMap": {},
     "title": ""
    }
   },
   "outputs": [
    {
     "output_type": "display_data",
     "data": {
      "application/vnd.jupyter.widget-view+json": {
       "model_id": "1b8c4556bca34e0ea8a8718a02ee31bd",
       "version_major": 2,
       "version_minor": 0
      },
      "text/plain": [
       "tokenizer_config.json:   0%|          | 0.00/550 [00:00<?, ?B/s]"
      ]
     },
     "metadata": {},
     "output_type": "display_data"
    },
    {
     "output_type": "display_data",
     "data": {
      "application/vnd.jupyter.widget-view+json": {
       "model_id": "912f17950d844f93b22ca5396572fee9",
       "version_major": 2,
       "version_minor": 0
      },
      "text/plain": [
       "sentencepiece.bpe.model:   0%|          | 0.00/905k [00:00<?, ?B/s]"
      ]
     },
     "metadata": {},
     "output_type": "display_data"
    },
    {
     "output_type": "display_data",
     "data": {
      "application/vnd.jupyter.widget-view+json": {
       "model_id": "4da4ca148ae34a1f8875251179741412",
       "version_major": 2,
       "version_minor": 0
      },
      "text/plain": [
       "tokenizer.json:   0%|          | 0.00/2.18M [00:00<?, ?B/s]"
      ]
     },
     "metadata": {},
     "output_type": "display_data"
    },
    {
     "output_type": "display_data",
     "data": {
      "application/vnd.jupyter.widget-view+json": {
       "model_id": "0ce9edc33b9346628b2477bd8ec9385f",
       "version_major": 2,
       "version_minor": 0
      },
      "text/plain": [
       "special_tokens_map.json:   0%|          | 0.00/364 [00:00<?, ?B/s]"
      ]
     },
     "metadata": {},
     "output_type": "display_data"
    }
   ],
   "source": [
    "from transformers import AutoTokenizer, AutoModelForTokenClassification\n",
    "tokenizer = AutoTokenizer.from_pretrained(\"pythainlp/thainer-corpus-v2-base-model\")"
   ]
  },
  {
   "cell_type": "code",
   "execution_count": 0,
   "metadata": {
    "application/vnd.databricks.v1+cell": {
     "cellMetadata": {
      "byteLimit": 2048000,
      "rowLimit": 10000
     },
     "inputWidgets": {},
     "nuid": "706cf0e9-c12b-4e12-946d-9bfaf3e9af26",
     "showTitle": false,
     "tableResultSettingsMap": {},
     "title": ""
    }
   },
   "outputs": [
    {
     "output_type": "display_data",
     "data": {
      "application/vnd.jupyter.widget-view+json": {
       "model_id": "d8aae79f27684bb0904515d964ab19b9",
       "version_major": 2,
       "version_minor": 0
      },
      "text/plain": [
       "config.json:   0%|          | 0.00/2.27k [00:00<?, ?B/s]"
      ]
     },
     "metadata": {},
     "output_type": "display_data"
    },
    {
     "output_type": "display_data",
     "data": {
      "application/vnd.jupyter.widget-view+json": {
       "model_id": "25c41075f74c42eeb5ef75dbdf3db9ee",
       "version_major": 2,
       "version_minor": 0
      },
      "text/plain": [
       "model.safetensors:   0%|          | 0.00/419M [00:00<?, ?B/s]"
      ]
     },
     "metadata": {},
     "output_type": "display_data"
    }
   ],
   "source": [
    "model = AutoModelForTokenClassification.from_pretrained(\"pythainlp/thainer-corpus-v2-base-model\")"
   ]
  },
  {
   "cell_type": "code",
   "execution_count": 0,
   "metadata": {
    "application/vnd.databricks.v1+cell": {
     "cellMetadata": {
      "byteLimit": 2048000,
      "rowLimit": 10000
     },
     "inputWidgets": {},
     "nuid": "daf1f7c6-df06-4f48-b55a-be989022827f",
     "showTitle": false,
     "tableResultSettingsMap": {},
     "title": ""
    }
   },
   "outputs": [],
   "source": [
    "from pythainlp.tokenize import word_tokenize"
   ]
  },
  {
   "cell_type": "code",
   "execution_count": 0,
   "metadata": {
    "application/vnd.databricks.v1+cell": {
     "cellMetadata": {
      "byteLimit": 2048000,
      "rowLimit": 10000
     },
     "inputWidgets": {},
     "nuid": "68c94295-b839-4877-9eab-c249112de925",
     "showTitle": false,
     "tableResultSettingsMap": {},
     "title": ""
    }
   },
   "outputs": [],
   "source": [
    "name_ready['FullName'] = ' '+ name_ready['fname'] + name_ready['lname']"
   ]
  },
  {
   "cell_type": "code",
   "execution_count": 0,
   "metadata": {
    "application/vnd.databricks.v1+cell": {
     "cellMetadata": {
      "byteLimit": 2048000,
      "rowLimit": 10000
     },
     "inputWidgets": {},
     "nuid": "56ff80d0-07c2-482a-bfab-9d4a15abac8a",
     "showTitle": false,
     "tableResultSettingsMap": {},
     "title": ""
    }
   },
   "outputs": [],
   "source": [
    "def thaiNer2(word):\n",
    "  try: \n",
    "    cut = word_tokenize(word.replace(\" \", \"<_>\"))\n",
    "    inputs = tokenizer(cut,is_split_into_words=True,return_tensors=\"pt\")\n",
    "\n",
    "    ids = inputs[\"input_ids\"]\n",
    "    mask = inputs[\"attention_mask\"]\n",
    "\n",
    "    # forward pass\n",
    "    outputs = model(ids, attention_mask=mask)\n",
    "    logits = outputs[0]\n",
    "\n",
    "    predictions = torch.argmax(logits, dim=2)\n",
    "    predicted_token_class = [model.config.id2label[t.item()] for t in predictions[0]]\n",
    "\n",
    "    def fix_span_error(words,ner):\n",
    "        _ner = []\n",
    "        _ner = ner\n",
    "        _new_tag = []\n",
    "        for i,j in zip(words,_ner):\n",
    "            i=tokenizer.decode(i)\n",
    "  #           print(i,j)\n",
    "            if i.isspace() and j.startswith(\"B-\"):\n",
    "                j=\"O\"\n",
    "            if i=='' or i=='<s>' or i=='</s>':\n",
    "                continue\n",
    "            if i==\"<_>\":\n",
    "                i=\" \"\n",
    "  #           print(\"-\"*5)\n",
    "  #           print(i,j)\n",
    "            _new_tag.append((i,j))\n",
    "        return _new_tag\n",
    "\n",
    "    ner_tag=fix_span_error(inputs['input_ids'][0],predicted_token_class)\n",
    "  #   print(ner_tag)\n",
    "\n",
    "    #Person scoring\n",
    "    score = 0\n",
    "    count = len(ner_tag)\n",
    "    for i in ner_tag:\n",
    "      if i[1].endswith(\"PERSON\"):\n",
    "        score += 1\n",
    "\n",
    "  #   print(\"Sum Score:\", score, \" | \", \"Count:\", count)\n",
    "  #   print(\"Avg Score:\", score/count)\n",
    "    avg_score = score/count\n",
    "    return avg_score\n",
    "  \n",
    "  except:\n",
    "    avg_score = 0\n",
    "    \n",
    "    return avg_score\n",
    "  "
   ]
  },
  {
   "cell_type": "code",
   "execution_count": 0,
   "metadata": {
    "application/vnd.databricks.v1+cell": {
     "cellMetadata": {
      "byteLimit": 2048000,
      "rowLimit": 10000
     },
     "inputWidgets": {},
     "nuid": "a235cc4e-709e-4b70-bef0-07f1b4fc89e6",
     "showTitle": false,
     "tableResultSettingsMap": {},
     "title": ""
    }
   },
   "outputs": [],
   "source": [
    "import numpy as np\n",
    "chunk_size = 1000  # Define the chunk size\n",
    "num_chunks = int(np.ceil(len(name_ready) / chunk_size))\n",
    "\n",
    "def process_chunk(chunk):\n",
    "    return chunk['FullName'].apply(thaiNer2)"
   ]
  },
  {
   "cell_type": "code",
   "execution_count": 0,
   "metadata": {
    "application/vnd.databricks.v1+cell": {
     "cellMetadata": {
      "byteLimit": 2048000,
      "rowLimit": 10000
     },
     "inputWidgets": {},
     "nuid": "71d106a2-109b-4af5-8606-ff8fb3937b9e",
     "showTitle": true,
     "tableResultSettingsMap": {},
     "title": "ใช้วิธี Chuck ทีละชุด ไวกว่า ในเรื่องของ Memery Usage"
    }
   },
   "outputs": [],
   "source": [
    "results = []\n",
    "for i in range(num_chunks):\n",
    "    start_idx = i * chunk_size\n",
    "    end_idx = min((i + 1) * chunk_size, len(name_ready))\n",
    "    chunk_result = process_chunk(name_ready[start_idx:end_idx])\n",
    "    results.append(chunk_result)\n",
    "\n",
    "name_ready['TranFormerScore'] = pd.concat(results)"
   ]
  },
  {
   "cell_type": "code",
   "execution_count": 0,
   "metadata": {
    "application/vnd.databricks.v1+cell": {
     "cellMetadata": {
      "byteLimit": 2048000,
      "rowLimit": 10000
     },
     "inputWidgets": {},
     "nuid": "4c335ed8-e293-4948-97ec-9c3fd6729cb2",
     "showTitle": false,
     "tableResultSettingsMap": {},
     "title": ""
    }
   },
   "outputs": [],
   "source": [
    "display(name_ready)"
   ]
  },
  {
   "cell_type": "code",
   "execution_count": 0,
   "metadata": {
    "application/vnd.databricks.v1+cell": {
     "cellMetadata": {
      "byteLimit": 2048000,
      "rowLimit": 10000
     },
     "inputWidgets": {},
     "nuid": "f9ffd542-da82-49b2-83fe-a38727dab91b",
     "showTitle": true,
     "tableResultSettingsMap": {},
     "title": "ใช้วิธี Apply ตรงๆ จะช้ากว่า"
    }
   },
   "outputs": [],
   "source": [
    "name_ready['TranFormerScore'] = name_ready['FullName'].apply(thaiNer2)"
   ]
  },
  {
   "cell_type": "code",
   "execution_count": 0,
   "metadata": {
    "application/vnd.databricks.v1+cell": {
     "cellMetadata": {
      "byteLimit": 2048000,
      "rowLimit": 10000
     },
     "inputWidgets": {},
     "nuid": "52d4f1ea-66fb-4872-8dc7-9e58d067c33b",
     "showTitle": false,
     "tableResultSettingsMap": {},
     "title": ""
    }
   },
   "outputs": [],
   "source": [
    "display(name_ready)"
   ]
  },
  {
   "cell_type": "markdown",
   "metadata": {
    "application/vnd.databricks.v1+cell": {
     "cellMetadata": {},
     "inputWidgets": {},
     "nuid": "d4b9fb68-8932-4cde-a9e9-1fc1a411abcd",
     "showTitle": false,
     "tableResultSettingsMap": {},
     "title": ""
    }
   },
   "source": [
    "#Train Model"
   ]
  },
  {
   "cell_type": "code",
   "execution_count": 0,
   "metadata": {
    "application/vnd.databricks.v1+cell": {
     "cellMetadata": {
      "byteLimit": 2048000,
      "rowLimit": 10000
     },
     "inputWidgets": {},
     "nuid": "ac80e2a9-9e91-4bd2-af0b-339f2158fe8b",
     "showTitle": false,
     "tableResultSettingsMap": {},
     "title": ""
    }
   },
   "outputs": [],
   "source": [
    "import pandas as pd\n",
    "df = pd.DataFrame({'age':[20,30,40,50],\n",
    "              'sex':['male','female','female','male'],\n",
    "              'region':['northwest','southwest','northeast','southeast'],\n",
    "              'charges':[1000,1000,2000,2000]})\n",
    "df.sex = (df.sex == 'female')\n",
    "df.region = pd.Categorical(df.region)\n",
    "df.region = df.region.cat.codes\n",
    "#X = df.loc[:,['age','sex','region']]\n",
    "#y = df.loc[:,['charges']]"
   ]
  },
  {
   "cell_type": "code",
   "execution_count": 0,
   "metadata": {
    "application/vnd.databricks.v1+cell": {
     "cellMetadata": {
      "byteLimit": 2048000,
      "rowLimit": 10000
     },
     "inputWidgets": {},
     "nuid": "f9bb2317-19c2-4463-94ea-dea72196705a",
     "showTitle": false,
     "tableResultSettingsMap": {},
     "title": ""
    }
   },
   "outputs": [
    {
     "output_type": "stream",
     "name": "stdout",
     "output_type": "stream",
     "text": [
      "Out[11]: 0    1\n1    3\n2    0\n3    2\nName: region, dtype: int8"
     ]
    }
   ],
   "source": [
    "df.region"
   ]
  },
  {
   "cell_type": "code",
   "execution_count": 0,
   "metadata": {
    "application/vnd.databricks.v1+cell": {
     "cellMetadata": {
      "byteLimit": 2048000,
      "rowLimit": 10000
     },
     "inputWidgets": {},
     "nuid": "75c0f04f-4ad1-41b3-91c8-e267fe21ae37",
     "showTitle": false,
     "tableResultSettingsMap": {},
     "title": ""
    }
   },
   "outputs": [
    {
     "output_type": "display_data",
     "data": {
      "application/vnd.databricks.v1+bamboolib_hint": "{\"pd.DataFrames\": [], \"version\": \"0.0.1\"}",
      "text/plain": []
     },
     "metadata": {},
     "output_type": "display_data"
    },
    {
     "output_type": "stream",
     "name": "stdout",
     "output_type": "stream",
     "text": [
      "[0 1 2]\n"
     ]
    }
   ],
   "source": [
    "import pandas as pd\n",
    "from sklearn.preprocessing import LabelEncoder\n",
    "\n",
    "# Create a DataFrame\n",
    "data = pd.DataFrame({'category': ['a', 'b', 'c']})\n",
    "\n",
    "# Create an instance of LabelEncoder\n",
    "encoder = LabelEncoder()\n",
    "\n",
    "# Fit the encoder to the data\n",
    "encoder.fit(data['category'])\n",
    "\n",
    "# Transform the data\n",
    "encoded_data = encoder.transform(data['category'])\n",
    "\n",
    "# Print the encoded data\n",
    "print(encoded_data)"
   ]
  },
  {
   "cell_type": "code",
   "execution_count": 0,
   "metadata": {
    "application/vnd.databricks.v1+cell": {
     "cellMetadata": {
      "byteLimit": 2048000,
      "rowLimit": 10000
     },
     "inputWidgets": {},
     "nuid": "09107d9f-b5cf-453a-9169-ec3d25f5bc90",
     "showTitle": false,
     "tableResultSettingsMap": {},
     "title": ""
    }
   },
   "outputs": [
    {
     "output_type": "stream",
     "name": "stdout",
     "output_type": "stream",
     "text": [
      "Out[5]: array([0, 1, 2])"
     ]
    }
   ],
   "source": [
    "encoded_data"
   ]
  },
  {
   "cell_type": "markdown",
   "metadata": {
    "application/vnd.databricks.v1+cell": {
     "cellMetadata": {},
     "inputWidgets": {},
     "nuid": "38009547-9633-4a48-8764-6ee00e40384e",
     "showTitle": false,
     "tableResultSettingsMap": {},
     "title": ""
    }
   },
   "source": [
    "#Save to Table"
   ]
  },
  {
   "cell_type": "code",
   "execution_count": 0,
   "metadata": {
    "application/vnd.databricks.v1+cell": {
     "cellMetadata": {
      "byteLimit": 2048000,
      "rowLimit": 10000
     },
     "inputWidgets": {},
     "nuid": "16885a9c-aa5e-4045-90d0-3c893157cee9",
     "showTitle": false,
     "tableResultSettingsMap": {},
     "title": ""
    }
   },
   "outputs": [],
   "source": [
    "from pyspark.sql.types import StructType, StructField, StringType, TimestampType, IntegerType ,BooleanType ,FloatType\n",
    "\n",
    "spark_name_ready = spark.createDataFrame(name_ready)\n",
    "#spark_name_ready = spark_name_ready.withColumn(\"TranFormerScore\",spark_name_ready[\"TranFormerScore\"].cast(IntegerType()))\n",
    "#spark_name_ready = spark_name_ready.withColumn(\"fname_score\",spark_name_ready[\"fname_score\"].cast(IntegerType()))\n",
    "#spark_name_ready = spark_name_ready.withColumn(\"lname_score\",spark_name_ready[\"lname_score\"].cast(IntegerType()))"
   ]
  },
  {
   "cell_type": "code",
   "execution_count": 0,
   "metadata": {
    "application/vnd.databricks.v1+cell": {
     "cellMetadata": {
      "byteLimit": 2048000,
      "rowLimit": 10000
     },
     "inputWidgets": {},
     "nuid": "8d81d468-6c96-43e1-a3e4-43ac42b719ff",
     "showTitle": false,
     "tableResultSettingsMap": {},
     "title": ""
    }
   },
   "outputs": [],
   "source": [
    "display(spark_name_ready)"
   ]
  },
  {
   "cell_type": "code",
   "execution_count": 0,
   "metadata": {
    "application/vnd.databricks.v1+cell": {
     "cellMetadata": {
      "byteLimit": 2048000,
      "rowLimit": 10000
     },
     "inputWidgets": {},
     "nuid": "b2c7082c-e364-4374-819a-2adbd9b2f1dc",
     "showTitle": false,
     "tableResultSettingsMap": {},
     "title": ""
    }
   },
   "outputs": [
    {
     "output_type": "stream",
     "name": "stdout",
     "output_type": "stream",
     "text": [
      "Save to Delta Table....\n"
     ]
    }
   ],
   "source": [
    "\n",
    "path_delta = \"/fullnamedetectscoring\"\n",
    "print(\"Save to Delta Table....\")\n",
    "spark_name_ready.write.format('delta').mode(\"overwrite\").save(path_delta);"
   ]
  },
  {
   "cell_type": "code",
   "execution_count": 0,
   "metadata": {
    "application/vnd.databricks.v1+cell": {
     "cellMetadata": {},
     "inputWidgets": {},
     "nuid": "a39f345c-8a31-4d95-9482-0920ff1a774e",
     "showTitle": false,
     "tableResultSettingsMap": {},
     "title": ""
    }
   },
   "outputs": [],
   "source": []
  }
 ],
 "metadata": {
  "application/vnd.databricks.v1+notebook": {
   "computePreferences": null,
   "dashboards": [],
   "environmentMetadata": null,
   "language": "python",
   "notebookMetadata": {
    "mostRecentlyExecutedCommandWithImplicitDF": {
     "commandId": 4211727864164038,
     "dataframes": [
      "_sqldf"
     ]
    },
    "pythonIndentUnit": 2
   },
   "notebookName": "Identiry Score FullName",
   "widgets": {}
  },
  "language_info": {
   "name": "python"
  }
 },
 "nbformat": 4,
 "nbformat_minor": 0
}